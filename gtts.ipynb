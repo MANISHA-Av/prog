{
 "cells": [
  {
   "cell_type": "code",
   "execution_count": 2,
   "metadata": {},
   "outputs": [],
   "source": [
    "import gtts\n"
   ]
  },
  {
   "cell_type": "code",
   "execution_count": 3,
   "metadata": {},
   "outputs": [],
   "source": [
    "from gtts import gTTS\n",
    "mytesxt='welcome to goeduhub'\n",
    "language='hi'\n",
    "my=gTTS(text=mytesxt,lang=language,slow=False)\n",
    "my.save('welcome.mp3')"
   ]
  },
  {
   "cell_type": "code",
   "execution_count": 4,
   "metadata": {},
   "outputs": [],
   "source": [
    "from gtts import gTTS\n",
    "mytesxt='तुम सुंदर हो'\n",
    "language='hi'\n",
    "my=gTTS(text=mytesxt,lang=language)\n",
    "my.save('w.mp3')\n"
   ]
  },
  {
   "cell_type": "code",
   "execution_count": 5,
   "metadata": {},
   "outputs": [
    {
     "data": {
      "text/html": [
       "\n",
       "                <audio  controls=\"controls\" >\n",
       "                    <source src=\"data:audio/mpeg;base64,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\" type=\"audio/mpeg\" />\n",
       "                    Your browser does not support the audio element.\n",
       "                </audio>\n",
       "              "
      ],
      "text/plain": [
       "<IPython.lib.display.Audio object>"
      ]
     },
     "execution_count": 5,
     "metadata": {},
     "output_type": "execute_result"
    }
   ],
   "source": [
    "path='w.mp3'\n",
    "import IPython.display\n",
    "IPython.display.Audio(path)"
   ]
  },
  {
   "cell_type": "code",
   "execution_count": null,
   "metadata": {},
   "outputs": [],
   "source": []
  }
 ],
 "metadata": {
  "kernelspec": {
   "display_name": "Python 3",
   "language": "python",
   "name": "python3"
  },
  "language_info": {
   "codemirror_mode": {
    "name": "ipython",
    "version": 3
   },
   "file_extension": ".py",
   "mimetype": "text/x-python",
   "name": "python",
   "nbconvert_exporter": "python",
   "pygments_lexer": "ipython3",
   "version": "3.7.6"
  }
 },
 "nbformat": 4,
 "nbformat_minor": 4
}
