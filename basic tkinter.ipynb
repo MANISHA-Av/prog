{
 "cells": [
  {
   "cell_type": "code",
   "execution_count": 1,
   "metadata": {},
   "outputs": [],
   "source": [
    "import tkinter"
   ]
  },
  {
   "cell_type": "code",
   "execution_count": 2,
   "metadata": {},
   "outputs": [],
   "source": [
    "window=tkinter.Tk()"
   ]
  },
  {
   "cell_type": "code",
   "execution_count": 3,
   "metadata": {},
   "outputs": [],
   "source": [
    "window.mainloop()"
   ]
  },
  {
   "cell_type": "code",
   "execution_count": 7,
   "metadata": {},
   "outputs": [],
   "source": [
    "var = tkinter.Tk()\n",
    "var.title('counting seconds')\n",
    "button = tkinter.Button(var,text='technologies',width=50,bg='green')\n",
    "button.pack()\n",
    "var.mainloop()"
   ]
  },
  {
   "cell_type": "code",
   "execution_count": 10,
   "metadata": {},
   "outputs": [],
   "source": [
    "from tkinter import *\n",
    "v=Tk()\n",
    "name=Label(v,text='name')\n",
    "name.grid(row=0,column=0)\n",
    "e1=Entry(v)\n",
    "e1.grid(row=0,column=1)\n",
    "password=Label(v,text='password').grid(row=1,column=0)\n",
    "e2=Entry(v).grid(row=1,column=1)\n",
    "submit=Button(v,text='submit',fg='red',command=clicked).grid(row=4,column=0)\n",
    "def clicked():\n",
    "    t='welcome manisha'\n",
    "v.geometry('450x200')\n",
    "v.mainloop()"
   ]
  },
  {
   "cell_type": "code",
   "execution_count": 12,
   "metadata": {},
   "outputs": [],
   "source": [
    "from tkinter import *\n",
    "root=Tk()\n",
    "m=Menu(root)\n",
    "m.add_command(label='hello')\n",
    "m.add_command(label='quit')\n",
    "root.config(menu=m)\n",
    "root.mainloop()"
   ]
  },
  {
   "cell_type": "code",
   "execution_count": null,
   "metadata": {},
   "outputs": [],
   "source": [
    "#"
   ]
  }
 ],
 "metadata": {
  "kernelspec": {
   "display_name": "Python 3",
   "language": "python",
   "name": "python3"
  },
  "language_info": {
   "codemirror_mode": {
    "name": "ipython",
    "version": 3
   },
   "file_extension": ".py",
   "mimetype": "text/x-python",
   "name": "python",
   "nbconvert_exporter": "python",
   "pygments_lexer": "ipython3",
   "version": "3.7.6"
  }
 },
 "nbformat": 4,
 "nbformat_minor": 4
}
