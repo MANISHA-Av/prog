{
 "cells": [
  {
   "cell_type": "code",
   "execution_count": 1,
   "metadata": {},
   "outputs": [],
   "source": [
    "import cv2"
   ]
  },
  {
   "cell_type": "code",
   "execution_count": 4,
   "metadata": {},
   "outputs": [
    {
     "name": "stdout",
     "output_type": "stream",
     "text": [
      "True\n"
     ]
    }
   ],
   "source": [
    "webcam=cv2.VideoCapture(0)\n",
    "rate,frame=webcam.read()\n",
    "print(rate)\n",
    "webcam.release()"
   ]
  },
  {
   "cell_type": "code",
   "execution_count": 5,
   "metadata": {},
   "outputs": [],
   "source": [
    "cv2.imshow('my image',frame)\n",
    "cv2.waitKey(0)\n",
    "cv2.destroyAllWindows()"
   ]
  },
  {
   "cell_type": "code",
   "execution_count": 6,
   "metadata": {},
   "outputs": [
    {
     "data": {
      "text/plain": [
       "-1"
      ]
     },
     "execution_count": 6,
     "metadata": {},
     "output_type": "execute_result"
    }
   ],
   "source": [
    "grey=cv2.cvtColor(frame,cv2.COLOR_BGR2GRAY)\n",
    "cv2.imshow('grey',grey)\n",
    "cv2.waitKey(0)"
   ]
  },
  {
   "cell_type": "code",
   "execution_count": 1,
   "metadata": {},
   "outputs": [],
   "source": [
    "import cv2\n",
    "webcam=cv2.VideoCapture(0)\n",
    "while(True):\n",
    "    #capture frame by frame\n",
    "    rate,frame=webcam.read()\n",
    "    #frame operation\n",
    "    #grey=cv2.cvtColor(frame,cv2.COLOR_BGR2BGRA)\n",
    "    #display resulting frame\n",
    "    cv2.imshow('d',frame)\n",
    "    if cv2.waitKey(1) & 0xFF==ord('q'):\n",
    "        break\n",
    "    if cv2.waitKey(1) & 0xFF==ord('a'):\n",
    "        cv2.imwrite('video.jpg',frame)\n",
    "#release the capture\n",
    "webcam.release()\n",
    "cv2.destroyAllWindows()"
   ]
  },
  {
   "cell_type": "code",
   "execution_count": 2,
   "metadata": {},
   "outputs": [],
   "source": [
    "facecascade=cv2.CascadeClassifier('face.xml')\n",
    "#faces=facecascade.detectMultiScale(grey2,scaleFactor=1.2,minNeighbors=5,minSize=(20,20))#minNeighbors=connected ixel distance"
   ]
  },
  {
   "cell_type": "code",
   "execution_count": 20,
   "metadata": {},
   "outputs": [],
   "source": [
    "webcam=cv2.VideoCapture(0)\n",
    "while(True):\n",
    "    rate,frame=webcam.read()\n",
    "    grey=cv2.cvtColor(frame,cv2.COLOR_BGR2GRAY)\n",
    "    faces=facecascade.detectMultiScale(grey,scaleFactor=1.2,minNeighbors=5)\n",
    "    for (x,y,w,h) in faces:\n",
    "        cv2.rectangle(frame,(x,y),(x+w,y+h),(0,200,0),2)\n",
    "        cv2.putText(frame,'manisha',(x,y),cv2.FONT_HERSHEY_DUPLEX,1,(0,0,255),2)\n",
    "    cv2.imshow('fsh',frame)\n",
    "    if cv2.waitKey(1) & 0xFF==ord('q'):\n",
    "        break   \n",
    "webcam.release()\n",
    "cv2.destroyAllWindows()"
   ]
  },
  {
   "cell_type": "code",
   "execution_count": null,
   "metadata": {},
   "outputs": [],
   "source": [
    "webcam.release()\n",
    "cv2.destroyAllWindows()"
   ]
  }
 ],
 "metadata": {
  "kernelspec": {
   "display_name": "Python 3",
   "language": "python",
   "name": "python3"
  },
  "language_info": {
   "codemirror_mode": {
    "name": "ipython",
    "version": 3
   },
   "file_extension": ".py",
   "mimetype": "text/x-python",
   "name": "python",
   "nbconvert_exporter": "python",
   "pygments_lexer": "ipython3",
   "version": "3.7.6"
  }
 },
 "nbformat": 4,
 "nbformat_minor": 4
}
