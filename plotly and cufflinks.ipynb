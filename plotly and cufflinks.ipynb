{
 "cells": [
  {
   "cell_type": "code",
   "execution_count": 12,
   "metadata": {},
   "outputs": [],
   "source": [
    "import pandas as pd"
   ]
  },
  {
   "cell_type": "code",
   "execution_count": 13,
   "metadata": {},
   "outputs": [],
   "source": [
    "import numpy as np"
   ]
  },
  {
   "cell_type": "code",
   "execution_count": 14,
   "metadata": {},
   "outputs": [],
   "source": [
    "import chart_studio.plotly as plt"
   ]
  },
  {
   "cell_type": "code",
   "execution_count": 15,
   "metadata": {},
   "outputs": [],
   "source": [
    "import cufflinks as cf"
   ]
  },
  {
   "cell_type": "code",
   "execution_count": 16,
   "metadata": {},
   "outputs": [],
   "source": [
    "from plotly.offline import download_plotlyjs,init_notebook_mode,plot,iplot"
   ]
  },
  {
   "cell_type": "code",
   "execution_count": 17,
   "metadata": {},
   "outputs": [
    {
     "data": {
      "text/html": [
       "        <script type=\"text/javascript\">\n",
       "        window.PlotlyConfig = {MathJaxConfig: 'local'};\n",
       "        if (window.MathJax) {MathJax.Hub.Config({SVG: {font: \"STIX-Web\"}});}\n",
       "        if (typeof require !== 'undefined') {\n",
       "        require.undef(\"plotly\");\n",
       "        requirejs.config({\n",
       "            paths: {\n",
       "                'plotly': ['https://cdn.plot.ly/plotly-latest.min']\n",
       "            }\n",
       "        });\n",
       "        require(['plotly'], function(Plotly) {\n",
       "            window._Plotly = Plotly;\n",
       "        });\n",
       "        }\n",
       "        </script>\n",
       "        "
      ]
     },
     "metadata": {},
     "output_type": "display_data"
    }
   ],
   "source": [
    "init_notebook_mode(connected=True)"
   ]
  },
  {
   "cell_type": "code",
   "execution_count": 18,
   "metadata": {},
   "outputs": [
    {
     "data": {
      "text/html": [
       "        <script type=\"text/javascript\">\n",
       "        window.PlotlyConfig = {MathJaxConfig: 'local'};\n",
       "        if (window.MathJax) {MathJax.Hub.Config({SVG: {font: \"STIX-Web\"}});}\n",
       "        if (typeof require !== 'undefined') {\n",
       "        require.undef(\"plotly\");\n",
       "        requirejs.config({\n",
       "            paths: {\n",
       "                'plotly': ['https://cdn.plot.ly/plotly-latest.min']\n",
       "            }\n",
       "        });\n",
       "        require(['plotly'], function(Plotly) {\n",
       "            window._Plotly = Plotly;\n",
       "        });\n",
       "        }\n",
       "        </script>\n",
       "        "
      ]
     },
     "metadata": {},
     "output_type": "display_data"
    }
   ],
   "source": [
    "cf.go_offline()"
   ]
  },
  {
   "cell_type": "code",
   "execution_count": 20,
   "metadata": {},
   "outputs": [],
   "source": [
    "df=pd.DataFrame(np.random.randn(100,4),columns='A B C D'.split())"
   ]
  },
  {
   "cell_type": "code",
   "execution_count": 21,
   "metadata": {},
   "outputs": [
    {
     "data": {
      "text/html": [
       "<div>\n",
       "<style scoped>\n",
       "    .dataframe tbody tr th:only-of-type {\n",
       "        vertical-align: middle;\n",
       "    }\n",
       "\n",
       "    .dataframe tbody tr th {\n",
       "        vertical-align: top;\n",
       "    }\n",
       "\n",
       "    .dataframe thead th {\n",
       "        text-align: right;\n",
       "    }\n",
       "</style>\n",
       "<table border=\"1\" class=\"dataframe\">\n",
       "  <thead>\n",
       "    <tr style=\"text-align: right;\">\n",
       "      <th></th>\n",
       "      <th>A</th>\n",
       "      <th>B</th>\n",
       "      <th>C</th>\n",
       "      <th>D</th>\n",
       "    </tr>\n",
       "  </thead>\n",
       "  <tbody>\n",
       "    <tr>\n",
       "      <th>0</th>\n",
       "      <td>0.737748</td>\n",
       "      <td>0.197577</td>\n",
       "      <td>-0.609661</td>\n",
       "      <td>1.140167</td>\n",
       "    </tr>\n",
       "    <tr>\n",
       "      <th>1</th>\n",
       "      <td>0.734285</td>\n",
       "      <td>0.196526</td>\n",
       "      <td>-0.619508</td>\n",
       "      <td>0.133137</td>\n",
       "    </tr>\n",
       "    <tr>\n",
       "      <th>2</th>\n",
       "      <td>-1.068317</td>\n",
       "      <td>0.880256</td>\n",
       "      <td>0.710941</td>\n",
       "      <td>0.196988</td>\n",
       "    </tr>\n",
       "    <tr>\n",
       "      <th>3</th>\n",
       "      <td>-1.502734</td>\n",
       "      <td>-3.246105</td>\n",
       "      <td>-1.357649</td>\n",
       "      <td>0.952956</td>\n",
       "    </tr>\n",
       "    <tr>\n",
       "      <th>4</th>\n",
       "      <td>0.656169</td>\n",
       "      <td>0.131669</td>\n",
       "      <td>0.353957</td>\n",
       "      <td>-0.209895</td>\n",
       "    </tr>\n",
       "  </tbody>\n",
       "</table>\n",
       "</div>"
      ],
      "text/plain": [
       "          A         B         C         D\n",
       "0  0.737748  0.197577 -0.609661  1.140167\n",
       "1  0.734285  0.196526 -0.619508  0.133137\n",
       "2 -1.068317  0.880256  0.710941  0.196988\n",
       "3 -1.502734 -3.246105 -1.357649  0.952956\n",
       "4  0.656169  0.131669  0.353957 -0.209895"
      ]
     },
     "execution_count": 21,
     "metadata": {},
     "output_type": "execute_result"
    }
   ],
   "source": [
    "df.head()"
   ]
  },
  {
   "cell_type": "code",
   "execution_count": 23,
   "metadata": {},
   "outputs": [],
   "source": [
    "df2=pd.DataFrame({'Category':['A','B','C'],'Values':[32,43,50]})"
   ]
  },
  {
   "cell_type": "code",
   "execution_count": 24,
   "metadata": {},
   "outputs": [
    {
     "data": {
      "text/html": [
       "<div>\n",
       "<style scoped>\n",
       "    .dataframe tbody tr th:only-of-type {\n",
       "        vertical-align: middle;\n",
       "    }\n",
       "\n",
       "    .dataframe tbody tr th {\n",
       "        vertical-align: top;\n",
       "    }\n",
       "\n",
       "    .dataframe thead th {\n",
       "        text-align: right;\n",
       "    }\n",
       "</style>\n",
       "<table border=\"1\" class=\"dataframe\">\n",
       "  <thead>\n",
       "    <tr style=\"text-align: right;\">\n",
       "      <th></th>\n",
       "      <th>Category</th>\n",
       "      <th>Values</th>\n",
       "    </tr>\n",
       "  </thead>\n",
       "  <tbody>\n",
       "    <tr>\n",
       "      <th>0</th>\n",
       "      <td>A</td>\n",
       "      <td>32</td>\n",
       "    </tr>\n",
       "    <tr>\n",
       "      <th>1</th>\n",
       "      <td>B</td>\n",
       "      <td>43</td>\n",
       "    </tr>\n",
       "    <tr>\n",
       "      <th>2</th>\n",
       "      <td>C</td>\n",
       "      <td>50</td>\n",
       "    </tr>\n",
       "  </tbody>\n",
       "</table>\n",
       "</div>"
      ],
      "text/plain": [
       "  Category  Values\n",
       "0        A      32\n",
       "1        B      43\n",
       "2        C      50"
      ]
     },
     "execution_count": 24,
     "metadata": {},
     "output_type": "execute_result"
    }
   ],
   "source": [
    "df2"
   ]
  },
  {
   "cell_type": "code",
   "execution_count": 25,
   "metadata": {},
   "outputs": [
    {
     "data": {
      "text/plain": [
       "<matplotlib.axes._subplots.AxesSubplot at 0x8027850>"
      ]
     },
     "execution_count": 25,
     "metadata": {},
     "output_type": "execute_result"
    },
    {
     "data": {
      "image/png": "[encoded data removed]",
      "text/plain": [
       "<Figure size 432x288 with 1 Axes>"
      ]
     },
     "metadata": {
      "needs_background": "light"
     },
     "output_type": "display_data"
    }
   ],
   "source": [
    "df.plot()#lineplot"
   ]
  },
  {
   "cell_type": "code",
   "execution_count": 27,
   "metadata": {},
   "outputs": [
    {
     "data": {
      "application/vnd.plotly.v1+json": {
       "config": {
        "linkText": "Export to plot.ly",
        "plotlyServerURL": "https://plot.ly",
        "showLink": true
       },
       "data": [
        {
         "line": {
          "color": "rgba(255, 153, 51, 1.0)",
          "dash": "solid",
          "shape": "linear",
          "width": 1.3
         },
         "mode": "lines",
         "name": "A",
         "text": "",
         "type": "scatter",
         "x": [
          0,
          1,
          2,
          3,
          4,
          5,
          6,
          7,
          8,
          9,
          10,
          11,
          12,
          13,
          14,
          15,
          16,
          17,
          18,
          19,
          20,
          21,
          22,
          23,
          24,
          25,
          26,
          27,
          28,
          29,
          30,
          31,
          32,
          33,
          34,
          35,
          36,
          37,
          38,
          39,
          40,
          41,
          42,
          43,
          44,
          45,
          46,
          47,
          48,
          49,
          50,
          51,
          52,
          53,
          54,
          55,
          56,
          57,
          58,
          59,
          60,
          61,
          62,
          63,
          64,
          65,
          66,
          67,
          68,
          69,
          70,
          71,
          72,
          73,
          74,
          75,
          76,
          77,
          78,
          79,
          80,
          81,
          82,
          83,
          84,
          85,
          86,
          87,
          88,
          89,
          90,
          91,
          92,
          93,
          94,
          95,
          96,
          97,
          98,
          99
         ],
         "y": [
          0.7377480585830137,
          0.7342847783883112,
          -1.0683171404471412,
          -1.502733798438884,
          0.6561686237827556,
          -1.1459037323632137,
          0.6476633312484361,
          0.954015340373593,
          1.539985876684928,
          0.7985745670731059,
          -1.5918749202161273,
          0.8082330941312681,
          0.4497225270275956,
          0.44060026434460214,
          0.6348032618871884,
          1.3874779330072162,
          0.0438216873576978,
          -1.1014944244087401,
          -1.2275063824869006,
          -1.8290699710898346,
          -0.22351957823940455,
          -0.7050039212800109,
          -1.1183465214167012,
          -1.8248514931381798,
          1.4905083191743311,
          0.25626490998075285,
          0.7422419175531905,
          0.027907303872408085,
          -0.06577875054392432,
          -2.028482755750844,
          -0.9999937897710787,
          0.18755245412529312,
          -1.3748890838009733,
          -0.7893670077838172,
          -0.9693956309750764,
          -0.3874700518752942,
          0.8497108153574742,
          -2.3984511660062826,
          -1.0375323703356547,
          -1.1668382338824628,
          1.0178209906174234,
          -2.0184440193807105,
          0.10005832909083658,
          -0.5248020077275282,
          0.6066228167525038,
          0.2697695084102519,
          -1.332359037059602,
          -0.1136562919792124,
          -1.5255681143137725,
          0.7148349278548535,
          -0.23774122847181883,
          0.7716215119493806,
          0.02376413684294443,
          -0.20117023619862676,
          -0.5919119812096941,
          -2.289606638197903,
          -1.69171991905258,
          0.03946357615375144,
          0.061783385108110836,
          0.5000231705082663,
          -0.08109990486056581,
          -0.22066706333618294,
          0.6970531220231665,
          0.5792548517859589,
          0.3834561644480958,
          0.30649813188746133,
          -0.810500502854627,
          1.1874691913836422,
          0.04273693089697035,
          0.10807765364701052,
          -1.9834385486030648,
          0.30500393482364385,
          0.04025339830170707,
          -1.3667014133501796,
          -1.0856887678202325,
          0.6435525794998168,
          0.09094754542965085,
          0.11965187209304147,
          -1.109132843870616,
          -1.1028645951963907,
          0.5112915171860486,
          1.9374953617279147,
          -0.07245361045267751,
          -0.5470649360074591,
          3.3981405035516525,
          -1.170234159171683,
          0.4029753395723124,
          -0.49332286516639035,
          -1.1812130978576854,
          -2.0723603009366376,
          -0.8091482359309616,
          0.956168042124244,
          -0.26979704705689905,
          -0.06303567646588461,
          0.28774570776517755,
          1.3294452569558244,
          0.25037832471323584,
          -0.23303023685009297,
          -0.8954288193418369,
          -0.29096827647431506
         ]
        },
        {
         "line": {
          "color": "rgba(55, 128, 191, 1.0)",
          "dash": "solid",
          "shape": "linear",
          "width": 1.3
         },
         "mode": "lines",
         "name": "B",
         "text": "",
         "type": "scatter",
         "x": [
          0,
          1,
          2,
          3,
          4,
          5,
          6,
          7,
          8,
          9,
          10,
          11,
          12,
          13,
          14,
          15,
          16,
          17,
          18,
          19,
          20,
          21,
          22,
          23,
          24,
          25,
          26,
          27,
          28,
          29,
          30,
          31,
          32,
          33,
          34,
          35,
          36,
          37,
          38,
          39,
          40,
          41,
          42,
          43,
          44,
          45,
          46,
          47,
          48,
          49,
          50,
          51,
          52,
          53,
          54,
          55,
          56,
          57,
          58,
          59,
          60,
          61,
          62,
          63,
          64,
          65,
          66,
          67,
          68,
          69,
          70,
          71,
          72,
          73,
          74,
          75,
          76,
          77,
          78,
          79,
          80,
          81,
          82,
          83,
          84,
          85,
          86,
          87,
          88,
          89,
          90,
          91,
          92,
          93,
          94,
          95,
          96,
          97,
          98,
          99
         ],
         "y": [
          0.19757683481913466,
          0.19652603702414015,
          0.8802559451990586,
          -3.246105290136032,
          0.13166861327125656,
          0.37894731398952586,
          0.9017310254915447,
          0.8410559395842016,
          -0.3475436119400676,
          -0.6333759579885387,
          -0.46721317143339497,
          -0.25197763683591395,
          0.10798919230128363,
          0.8279785479323732,
          0.5181141679590413,
          -0.08740292588407063,
          -0.6262855402267856,
          -0.9981323252780863,
          -0.16530789117237085,
          -1.1171779612314283,
          0.14964301868274876,
          -0.7213752047771493,
          -0.55422745014167,
          -1.8050140419080938,
          -0.09366392738194239,
          0.7226521207213704,
          0.950687199099526,
          -0.3285326599246558,
          1.4151962610116287,
          -0.874654751843458,
          0.429029706243159,
          0.38343051280730256,
          0.5229346393025011,
          -1.0546871079135307,
          -0.9096170476035544,
          -1.4792325006326723,
          -0.0658692466059647,
          -1.3027699560793393,
          0.988090979663669,
          -0.22409559289129885,
          0.7133713100303162,
          0.3416091416133028,
          -0.9306940942545728,
          -0.34340258028634024,
          -0.5820680198522021,
          -0.47557889455395325,
          -0.4927696339863192,
          -1.0305543868008562,
          -1.0992997531456075,
          0.9989814097855022,
          0.29706921050397894,
          0.44290029683620286,
          0.23479596022042112,
          -1.2590740525741102,
          -0.5553387627535838,
          -0.9247408398573905,
          -0.30264344149525485,
          -0.710723649552731,
          -0.4571537974062655,
          -1.2442424570271577,
          0.6278670818249709,
          -0.5607876516543867,
          -0.6455709830869545,
          0.8795806440458941,
          0.4075942240710124,
          -0.5077041158846402,
          1.403109214192499,
          0.41190914173872556,
          -0.9797664268315869,
          -0.407844408205296,
          0.20692180881156025,
          0.2171037233664773,
          -1.0206316273355782,
          0.28358419056260675,
          0.681150249787766,
          0.5826961401987615,
          0.93025604132711,
          -0.6151490682609284,
          -1.7903317652004367,
          0.7746725906814703,
          0.9587083684669854,
          -1.0291724032658307,
          0.48332863248025204,
          -0.10730694261016965,
          1.0628165318834424,
          0.3498735613601411,
          -1.4542444735205482,
          -0.37433846017044375,
          -0.03994373838327206,
          -0.35655183390093353,
          0.26880757874751465,
          0.5083302621189569,
          0.9995757926517211,
          3.432394122748129,
          -1.6958994843957778,
          -1.0586459065945708,
          -1.8360538740318209,
          -0.6032852020161685,
          -1.5928644283858395,
          -1.8202141537266145
         ]
        },
        {
         "line": {
          "color": "rgba(50, 171, 96, 1.0)",
          "dash": "solid",
          "shape": "linear",
          "width": 1.3
         },
         "mode": "lines",
         "name": "C",
         "text": "",
         "type": "scatter",
         "x": [
          0,
          1,
          2,
          3,
          4,
          5,
          6,
          7,
          8,
          9,
          10,
          11,
          12,
          13,
          14,
          15,
          16,
          17,
          18,
          19,
          20,
          21,
          22,
          23,
          24,
          25,
          26,
          27,
          28,
          29,
          30,
          31,
          32,
          33,
          34,
          35,
          36,
          37,
          38,
          39,
          40,
          41,
          42,
          43,
          44,
          45,
          46,
          47,
          48,
          49,
          50,
          51,
          52,
          53,
          54,
          55,
          56,
          57,
          58,
          59,
          60,
          61,
          62,
          63,
          64,
          65,
          66,
          67,
          68,
          69,
          70,
          71,
          72,
          73,
          74,
          75,
          76,
          77,
          78,
          79,
          80,
          81,
          82,
          83,
          84,
          85,
          86,
          87,
          88,
          89,
          90,
          91,
          92,
          93,
          94,
          95,
          96,
          97,
          98,
          99
         ],
         "y": [
          -0.6096608224151466,
          -0.6195079747212103,
          0.7109406448525754,
          -1.3576488964524391,
          0.3539574156709573,
          1.2262553786457966,
          -0.5023942829843933,
          0.5522310577308305,
          0.7108756556978424,
          0.10920510938871546,
          0.4149967488288535,
          1.3011189754866916,
          0.5542723738033885,
          0.7987642339371241,
          0.8759170909728486,
          0.7219316733733715,
          -1.7869490716923797,
          -1.679550595679321,
          1.9274639583266926,
          0.3828021930857063,
          1.2608656994571699,
          -0.1938433376033397,
          1.8357859382308004,
          1.3001031158009266,
          -0.632849920499351,
          -1.5342524445220331,
          -2.3585628827994283,
          0.0661748444944162,
          0.006365499709921685,
          0.312995564273019,
          0.0937504317809031,
          -0.29835371474252503,
          -1.8279726016525282,
          -0.352868152041477,
          -0.8559998733210675,
          -0.28608530691286377,
          1.396727023340674,
          -0.40359163631147577,
          -0.3292458811883445,
          0.599421083749579,
          -1.2124000262503405,
          -0.5693543470575455,
          0.4377338777037384,
          -1.642144774079887,
          -0.30764720537762086,
          1.2542750180885254,
          0.7564255708797416,
          -0.9832730838691014,
          0.4164998282128355,
          0.7477748458530866,
          1.3560202886782509,
          1.546746331079022,
          1.9052164640676077,
          -2.0461367992280457,
          0.9687250883987175,
          -0.16111852239983515,
          -0.2623169457336536,
          0.6979029617949611,
          -1.4823878216061581,
          0.392877675346139,
          0.21566655583007072,
          -1.7472944763299612,
          -1.2516772119417252,
          -0.13766057172636878,
          0.6390747642098169,
          -0.5165476343485128,
          -0.662260234384109,
          -1.4190709440988007,
          0.9135263608642058,
          -0.16528750001260598,
          -0.40019365725797157,
          -0.3700242924353822,
          -1.962750084533982,
          -0.4508981113805817,
          -0.9727042912984357,
          0.04723505603996999,
          1.4504684351884678,
          -0.1189997957052009,
          -1.2371007992918832,
          0.5995717421705108,
          -1.1166092112545292,
          0.1715473028907822,
          -0.3347258686563542,
          -1.240185466280291,
          1.0476296913470322,
          1.700571192640512,
          0.3146752141594078,
          -0.8066274098380597,
          1.1412362503571325,
          0.9193081732449275,
          0.41038052464580893,
          -0.6929166527794698,
          0.7922727125420788,
          0.3475430006898677,
          -0.5775533782567989,
          1.387393562697111,
          -0.14139060179298688,
          0.1232069052447074,
          -1.6848274592682884,
          -0.3079396992785525
         ]
        },
        {
         "line": {
          "color": "rgba(128, 0, 128, 1.0)",
          "dash": "solid",
          "shape": "linear",
          "width": 1.3
         },
         "mode": "lines",
         "name": "D",
         "text": "",
         "type": "scatter",
         "x": [
          0,
          1,
          2,
          3,
          4,
          5,
          6,
          7,
          8,
          9,
          10,
          11,
          12,
          13,
          14,
          15,
          16,
          17,
          18,
          19,
          20,
          21,
          22,
          23,
          24,
          25,
          26,
          27,
          28,
          29,
          30,
          31,
          32,
          33,
          34,
          35,
          36,
          37,
          38,
          39,
          40,
          41,
          42,
          43,
          44,
          45,
          46,
          47,
          48,
          49,
          50,
          51,
          52,
          53,
          54,
          55,
          56,
          57,
          58,
          59,
          60,
          61,
          62,
          63,
          64,
          65,
          66,
          67,
          68,
          69,
          70,
          71,
          72,
          73,
          74,
          75,
          76,
          77,
          78,
          79,
          80,
          81,
          82,
          83,
          84,
          85,
          86,
          87,
          88,
          89,
          90,
          91,
          92,
          93,
          94,
          95,
          96,
          97,
          98,
          99
         ],
         "y": [
          1.1401673986248801,
          0.13313653080927113,
          0.19698757663838,
          0.952955548715361,
          -0.20989517397197824,
          0.23896266017547702,
          -0.35425191925320987,
          -0.6126943383460478,
          1.3920191303747103,
          0.548922979417018,
          0.6143207621742002,
          0.31775370625711374,
          0.35343266229756776,
          0.8146004499815067,
          -1.0202276992452228,
          1.0329463600952744,
          0.4050958787576824,
          -2.8435300437531796,
          0.8476960698637384,
          0.30060393407956204,
          2.395377396817081,
          0.41754187027079953,
          -0.041557565209885516,
          1.7756192538628472,
          0.6033104525486233,
          0.32067559892224434,
          0.5146999332229149,
          -1.2934581169624737,
          -0.13703049255397978,
          -0.07213589597693378,
          -0.3770317341839668,
          -1.0696842549372618,
          0.9816766588940186,
          1.918981131133428,
          -0.2289408687169476,
          0.2671261146526187,
          0.5119462534866697,
          -0.8239501957925991,
          -0.10913167594946674,
          -0.6679040757000227,
          -0.7749056852741179,
          0.20389806534071162,
          -0.901276867585821,
          1.154099420824574,
          0.011354401808919192,
          0.2098443593415194,
          1.5854698876338933,
          -0.07344276075067835,
          0.5073385189309244,
          -1.773319236552539,
          -0.05272041058146565,
          -0.00362736273952922,
          -0.5945275493238228,
          0.41809379429104887,
          0.8909465400459582,
          0.09563245179050314,
          1.0311602461832148,
          1.0159953770058927,
          -0.6170213287877444,
          -1.0976143674215801,
          -1.5004841052765934,
          0.09431301496742447,
          -0.9452218800849674,
          -0.01560992121439684,
          0.7879037411261346,
          0.6853755116492865,
          -0.8623001717604366,
          1.0769194654893817,
          0.6431688511361634,
          0.12895953199732638,
          -0.5498628658378011,
          -1.4492936939235181,
          0.016024222288879897,
          2.664282252712835,
          1.0696366331516471,
          0.12835965398046997,
          0.5101687936919098,
          1.5299010478683583,
          -1.2335689808342365,
          0.2464428699381851,
          2.1078222162200384,
          0.7843387741083879,
          -0.1446628038271378,
          0.8157535679411924,
          -0.20789418560122971,
          1.2911215665236357,
          -0.4371104648645292,
          1.2891046799090462,
          0.14198386497507962,
          -0.24169307687263147,
          0.08057209185200362,
          1.448257337150349,
          -0.6207616616697897,
          -1.3403917003667252,
          -0.8028486224328306,
          -0.21052336907806699,
          -0.09233070228788874,
          -0.3661415088533711,
          -0.4629290587443829,
          1.0483734858888971
         ]
        }
       ],
       "layout": {
        "legend": {
         "bgcolor": "#F5F6F9",
         "font": {
          "color": "#4D5663"
         }
        },
        "paper_bgcolor": "#F5F6F9",
        "plot_bgcolor": "#F5F6F9",
        "template": {
         "data": {
          "bar": [
           {
            "error_x": {
             "color": "#2a3f5f"
            },
            "error_y": {
             "color": "#2a3f5f"
            },
            "marker": {
             "line": {
              "color": "#E5ECF6",
              "width": 0.5
             }
            },
            "type": "bar"
           }
          ],
          "barpolar": [
           {
            "marker": {
             "line": {
              "color": "#E5ECF6",
              "width": 0.5
             }
            },
            "type": "barpolar"
           }
          ],
          "carpet": [
           {
            "aaxis": {
             "endlinecolor": "#2a3f5f",
             "gridcolor": "white",
             "linecolor": "white",
             "minorgridcolor": "white",
             "startlinecolor": "#2a3f5f"
            },
            "baxis": {
             "endlinecolor": "#2a3f5f",
             "gridcolor": "white",
             "linecolor": "white",
             "minorgridcolor": "white",
             "startlinecolor": "#2a3f5f"
            },
            "type": "carpet"
           }
          ],
          "choropleth": [
           {
            "colorbar": {
             "outlinewidth": 0,
             "ticks": ""
            },
            "type": "choropleth"
           }
          ],
          "contour": [
           {
            "colorbar": {
             "outlinewidth": 0,
             "ticks": ""
            },
            "colorscale": [
             [
              0,
              "#0d0887"
             ],
             [
              0.1111111111111111,
              "#46039f"
             ],
             [
              0.2222222222222222,
              "#7201a8"
             ],
             [
              0.3333333333333333,
              "#9c179e"
             ],
             [
              0.4444444444444444,
              "#bd3786"
             ],
             [
              0.5555555555555556,
              "#d8576b"
             ],
             [
              0.6666666666666666,
              "#ed7953"
             ],
             [
              0.7777777777777778,
              "#fb9f3a"
             ],
             [
              0.8888888888888888,
              "#fdca26"
             ],
             [
              1,
              "#f0f921"
             ]
            ],
            "type": "contour"
           }
          ],
          "contourcarpet": [
           {
            "colorbar": {
             "outlinewidth": 0,
             "ticks": ""
            },
            "type": "contourcarpet"
           }
          ],
          "heatmap": [
           {
            "colorbar": {
             "outlinewidth": 0,
             "ticks": ""
            },
            "colorscale": [
             [
              0,
              "#0d0887"
             ],
             [
              0.1111111111111111,
              "#46039f"
             ],
             [
              0.2222222222222222,
              "#7201a8"
             ],
             [
              0.3333333333333333,
              "#9c179e"
             ],
             [
              0.4444444444444444,
              "#bd3786"
             ],
             [
              0.5555555555555556,
              "#d8576b"
             ],
             [
              0.6666666666666666,
              "#ed7953"
             ],
             [
              0.7777777777777778,
              "#fb9f3a"
             ],
             [
              0.8888888888888888,
              "#fdca26"
             ],
             [
              1,
              "#f0f921"
             ]
            ],
            "type": "heatmap"
           }
          ],
          "heatmapgl": [
           {
            "colorbar": {
             "outlinewidth": 0,
             "ticks": ""
            },
            "colorscale": [
             [
              0,
              "#0d0887"
             ],
             [
              0.1111111111111111,
              "#46039f"
             ],
             [
              0.2222222222222222,
              "#7201a8"
             ],
             [
              0.3333333333333333,
              "#9c179e"
             ],
             [
              0.4444444444444444,
              "#bd3786"
             ],
             [
              0.5555555555555556,
              "#d8576b"
             ],
             [
              0.6666666666666666,
              "#ed7953"
             ],
             [
              0.7777777777777778,
              "#fb9f3a"
             ],
             [
              0.8888888888888888,
              "#fdca26"
             ],
             [
              1,
              "#f0f921"
             ]
            ],
            "type": "heatmapgl"
           }
          ],
          "histogram": [
           {
            "marker": {
             "colorbar": {
              "outlinewidth": 0,
              "ticks": ""
             }
            },
            "type": "histogram"
           }
          ],
          "histogram2d": [
           {
            "colorbar": {
             "outlinewidth": 0,
             "ticks": ""
            },
            "colorscale": [
             [
              0,
              "#0d0887"
             ],
             [
              0.1111111111111111,
              "#46039f"
             ],
             [
              0.2222222222222222,
              "#7201a8"
             ],
             [
              0.3333333333333333,
              "#9c179e"
             ],
             [
              0.4444444444444444,
              "#bd3786"
             ],
             [
              0.5555555555555556,
              "#d8576b"
             ],
             [
              0.6666666666666666,
              "#ed7953"
             ],
             [
              0.7777777777777778,
              "#fb9f3a"
             ],
             [
              0.8888888888888888,
              "#fdca26"
             ],
             [
              1,
              "#f0f921"
             ]
            ],
            "type": "histogram2d"
           }
          ],
          "histogram2dcontour": [
           {
            "colorbar": {
             "outlinewidth": 0,
             "ticks": ""
            },
            "colorscale": [
             [
              0,
              "#0d0887"
             ],
             [
              0.1111111111111111,
              "#46039f"
             ],
             [
              0.2222222222222222,
              "#7201a8"
             ],
             [
              0.3333333333333333,
              "#9c179e"
             ],
             [
              0.4444444444444444,
              "#bd3786"
             ],
             [
              0.5555555555555556,
              "#d8576b"
             ],
             [
              0.6666666666666666,
              "#ed7953"
             ],
             [
              0.7777777777777778,
              "#fb9f3a"
             ],
             [
              0.8888888888888888,
              "#fdca26"
             ],
             [
              1,
              "#f0f921"
             ]
            ],
            "type": "histogram2dcontour"
           }
          ],
          "mesh3d": [
           {
            "colorbar": {
             "outlinewidth": 0,
             "ticks": ""
            },
            "type": "mesh3d"
           }
          ],
          "parcoords": [
           {
            "line": {
             "colorbar": {
              "outlinewidth": 0,
              "ticks": ""
             }
            },
            "type": "parcoords"
           }
          ],
          "pie": [
           {
            "automargin": true,
            "type": "pie"
           }
          ],
          "scatter": [
           {
            "marker": {
             "colorbar": {
              "outlinewidth": 0,
              "ticks": ""
             }
            },
            "type": "scatter"
           }
          ],
          "scatter3d": [
           {
            "line": {
             "colorbar": {
              "outlinewidth": 0,
              "ticks": ""
             }
            },
            "marker": {
             "colorbar": {
              "outlinewidth": 0,
              "ticks": ""
             }
            },
            "type": "scatter3d"
           }
          ],
          "scattercarpet": [
           {
            "marker": {
             "colorbar": {
              "outlinewidth": 0,
              "ticks": ""
             }
            },
            "type": "scattercarpet"
           }
          ],
          "scattergeo": [
           {
            "marker": {
             "colorbar": {
              "outlinewidth": 0,
              "ticks": ""
             }
            },
            "type": "scattergeo"
           }
          ],
          "scattergl": [
           {
            "marker": {
             "colorbar": {
              "outlinewidth": 0,
              "ticks": ""
             }
            },
            "type": "scattergl"
           }
          ],
          "scattermapbox": [
           {
            "marker": {
             "colorbar": {
              "outlinewidth": 0,
              "ticks": ""
             }
            },
            "type": "scattermapbox"
           }
          ],
          "scatterpolar": [
           {
            "marker": {
             "colorbar": {
              "outlinewidth": 0,
              "ticks": ""
             }
            },
            "type": "scatterpolar"
           }
          ],
          "scatterpolargl": [
           {
            "marker": {
             "colorbar": {
              "outlinewidth": 0,
              "ticks": ""
             }
            },
            "type": "scatterpolargl"
           }
          ],
          "scatterternary": [
           {
            "marker": {
             "colorbar": {
              "outlinewidth": 0,
              "ticks": ""
             }
            },
            "type": "scatterternary"
           }
          ],
          "surface": [
           {
            "colorbar": {
             "outlinewidth": 0,
             "ticks": ""
            },
            "colorscale": [
             [
              0,
              "#0d0887"
             ],
             [
              0.1111111111111111,
              "#46039f"
             ],
             [
              0.2222222222222222,
              "#7201a8"
             ],
             [
              0.3333333333333333,
              "#9c179e"
             ],
             [
              0.4444444444444444,
              "#bd3786"
             ],
             [
              0.5555555555555556,
              "#d8576b"
             ],
             [
              0.6666666666666666,
              "#ed7953"
             ],
             [
              0.7777777777777778,
              "#fb9f3a"
             ],
             [
              0.8888888888888888,
              "#fdca26"
             ],
             [
              1,
              "#f0f921"
             ]
            ],
            "type": "surface"
           }
          ],
          "table": [
           {
            "cells": {
             "fill": {
              "color": "#EBF0F8"
             },
             "line": {
              "color": "white"
             }
            },
            "header": {
             "fill": {
              "color": "#C8D4E3"
             },
             "line": {
              "color": "white"
             }
            },
            "type": "table"
           }
          ]
         },
         "layout": {
          "annotationdefaults": {
           "arrowcolor": "#2a3f5f",
           "arrowhead": 0,
           "arrowwidth": 1
          },
          "coloraxis": {
           "colorbar": {
            "outlinewidth": 0,
            "ticks": ""
           }
          },
          "colorscale": {
           "diverging": [
            [
             0,
             "#8e0152"
            ],
            [
             0.1,
             "#c51b7d"
            ],
            [
             0.2,
             "#de77ae"
            ],
            [
             0.3,
             "#f1b6da"
            ],
            [
             0.4,
             "#fde0ef"
            ],
            [
             0.5,
             "#f7f7f7"
            ],
            [
             0.6,
             "#e6f5d0"
            ],
            [
             0.7,
             "#b8e186"
            ],
            [
             0.8,
             "#7fbc41"
            ],
            [
             0.9,
             "#4d9221"
            ],
            [
             1,
             "#276419"
            ]
           ],
           "sequential": [
            [
             0,
             "#0d0887"
            ],
            [
             0.1111111111111111,
             "#46039f"
            ],
            [
             0.2222222222222222,
             "#7201a8"
            ],
            [
             0.3333333333333333,
             "#9c179e"
            ],
            [
             0.4444444444444444,
             "#bd3786"
            ],
            [
             0.5555555555555556,
             "#d8576b"
            ],
            [
             0.6666666666666666,
             "#ed7953"
            ],
            [
             0.7777777777777778,
             "#fb9f3a"
            ],
            [
             0.8888888888888888,
             "#fdca26"
            ],
            [
             1,
             "#f0f921"
            ]
           ],
           "sequentialminus": [
            [
             0,
             "#0d0887"
            ],
            [
             0.1111111111111111,
             "#46039f"
            ],
            [
             0.2222222222222222,
             "#7201a8"
            ],
            [
             0.3333333333333333,
             "#9c179e"
            ],
            [
             0.4444444444444444,
             "#bd3786"
            ],
            [
             0.5555555555555556,
             "#d8576b"
            ],
            [
             0.6666666666666666,
             "#ed7953"
            ],
            [
             0.7777777777777778,
             "#fb9f3a"
            ],
            [
             0.8888888888888888,
             "#fdca26"
            ],
            [
             1,
             "#f0f921"
            ]
           ]
          },
          "colorway": [
           "#636efa",
           "#EF553B",
           "#00cc96",
           "#ab63fa",
           "#FFA15A",
           "#19d3f3",
           "#FF6692",
           "#B6E880",
           "#FF97FF",
           "#FECB52"
          ],
          "font": {
           "color": "#2a3f5f"
          },
          "geo": {
           "bgcolor": "white",
           "lakecolor": "white",
           "landcolor": "#E5ECF6",
           "showlakes": true,
           "showland": true,
           "subunitcolor": "white"
          },
          "hoverlabel": {
           "align": "left"
          },
          "hovermode": "closest",
          "mapbox": {
           "style": "light"
          },
          "paper_bgcolor": "white",
          "plot_bgcolor": "#E5ECF6",
          "polar": {
           "angularaxis": {
            "gridcolor": "white",
            "linecolor": "white",
            "ticks": ""
           },
           "bgcolor": "#E5ECF6",
           "radialaxis": {
            "gridcolor": "white",
            "linecolor": "white",
            "ticks": ""
           }
          },
          "scene": {
           "xaxis": {
            "backgroundcolor": "#E5ECF6",
            "gridcolor": "white",
            "gridwidth": 2,
            "linecolor": "white",
            "showbackground": true,
            "ticks": "",
            "zerolinecolor": "white"
           },
           "yaxis": {
            "backgroundcolor": "#E5ECF6",
            "gridcolor": "white",
            "gridwidth": 2,
            "linecolor": "white",
            "showbackground": true,
            "ticks": "",
            "zerolinecolor": "white"
           },
           "zaxis": {
            "backgroundcolor": "#E5ECF6",
            "gridcolor": "white",
            "gridwidth": 2,
            "linecolor": "white",
            "showbackground": true,
            "ticks": "",
            "zerolinecolor": "white"
           }
          },
          "shapedefaults": {
           "line": {
            "color": "#2a3f5f"
           }
          },
          "ternary": {
           "aaxis": {
            "gridcolor": "white",
            "linecolor": "white",
            "ticks": ""
           },
           "baxis": {
            "gridcolor": "white",
            "linecolor": "white",
            "ticks": ""
           },
           "bgcolor": "#E5ECF6",
           "caxis": {
            "gridcolor": "white",
            "linecolor": "white",
            "ticks": ""
           }
          },
          "title": {
           "x": 0.05
          },
          "xaxis": {
           "automargin": true,
           "gridcolor": "white",
           "linecolor": "white",
           "ticks": "",
           "title": {
            "standoff": 15
           },
           "zerolinecolor": "white",
           "zerolinewidth": 2
          },
          "yaxis": {
           "automargin": true,
           "gridcolor": "white",
           "linecolor": "white",
           "ticks": "",
           "title": {
            "standoff": 15
           },
           "zerolinecolor": "white",
           "zerolinewidth": 2
          }
         }
        },
        "title": {
         "font": {
          "color": "#4D5663"
         }
        },
        "xaxis": {
         "gridcolor": "#E1E5ED",
         "showgrid": true,
         "tickfont": {
          "color": "#4D5663"
         },
         "title": {
          "font": {
           "color": "#4D5663"
          },
          "text": ""
         },
         "zerolinecolor": "#E1E5ED"
        },
        "yaxis": {
         "gridcolor": "#E1E5ED",
         "showgrid": true,
         "tickfont": {
          "color": "#4D5663"
         },
         "title": {
          "font": {
           "color": "#4D5663"
          },
          "text": ""
         },
         "zerolinecolor": "#E1E5ED"
        }
       }
      },
      "text/html": [
       "<div>\n",
       "        \n",
       "        \n",
       "            <div id=\"90451f2b-5414-404b-837b-1cab65deca4a\" class=\"plotly-graph-div\" style=\"height:525px; width:100%;\"></div>\n",
       "            <script type=\"text/javascript\">\n",
       "                require([\"plotly\"], function(Plotly) {\n",
       "                    window.PLOTLYENV=window.PLOTLYENV || {};\n",
       "                    window.PLOTLYENV.BASE_URL='https://plot.ly';\n",
       "                    \n",
       "                if (document.getElementById(\"90451f2b-5414-404b-837b-1cab65deca4a\")) {\n",
       "                    Plotly.newPlot(\n",
       "                        '90451f2b-5414-404b-837b-1cab65deca4a',\n",
       "                        [{\"line\": {\"color\": \"rgba(255, 153, 51, 1.0)\", \"dash\": \"solid\", \"shape\": \"linear\", \"width\": 1.3}, \"mode\": \"lines\", \"name\": \"A\", \"text\": \"\", \"type\": \"scatter\", \"x\": [0, 1, 2, 3, 4, 5, 6, 7, 8, 9, 10, 11, 12, 13, 14, 15, 16, 17, 18, 19, 20, 21, 22, 23, 24, 25, 26, 27, 28, 29, 30, 31, 32, 33, 34, 35, 36, 37, 38, 39, 40, 41, 42, 43, 44, 45, 46, 47, 48, 49, 50, 51, 52, 53, 54, 55, 56, 57, 58, 59, 60, 61, 62, 63, 64, 65, 66, 67, 68, 69, 70, 71, 72, 73, 74, 75, 76, 77, 78, 79, 80, 81, 82, 83, 84, 85, 86, 87, 88, 89, 90, 91, 92, 93, 94, 95, 96, 97, 98, 99], \"y\": [0.7377480585830137, 0.7342847783883112, -1.0683171404471412, -1.502733798438884, 0.6561686237827556, -1.1459037323632137, 0.6476633312484361, 0.954015340373593, 1.539985876684928, 0.7985745670731059, -1.5918749202161273, 0.8082330941312681, 0.4497225270275956, 0.44060026434460214, 0.6348032618871884, 1.3874779330072162, 0.0438216873576978, -1.1014944244087401, -1.2275063824869006, -1.8290699710898346, -0.22351957823940455, -0.7050039212800109, -1.1183465214167012, -1.8248514931381798, 1.4905083191743311, 0.25626490998075285, 0.7422419175531905, 0.027907303872408085, -0.06577875054392432, -2.028482755750844, -0.9999937897710787, 0.18755245412529312, -1.3748890838009733, -0.7893670077838172, -0.9693956309750764, -0.3874700518752942, 0.8497108153574742, -2.3984511660062826, -1.0375323703356547, -1.1668382338824628, 1.0178209906174234, -2.0184440193807105, 0.10005832909083658, -0.5248020077275282, 0.6066228167525038, 0.2697695084102519, -1.332359037059602, -0.1136562919792124, -1.5255681143137725, 0.7148349278548535, -0.23774122847181883, 0.7716215119493806, 0.02376413684294443, -0.20117023619862676, -0.5919119812096941, -2.289606638197903, -1.69171991905258, 0.03946357615375144, 0.061783385108110836, 0.5000231705082663, -0.08109990486056581, -0.22066706333618294, 0.6970531220231665, 0.5792548517859589, 0.3834561644480958, 0.30649813188746133, -0.810500502854627, 1.1874691913836422, 0.04273693089697035, 0.10807765364701052, -1.9834385486030648, 0.30500393482364385, 0.04025339830170707, -1.3667014133501796, -1.0856887678202325, 0.6435525794998168, 0.09094754542965085, 0.11965187209304147, -1.109132843870616, -1.1028645951963907, 0.5112915171860486, 1.9374953617279147, -0.07245361045267751, -0.5470649360074591, 3.3981405035516525, -1.170234159171683, 0.4029753395723124, -0.49332286516639035, -1.1812130978576854, -2.0723603009366376, -0.8091482359309616, 0.956168042124244, -0.26979704705689905, -0.06303567646588461, 0.28774570776517755, 1.3294452569558244, 0.25037832471323584, -0.23303023685009297, -0.8954288193418369, -0.29096827647431506]}, {\"line\": {\"color\": \"rgba(55, 128, 191, 1.0)\", \"dash\": \"solid\", \"shape\": \"linear\", \"width\": 1.3}, \"mode\": \"lines\", \"name\": \"B\", \"text\": \"\", \"type\": \"scatter\", \"x\": [0, 1, 2, 3, 4, 5, 6, 7, 8, 9, 10, 11, 12, 13, 14, 15, 16, 17, 18, 19, 20, 21, 22, 23, 24, 25, 26, 27, 28, 29, 30, 31, 32, 33, 34, 35, 36, 37, 38, 39, 40, 41, 42, 43, 44, 45, 46, 47, 48, 49, 50, 51, 52, 53, 54, 55, 56, 57, 58, 59, 60, 61, 62, 63, 64, 65, 66, 67, 68, 69, 70, 71, 72, 73, 74, 75, 76, 77, 78, 79, 80, 81, 82, 83, 84, 85, 86, 87, 88, 89, 90, 91, 92, 93, 94, 95, 96, 97, 98, 99], \"y\": [0.19757683481913466, 0.19652603702414015, 0.8802559451990586, -3.246105290136032, 0.13166861327125656, 0.37894731398952586, 0.9017310254915447, 0.8410559395842016, -0.3475436119400676, -0.6333759579885387, -0.46721317143339497, -0.25197763683591395, 0.10798919230128363, 0.8279785479323732, 0.5181141679590413, -0.08740292588407063, -0.6262855402267856, -0.9981323252780863, -0.16530789117237085, -1.1171779612314283, 0.14964301868274876, -0.7213752047771493, -0.55422745014167, -1.8050140419080938, -0.09366392738194239, 0.7226521207213704, 0.950687199099526, -0.3285326599246558, 1.4151962610116287, -0.874654751843458, 0.429029706243159, 0.38343051280730256, 0.5229346393025011, -1.0546871079135307, -0.9096170476035544, -1.4792325006326723, -0.0658692466059647, -1.3027699560793393, 0.988090979663669, -0.22409559289129885, 0.7133713100303162, 0.3416091416133028, -0.9306940942545728, -0.34340258028634024, -0.5820680198522021, -0.47557889455395325, -0.4927696339863192, -1.0305543868008562, -1.0992997531456075, 0.9989814097855022, 0.29706921050397894, 0.44290029683620286, 0.23479596022042112, -1.2590740525741102, -0.5553387627535838, -0.9247408398573905, -0.30264344149525485, -0.710723649552731, -0.4571537974062655, -1.2442424570271577, 0.6278670818249709, -0.5607876516543867, -0.6455709830869545, 0.8795806440458941, 0.4075942240710124, -0.5077041158846402, 1.403109214192499, 0.41190914173872556, -0.9797664268315869, -0.407844408205296, 0.20692180881156025, 0.2171037233664773, -1.0206316273355782, 0.28358419056260675, 0.681150249787766, 0.5826961401987615, 0.93025604132711, -0.6151490682609284, -1.7903317652004367, 0.7746725906814703, 0.9587083684669854, -1.0291724032658307, 0.48332863248025204, -0.10730694261016965, 1.0628165318834424, 0.3498735613601411, -1.4542444735205482, -0.37433846017044375, -0.03994373838327206, -0.35655183390093353, 0.26880757874751465, 0.5083302621189569, 0.9995757926517211, 3.432394122748129, -1.6958994843957778, -1.0586459065945708, -1.8360538740318209, -0.6032852020161685, -1.5928644283858395, -1.8202141537266145]}, {\"line\": {\"color\": \"rgba(50, 171, 96, 1.0)\", \"dash\": \"solid\", \"shape\": \"linear\", \"width\": 1.3}, \"mode\": \"lines\", \"name\": \"C\", \"text\": \"\", \"type\": \"scatter\", \"x\": [0, 1, 2, 3, 4, 5, 6, 7, 8, 9, 10, 11, 12, 13, 14, 15, 16, 17, 18, 19, 20, 21, 22, 23, 24, 25, 26, 27, 28, 29, 30, 31, 32, 33, 34, 35, 36, 37, 38, 39, 40, 41, 42, 43, 44, 45, 46, 47, 48, 49, 50, 51, 52, 53, 54, 55, 56, 57, 58, 59, 60, 61, 62, 63, 64, 65, 66, 67, 68, 69, 70, 71, 72, 73, 74, 75, 76, 77, 78, 79, 80, 81, 82, 83, 84, 85, 86, 87, 88, 89, 90, 91, 92, 93, 94, 95, 96, 97, 98, 99], \"y\": [-0.6096608224151466, -0.6195079747212103, 0.7109406448525754, -1.3576488964524391, 0.3539574156709573, 1.2262553786457966, -0.5023942829843933, 0.5522310577308305, 0.7108756556978424, 0.10920510938871546, 0.4149967488288535, 1.3011189754866916, 0.5542723738033885, 0.7987642339371241, 0.8759170909728486, 0.7219316733733715, -1.7869490716923797, -1.679550595679321, 1.9274639583266926, 0.3828021930857063, 1.2608656994571699, -0.1938433376033397, 1.8357859382308004, 1.3001031158009266, -0.632849920499351, -1.5342524445220331, -2.3585628827994283, 0.0661748444944162, 0.006365499709921685, 0.312995564273019, 0.0937504317809031, -0.29835371474252503, -1.8279726016525282, -0.352868152041477, -0.8559998733210675, -0.28608530691286377, 1.396727023340674, -0.40359163631147577, -0.3292458811883445, 0.599421083749579, -1.2124000262503405, -0.5693543470575455, 0.4377338777037384, -1.642144774079887, -0.30764720537762086, 1.2542750180885254, 0.7564255708797416, -0.9832730838691014, 0.4164998282128355, 0.7477748458530866, 1.3560202886782509, 1.546746331079022, 1.9052164640676077, -2.0461367992280457, 0.9687250883987175, -0.16111852239983515, -0.2623169457336536, 0.6979029617949611, -1.4823878216061581, 0.392877675346139, 0.21566655583007072, -1.7472944763299612, -1.2516772119417252, -0.13766057172636878, 0.6390747642098169, -0.5165476343485128, -0.662260234384109, -1.4190709440988007, 0.9135263608642058, -0.16528750001260598, -0.40019365725797157, -0.3700242924353822, -1.962750084533982, -0.4508981113805817, -0.9727042912984357, 0.04723505603996999, 1.4504684351884678, -0.1189997957052009, -1.2371007992918832, 0.5995717421705108, -1.1166092112545292, 0.1715473028907822, -0.3347258686563542, -1.240185466280291, 1.0476296913470322, 1.700571192640512, 0.3146752141594078, -0.8066274098380597, 1.1412362503571325, 0.9193081732449275, 0.41038052464580893, -0.6929166527794698, 0.7922727125420788, 0.3475430006898677, -0.5775533782567989, 1.387393562697111, -0.14139060179298688, 0.1232069052447074, -1.6848274592682884, -0.3079396992785525]}, {\"line\": {\"color\": \"rgba(128, 0, 128, 1.0)\", \"dash\": \"solid\", \"shape\": \"linear\", \"width\": 1.3}, \"mode\": \"lines\", \"name\": \"D\", \"text\": \"\", \"type\": \"scatter\", \"x\": [0, 1, 2, 3, 4, 5, 6, 7, 8, 9, 10, 11, 12, 13, 14, 15, 16, 17, 18, 19, 20, 21, 22, 23, 24, 25, 26, 27, 28, 29, 30, 31, 32, 33, 34, 35, 36, 37, 38, 39, 40, 41, 42, 43, 44, 45, 46, 47, 48, 49, 50, 51, 52, 53, 54, 55, 56, 57, 58, 59, 60, 61, 62, 63, 64, 65, 66, 67, 68, 69, 70, 71, 72, 73, 74, 75, 76, 77, 78, 79, 80, 81, 82, 83, 84, 85, 86, 87, 88, 89, 90, 91, 92, 93, 94, 95, 96, 97, 98, 99], \"y\": [1.1401673986248801, 0.13313653080927113, 0.19698757663838, 0.952955548715361, -0.20989517397197824, 0.23896266017547702, -0.35425191925320987, -0.6126943383460478, 1.3920191303747103, 0.548922979417018, 0.6143207621742002, 0.31775370625711374, 0.35343266229756776, 0.8146004499815067, -1.0202276992452228, 1.0329463600952744, 0.4050958787576824, -2.8435300437531796, 0.8476960698637384, 0.30060393407956204, 2.395377396817081, 0.41754187027079953, -0.041557565209885516, 1.7756192538628472, 0.6033104525486233, 0.32067559892224434, 0.5146999332229149, -1.2934581169624737, -0.13703049255397978, -0.07213589597693378, -0.3770317341839668, -1.0696842549372618, 0.9816766588940186, 1.918981131133428, -0.2289408687169476, 0.2671261146526187, 0.5119462534866697, -0.8239501957925991, -0.10913167594946674, -0.6679040757000227, -0.7749056852741179, 0.20389806534071162, -0.901276867585821, 1.154099420824574, 0.011354401808919192, 0.2098443593415194, 1.5854698876338933, -0.07344276075067835, 0.5073385189309244, -1.773319236552539, -0.05272041058146565, -0.00362736273952922, -0.5945275493238228, 0.41809379429104887, 0.8909465400459582, 0.09563245179050314, 1.0311602461832148, 1.0159953770058927, -0.6170213287877444, -1.0976143674215801, -1.5004841052765934, 0.09431301496742447, -0.9452218800849674, -0.01560992121439684, 0.7879037411261346, 0.6853755116492865, -0.8623001717604366, 1.0769194654893817, 0.6431688511361634, 0.12895953199732638, -0.5498628658378011, -1.4492936939235181, 0.016024222288879897, 2.664282252712835, 1.0696366331516471, 0.12835965398046997, 0.5101687936919098, 1.5299010478683583, -1.2335689808342365, 0.2464428699381851, 2.1078222162200384, 0.7843387741083879, -0.1446628038271378, 0.8157535679411924, -0.20789418560122971, 1.2911215665236357, -0.4371104648645292, 1.2891046799090462, 0.14198386497507962, -0.24169307687263147, 0.08057209185200362, 1.448257337150349, -0.6207616616697897, -1.3403917003667252, -0.8028486224328306, -0.21052336907806699, -0.09233070228788874, -0.3661415088533711, -0.4629290587443829, 1.0483734858888971]}],\n",
       "                        {\"legend\": {\"bgcolor\": \"#F5F6F9\", \"font\": {\"color\": \"#4D5663\"}}, \"paper_bgcolor\": \"#F5F6F9\", \"plot_bgcolor\": \"#F5F6F9\", \"template\": {\"data\": {\"bar\": [{\"error_x\": {\"color\": \"#2a3f5f\"}, \"error_y\": {\"color\": \"#2a3f5f\"}, \"marker\": {\"line\": {\"color\": \"#E5ECF6\", \"width\": 0.5}}, \"type\": \"bar\"}], \"barpolar\": [{\"marker\": {\"line\": {\"color\": \"#E5ECF6\", \"width\": 0.5}}, \"type\": \"barpolar\"}], \"carpet\": [{\"aaxis\": {\"endlinecolor\": \"#2a3f5f\", \"gridcolor\": \"white\", \"linecolor\": \"white\", \"minorgridcolor\": \"white\", \"startlinecolor\": \"#2a3f5f\"}, \"baxis\": {\"endlinecolor\": \"#2a3f5f\", \"gridcolor\": \"white\", \"linecolor\": \"white\", \"minorgridcolor\": \"white\", \"startlinecolor\": \"#2a3f5f\"}, \"type\": \"carpet\"}], \"choropleth\": [{\"colorbar\": {\"outlinewidth\": 0, \"ticks\": \"\"}, \"type\": \"choropleth\"}], \"contour\": [{\"colorbar\": {\"outlinewidth\": 0, \"ticks\": \"\"}, \"colorscale\": [[0.0, \"#0d0887\"], [0.1111111111111111, \"#46039f\"], [0.2222222222222222, \"#7201a8\"], [0.3333333333333333, \"#9c179e\"], [0.4444444444444444, \"#bd3786\"], [0.5555555555555556, \"#d8576b\"], [0.6666666666666666, \"#ed7953\"], [0.7777777777777778, \"#fb9f3a\"], [0.8888888888888888, \"#fdca26\"], [1.0, \"#f0f921\"]], \"type\": \"contour\"}], \"contourcarpet\": [{\"colorbar\": {\"outlinewidth\": 0, \"ticks\": \"\"}, \"type\": \"contourcarpet\"}], \"heatmap\": [{\"colorbar\": {\"outlinewidth\": 0, \"ticks\": \"\"}, \"colorscale\": [[0.0, \"#0d0887\"], [0.1111111111111111, \"#46039f\"], [0.2222222222222222, \"#7201a8\"], [0.3333333333333333, \"#9c179e\"], [0.4444444444444444, \"#bd3786\"], [0.5555555555555556, \"#d8576b\"], [0.6666666666666666, \"#ed7953\"], [0.7777777777777778, \"#fb9f3a\"], [0.8888888888888888, \"#fdca26\"], [1.0, \"#f0f921\"]], \"type\": \"heatmap\"}], \"heatmapgl\": [{\"colorbar\": {\"outlinewidth\": 0, \"ticks\": \"\"}, \"colorscale\": [[0.0, \"#0d0887\"], [0.1111111111111111, \"#46039f\"], [0.2222222222222222, \"#7201a8\"], [0.3333333333333333, \"#9c179e\"], [0.4444444444444444, \"#bd3786\"], [0.5555555555555556, \"#d8576b\"], [0.6666666666666666, \"#ed7953\"], [0.7777777777777778, \"#fb9f3a\"], [0.8888888888888888, \"#fdca26\"], [1.0, \"#f0f921\"]], \"type\": \"heatmapgl\"}], \"histogram\": [{\"marker\": {\"colorbar\": {\"outlinewidth\": 0, \"ticks\": \"\"}}, \"type\": \"histogram\"}], \"histogram2d\": [{\"colorbar\": {\"outlinewidth\": 0, \"ticks\": \"\"}, \"colorscale\": [[0.0, \"#0d0887\"], [0.1111111111111111, \"#46039f\"], [0.2222222222222222, \"#7201a8\"], [0.3333333333333333, \"#9c179e\"], [0.4444444444444444, \"#bd3786\"], [0.5555555555555556, \"#d8576b\"], [0.6666666666666666, \"#ed7953\"], [0.7777777777777778, \"#fb9f3a\"], [0.8888888888888888, \"#fdca26\"], [1.0, \"#f0f921\"]], \"type\": \"histogram2d\"}], \"histogram2dcontour\": [{\"colorbar\": {\"outlinewidth\": 0, \"ticks\": \"\"}, \"colorscale\": [[0.0, \"#0d0887\"], [0.1111111111111111, \"#46039f\"], [0.2222222222222222, \"#7201a8\"], [0.3333333333333333, \"#9c179e\"], [0.4444444444444444, \"#bd3786\"], [0.5555555555555556, \"#d8576b\"], [0.6666666666666666, \"#ed7953\"], [0.7777777777777778, \"#fb9f3a\"], [0.8888888888888888, \"#fdca26\"], [1.0, \"#f0f921\"]], \"type\": \"histogram2dcontour\"}], \"mesh3d\": [{\"colorbar\": {\"outlinewidth\": 0, \"ticks\": \"\"}, \"type\": \"mesh3d\"}], \"parcoords\": [{\"line\": {\"colorbar\": {\"outlinewidth\": 0, \"ticks\": \"\"}}, \"type\": \"parcoords\"}], \"pie\": [{\"automargin\": true, \"type\": \"pie\"}], \"scatter\": [{\"marker\": {\"colorbar\": {\"outlinewidth\": 0, \"ticks\": \"\"}}, \"type\": \"scatter\"}], \"scatter3d\": [{\"line\": {\"colorbar\": {\"outlinewidth\": 0, \"ticks\": \"\"}}, \"marker\": {\"colorbar\": {\"outlinewidth\": 0, \"ticks\": \"\"}}, \"type\": \"scatter3d\"}], \"scattercarpet\": [{\"marker\": {\"colorbar\": {\"outlinewidth\": 0, \"ticks\": \"\"}}, \"type\": \"scattercarpet\"}], \"scattergeo\": [{\"marker\": {\"colorbar\": {\"outlinewidth\": 0, \"ticks\": \"\"}}, \"type\": \"scattergeo\"}], \"scattergl\": [{\"marker\": {\"colorbar\": {\"outlinewidth\": 0, \"ticks\": \"\"}}, \"type\": \"scattergl\"}], \"scattermapbox\": [{\"marker\": {\"colorbar\": {\"outlinewidth\": 0, \"ticks\": \"\"}}, \"type\": \"scattermapbox\"}], \"scatterpolar\": [{\"marker\": {\"colorbar\": {\"outlinewidth\": 0, \"ticks\": \"\"}}, \"type\": \"scatterpolar\"}], \"scatterpolargl\": [{\"marker\": {\"colorbar\": {\"outlinewidth\": 0, \"ticks\": \"\"}}, \"type\": \"scatterpolargl\"}], \"scatterternary\": [{\"marker\": {\"colorbar\": {\"outlinewidth\": 0, \"ticks\": \"\"}}, \"type\": \"scatterternary\"}], \"surface\": [{\"colorbar\": {\"outlinewidth\": 0, \"ticks\": \"\"}, \"colorscale\": [[0.0, \"#0d0887\"], [0.1111111111111111, \"#46039f\"], [0.2222222222222222, \"#7201a8\"], [0.3333333333333333, \"#9c179e\"], [0.4444444444444444, \"#bd3786\"], [0.5555555555555556, \"#d8576b\"], [0.6666666666666666, \"#ed7953\"], [0.7777777777777778, \"#fb9f3a\"], [0.8888888888888888, \"#fdca26\"], [1.0, \"#f0f921\"]], \"type\": \"surface\"}], \"table\": [{\"cells\": {\"fill\": {\"color\": \"#EBF0F8\"}, \"line\": {\"color\": \"white\"}}, \"header\": {\"fill\": {\"color\": \"#C8D4E3\"}, \"line\": {\"color\": \"white\"}}, \"type\": \"table\"}]}, \"layout\": {\"annotationdefaults\": {\"arrowcolor\": \"#2a3f5f\", \"arrowhead\": 0, \"arrowwidth\": 1}, \"coloraxis\": {\"colorbar\": {\"outlinewidth\": 0, \"ticks\": \"\"}}, \"colorscale\": {\"diverging\": [[0, \"#8e0152\"], [0.1, \"#c51b7d\"], [0.2, \"#de77ae\"], [0.3, \"#f1b6da\"], [0.4, \"#fde0ef\"], [0.5, \"#f7f7f7\"], [0.6, \"#e6f5d0\"], [0.7, \"#b8e186\"], [0.8, \"#7fbc41\"], [0.9, \"#4d9221\"], [1, \"#276419\"]], \"sequential\": [[0.0, \"#0d0887\"], [0.1111111111111111, \"#46039f\"], [0.2222222222222222, \"#7201a8\"], [0.3333333333333333, \"#9c179e\"], [0.4444444444444444, \"#bd3786\"], [0.5555555555555556, \"#d8576b\"], [0.6666666666666666, \"#ed7953\"], [0.7777777777777778, \"#fb9f3a\"], [0.8888888888888888, \"#fdca26\"], [1.0, \"#f0f921\"]], \"sequentialminus\": [[0.0, \"#0d0887\"], [0.1111111111111111, \"#46039f\"], [0.2222222222222222, \"#7201a8\"], [0.3333333333333333, \"#9c179e\"], [0.4444444444444444, \"#bd3786\"], [0.5555555555555556, \"#d8576b\"], [0.6666666666666666, \"#ed7953\"], [0.7777777777777778, \"#fb9f3a\"], [0.8888888888888888, \"#fdca26\"], [1.0, \"#f0f921\"]]}, \"colorway\": [\"#636efa\", \"#EF553B\", \"#00cc96\", \"#ab63fa\", \"#FFA15A\", \"#19d3f3\", \"#FF6692\", \"#B6E880\", \"#FF97FF\", \"#FECB52\"], \"font\": {\"color\": \"#2a3f5f\"}, \"geo\": {\"bgcolor\": \"white\", \"lakecolor\": \"white\", \"landcolor\": \"#E5ECF6\", \"showlakes\": true, \"showland\": true, \"subunitcolor\": \"white\"}, \"hoverlabel\": {\"align\": \"left\"}, \"hovermode\": \"closest\", \"mapbox\": {\"style\": \"light\"}, \"paper_bgcolor\": \"white\", \"plot_bgcolor\": \"#E5ECF6\", \"polar\": {\"angularaxis\": {\"gridcolor\": \"white\", \"linecolor\": \"white\", \"ticks\": \"\"}, \"bgcolor\": \"#E5ECF6\", \"radialaxis\": {\"gridcolor\": \"white\", \"linecolor\": \"white\", \"ticks\": \"\"}}, \"scene\": {\"xaxis\": {\"backgroundcolor\": \"#E5ECF6\", \"gridcolor\": \"white\", \"gridwidth\": 2, \"linecolor\": \"white\", \"showbackground\": true, \"ticks\": \"\", \"zerolinecolor\": \"white\"}, \"yaxis\": {\"backgroundcolor\": \"#E5ECF6\", \"gridcolor\": \"white\", \"gridwidth\": 2, \"linecolor\": \"white\", \"showbackground\": true, \"ticks\": \"\", \"zerolinecolor\": \"white\"}, \"zaxis\": {\"backgroundcolor\": \"#E5ECF6\", \"gridcolor\": \"white\", \"gridwidth\": 2, \"linecolor\": \"white\", \"showbackground\": true, \"ticks\": \"\", \"zerolinecolor\": \"white\"}}, \"shapedefaults\": {\"line\": {\"color\": \"#2a3f5f\"}}, \"ternary\": {\"aaxis\": {\"gridcolor\": \"white\", \"linecolor\": \"white\", \"ticks\": \"\"}, \"baxis\": {\"gridcolor\": \"white\", \"linecolor\": \"white\", \"ticks\": \"\"}, \"bgcolor\": \"#E5ECF6\", \"caxis\": {\"gridcolor\": \"white\", \"linecolor\": \"white\", \"ticks\": \"\"}}, \"title\": {\"x\": 0.05}, \"xaxis\": {\"automargin\": true, \"gridcolor\": \"white\", \"linecolor\": \"white\", \"ticks\": \"\", \"title\": {\"standoff\": 15}, \"zerolinecolor\": \"white\", \"zerolinewidth\": 2}, \"yaxis\": {\"automargin\": true, \"gridcolor\": \"white\", \"linecolor\": \"white\", \"ticks\": \"\", \"title\": {\"standoff\": 15}, \"zerolinecolor\": \"white\", \"zerolinewidth\": 2}}}, \"title\": {\"font\": {\"color\": \"#4D5663\"}}, \"xaxis\": {\"gridcolor\": \"#E1E5ED\", \"showgrid\": true, \"tickfont\": {\"color\": \"#4D5663\"}, \"title\": {\"font\": {\"color\": \"#4D5663\"}, \"text\": \"\"}, \"zerolinecolor\": \"#E1E5ED\"}, \"yaxis\": {\"gridcolor\": \"#E1E5ED\", \"showgrid\": true, \"tickfont\": {\"color\": \"#4D5663\"}, \"title\": {\"font\": {\"color\": \"#4D5663\"}, \"text\": \"\"}, \"zerolinecolor\": \"#E1E5ED\"}},\n",
       "                        {\"showLink\": true, \"linkText\": \"Export to plot.ly\", \"plotlyServerURL\": \"https://plot.ly\", \"responsive\": true}\n",
       "                    ).then(function(){\n",
       "                            \n",
       "var gd = document.getElementById('90451f2b-5414-404b-837b-1cab65deca4a');\n",
       "var x = new MutationObserver(function (mutations, observer) {{\n",
       "        var display = window.getComputedStyle(gd).display;\n",
       "        if (!display || display === 'none') {{\n",
       "            console.log([gd, 'removed!']);\n",
       "            Plotly.purge(gd);\n",
       "            observer.disconnect();\n",
       "        }}\n",
       "}});\n",
       "\n",
       "// Listen for the removal of the full notebook cells\n",
       "var notebookContainer = gd.closest('#notebook-container');\n",
       "if (notebookContainer) {{\n",
       "    x.observe(notebookContainer, {childList: true});\n",
       "}}\n",
       "\n",
       "// Listen for the clearing of the current output cell\n",
       "var outputEl = gd.closest('.output');\n",
       "if (outputEl) {{\n",
       "    x.observe(outputEl, {childList: true});\n",
       "}}\n",
       "\n",
       "                        })\n",
       "                };\n",
       "                });\n",
       "            </script>\n",
       "        </div>"
      ]
     },
     "metadata": {},
     "output_type": "display_data"
    }
   ],
   "source": [
    "df.iplot()"
   ]
  },
  {
   "cell_type": "code",
   "execution_count": 30,
   "metadata": {},
   "outputs": [
    {
     "data": {
      "application/vnd.plotly.v1+json": {
       "config": {
        "linkText": "Export to plot.ly",
        "plotlyServerURL": "https://plot.ly",
        "showLink": true
       },
       "data": [
        {
         "line": {
          "color": "rgba(255, 153, 51, 1.0)",
          "dash": "solid",
          "shape": "linear",
          "width": 1.3
         },
         "marker": {
          "size": 20,
          "symbol": "circle"
         },
         "mode": "markers",
         "name": "B",
         "text": "",
         "type": "scatter",
         "x": [
          0.7377480585830137,
          0.7342847783883112,
          -1.0683171404471412,
          -1.502733798438884,
          0.6561686237827556,
          -1.1459037323632137,
          0.6476633312484361,
          0.954015340373593,
          1.539985876684928,
          0.7985745670731059,
          -1.5918749202161273,
          0.8082330941312681,
          0.4497225270275956,
          0.44060026434460214,
          0.6348032618871884,
          1.3874779330072162,
          0.0438216873576978,
          -1.1014944244087401,
          -1.2275063824869006,
          -1.8290699710898346,
          -0.22351957823940455,
          -0.7050039212800109,
          -1.1183465214167012,
          -1.8248514931381798,
          1.4905083191743311,
          0.25626490998075285,
          0.7422419175531905,
          0.027907303872408085,
          -0.06577875054392432,
          -2.028482755750844,
          -0.9999937897710787,
          0.18755245412529312,
          -1.3748890838009733,
          -0.7893670077838172,
          -0.9693956309750764,
          -0.3874700518752942,
          0.8497108153574742,
          -2.3984511660062826,
          -1.0375323703356547,
          -1.1668382338824628,
          1.0178209906174234,
          -2.0184440193807105,
          0.10005832909083658,
          -0.5248020077275282,
          0.6066228167525038,
          0.2697695084102519,
          -1.332359037059602,
          -0.1136562919792124,
          -1.5255681143137725,
          0.7148349278548535,
          -0.23774122847181883,
          0.7716215119493806,
          0.02376413684294443,
          -0.20117023619862676,
          -0.5919119812096941,
          -2.289606638197903,
          -1.69171991905258,
          0.03946357615375144,
          0.061783385108110836,
          0.5000231705082663,
          -0.08109990486056581,
          -0.22066706333618294,
          0.6970531220231665,
          0.5792548517859589,
          0.3834561644480958,
          0.30649813188746133,
          -0.810500502854627,
          1.1874691913836422,
          0.04273693089697035,
          0.10807765364701052,
          -1.9834385486030648,
          0.30500393482364385,
          0.04025339830170707,
          -1.3667014133501796,
          -1.0856887678202325,
          0.6435525794998168,
          0.09094754542965085,
          0.11965187209304147,
          -1.109132843870616,
          -1.1028645951963907,
          0.5112915171860486,
          1.9374953617279147,
          -0.07245361045267751,
          -0.5470649360074591,
          3.3981405035516525,
          -1.170234159171683,
          0.4029753395723124,
          -0.49332286516639035,
          -1.1812130978576854,
          -2.0723603009366376,
          -0.8091482359309616,
          0.956168042124244,
          -0.26979704705689905,
          -0.06303567646588461,
          0.28774570776517755,
          1.3294452569558244,
          0.25037832471323584,
          -0.23303023685009297,
          -0.8954288193418369,
          -0.29096827647431506
         ],
         "y": [
          0.19757683481913466,
          0.19652603702414015,
          0.8802559451990586,
          -3.246105290136032,
          0.13166861327125656,
          0.37894731398952586,
          0.9017310254915447,
          0.8410559395842016,
          -0.3475436119400676,
          -0.6333759579885387,
          -0.46721317143339497,
          -0.25197763683591395,
          0.10798919230128363,
          0.8279785479323732,
          0.5181141679590413,
          -0.08740292588407063,
          -0.6262855402267856,
          -0.9981323252780863,
          -0.16530789117237085,
          -1.1171779612314283,
          0.14964301868274876,
          -0.7213752047771493,
          -0.55422745014167,
          -1.8050140419080938,
          -0.09366392738194239,
          0.7226521207213704,
          0.950687199099526,
          -0.3285326599246558,
          1.4151962610116287,
          -0.874654751843458,
          0.429029706243159,
          0.38343051280730256,
          0.5229346393025011,
          -1.0546871079135307,
          -0.9096170476035544,
          -1.4792325006326723,
          -0.0658692466059647,
          -1.3027699560793393,
          0.988090979663669,
          -0.22409559289129885,
          0.7133713100303162,
          0.3416091416133028,
          -0.9306940942545728,
          -0.34340258028634024,
          -0.5820680198522021,
          -0.47557889455395325,
          -0.4927696339863192,
          -1.0305543868008562,
          -1.0992997531456075,
          0.9989814097855022,
          0.29706921050397894,
          0.44290029683620286,
          0.23479596022042112,
          -1.2590740525741102,
          -0.5553387627535838,
          -0.9247408398573905,
          -0.30264344149525485,
          -0.710723649552731,
          -0.4571537974062655,
          -1.2442424570271577,
          0.6278670818249709,
          -0.5607876516543867,
          -0.6455709830869545,
          0.8795806440458941,
          0.4075942240710124,
          -0.5077041158846402,
          1.403109214192499,
          0.41190914173872556,
          -0.9797664268315869,
          -0.407844408205296,
          0.20692180881156025,
          0.2171037233664773,
          -1.0206316273355782,
          0.28358419056260675,
          0.681150249787766,
          0.5826961401987615,
          0.93025604132711,
          -0.6151490682609284,
          -1.7903317652004367,
          0.7746725906814703,
          0.9587083684669854,
          -1.0291724032658307,
          0.48332863248025204,
          -0.10730694261016965,
          1.0628165318834424,
          0.3498735613601411,
          -1.4542444735205482,
          -0.37433846017044375,
          -0.03994373838327206,
          -0.35655183390093353,
          0.26880757874751465,
          0.5083302621189569,
          0.9995757926517211,
          3.432394122748129,
          -1.6958994843957778,
          -1.0586459065945708,
          -1.8360538740318209,
          -0.6032852020161685,
          -1.5928644283858395,
          -1.8202141537266145
         ]
        }
       ],
       "layout": {
        "legend": {
         "bgcolor": "#F5F6F9",
         "font": {
          "color": "#4D5663"
         }
        },
        "paper_bgcolor": "#F5F6F9",
        "plot_bgcolor": "#F5F6F9",
        "template": {
         "data": {
          "bar": [
           {
            "error_x": {
             "color": "#2a3f5f"
            },
            "error_y": {
             "color": "#2a3f5f"
            },
            "marker": {
             "line": {
              "color": "#E5ECF6",
              "width": 0.5
             }
            },
            "type": "bar"
           }
          ],
          "barpolar": [
           {
            "marker": {
             "line": {
              "color": "#E5ECF6",
              "width": 0.5
             }
            },
            "type": "barpolar"
           }
          ],
          "carpet": [
           {
            "aaxis": {
             "endlinecolor": "#2a3f5f",
             "gridcolor": "white",
             "linecolor": "white",
             "minorgridcolor": "white",
             "startlinecolor": "#2a3f5f"
            },
            "baxis": {
             "endlinecolor": "#2a3f5f",
             "gridcolor": "white",
             "linecolor": "white",
             "minorgridcolor": "white",
             "startlinecolor": "#2a3f5f"
            },
            "type": "carpet"
           }
          ],
          "choropleth": [
           {
            "colorbar": {
             "outlinewidth": 0,
             "ticks": ""
            },
            "type": "choropleth"
           }
          ],
          "contour": [
           {
            "colorbar": {
             "outlinewidth": 0,
             "ticks": ""
            },
            "colorscale": [
             [
              0,
              "#0d0887"
             ],
             [
              0.1111111111111111,
              "#46039f"
             ],
             [
              0.2222222222222222,
              "#7201a8"
             ],
             [
              0.3333333333333333,
              "#9c179e"
             ],
             [
              0.4444444444444444,
              "#bd3786"
             ],
             [
              0.5555555555555556,
              "#d8576b"
             ],
             [
              0.6666666666666666,
              "#ed7953"
             ],
             [
              0.7777777777777778,
              "#fb9f3a"
             ],
             [
              0.8888888888888888,
              "#fdca26"
             ],
             [
              1,
              "#f0f921"
             ]
            ],
            "type": "contour"
           }
          ],
          "contourcarpet": [
           {
            "colorbar": {
             "outlinewidth": 0,
             "ticks": ""
            },
            "type": "contourcarpet"
           }
          ],
          "heatmap": [
           {
            "colorbar": {
             "outlinewidth": 0,
             "ticks": ""
            },
            "colorscale": [
             [
              0,
              "#0d0887"
             ],
             [
              0.1111111111111111,
              "#46039f"
             ],
             [
              0.2222222222222222,
              "#7201a8"
             ],
             [
              0.3333333333333333,
              "#9c179e"
             ],
             [
              0.4444444444444444,
              "#bd3786"
             ],
             [
              0.5555555555555556,
              "#d8576b"
             ],
             [
              0.6666666666666666,
              "#ed7953"
             ],
             [
              0.7777777777777778,
              "#fb9f3a"
             ],
             [
              0.8888888888888888,
              "#fdca26"
             ],
             [
              1,
              "#f0f921"
             ]
            ],
            "type": "heatmap"
           }
          ],
          "heatmapgl": [
           {
            "colorbar": {
             "outlinewidth": 0,
             "ticks": ""
            },
            "colorscale": [
             [
              0,
              "#0d0887"
             ],
             [
              0.1111111111111111,
              "#46039f"
             ],
             [
              0.2222222222222222,
              "#7201a8"
             ],
             [
              0.3333333333333333,
              "#9c179e"
             ],
             [
              0.4444444444444444,
              "#bd3786"
             ],
             [
              0.5555555555555556,
              "#d8576b"
             ],
             [
              0.6666666666666666,
              "#ed7953"
             ],
             [
              0.7777777777777778,
              "#fb9f3a"
             ],
             [
              0.8888888888888888,
              "#fdca26"
             ],
             [
              1,
              "#f0f921"
             ]
            ],
            "type": "heatmapgl"
           }
          ],
          "histogram": [
           {
            "marker": {
             "colorbar": {
              "outlinewidth": 0,
              "ticks": ""
             }
            },
            "type": "histogram"
           }
          ],
          "histogram2d": [
           {
            "colorbar": {
             "outlinewidth": 0,
             "ticks": ""
            },
            "colorscale": [
             [
              0,
              "#0d0887"
             ],
             [
              0.1111111111111111,
              "#46039f"
             ],
             [
              0.2222222222222222,
              "#7201a8"
             ],
             [
              0.3333333333333333,
              "#9c179e"
             ],
             [
              0.4444444444444444,
              "#bd3786"
             ],
             [
              0.5555555555555556,
              "#d8576b"
             ],
             [
              0.6666666666666666,
              "#ed7953"
             ],
             [
              0.7777777777777778,
              "#fb9f3a"
             ],
             [
              0.8888888888888888,
              "#fdca26"
             ],
             [
              1,
              "#f0f921"
             ]
            ],
            "type": "histogram2d"
           }
          ],
          "histogram2dcontour": [
           {
            "colorbar": {
             "outlinewidth": 0,
             "ticks": ""
            },
            "colorscale": [
             [
              0,
              "#0d0887"
             ],
             [
              0.1111111111111111,
              "#46039f"
             ],
             [
              0.2222222222222222,
              "#7201a8"
             ],
             [
              0.3333333333333333,
              "#9c179e"
             ],
             [
              0.4444444444444444,
              "#bd3786"
             ],
             [
              0.5555555555555556,
              "#d8576b"
             ],
             [
              0.6666666666666666,
              "#ed7953"
             ],
             [
              0.7777777777777778,
              "#fb9f3a"
             ],
             [
              0.8888888888888888,
              "#fdca26"
             ],
             [
              1,
              "#f0f921"
             ]
            ],
            "type": "histogram2dcontour"
           }
          ],
          "mesh3d": [
           {
            "colorbar": {
             "outlinewidth": 0,
             "ticks": ""
            },
            "type": "mesh3d"
           }
          ],
          "parcoords": [
           {
            "line": {
             "colorbar": {
              "outlinewidth": 0,
              "ticks": ""
             }
            },
            "type": "parcoords"
           }
          ],
          "pie": [
           {
            "automargin": true,
            "type": "pie"
           }
          ],
          "scatter": [
           {
            "marker": {
             "colorbar": {
              "outlinewidth": 0,
              "ticks": ""
             }
            },
            "type": "scatter"
           }
          ],
          "scatter3d": [
           {
            "line": {
             "colorbar": {
              "outlinewidth": 0,
              "ticks": ""
             }
            },
            "marker": {
             "colorbar": {
              "outlinewidth": 0,
              "ticks": ""
             }
            },
            "type": "scatter3d"
           }
          ],
          "scattercarpet": [
           {
            "marker": {
             "colorbar": {
              "outlinewidth": 0,
              "ticks": ""
             }
            },
            "type": "scattercarpet"
           }
          ],
          "scattergeo": [
           {
            "marker": {
             "colorbar": {
              "outlinewidth": 0,
              "ticks": ""
             }
            },
            "type": "scattergeo"
           }
          ],
          "scattergl": [
           {
            "marker": {
             "colorbar": {
              "outlinewidth": 0,
              "ticks": ""
             }
            },
            "type": "scattergl"
           }
          ],
          "scattermapbox": [
           {
            "marker": {
             "colorbar": {
              "outlinewidth": 0,
              "ticks": ""
             }
            },
            "type": "scattermapbox"
           }
          ],
          "scatterpolar": [
           {
            "marker": {
             "colorbar": {
              "outlinewidth": 0,
              "ticks": ""
             }
            },
            "type": "scatterpolar"
           }
          ],
          "scatterpolargl": [
           {
            "marker": {
             "colorbar": {
              "outlinewidth": 0,
              "ticks": ""
             }
            },
            "type": "scatterpolargl"
           }
          ],
          "scatterternary": [
           {
            "marker": {
             "colorbar": {
              "outlinewidth": 0,
              "ticks": ""
             }
            },
            "type": "scatterternary"
           }
          ],
          "surface": [
           {
            "colorbar": {
             "outlinewidth": 0,
             "ticks": ""
            },
            "colorscale": [
             [
              0,
              "#0d0887"
             ],
             [
              0.1111111111111111,
              "#46039f"
             ],
             [
              0.2222222222222222,
              "#7201a8"
             ],
             [
              0.3333333333333333,
              "#9c179e"
             ],
             [
              0.4444444444444444,
              "#bd3786"
             ],
             [
              0.5555555555555556,
              "#d8576b"
             ],
             [
              0.6666666666666666,
              "#ed7953"
             ],
             [
              0.7777777777777778,
              "#fb9f3a"
             ],
             [
              0.8888888888888888,
              "#fdca26"
             ],
             [
              1,
              "#f0f921"
             ]
            ],
            "type": "surface"
           }
          ],
          "table": [
           {
            "cells": {
             "fill": {
              "color": "#EBF0F8"
             },
             "line": {
              "color": "white"
             }
            },
            "header": {
             "fill": {
              "color": "#C8D4E3"
             },
             "line": {
              "color": "white"
             }
            },
            "type": "table"
           }
          ]
         },
         "layout": {
          "annotationdefaults": {
           "arrowcolor": "#2a3f5f",
           "arrowhead": 0,
           "arrowwidth": 1
          },
          "coloraxis": {
           "colorbar": {
            "outlinewidth": 0,
            "ticks": ""
           }
          },
          "colorscale": {
           "diverging": [
            [
             0,
             "#8e0152"
            ],
            [
             0.1,
             "#c51b7d"
            ],
            [
             0.2,
             "#de77ae"
            ],
            [
             0.3,
             "#f1b6da"
            ],
            [
             0.4,
             "#fde0ef"
            ],
            [
             0.5,
             "#f7f7f7"
            ],
            [
             0.6,
             "#e6f5d0"
            ],
            [
             0.7,
             "#b8e186"
            ],
            [
             0.8,
             "#7fbc41"
            ],
            [
             0.9,
             "#4d9221"
            ],
            [
             1,
             "#276419"
            ]
           ],
           "sequential": [
            [
             0,
             "#0d0887"
            ],
            [
             0.1111111111111111,
             "#46039f"
            ],
            [
             0.2222222222222222,
             "#7201a8"
            ],
            [
             0.3333333333333333,
             "#9c179e"
            ],
            [
             0.4444444444444444,
             "#bd3786"
            ],
            [
             0.5555555555555556,
             "#d8576b"
            ],
            [
             0.6666666666666666,
             "#ed7953"
            ],
            [
             0.7777777777777778,
             "#fb9f3a"
            ],
            [
             0.8888888888888888,
             "#fdca26"
            ],
            [
             1,
             "#f0f921"
            ]
           ],
           "sequentialminus": [
            [
             0,
             "#0d0887"
            ],
            [
             0.1111111111111111,
             "#46039f"
            ],
            [
             0.2222222222222222,
             "#7201a8"
            ],
            [
             0.3333333333333333,
             "#9c179e"
            ],
            [
             0.4444444444444444,
             "#bd3786"
            ],
            [
             0.5555555555555556,
             "#d8576b"
            ],
            [
             0.6666666666666666,
             "#ed7953"
            ],
            [
             0.7777777777777778,
             "#fb9f3a"
            ],
            [
             0.8888888888888888,
             "#fdca26"
            ],
            [
             1,
             "#f0f921"
            ]
           ]
          },
          "colorway": [
           "#636efa",
           "#EF553B",
           "#00cc96",
           "#ab63fa",
           "#FFA15A",
           "#19d3f3",
           "#FF6692",
           "#B6E880",
           "#FF97FF",
           "#FECB52"
          ],
          "font": {
           "color": "#2a3f5f"
          },
          "geo": {
           "bgcolor": "white",
           "lakecolor": "white",
           "landcolor": "#E5ECF6",
           "showlakes": true,
           "showland": true,
           "subunitcolor": "white"
          },
          "hoverlabel": {
           "align": "left"
          },
          "hovermode": "closest",
          "mapbox": {
           "style": "light"
          },
          "paper_bgcolor": "white",
          "plot_bgcolor": "#E5ECF6",
          "polar": {
           "angularaxis": {
            "gridcolor": "white",
            "linecolor": "white",
            "ticks": ""
           },
           "bgcolor": "#E5ECF6",
           "radialaxis": {
            "gridcolor": "white",
            "linecolor": "white",
            "ticks": ""
           }
          },
          "scene": {
           "xaxis": {
            "backgroundcolor": "#E5ECF6",
            "gridcolor": "white",
            "gridwidth": 2,
            "linecolor": "white",
            "showbackground": true,
            "ticks": "",
            "zerolinecolor": "white"
           },
           "yaxis": {
            "backgroundcolor": "#E5ECF6",
            "gridcolor": "white",
            "gridwidth": 2,
            "linecolor": "white",
            "showbackground": true,
            "ticks": "",
            "zerolinecolor": "white"
           },
           "zaxis": {
            "backgroundcolor": "#E5ECF6",
            "gridcolor": "white",
            "gridwidth": 2,
            "linecolor": "white",
            "showbackground": true,
            "ticks": "",
            "zerolinecolor": "white"
           }
          },
          "shapedefaults": {
           "line": {
            "color": "#2a3f5f"
           }
          },
          "ternary": {
           "aaxis": {
            "gridcolor": "white",
            "linecolor": "white",
            "ticks": ""
           },
           "baxis": {
            "gridcolor": "white",
            "linecolor": "white",
            "ticks": ""
           },
           "bgcolor": "#E5ECF6",
           "caxis": {
            "gridcolor": "white",
            "linecolor": "white",
            "ticks": ""
           }
          },
          "title": {
           "x": 0.05
          },
          "xaxis": {
           "automargin": true,
           "gridcolor": "white",
           "linecolor": "white",
           "ticks": "",
           "title": {
            "standoff": 15
           },
           "zerolinecolor": "white",
           "zerolinewidth": 2
          },
          "yaxis": {
           "automargin": true,
           "gridcolor": "white",
           "linecolor": "white",
           "ticks": "",
           "title": {
            "standoff": 15
           },
           "zerolinecolor": "white",
           "zerolinewidth": 2
          }
         }
        },
        "title": {
         "font": {
          "color": "#4D5663"
         }
        },
        "xaxis": {
         "gridcolor": "#E1E5ED",
         "showgrid": true,
         "tickfont": {
          "color": "#4D5663"
         },
         "title": {
          "font": {
           "color": "#4D5663"
          },
          "text": ""
         },
         "zerolinecolor": "#E1E5ED"
        },
        "yaxis": {
         "gridcolor": "#E1E5ED",
         "showgrid": true,
         "tickfont": {
          "color": "#4D5663"
         },
         "title": {
          "font": {
           "color": "#4D5663"
          },
          "text": ""
         },
         "zerolinecolor": "#E1E5ED"
        }
       }
      },
      "text/html": [
       "<div>\n",
       "        \n",
       "        \n",
       "            <div id=\"c35217c0-aafd-48e0-a4dd-6163c4f92753\" class=\"plotly-graph-div\" style=\"height:525px; width:100%;\"></div>\n",
       "            <script type=\"text/javascript\">\n",
       "                require([\"plotly\"], function(Plotly) {\n",
       "                    window.PLOTLYENV=window.PLOTLYENV || {};\n",
       "                    window.PLOTLYENV.BASE_URL='https://plot.ly';\n",
       "                    \n",
       "                if (document.getElementById(\"c35217c0-aafd-48e0-a4dd-6163c4f92753\")) {\n",
       "                    Plotly.newPlot(\n",
       "                        'c35217c0-aafd-48e0-a4dd-6163c4f92753',\n",
       "                        [{\"line\": {\"color\": \"rgba(255, 153, 51, 1.0)\", \"dash\": \"solid\", \"shape\": \"linear\", \"width\": 1.3}, \"marker\": {\"size\": 20, \"symbol\": \"circle\"}, \"mode\": \"markers\", \"name\": \"B\", \"text\": \"\", \"type\": \"scatter\", \"x\": [0.7377480585830137, 0.7342847783883112, -1.0683171404471412, -1.502733798438884, 0.6561686237827556, -1.1459037323632137, 0.6476633312484361, 0.954015340373593, 1.539985876684928, 0.7985745670731059, -1.5918749202161273, 0.8082330941312681, 0.4497225270275956, 0.44060026434460214, 0.6348032618871884, 1.3874779330072162, 0.0438216873576978, -1.1014944244087401, -1.2275063824869006, -1.8290699710898346, -0.22351957823940455, -0.7050039212800109, -1.1183465214167012, -1.8248514931381798, 1.4905083191743311, 0.25626490998075285, 0.7422419175531905, 0.027907303872408085, -0.06577875054392432, -2.028482755750844, -0.9999937897710787, 0.18755245412529312, -1.3748890838009733, -0.7893670077838172, -0.9693956309750764, -0.3874700518752942, 0.8497108153574742, -2.3984511660062826, -1.0375323703356547, -1.1668382338824628, 1.0178209906174234, -2.0184440193807105, 0.10005832909083658, -0.5248020077275282, 0.6066228167525038, 0.2697695084102519, -1.332359037059602, -0.1136562919792124, -1.5255681143137725, 0.7148349278548535, -0.23774122847181883, 0.7716215119493806, 0.02376413684294443, -0.20117023619862676, -0.5919119812096941, -2.289606638197903, -1.69171991905258, 0.03946357615375144, 0.061783385108110836, 0.5000231705082663, -0.08109990486056581, -0.22066706333618294, 0.6970531220231665, 0.5792548517859589, 0.3834561644480958, 0.30649813188746133, -0.810500502854627, 1.1874691913836422, 0.04273693089697035, 0.10807765364701052, -1.9834385486030648, 0.30500393482364385, 0.04025339830170707, -1.3667014133501796, -1.0856887678202325, 0.6435525794998168, 0.09094754542965085, 0.11965187209304147, -1.109132843870616, -1.1028645951963907, 0.5112915171860486, 1.9374953617279147, -0.07245361045267751, -0.5470649360074591, 3.3981405035516525, -1.170234159171683, 0.4029753395723124, -0.49332286516639035, -1.1812130978576854, -2.0723603009366376, -0.8091482359309616, 0.956168042124244, -0.26979704705689905, -0.06303567646588461, 0.28774570776517755, 1.3294452569558244, 0.25037832471323584, -0.23303023685009297, -0.8954288193418369, -0.29096827647431506], \"y\": [0.19757683481913466, 0.19652603702414015, 0.8802559451990586, -3.246105290136032, 0.13166861327125656, 0.37894731398952586, 0.9017310254915447, 0.8410559395842016, -0.3475436119400676, -0.6333759579885387, -0.46721317143339497, -0.25197763683591395, 0.10798919230128363, 0.8279785479323732, 0.5181141679590413, -0.08740292588407063, -0.6262855402267856, -0.9981323252780863, -0.16530789117237085, -1.1171779612314283, 0.14964301868274876, -0.7213752047771493, -0.55422745014167, -1.8050140419080938, -0.09366392738194239, 0.7226521207213704, 0.950687199099526, -0.3285326599246558, 1.4151962610116287, -0.874654751843458, 0.429029706243159, 0.38343051280730256, 0.5229346393025011, -1.0546871079135307, -0.9096170476035544, -1.4792325006326723, -0.0658692466059647, -1.3027699560793393, 0.988090979663669, -0.22409559289129885, 0.7133713100303162, 0.3416091416133028, -0.9306940942545728, -0.34340258028634024, -0.5820680198522021, -0.47557889455395325, -0.4927696339863192, -1.0305543868008562, -1.0992997531456075, 0.9989814097855022, 0.29706921050397894, 0.44290029683620286, 0.23479596022042112, -1.2590740525741102, -0.5553387627535838, -0.9247408398573905, -0.30264344149525485, -0.710723649552731, -0.4571537974062655, -1.2442424570271577, 0.6278670818249709, -0.5607876516543867, -0.6455709830869545, 0.8795806440458941, 0.4075942240710124, -0.5077041158846402, 1.403109214192499, 0.41190914173872556, -0.9797664268315869, -0.407844408205296, 0.20692180881156025, 0.2171037233664773, -1.0206316273355782, 0.28358419056260675, 0.681150249787766, 0.5826961401987615, 0.93025604132711, -0.6151490682609284, -1.7903317652004367, 0.7746725906814703, 0.9587083684669854, -1.0291724032658307, 0.48332863248025204, -0.10730694261016965, 1.0628165318834424, 0.3498735613601411, -1.4542444735205482, -0.37433846017044375, -0.03994373838327206, -0.35655183390093353, 0.26880757874751465, 0.5083302621189569, 0.9995757926517211, 3.432394122748129, -1.6958994843957778, -1.0586459065945708, -1.8360538740318209, -0.6032852020161685, -1.5928644283858395, -1.8202141537266145]}],\n",
       "                        {\"legend\": {\"bgcolor\": \"#F5F6F9\", \"font\": {\"color\": \"#4D5663\"}}, \"paper_bgcolor\": \"#F5F6F9\", \"plot_bgcolor\": \"#F5F6F9\", \"template\": {\"data\": {\"bar\": [{\"error_x\": {\"color\": \"#2a3f5f\"}, \"error_y\": {\"color\": \"#2a3f5f\"}, \"marker\": {\"line\": {\"color\": \"#E5ECF6\", \"width\": 0.5}}, \"type\": \"bar\"}], \"barpolar\": [{\"marker\": {\"line\": {\"color\": \"#E5ECF6\", \"width\": 0.5}}, \"type\": \"barpolar\"}], \"carpet\": [{\"aaxis\": {\"endlinecolor\": \"#2a3f5f\", \"gridcolor\": \"white\", \"linecolor\": \"white\", \"minorgridcolor\": \"white\", \"startlinecolor\": \"#2a3f5f\"}, \"baxis\": {\"endlinecolor\": \"#2a3f5f\", \"gridcolor\": \"white\", \"linecolor\": \"white\", \"minorgridcolor\": \"white\", \"startlinecolor\": \"#2a3f5f\"}, \"type\": \"carpet\"}], \"choropleth\": [{\"colorbar\": {\"outlinewidth\": 0, \"ticks\": \"\"}, \"type\": \"choropleth\"}], \"contour\": [{\"colorbar\": {\"outlinewidth\": 0, \"ticks\": \"\"}, \"colorscale\": [[0.0, \"#0d0887\"], [0.1111111111111111, \"#46039f\"], [0.2222222222222222, \"#7201a8\"], [0.3333333333333333, \"#9c179e\"], [0.4444444444444444, \"#bd3786\"], [0.5555555555555556, \"#d8576b\"], [0.6666666666666666, \"#ed7953\"], [0.7777777777777778, \"#fb9f3a\"], [0.8888888888888888, \"#fdca26\"], [1.0, \"#f0f921\"]], \"type\": \"contour\"}], \"contourcarpet\": [{\"colorbar\": {\"outlinewidth\": 0, \"ticks\": \"\"}, \"type\": \"contourcarpet\"}], \"heatmap\": [{\"colorbar\": {\"outlinewidth\": 0, \"ticks\": \"\"}, \"colorscale\": [[0.0, \"#0d0887\"], [0.1111111111111111, \"#46039f\"], [0.2222222222222222, \"#7201a8\"], [0.3333333333333333, \"#9c179e\"], [0.4444444444444444, \"#bd3786\"], [0.5555555555555556, \"#d8576b\"], [0.6666666666666666, \"#ed7953\"], [0.7777777777777778, \"#fb9f3a\"], [0.8888888888888888, \"#fdca26\"], [1.0, \"#f0f921\"]], \"type\": \"heatmap\"}], \"heatmapgl\": [{\"colorbar\": {\"outlinewidth\": 0, \"ticks\": \"\"}, \"colorscale\": [[0.0, \"#0d0887\"], [0.1111111111111111, \"#46039f\"], [0.2222222222222222, \"#7201a8\"], [0.3333333333333333, \"#9c179e\"], [0.4444444444444444, \"#bd3786\"], [0.5555555555555556, \"#d8576b\"], [0.6666666666666666, \"#ed7953\"], [0.7777777777777778, \"#fb9f3a\"], [0.8888888888888888, \"#fdca26\"], [1.0, \"#f0f921\"]], \"type\": \"heatmapgl\"}], \"histogram\": [{\"marker\": {\"colorbar\": {\"outlinewidth\": 0, \"ticks\": \"\"}}, \"type\": \"histogram\"}], \"histogram2d\": [{\"colorbar\": {\"outlinewidth\": 0, \"ticks\": \"\"}, \"colorscale\": [[0.0, \"#0d0887\"], [0.1111111111111111, \"#46039f\"], [0.2222222222222222, \"#7201a8\"], [0.3333333333333333, \"#9c179e\"], [0.4444444444444444, \"#bd3786\"], [0.5555555555555556, \"#d8576b\"], [0.6666666666666666, \"#ed7953\"], [0.7777777777777778, \"#fb9f3a\"], [0.8888888888888888, \"#fdca26\"], [1.0, \"#f0f921\"]], \"type\": \"histogram2d\"}], \"histogram2dcontour\": [{\"colorbar\": {\"outlinewidth\": 0, \"ticks\": \"\"}, \"colorscale\": [[0.0, \"#0d0887\"], [0.1111111111111111, \"#46039f\"], [0.2222222222222222, \"#7201a8\"], [0.3333333333333333, \"#9c179e\"], [0.4444444444444444, \"#bd3786\"], [0.5555555555555556, \"#d8576b\"], [0.6666666666666666, \"#ed7953\"], [0.7777777777777778, \"#fb9f3a\"], [0.8888888888888888, \"#fdca26\"], [1.0, \"#f0f921\"]], \"type\": \"histogram2dcontour\"}], \"mesh3d\": [{\"colorbar\": {\"outlinewidth\": 0, \"ticks\": \"\"}, \"type\": \"mesh3d\"}], \"parcoords\": [{\"line\": {\"colorbar\": {\"outlinewidth\": 0, \"ticks\": \"\"}}, \"type\": \"parcoords\"}], \"pie\": [{\"automargin\": true, \"type\": \"pie\"}], \"scatter\": [{\"marker\": {\"colorbar\": {\"outlinewidth\": 0, \"ticks\": \"\"}}, \"type\": \"scatter\"}], \"scatter3d\": [{\"line\": {\"colorbar\": {\"outlinewidth\": 0, \"ticks\": \"\"}}, \"marker\": {\"colorbar\": {\"outlinewidth\": 0, \"ticks\": \"\"}}, \"type\": \"scatter3d\"}], \"scattercarpet\": [{\"marker\": {\"colorbar\": {\"outlinewidth\": 0, \"ticks\": \"\"}}, \"type\": \"scattercarpet\"}], \"scattergeo\": [{\"marker\": {\"colorbar\": {\"outlinewidth\": 0, \"ticks\": \"\"}}, \"type\": \"scattergeo\"}], \"scattergl\": [{\"marker\": {\"colorbar\": {\"outlinewidth\": 0, \"ticks\": \"\"}}, \"type\": \"scattergl\"}], \"scattermapbox\": [{\"marker\": {\"colorbar\": {\"outlinewidth\": 0, \"ticks\": \"\"}}, \"type\": \"scattermapbox\"}], \"scatterpolar\": [{\"marker\": {\"colorbar\": {\"outlinewidth\": 0, \"ticks\": \"\"}}, \"type\": \"scatterpolar\"}], \"scatterpolargl\": [{\"marker\": {\"colorbar\": {\"outlinewidth\": 0, \"ticks\": \"\"}}, \"type\": \"scatterpolargl\"}], \"scatterternary\": [{\"marker\": {\"colorbar\": {\"outlinewidth\": 0, \"ticks\": \"\"}}, \"type\": \"scatterternary\"}], \"surface\": [{\"colorbar\": {\"outlinewidth\": 0, \"ticks\": \"\"}, \"colorscale\": [[0.0, \"#0d0887\"], [0.1111111111111111, \"#46039f\"], [0.2222222222222222, \"#7201a8\"], [0.3333333333333333, \"#9c179e\"], [0.4444444444444444, \"#bd3786\"], [0.5555555555555556, \"#d8576b\"], [0.6666666666666666, \"#ed7953\"], [0.7777777777777778, \"#fb9f3a\"], [0.8888888888888888, \"#fdca26\"], [1.0, \"#f0f921\"]], \"type\": \"surface\"}], \"table\": [{\"cells\": {\"fill\": {\"color\": \"#EBF0F8\"}, \"line\": {\"color\": \"white\"}}, \"header\": {\"fill\": {\"color\": \"#C8D4E3\"}, \"line\": {\"color\": \"white\"}}, \"type\": \"table\"}]}, \"layout\": {\"annotationdefaults\": {\"arrowcolor\": \"#2a3f5f\", \"arrowhead\": 0, \"arrowwidth\": 1}, \"coloraxis\": {\"colorbar\": {\"outlinewidth\": 0, \"ticks\": \"\"}}, \"colorscale\": {\"diverging\": [[0, \"#8e0152\"], [0.1, \"#c51b7d\"], [0.2, \"#de77ae\"], [0.3, \"#f1b6da\"], [0.4, \"#fde0ef\"], [0.5, \"#f7f7f7\"], [0.6, \"#e6f5d0\"], [0.7, \"#b8e186\"], [0.8, \"#7fbc41\"], [0.9, \"#4d9221\"], [1, \"#276419\"]], \"sequential\": [[0.0, \"#0d0887\"], [0.1111111111111111, \"#46039f\"], [0.2222222222222222, \"#7201a8\"], [0.3333333333333333, \"#9c179e\"], [0.4444444444444444, \"#bd3786\"], [0.5555555555555556, \"#d8576b\"], [0.6666666666666666, \"#ed7953\"], [0.7777777777777778, \"#fb9f3a\"], [0.8888888888888888, \"#fdca26\"], [1.0, \"#f0f921\"]], \"sequentialminus\": [[0.0, \"#0d0887\"], [0.1111111111111111, \"#46039f\"], [0.2222222222222222, \"#7201a8\"], [0.3333333333333333, \"#9c179e\"], [0.4444444444444444, \"#bd3786\"], [0.5555555555555556, \"#d8576b\"], [0.6666666666666666, \"#ed7953\"], [0.7777777777777778, \"#fb9f3a\"], [0.8888888888888888, \"#fdca26\"], [1.0, \"#f0f921\"]]}, \"colorway\": [\"#636efa\", \"#EF553B\", \"#00cc96\", \"#ab63fa\", \"#FFA15A\", \"#19d3f3\", \"#FF6692\", \"#B6E880\", \"#FF97FF\", \"#FECB52\"], \"font\": {\"color\": \"#2a3f5f\"}, \"geo\": {\"bgcolor\": \"white\", \"lakecolor\": \"white\", \"landcolor\": \"#E5ECF6\", \"showlakes\": true, \"showland\": true, \"subunitcolor\": \"white\"}, \"hoverlabel\": {\"align\": \"left\"}, \"hovermode\": \"closest\", \"mapbox\": {\"style\": \"light\"}, \"paper_bgcolor\": \"white\", \"plot_bgcolor\": \"#E5ECF6\", \"polar\": {\"angularaxis\": {\"gridcolor\": \"white\", \"linecolor\": \"white\", \"ticks\": \"\"}, \"bgcolor\": \"#E5ECF6\", \"radialaxis\": {\"gridcolor\": \"white\", \"linecolor\": \"white\", \"ticks\": \"\"}}, \"scene\": {\"xaxis\": {\"backgroundcolor\": \"#E5ECF6\", \"gridcolor\": \"white\", \"gridwidth\": 2, \"linecolor\": \"white\", \"showbackground\": true, \"ticks\": \"\", \"zerolinecolor\": \"white\"}, \"yaxis\": {\"backgroundcolor\": \"#E5ECF6\", \"gridcolor\": \"white\", \"gridwidth\": 2, \"linecolor\": \"white\", \"showbackground\": true, \"ticks\": \"\", \"zerolinecolor\": \"white\"}, \"zaxis\": {\"backgroundcolor\": \"#E5ECF6\", \"gridcolor\": \"white\", \"gridwidth\": 2, \"linecolor\": \"white\", \"showbackground\": true, \"ticks\": \"\", \"zerolinecolor\": \"white\"}}, \"shapedefaults\": {\"line\": {\"color\": \"#2a3f5f\"}}, \"ternary\": {\"aaxis\": {\"gridcolor\": \"white\", \"linecolor\": \"white\", \"ticks\": \"\"}, \"baxis\": {\"gridcolor\": \"white\", \"linecolor\": \"white\", \"ticks\": \"\"}, \"bgcolor\": \"#E5ECF6\", \"caxis\": {\"gridcolor\": \"white\", \"linecolor\": \"white\", \"ticks\": \"\"}}, \"title\": {\"x\": 0.05}, \"xaxis\": {\"automargin\": true, \"gridcolor\": \"white\", \"linecolor\": \"white\", \"ticks\": \"\", \"title\": {\"standoff\": 15}, \"zerolinecolor\": \"white\", \"zerolinewidth\": 2}, \"yaxis\": {\"automargin\": true, \"gridcolor\": \"white\", \"linecolor\": \"white\", \"ticks\": \"\", \"title\": {\"standoff\": 15}, \"zerolinecolor\": \"white\", \"zerolinewidth\": 2}}}, \"title\": {\"font\": {\"color\": \"#4D5663\"}}, \"xaxis\": {\"gridcolor\": \"#E1E5ED\", \"showgrid\": true, \"tickfont\": {\"color\": \"#4D5663\"}, \"title\": {\"font\": {\"color\": \"#4D5663\"}, \"text\": \"\"}, \"zerolinecolor\": \"#E1E5ED\"}, \"yaxis\": {\"gridcolor\": \"#E1E5ED\", \"showgrid\": true, \"tickfont\": {\"color\": \"#4D5663\"}, \"title\": {\"font\": {\"color\": \"#4D5663\"}, \"text\": \"\"}, \"zerolinecolor\": \"#E1E5ED\"}},\n",
       "                        {\"showLink\": true, \"linkText\": \"Export to plot.ly\", \"plotlyServerURL\": \"https://plot.ly\", \"responsive\": true}\n",
       "                    ).then(function(){\n",
       "                            \n",
       "var gd = document.getElementById('c35217c0-aafd-48e0-a4dd-6163c4f92753');\n",
       "var x = new MutationObserver(function (mutations, observer) {{\n",
       "        var display = window.getComputedStyle(gd).display;\n",
       "        if (!display || display === 'none') {{\n",
       "            console.log([gd, 'removed!']);\n",
       "            Plotly.purge(gd);\n",
       "            observer.disconnect();\n",
       "        }}\n",
       "}});\n",
       "\n",
       "// Listen for the removal of the full notebook cells\n",
       "var notebookContainer = gd.closest('#notebook-container');\n",
       "if (notebookContainer) {{\n",
       "    x.observe(notebookContainer, {childList: true});\n",
       "}}\n",
       "\n",
       "// Listen for the clearing of the current output cell\n",
       "var outputEl = gd.closest('.output');\n",
       "if (outputEl) {{\n",
       "    x.observe(outputEl, {childList: true});\n",
       "}}\n",
       "\n",
       "                        })\n",
       "                };\n",
       "                });\n",
       "            </script>\n",
       "        </div>"
      ]
     },
     "metadata": {},
     "output_type": "display_data"
    }
   ],
   "source": [
    "df.iplot(kind='scatter',x='A',y='B',mode='markers',size=20)"
   ]
  },
  {
   "cell_type": "code",
   "execution_count": 32,
   "metadata": {},
   "outputs": [
    {
     "data": {
      "text/html": [
       "<div>\n",
       "<style scoped>\n",
       "    .dataframe tbody tr th:only-of-type {\n",
       "        vertical-align: middle;\n",
       "    }\n",
       "\n",
       "    .dataframe tbody tr th {\n",
       "        vertical-align: top;\n",
       "    }\n",
       "\n",
       "    .dataframe thead th {\n",
       "        text-align: right;\n",
       "    }\n",
       "</style>\n",
       "<table border=\"1\" class=\"dataframe\">\n",
       "  <thead>\n",
       "    <tr style=\"text-align: right;\">\n",
       "      <th></th>\n",
       "      <th>Category</th>\n",
       "      <th>Values</th>\n",
       "    </tr>\n",
       "  </thead>\n",
       "  <tbody>\n",
       "    <tr>\n",
       "      <th>0</th>\n",
       "      <td>A</td>\n",
       "      <td>32</td>\n",
       "    </tr>\n",
       "    <tr>\n",
       "      <th>1</th>\n",
       "      <td>B</td>\n",
       "      <td>43</td>\n",
       "    </tr>\n",
       "    <tr>\n",
       "      <th>2</th>\n",
       "      <td>C</td>\n",
       "      <td>50</td>\n",
       "    </tr>\n",
       "  </tbody>\n",
       "</table>\n",
       "</div>"
      ],
      "text/plain": [
       "  Category  Values\n",
       "0        A      32\n",
       "1        B      43\n",
       "2        C      50"
      ]
     },
     "execution_count": 32,
     "metadata": {},
     "output_type": "execute_result"
    }
   ],
   "source": [
    "df2"
   ]
  },
  {
   "cell_type": "code",
   "execution_count": 33,
   "metadata": {},
   "outputs": [
    {
     "data": {
      "application/vnd.plotly.v1+json": {
       "config": {
        "linkText": "Export to plot.ly",
        "plotlyServerURL": "https://plot.ly",
        "showLink": true
       },
       "data": [
        {
         "marker": {
          "color": "rgba(255, 153, 51, 0.6)",
          "line": {
           "color": "rgba(255, 153, 51, 1.0)",
           "width": 1
          }
         },
         "name": "Values",
         "orientation": "v",
         "text": "",
         "type": "bar",
         "x": [
          "A",
          "B",
          "C"
         ],
         "y": [
          32,
          43,
          50
         ]
        }
       ],
       "layout": {
        "legend": {
         "bgcolor": "#F5F6F9",
         "font": {
          "color": "#4D5663"
         }
        },
        "paper_bgcolor": "#F5F6F9",
        "plot_bgcolor": "#F5F6F9",
        "template": {
         "data": {
          "bar": [
           {
            "error_x": {
             "color": "#2a3f5f"
            },
            "error_y": {
             "color": "#2a3f5f"
            },
            "marker": {
             "line": {
              "color": "#E5ECF6",
              "width": 0.5
             }
            },
            "type": "bar"
           }
          ],
          "barpolar": [
           {
            "marker": {
             "line": {
              "color": "#E5ECF6",
              "width": 0.5
             }
            },
            "type": "barpolar"
           }
          ],
          "carpet": [
           {
            "aaxis": {
             "endlinecolor": "#2a3f5f",
             "gridcolor": "white",
             "linecolor": "white",
             "minorgridcolor": "white",
             "startlinecolor": "#2a3f5f"
            },
            "baxis": {
             "endlinecolor": "#2a3f5f",
             "gridcolor": "white",
             "linecolor": "white",
             "minorgridcolor": "white",
             "startlinecolor": "#2a3f5f"
            },
            "type": "carpet"
           }
          ],
          "choropleth": [
           {
            "colorbar": {
             "outlinewidth": 0,
             "ticks": ""
            },
            "type": "choropleth"
           }
          ],
          "contour": [
           {
            "colorbar": {
             "outlinewidth": 0,
             "ticks": ""
            },
            "colorscale": [
             [
              0,
              "#0d0887"
             ],
             [
              0.1111111111111111,
              "#46039f"
             ],
             [
              0.2222222222222222,
              "#7201a8"
             ],
             [
              0.3333333333333333,
              "#9c179e"
             ],
             [
              0.4444444444444444,
              "#bd3786"
             ],
             [
              0.5555555555555556,
              "#d8576b"
             ],
             [
              0.6666666666666666,
              "#ed7953"
             ],
             [
              0.7777777777777778,
              "#fb9f3a"
             ],
             [
              0.8888888888888888,
              "#fdca26"
             ],
             [
              1,
              "#f0f921"
             ]
            ],
            "type": "contour"
           }
          ],
          "contourcarpet": [
           {
            "colorbar": {
             "outlinewidth": 0,
             "ticks": ""
            },
            "type": "contourcarpet"
           }
          ],
          "heatmap": [
           {
            "colorbar": {
             "outlinewidth": 0,
             "ticks": ""
            },
            "colorscale": [
             [
              0,
              "#0d0887"
             ],
             [
              0.1111111111111111,
              "#46039f"
             ],
             [
              0.2222222222222222,
              "#7201a8"
             ],
             [
              0.3333333333333333,
              "#9c179e"
             ],
             [
              0.4444444444444444,
              "#bd3786"
             ],
             [
              0.5555555555555556,
              "#d8576b"
             ],
             [
              0.6666666666666666,
              "#ed7953"
             ],
             [
              0.7777777777777778,
              "#fb9f3a"
             ],
             [
              0.8888888888888888,
              "#fdca26"
             ],
             [
              1,
              "#f0f921"
             ]
            ],
            "type": "heatmap"
           }
          ],
          "heatmapgl": [
           {
            "colorbar": {
             "outlinewidth": 0,
             "ticks": ""
            },
            "colorscale": [
             [
              0,
              "#0d0887"
             ],
             [
              0.1111111111111111,
              "#46039f"
             ],
             [
              0.2222222222222222,
              "#7201a8"
             ],
             [
              0.3333333333333333,
              "#9c179e"
             ],
             [
              0.4444444444444444,
              "#bd3786"
             ],
             [
              0.5555555555555556,
              "#d8576b"
             ],
             [
              0.6666666666666666,
              "#ed7953"
             ],
             [
              0.7777777777777778,
              "#fb9f3a"
             ],
             [
              0.8888888888888888,
              "#fdca26"
             ],
             [
              1,
              "#f0f921"
             ]
            ],
            "type": "heatmapgl"
           }
          ],
          "histogram": [
           {
            "marker": {
             "colorbar": {
              "outlinewidth": 0,
              "ticks": ""
             }
            },
            "type": "histogram"
           }
          ],
          "histogram2d": [
           {
            "colorbar": {
             "outlinewidth": 0,
             "ticks": ""
            },
            "colorscale": [
             [
              0,
              "#0d0887"
             ],
             [
              0.1111111111111111,
              "#46039f"
             ],
             [
              0.2222222222222222,
              "#7201a8"
             ],
             [
              0.3333333333333333,
              "#9c179e"
             ],
             [
              0.4444444444444444,
              "#bd3786"
             ],
             [
              0.5555555555555556,
              "#d8576b"
             ],
             [
              0.6666666666666666,
              "#ed7953"
             ],
             [
              0.7777777777777778,
              "#fb9f3a"
             ],
             [
              0.8888888888888888,
              "#fdca26"
             ],
             [
              1,
              "#f0f921"
             ]
            ],
            "type": "histogram2d"
           }
          ],
          "histogram2dcontour": [
           {
            "colorbar": {
             "outlinewidth": 0,
             "ticks": ""
            },
            "colorscale": [
             [
              0,
              "#0d0887"
             ],
             [
              0.1111111111111111,
              "#46039f"
             ],
             [
              0.2222222222222222,
              "#7201a8"
             ],
             [
              0.3333333333333333,
              "#9c179e"
             ],
             [
              0.4444444444444444,
              "#bd3786"
             ],
             [
              0.5555555555555556,
              "#d8576b"
             ],
             [
              0.6666666666666666,
              "#ed7953"
             ],
             [
              0.7777777777777778,
              "#fb9f3a"
             ],
             [
              0.8888888888888888,
              "#fdca26"
             ],
             [
              1,
              "#f0f921"
             ]
            ],
            "type": "histogram2dcontour"
           }
          ],
          "mesh3d": [
           {
            "colorbar": {
             "outlinewidth": 0,
             "ticks": ""
            },
            "type": "mesh3d"
           }
          ],
          "parcoords": [
           {
            "line": {
             "colorbar": {
              "outlinewidth": 0,
              "ticks": ""
             }
            },
            "type": "parcoords"
           }
          ],
          "pie": [
           {
            "automargin": true,
            "type": "pie"
           }
          ],
          "scatter": [
           {
            "marker": {
             "colorbar": {
              "outlinewidth": 0,
              "ticks": ""
             }
            },
            "type": "scatter"
           }
          ],
          "scatter3d": [
           {
            "line": {
             "colorbar": {
              "outlinewidth": 0,
              "ticks": ""
             }
            },
            "marker": {
             "colorbar": {
              "outlinewidth": 0,
              "ticks": ""
             }
            },
            "type": "scatter3d"
           }
          ],
          "scattercarpet": [
           {
            "marker": {
             "colorbar": {
              "outlinewidth": 0,
              "ticks": ""
             }
            },
            "type": "scattercarpet"
           }
          ],
          "scattergeo": [
           {
            "marker": {
             "colorbar": {
              "outlinewidth": 0,
              "ticks": ""
             }
            },
            "type": "scattergeo"
           }
          ],
          "scattergl": [
           {
            "marker": {
             "colorbar": {
              "outlinewidth": 0,
              "ticks": ""
             }
            },
            "type": "scattergl"
           }
          ],
          "scattermapbox": [
           {
            "marker": {
             "colorbar": {
              "outlinewidth": 0,
              "ticks": ""
             }
            },
            "type": "scattermapbox"
           }
          ],
          "scatterpolar": [
           {
            "marker": {
             "colorbar": {
              "outlinewidth": 0,
              "ticks": ""
             }
            },
            "type": "scatterpolar"
           }
          ],
          "scatterpolargl": [
           {
            "marker": {
             "colorbar": {
              "outlinewidth": 0,
              "ticks": ""
             }
            },
            "type": "scatterpolargl"
           }
          ],
          "scatterternary": [
           {
            "marker": {
             "colorbar": {
              "outlinewidth": 0,
              "ticks": ""
             }
            },
            "type": "scatterternary"
           }
          ],
          "surface": [
           {
            "colorbar": {
             "outlinewidth": 0,
             "ticks": ""
            },
            "colorscale": [
             [
              0,
              "#0d0887"
             ],
             [
              0.1111111111111111,
              "#46039f"
             ],
             [
              0.2222222222222222,
              "#7201a8"
             ],
             [
              0.3333333333333333,
              "#9c179e"
             ],
             [
              0.4444444444444444,
              "#bd3786"
             ],
             [
              0.5555555555555556,
              "#d8576b"
             ],
             [
              0.6666666666666666,
              "#ed7953"
             ],
             [
              0.7777777777777778,
              "#fb9f3a"
             ],
             [
              0.8888888888888888,
              "#fdca26"
             ],
             [
              1,
              "#f0f921"
             ]
            ],
            "type": "surface"
           }
          ],
          "table": [
           {
            "cells": {
             "fill": {
              "color": "#EBF0F8"
             },
             "line": {
              "color": "white"
             }
            },
            "header": {
             "fill": {
              "color": "#C8D4E3"
             },
             "line": {
              "color": "white"
             }
            },
            "type": "table"
           }
          ]
         },
         "layout": {
          "annotationdefaults": {
           "arrowcolor": "#2a3f5f",
           "arrowhead": 0,
           "arrowwidth": 1
          },
          "coloraxis": {
           "colorbar": {
            "outlinewidth": 0,
            "ticks": ""
           }
          },
          "colorscale": {
           "diverging": [
            [
             0,
             "#8e0152"
            ],
            [
             0.1,
             "#c51b7d"
            ],
            [
             0.2,
             "#de77ae"
            ],
            [
             0.3,
             "#f1b6da"
            ],
            [
             0.4,
             "#fde0ef"
            ],
            [
             0.5,
             "#f7f7f7"
            ],
            [
             0.6,
             "#e6f5d0"
            ],
            [
             0.7,
             "#b8e186"
            ],
            [
             0.8,
             "#7fbc41"
            ],
            [
             0.9,
             "#4d9221"
            ],
            [
             1,
             "#276419"
            ]
           ],
           "sequential": [
            [
             0,
             "#0d0887"
            ],
            [
             0.1111111111111111,
             "#46039f"
            ],
            [
             0.2222222222222222,
             "#7201a8"
            ],
            [
             0.3333333333333333,
             "#9c179e"
            ],
            [
             0.4444444444444444,
             "#bd3786"
            ],
            [
             0.5555555555555556,
             "#d8576b"
            ],
            [
             0.6666666666666666,
             "#ed7953"
            ],
            [
             0.7777777777777778,
             "#fb9f3a"
            ],
            [
             0.8888888888888888,
             "#fdca26"
            ],
            [
             1,
             "#f0f921"
            ]
           ],
           "sequentialminus": [
            [
             0,
             "#0d0887"
            ],
            [
             0.1111111111111111,
             "#46039f"
            ],
            [
             0.2222222222222222,
             "#7201a8"
            ],
            [
             0.3333333333333333,
             "#9c179e"
            ],
            [
             0.4444444444444444,
             "#bd3786"
            ],
            [
             0.5555555555555556,
             "#d8576b"
            ],
            [
             0.6666666666666666,
             "#ed7953"
            ],
            [
             0.7777777777777778,
             "#fb9f3a"
            ],
            [
             0.8888888888888888,
             "#fdca26"
            ],
            [
             1,
             "#f0f921"
            ]
           ]
          },
          "colorway": [
           "#636efa",
           "#EF553B",
           "#00cc96",
           "#ab63fa",
           "#FFA15A",
           "#19d3f3",
           "#FF6692",
           "#B6E880",
           "#FF97FF",
           "#FECB52"
          ],
          "font": {
           "color": "#2a3f5f"
          },
          "geo": {
           "bgcolor": "white",
           "lakecolor": "white",
           "landcolor": "#E5ECF6",
           "showlakes": true,
           "showland": true,
           "subunitcolor": "white"
          },
          "hoverlabel": {
           "align": "left"
          },
          "hovermode": "closest",
          "mapbox": {
           "style": "light"
          },
          "paper_bgcolor": "white",
          "plot_bgcolor": "#E5ECF6",
          "polar": {
           "angularaxis": {
            "gridcolor": "white",
            "linecolor": "white",
            "ticks": ""
           },
           "bgcolor": "#E5ECF6",
           "radialaxis": {
            "gridcolor": "white",
            "linecolor": "white",
            "ticks": ""
           }
          },
          "scene": {
           "xaxis": {
            "backgroundcolor": "#E5ECF6",
            "gridcolor": "white",
            "gridwidth": 2,
            "linecolor": "white",
            "showbackground": true,
            "ticks": "",
            "zerolinecolor": "white"
           },
           "yaxis": {
            "backgroundcolor": "#E5ECF6",
            "gridcolor": "white",
            "gridwidth": 2,
            "linecolor": "white",
            "showbackground": true,
            "ticks": "",
            "zerolinecolor": "white"
           },
           "zaxis": {
            "backgroundcolor": "#E5ECF6",
            "gridcolor": "white",
            "gridwidth": 2,
            "linecolor": "white",
            "showbackground": true,
            "ticks": "",
            "zerolinecolor": "white"
           }
          },
          "shapedefaults": {
           "line": {
            "color": "#2a3f5f"
           }
          },
          "ternary": {
           "aaxis": {
            "gridcolor": "white",
            "linecolor": "white",
            "ticks": ""
           },
           "baxis": {
            "gridcolor": "white",
            "linecolor": "white",
            "ticks": ""
           },
           "bgcolor": "#E5ECF6",
           "caxis": {
            "gridcolor": "white",
            "linecolor": "white",
            "ticks": ""
           }
          },
          "title": {
           "x": 0.05
          },
          "xaxis": {
           "automargin": true,
           "gridcolor": "white",
           "linecolor": "white",
           "ticks": "",
           "title": {
            "standoff": 15
           },
           "zerolinecolor": "white",
           "zerolinewidth": 2
          },
          "yaxis": {
           "automargin": true,
           "gridcolor": "white",
           "linecolor": "white",
           "ticks": "",
           "title": {
            "standoff": 15
           },
           "zerolinecolor": "white",
           "zerolinewidth": 2
          }
         }
        },
        "title": {
         "font": {
          "color": "#4D5663"
         }
        },
        "xaxis": {
         "gridcolor": "#E1E5ED",
         "showgrid": true,
         "tickfont": {
          "color": "#4D5663"
         },
         "title": {
          "font": {
           "color": "#4D5663"
          },
          "text": ""
         },
         "zerolinecolor": "#E1E5ED"
        },
        "yaxis": {
         "gridcolor": "#E1E5ED",
         "showgrid": true,
         "tickfont": {
          "color": "#4D5663"
         },
         "title": {
          "font": {
           "color": "#4D5663"
          },
          "text": ""
         },
         "zerolinecolor": "#E1E5ED"
        }
       }
      },
      "text/html": [
       "<div>\n",
       "        \n",
       "        \n",
       "            <div id=\"10c3a01f-80f6-4c9f-9f04-aa60786d93a7\" class=\"plotly-graph-div\" style=\"height:525px; width:100%;\"></div>\n",
       "            <script type=\"text/javascript\">\n",
       "                require([\"plotly\"], function(Plotly) {\n",
       "                    window.PLOTLYENV=window.PLOTLYENV || {};\n",
       "                    window.PLOTLYENV.BASE_URL='https://plot.ly';\n",
       "                    \n",
       "                if (document.getElementById(\"10c3a01f-80f6-4c9f-9f04-aa60786d93a7\")) {\n",
       "                    Plotly.newPlot(\n",
       "                        '10c3a01f-80f6-4c9f-9f04-aa60786d93a7',\n",
       "                        [{\"marker\": {\"color\": \"rgba(255, 153, 51, 0.6)\", \"line\": {\"color\": \"rgba(255, 153, 51, 1.0)\", \"width\": 1}}, \"name\": \"Values\", \"orientation\": \"v\", \"text\": \"\", \"type\": \"bar\", \"x\": [\"A\", \"B\", \"C\"], \"y\": [32, 43, 50]}],\n",
       "                        {\"legend\": {\"bgcolor\": \"#F5F6F9\", \"font\": {\"color\": \"#4D5663\"}}, \"paper_bgcolor\": \"#F5F6F9\", \"plot_bgcolor\": \"#F5F6F9\", \"template\": {\"data\": {\"bar\": [{\"error_x\": {\"color\": \"#2a3f5f\"}, \"error_y\": {\"color\": \"#2a3f5f\"}, \"marker\": {\"line\": {\"color\": \"#E5ECF6\", \"width\": 0.5}}, \"type\": \"bar\"}], \"barpolar\": [{\"marker\": {\"line\": {\"color\": \"#E5ECF6\", \"width\": 0.5}}, \"type\": \"barpolar\"}], \"carpet\": [{\"aaxis\": {\"endlinecolor\": \"#2a3f5f\", \"gridcolor\": \"white\", \"linecolor\": \"white\", \"minorgridcolor\": \"white\", \"startlinecolor\": \"#2a3f5f\"}, \"baxis\": {\"endlinecolor\": \"#2a3f5f\", \"gridcolor\": \"white\", \"linecolor\": \"white\", \"minorgridcolor\": \"white\", \"startlinecolor\": \"#2a3f5f\"}, \"type\": \"carpet\"}], \"choropleth\": [{\"colorbar\": {\"outlinewidth\": 0, \"ticks\": \"\"}, \"type\": \"choropleth\"}], \"contour\": [{\"colorbar\": {\"outlinewidth\": 0, \"ticks\": \"\"}, \"colorscale\": [[0.0, \"#0d0887\"], [0.1111111111111111, \"#46039f\"], [0.2222222222222222, \"#7201a8\"], [0.3333333333333333, \"#9c179e\"], [0.4444444444444444, \"#bd3786\"], [0.5555555555555556, \"#d8576b\"], [0.6666666666666666, \"#ed7953\"], [0.7777777777777778, \"#fb9f3a\"], [0.8888888888888888, \"#fdca26\"], [1.0, \"#f0f921\"]], \"type\": \"contour\"}], \"contourcarpet\": [{\"colorbar\": {\"outlinewidth\": 0, \"ticks\": \"\"}, \"type\": \"contourcarpet\"}], \"heatmap\": [{\"colorbar\": {\"outlinewidth\": 0, \"ticks\": \"\"}, \"colorscale\": [[0.0, \"#0d0887\"], [0.1111111111111111, \"#46039f\"], [0.2222222222222222, \"#7201a8\"], [0.3333333333333333, \"#9c179e\"], [0.4444444444444444, \"#bd3786\"], [0.5555555555555556, \"#d8576b\"], [0.6666666666666666, \"#ed7953\"], [0.7777777777777778, \"#fb9f3a\"], [0.8888888888888888, \"#fdca26\"], [1.0, \"#f0f921\"]], \"type\": \"heatmap\"}], \"heatmapgl\": [{\"colorbar\": {\"outlinewidth\": 0, \"ticks\": \"\"}, \"colorscale\": [[0.0, \"#0d0887\"], [0.1111111111111111, \"#46039f\"], [0.2222222222222222, \"#7201a8\"], [0.3333333333333333, \"#9c179e\"], [0.4444444444444444, \"#bd3786\"], [0.5555555555555556, \"#d8576b\"], [0.6666666666666666, \"#ed7953\"], [0.7777777777777778, \"#fb9f3a\"], [0.8888888888888888, \"#fdca26\"], [1.0, \"#f0f921\"]], \"type\": \"heatmapgl\"}], \"histogram\": [{\"marker\": {\"colorbar\": {\"outlinewidth\": 0, \"ticks\": \"\"}}, \"type\": \"histogram\"}], \"histogram2d\": [{\"colorbar\": {\"outlinewidth\": 0, \"ticks\": \"\"}, \"colorscale\": [[0.0, \"#0d0887\"], [0.1111111111111111, \"#46039f\"], [0.2222222222222222, \"#7201a8\"], [0.3333333333333333, \"#9c179e\"], [0.4444444444444444, \"#bd3786\"], [0.5555555555555556, \"#d8576b\"], [0.6666666666666666, \"#ed7953\"], [0.7777777777777778, \"#fb9f3a\"], [0.8888888888888888, \"#fdca26\"], [1.0, \"#f0f921\"]], \"type\": \"histogram2d\"}], \"histogram2dcontour\": [{\"colorbar\": {\"outlinewidth\": 0, \"ticks\": \"\"}, \"colorscale\": [[0.0, \"#0d0887\"], [0.1111111111111111, \"#46039f\"], [0.2222222222222222, \"#7201a8\"], [0.3333333333333333, \"#9c179e\"], [0.4444444444444444, \"#bd3786\"], [0.5555555555555556, \"#d8576b\"], [0.6666666666666666, \"#ed7953\"], [0.7777777777777778, \"#fb9f3a\"], [0.8888888888888888, \"#fdca26\"], [1.0, \"#f0f921\"]], \"type\": \"histogram2dcontour\"}], \"mesh3d\": [{\"colorbar\": {\"outlinewidth\": 0, \"ticks\": \"\"}, \"type\": \"mesh3d\"}], \"parcoords\": [{\"line\": {\"colorbar\": {\"outlinewidth\": 0, \"ticks\": \"\"}}, \"type\": \"parcoords\"}], \"pie\": [{\"automargin\": true, \"type\": \"pie\"}], \"scatter\": [{\"marker\": {\"colorbar\": {\"outlinewidth\": 0, \"ticks\": \"\"}}, \"type\": \"scatter\"}], \"scatter3d\": [{\"line\": {\"colorbar\": {\"outlinewidth\": 0, \"ticks\": \"\"}}, \"marker\": {\"colorbar\": {\"outlinewidth\": 0, \"ticks\": \"\"}}, \"type\": \"scatter3d\"}], \"scattercarpet\": [{\"marker\": {\"colorbar\": {\"outlinewidth\": 0, \"ticks\": \"\"}}, \"type\": \"scattercarpet\"}], \"scattergeo\": [{\"marker\": {\"colorbar\": {\"outlinewidth\": 0, \"ticks\": \"\"}}, \"type\": \"scattergeo\"}], \"scattergl\": [{\"marker\": {\"colorbar\": {\"outlinewidth\": 0, \"ticks\": \"\"}}, \"type\": \"scattergl\"}], \"scattermapbox\": [{\"marker\": {\"colorbar\": {\"outlinewidth\": 0, \"ticks\": \"\"}}, \"type\": \"scattermapbox\"}], \"scatterpolar\": [{\"marker\": {\"colorbar\": {\"outlinewidth\": 0, \"ticks\": \"\"}}, \"type\": \"scatterpolar\"}], \"scatterpolargl\": [{\"marker\": {\"colorbar\": {\"outlinewidth\": 0, \"ticks\": \"\"}}, \"type\": \"scatterpolargl\"}], \"scatterternary\": [{\"marker\": {\"colorbar\": {\"outlinewidth\": 0, \"ticks\": \"\"}}, \"type\": \"scatterternary\"}], \"surface\": [{\"colorbar\": {\"outlinewidth\": 0, \"ticks\": \"\"}, \"colorscale\": [[0.0, \"#0d0887\"], [0.1111111111111111, \"#46039f\"], [0.2222222222222222, \"#7201a8\"], [0.3333333333333333, \"#9c179e\"], [0.4444444444444444, \"#bd3786\"], [0.5555555555555556, \"#d8576b\"], [0.6666666666666666, \"#ed7953\"], [0.7777777777777778, \"#fb9f3a\"], [0.8888888888888888, \"#fdca26\"], [1.0, \"#f0f921\"]], \"type\": \"surface\"}], \"table\": [{\"cells\": {\"fill\": {\"color\": \"#EBF0F8\"}, \"line\": {\"color\": \"white\"}}, \"header\": {\"fill\": {\"color\": \"#C8D4E3\"}, \"line\": {\"color\": \"white\"}}, \"type\": \"table\"}]}, \"layout\": {\"annotationdefaults\": {\"arrowcolor\": \"#2a3f5f\", \"arrowhead\": 0, \"arrowwidth\": 1}, \"coloraxis\": {\"colorbar\": {\"outlinewidth\": 0, \"ticks\": \"\"}}, \"colorscale\": {\"diverging\": [[0, \"#8e0152\"], [0.1, \"#c51b7d\"], [0.2, \"#de77ae\"], [0.3, \"#f1b6da\"], [0.4, \"#fde0ef\"], [0.5, \"#f7f7f7\"], [0.6, \"#e6f5d0\"], [0.7, \"#b8e186\"], [0.8, \"#7fbc41\"], [0.9, \"#4d9221\"], [1, \"#276419\"]], \"sequential\": [[0.0, \"#0d0887\"], [0.1111111111111111, \"#46039f\"], [0.2222222222222222, \"#7201a8\"], [0.3333333333333333, \"#9c179e\"], [0.4444444444444444, \"#bd3786\"], [0.5555555555555556, \"#d8576b\"], [0.6666666666666666, \"#ed7953\"], [0.7777777777777778, \"#fb9f3a\"], [0.8888888888888888, \"#fdca26\"], [1.0, \"#f0f921\"]], \"sequentialminus\": [[0.0, \"#0d0887\"], [0.1111111111111111, \"#46039f\"], [0.2222222222222222, \"#7201a8\"], [0.3333333333333333, \"#9c179e\"], [0.4444444444444444, \"#bd3786\"], [0.5555555555555556, \"#d8576b\"], [0.6666666666666666, \"#ed7953\"], [0.7777777777777778, \"#fb9f3a\"], [0.8888888888888888, \"#fdca26\"], [1.0, \"#f0f921\"]]}, \"colorway\": [\"#636efa\", \"#EF553B\", \"#00cc96\", \"#ab63fa\", \"#FFA15A\", \"#19d3f3\", \"#FF6692\", \"#B6E880\", \"#FF97FF\", \"#FECB52\"], \"font\": {\"color\": \"#2a3f5f\"}, \"geo\": {\"bgcolor\": \"white\", \"lakecolor\": \"white\", \"landcolor\": \"#E5ECF6\", \"showlakes\": true, \"showland\": true, \"subunitcolor\": \"white\"}, \"hoverlabel\": {\"align\": \"left\"}, \"hovermode\": \"closest\", \"mapbox\": {\"style\": \"light\"}, \"paper_bgcolor\": \"white\", \"plot_bgcolor\": \"#E5ECF6\", \"polar\": {\"angularaxis\": {\"gridcolor\": \"white\", \"linecolor\": \"white\", \"ticks\": \"\"}, \"bgcolor\": \"#E5ECF6\", \"radialaxis\": {\"gridcolor\": \"white\", \"linecolor\": \"white\", \"ticks\": \"\"}}, \"scene\": {\"xaxis\": {\"backgroundcolor\": \"#E5ECF6\", \"gridcolor\": \"white\", \"gridwidth\": 2, \"linecolor\": \"white\", \"showbackground\": true, \"ticks\": \"\", \"zerolinecolor\": \"white\"}, \"yaxis\": {\"backgroundcolor\": \"#E5ECF6\", \"gridcolor\": \"white\", \"gridwidth\": 2, \"linecolor\": \"white\", \"showbackground\": true, \"ticks\": \"\", \"zerolinecolor\": \"white\"}, \"zaxis\": {\"backgroundcolor\": \"#E5ECF6\", \"gridcolor\": \"white\", \"gridwidth\": 2, \"linecolor\": \"white\", \"showbackground\": true, \"ticks\": \"\", \"zerolinecolor\": \"white\"}}, \"shapedefaults\": {\"line\": {\"color\": \"#2a3f5f\"}}, \"ternary\": {\"aaxis\": {\"gridcolor\": \"white\", \"linecolor\": \"white\", \"ticks\": \"\"}, \"baxis\": {\"gridcolor\": \"white\", \"linecolor\": \"white\", \"ticks\": \"\"}, \"bgcolor\": \"#E5ECF6\", \"caxis\": {\"gridcolor\": \"white\", \"linecolor\": \"white\", \"ticks\": \"\"}}, \"title\": {\"x\": 0.05}, \"xaxis\": {\"automargin\": true, \"gridcolor\": \"white\", \"linecolor\": \"white\", \"ticks\": \"\", \"title\": {\"standoff\": 15}, \"zerolinecolor\": \"white\", \"zerolinewidth\": 2}, \"yaxis\": {\"automargin\": true, \"gridcolor\": \"white\", \"linecolor\": \"white\", \"ticks\": \"\", \"title\": {\"standoff\": 15}, \"zerolinecolor\": \"white\", \"zerolinewidth\": 2}}}, \"title\": {\"font\": {\"color\": \"#4D5663\"}}, \"xaxis\": {\"gridcolor\": \"#E1E5ED\", \"showgrid\": true, \"tickfont\": {\"color\": \"#4D5663\"}, \"title\": {\"font\": {\"color\": \"#4D5663\"}, \"text\": \"\"}, \"zerolinecolor\": \"#E1E5ED\"}, \"yaxis\": {\"gridcolor\": \"#E1E5ED\", \"showgrid\": true, \"tickfont\": {\"color\": \"#4D5663\"}, \"title\": {\"font\": {\"color\": \"#4D5663\"}, \"text\": \"\"}, \"zerolinecolor\": \"#E1E5ED\"}},\n",
       "                        {\"showLink\": true, \"linkText\": \"Export to plot.ly\", \"plotlyServerURL\": \"https://plot.ly\", \"responsive\": true}\n",
       "                    ).then(function(){\n",
       "                            \n",
       "var gd = document.getElementById('10c3a01f-80f6-4c9f-9f04-aa60786d93a7');\n",
       "var x = new MutationObserver(function (mutations, observer) {{\n",
       "        var display = window.getComputedStyle(gd).display;\n",
       "        if (!display || display === 'none') {{\n",
       "            console.log([gd, 'removed!']);\n",
       "            Plotly.purge(gd);\n",
       "            observer.disconnect();\n",
       "        }}\n",
       "}});\n",
       "\n",
       "// Listen for the removal of the full notebook cells\n",
       "var notebookContainer = gd.closest('#notebook-container');\n",
       "if (notebookContainer) {{\n",
       "    x.observe(notebookContainer, {childList: true});\n",
       "}}\n",
       "\n",
       "// Listen for the clearing of the current output cell\n",
       "var outputEl = gd.closest('.output');\n",
       "if (outputEl) {{\n",
       "    x.observe(outputEl, {childList: true});\n",
       "}}\n",
       "\n",
       "                        })\n",
       "                };\n",
       "                });\n",
       "            </script>\n",
       "        </div>"
      ]
     },
     "metadata": {},
     "output_type": "display_data"
    }
   ],
   "source": [
    "df2.iplot(kind='bar',x='Category',y='Values')"
   ]
  },
  {
   "cell_type": "code",
   "execution_count": 36,
   "metadata": {},
   "outputs": [
    {
     "data": {
      "application/vnd.plotly.v1+json": {
       "config": {
        "linkText": "Export to plot.ly",
        "plotlyServerURL": "https://plot.ly",
        "showLink": true
       },
       "data": [
        {
         "marker": {
          "color": "rgba(255, 153, 51, 0.6)",
          "line": {
           "color": "rgba(255, 153, 51, 1.0)",
           "width": 1
          }
         },
         "name": "None",
         "orientation": "v",
         "text": "",
         "type": "bar",
         "x": [
          "A",
          "B",
          "C",
          "D"
         ],
         "y": [
          100,
          100,
          100,
          100
         ]
        }
       ],
       "layout": {
        "legend": {
         "bgcolor": "#F5F6F9",
         "font": {
          "color": "#4D5663"
         }
        },
        "paper_bgcolor": "#F5F6F9",
        "plot_bgcolor": "#F5F6F9",
        "template": {
         "data": {
          "bar": [
           {
            "error_x": {
             "color": "#2a3f5f"
            },
            "error_y": {
             "color": "#2a3f5f"
            },
            "marker": {
             "line": {
              "color": "#E5ECF6",
              "width": 0.5
             }
            },
            "type": "bar"
           }
          ],
          "barpolar": [
           {
            "marker": {
             "line": {
              "color": "#E5ECF6",
              "width": 0.5
             }
            },
            "type": "barpolar"
           }
          ],
          "carpet": [
           {
            "aaxis": {
             "endlinecolor": "#2a3f5f",
             "gridcolor": "white",
             "linecolor": "white",
             "minorgridcolor": "white",
             "startlinecolor": "#2a3f5f"
            },
            "baxis": {
             "endlinecolor": "#2a3f5f",
             "gridcolor": "white",
             "linecolor": "white",
             "minorgridcolor": "white",
             "startlinecolor": "#2a3f5f"
            },
            "type": "carpet"
           }
          ],
          "choropleth": [
           {
            "colorbar": {
             "outlinewidth": 0,
             "ticks": ""
            },
            "type": "choropleth"
           }
          ],
          "contour": [
           {
            "colorbar": {
             "outlinewidth": 0,
             "ticks": ""
            },
            "colorscale": [
             [
              0,
              "#0d0887"
             ],
             [
              0.1111111111111111,
              "#46039f"
             ],
             [
              0.2222222222222222,
              "#7201a8"
             ],
             [
              0.3333333333333333,
              "#9c179e"
             ],
             [
              0.4444444444444444,
              "#bd3786"
             ],
             [
              0.5555555555555556,
              "#d8576b"
             ],
             [
              0.6666666666666666,
              "#ed7953"
             ],
             [
              0.7777777777777778,
              "#fb9f3a"
             ],
             [
              0.8888888888888888,
              "#fdca26"
             ],
             [
              1,
              "#f0f921"
             ]
            ],
            "type": "contour"
           }
          ],
          "contourcarpet": [
           {
            "colorbar": {
             "outlinewidth": 0,
             "ticks": ""
            },
            "type": "contourcarpet"
           }
          ],
          "heatmap": [
           {
            "colorbar": {
             "outlinewidth": 0,
             "ticks": ""
            },
            "colorscale": [
             [
              0,
              "#0d0887"
             ],
             [
              0.1111111111111111,
              "#46039f"
             ],
             [
              0.2222222222222222,
              "#7201a8"
             ],
             [
              0.3333333333333333,
              "#9c179e"
             ],
             [
              0.4444444444444444,
              "#bd3786"
             ],
             [
              0.5555555555555556,
              "#d8576b"
             ],
             [
              0.6666666666666666,
              "#ed7953"
             ],
             [
              0.7777777777777778,
              "#fb9f3a"
             ],
             [
              0.8888888888888888,
              "#fdca26"
             ],
             [
              1,
              "#f0f921"
             ]
            ],
            "type": "heatmap"
           }
          ],
          "heatmapgl": [
           {
            "colorbar": {
             "outlinewidth": 0,
             "ticks": ""
            },
            "colorscale": [
             [
              0,
              "#0d0887"
             ],
             [
              0.1111111111111111,
              "#46039f"
             ],
             [
              0.2222222222222222,
              "#7201a8"
             ],
             [
              0.3333333333333333,
              "#9c179e"
             ],
             [
              0.4444444444444444,
              "#bd3786"
             ],
             [
              0.5555555555555556,
              "#d8576b"
             ],
             [
              0.6666666666666666,
              "#ed7953"
             ],
             [
              0.7777777777777778,
              "#fb9f3a"
             ],
             [
              0.8888888888888888,
              "#fdca26"
             ],
             [
              1,
              "#f0f921"
             ]
            ],
            "type": "heatmapgl"
           }
          ],
          "histogram": [
           {
            "marker": {
             "colorbar": {
              "outlinewidth": 0,
              "ticks": ""
             }
            },
            "type": "histogram"
           }
          ],
          "histogram2d": [
           {
            "colorbar": {
             "outlinewidth": 0,
             "ticks": ""
            },
            "colorscale": [
             [
              0,
              "#0d0887"
             ],
             [
              0.1111111111111111,
              "#46039f"
             ],
             [
              0.2222222222222222,
              "#7201a8"
             ],
             [
              0.3333333333333333,
              "#9c179e"
             ],
             [
              0.4444444444444444,
              "#bd3786"
             ],
             [
              0.5555555555555556,
              "#d8576b"
             ],
             [
              0.6666666666666666,
              "#ed7953"
             ],
             [
              0.7777777777777778,
              "#fb9f3a"
             ],
             [
              0.8888888888888888,
              "#fdca26"
             ],
             [
              1,
              "#f0f921"
             ]
            ],
            "type": "histogram2d"
           }
          ],
          "histogram2dcontour": [
           {
            "colorbar": {
             "outlinewidth": 0,
             "ticks": ""
            },
            "colorscale": [
             [
              0,
              "#0d0887"
             ],
             [
              0.1111111111111111,
              "#46039f"
             ],
             [
              0.2222222222222222,
              "#7201a8"
             ],
             [
              0.3333333333333333,
              "#9c179e"
             ],
             [
              0.4444444444444444,
              "#bd3786"
             ],
             [
              0.5555555555555556,
              "#d8576b"
             ],
             [
              0.6666666666666666,
              "#ed7953"
             ],
             [
              0.7777777777777778,
              "#fb9f3a"
             ],
             [
              0.8888888888888888,
              "#fdca26"
             ],
             [
              1,
              "#f0f921"
             ]
            ],
            "type": "histogram2dcontour"
           }
          ],
          "mesh3d": [
           {
            "colorbar": {
             "outlinewidth": 0,
             "ticks": ""
            },
            "type": "mesh3d"
           }
          ],
          "parcoords": [
           {
            "line": {
             "colorbar": {
              "outlinewidth": 0,
              "ticks": ""
             }
            },
            "type": "parcoords"
           }
          ],
          "pie": [
           {
            "automargin": true,
            "type": "pie"
           }
          ],
          "scatter": [
           {
            "marker": {
             "colorbar": {
              "outlinewidth": 0,
              "ticks": ""
             }
            },
            "type": "scatter"
           }
          ],
          "scatter3d": [
           {
            "line": {
             "colorbar": {
              "outlinewidth": 0,
              "ticks": ""
             }
            },
            "marker": {
             "colorbar": {
              "outlinewidth": 0,
              "ticks": ""
             }
            },
            "type": "scatter3d"
           }
          ],
          "scattercarpet": [
           {
            "marker": {
             "colorbar": {
              "outlinewidth": 0,
              "ticks": ""
             }
            },
            "type": "scattercarpet"
           }
          ],
          "scattergeo": [
           {
            "marker": {
             "colorbar": {
              "outlinewidth": 0,
              "ticks": ""
             }
            },
            "type": "scattergeo"
           }
          ],
          "scattergl": [
           {
            "marker": {
             "colorbar": {
              "outlinewidth": 0,
              "ticks": ""
             }
            },
            "type": "scattergl"
           }
          ],
          "scattermapbox": [
           {
            "marker": {
             "colorbar": {
              "outlinewidth": 0,
              "ticks": ""
             }
            },
            "type": "scattermapbox"
           }
          ],
          "scatterpolar": [
           {
            "marker": {
             "colorbar": {
              "outlinewidth": 0,
              "ticks": ""
             }
            },
            "type": "scatterpolar"
           }
          ],
          "scatterpolargl": [
           {
            "marker": {
             "colorbar": {
              "outlinewidth": 0,
              "ticks": ""
             }
            },
            "type": "scatterpolargl"
           }
          ],
          "scatterternary": [
           {
            "marker": {
             "colorbar": {
              "outlinewidth": 0,
              "ticks": ""
             }
            },
            "type": "scatterternary"
           }
          ],
          "surface": [
           {
            "colorbar": {
             "outlinewidth": 0,
             "ticks": ""
            },
            "colorscale": [
             [
              0,
              "#0d0887"
             ],
             [
              0.1111111111111111,
              "#46039f"
             ],
             [
              0.2222222222222222,
              "#7201a8"
             ],
             [
              0.3333333333333333,
              "#9c179e"
             ],
             [
              0.4444444444444444,
              "#bd3786"
             ],
             [
              0.5555555555555556,
              "#d8576b"
             ],
             [
              0.6666666666666666,
              "#ed7953"
             ],
             [
              0.7777777777777778,
              "#fb9f3a"
             ],
             [
              0.8888888888888888,
              "#fdca26"
             ],
             [
              1,
              "#f0f921"
             ]
            ],
            "type": "surface"
           }
          ],
          "table": [
           {
            "cells": {
             "fill": {
              "color": "#EBF0F8"
             },
             "line": {
              "color": "white"
             }
            },
            "header": {
             "fill": {
              "color": "#C8D4E3"
             },
             "line": {
              "color": "white"
             }
            },
            "type": "table"
           }
          ]
         },
         "layout": {
          "annotationdefaults": {
           "arrowcolor": "#2a3f5f",
           "arrowhead": 0,
           "arrowwidth": 1
          },
          "coloraxis": {
           "colorbar": {
            "outlinewidth": 0,
            "ticks": ""
           }
          },
          "colorscale": {
           "diverging": [
            [
             0,
             "#8e0152"
            ],
            [
             0.1,
             "#c51b7d"
            ],
            [
             0.2,
             "#de77ae"
            ],
            [
             0.3,
             "#f1b6da"
            ],
            [
             0.4,
             "#fde0ef"
            ],
            [
             0.5,
             "#f7f7f7"
            ],
            [
             0.6,
             "#e6f5d0"
            ],
            [
             0.7,
             "#b8e186"
            ],
            [
             0.8,
             "#7fbc41"
            ],
            [
             0.9,
             "#4d9221"
            ],
            [
             1,
             "#276419"
            ]
           ],
           "sequential": [
            [
             0,
             "#0d0887"
            ],
            [
             0.1111111111111111,
             "#46039f"
            ],
            [
             0.2222222222222222,
             "#7201a8"
            ],
            [
             0.3333333333333333,
             "#9c179e"
            ],
            [
             0.4444444444444444,
             "#bd3786"
            ],
            [
             0.5555555555555556,
             "#d8576b"
            ],
            [
             0.6666666666666666,
             "#ed7953"
            ],
            [
             0.7777777777777778,
             "#fb9f3a"
            ],
            [
             0.8888888888888888,
             "#fdca26"
            ],
            [
             1,
             "#f0f921"
            ]
           ],
           "sequentialminus": [
            [
             0,
             "#0d0887"
            ],
            [
             0.1111111111111111,
             "#46039f"
            ],
            [
             0.2222222222222222,
             "#7201a8"
            ],
            [
             0.3333333333333333,
             "#9c179e"
            ],
            [
             0.4444444444444444,
             "#bd3786"
            ],
            [
             0.5555555555555556,
             "#d8576b"
            ],
            [
             0.6666666666666666,
             "#ed7953"
            ],
            [
             0.7777777777777778,
             "#fb9f3a"
            ],
            [
             0.8888888888888888,
             "#fdca26"
            ],
            [
             1,
             "#f0f921"
            ]
           ]
          },
          "colorway": [
           "#636efa",
           "#EF553B",
           "#00cc96",
           "#ab63fa",
           "#FFA15A",
           "#19d3f3",
           "#FF6692",
           "#B6E880",
           "#FF97FF",
           "#FECB52"
          ],
          "font": {
           "color": "#2a3f5f"
          },
          "geo": {
           "bgcolor": "white",
           "lakecolor": "white",
           "landcolor": "#E5ECF6",
           "showlakes": true,
           "showland": true,
           "subunitcolor": "white"
          },
          "hoverlabel": {
           "align": "left"
          },
          "hovermode": "closest",
          "mapbox": {
           "style": "light"
          },
          "paper_bgcolor": "white",
          "plot_bgcolor": "#E5ECF6",
          "polar": {
           "angularaxis": {
            "gridcolor": "white",
            "linecolor": "white",
            "ticks": ""
           },
           "bgcolor": "#E5ECF6",
           "radialaxis": {
            "gridcolor": "white",
            "linecolor": "white",
            "ticks": ""
           }
          },
          "scene": {
           "xaxis": {
            "backgroundcolor": "#E5ECF6",
            "gridcolor": "white",
            "gridwidth": 2,
            "linecolor": "white",
            "showbackground": true,
            "ticks": "",
            "zerolinecolor": "white"
           },
           "yaxis": {
            "backgroundcolor": "#E5ECF6",
            "gridcolor": "white",
            "gridwidth": 2,
            "linecolor": "white",
            "showbackground": true,
            "ticks": "",
            "zerolinecolor": "white"
           },
           "zaxis": {
            "backgroundcolor": "#E5ECF6",
            "gridcolor": "white",
            "gridwidth": 2,
            "linecolor": "white",
            "showbackground": true,
            "ticks": "",
            "zerolinecolor": "white"
           }
          },
          "shapedefaults": {
           "line": {
            "color": "#2a3f5f"
           }
          },
          "ternary": {
           "aaxis": {
            "gridcolor": "white",
            "linecolor": "white",
            "ticks": ""
           },
           "baxis": {
            "gridcolor": "white",
            "linecolor": "white",
            "ticks": ""
           },
           "bgcolor": "#E5ECF6",
           "caxis": {
            "gridcolor": "white",
            "linecolor": "white",
            "ticks": ""
           }
          },
          "title": {
           "x": 0.05
          },
          "xaxis": {
           "automargin": true,
           "gridcolor": "white",
           "linecolor": "white",
           "ticks": "",
           "title": {
            "standoff": 15
           },
           "zerolinecolor": "white",
           "zerolinewidth": 2
          },
          "yaxis": {
           "automargin": true,
           "gridcolor": "white",
           "linecolor": "white",
           "ticks": "",
           "title": {
            "standoff": 15
           },
           "zerolinecolor": "white",
           "zerolinewidth": 2
          }
         }
        },
        "title": {
         "font": {
          "color": "#4D5663"
         }
        },
        "xaxis": {
         "gridcolor": "#E1E5ED",
         "showgrid": true,
         "tickfont": {
          "color": "#4D5663"
         },
         "title": {
          "font": {
           "color": "#4D5663"
          },
          "text": ""
         },
         "zerolinecolor": "#E1E5ED"
        },
        "yaxis": {
         "gridcolor": "#E1E5ED",
         "showgrid": true,
         "tickfont": {
          "color": "#4D5663"
         },
         "title": {
          "font": {
           "color": "#4D5663"
          },
          "text": ""
         },
         "zerolinecolor": "#E1E5ED"
        }
       }
      },
      "text/html": [
       "<div>\n",
       "        \n",
       "        \n",
       "            <div id=\"0445cb33-441a-4dd1-9b72-c9e0243b7a28\" class=\"plotly-graph-div\" style=\"height:525px; width:100%;\"></div>\n",
       "            <script type=\"text/javascript\">\n",
       "                require([\"plotly\"], function(Plotly) {\n",
       "                    window.PLOTLYENV=window.PLOTLYENV || {};\n",
       "                    window.PLOTLYENV.BASE_URL='https://plot.ly';\n",
       "                    \n",
       "                if (document.getElementById(\"0445cb33-441a-4dd1-9b72-c9e0243b7a28\")) {\n",
       "                    Plotly.newPlot(\n",
       "                        '0445cb33-441a-4dd1-9b72-c9e0243b7a28',\n",
       "                        [{\"marker\": {\"color\": \"rgba(255, 153, 51, 0.6)\", \"line\": {\"color\": \"rgba(255, 153, 51, 1.0)\", \"width\": 1}}, \"name\": \"None\", \"orientation\": \"v\", \"text\": \"\", \"type\": \"bar\", \"x\": [\"A\", \"B\", \"C\", \"D\"], \"y\": [100, 100, 100, 100]}],\n",
       "                        {\"legend\": {\"bgcolor\": \"#F5F6F9\", \"font\": {\"color\": \"#4D5663\"}}, \"paper_bgcolor\": \"#F5F6F9\", \"plot_bgcolor\": \"#F5F6F9\", \"template\": {\"data\": {\"bar\": [{\"error_x\": {\"color\": \"#2a3f5f\"}, \"error_y\": {\"color\": \"#2a3f5f\"}, \"marker\": {\"line\": {\"color\": \"#E5ECF6\", \"width\": 0.5}}, \"type\": \"bar\"}], \"barpolar\": [{\"marker\": {\"line\": {\"color\": \"#E5ECF6\", \"width\": 0.5}}, \"type\": \"barpolar\"}], \"carpet\": [{\"aaxis\": {\"endlinecolor\": \"#2a3f5f\", \"gridcolor\": \"white\", \"linecolor\": \"white\", \"minorgridcolor\": \"white\", \"startlinecolor\": \"#2a3f5f\"}, \"baxis\": {\"endlinecolor\": \"#2a3f5f\", \"gridcolor\": \"white\", \"linecolor\": \"white\", \"minorgridcolor\": \"white\", \"startlinecolor\": \"#2a3f5f\"}, \"type\": \"carpet\"}], \"choropleth\": [{\"colorbar\": {\"outlinewidth\": 0, \"ticks\": \"\"}, \"type\": \"choropleth\"}], \"contour\": [{\"colorbar\": {\"outlinewidth\": 0, \"ticks\": \"\"}, \"colorscale\": [[0.0, \"#0d0887\"], [0.1111111111111111, \"#46039f\"], [0.2222222222222222, \"#7201a8\"], [0.3333333333333333, \"#9c179e\"], [0.4444444444444444, \"#bd3786\"], [0.5555555555555556, \"#d8576b\"], [0.6666666666666666, \"#ed7953\"], [0.7777777777777778, \"#fb9f3a\"], [0.8888888888888888, \"#fdca26\"], [1.0, \"#f0f921\"]], \"type\": \"contour\"}], \"contourcarpet\": [{\"colorbar\": {\"outlinewidth\": 0, \"ticks\": \"\"}, \"type\": \"contourcarpet\"}], \"heatmap\": [{\"colorbar\": {\"outlinewidth\": 0, \"ticks\": \"\"}, \"colorscale\": [[0.0, \"#0d0887\"], [0.1111111111111111, \"#46039f\"], [0.2222222222222222, \"#7201a8\"], [0.3333333333333333, \"#9c179e\"], [0.4444444444444444, \"#bd3786\"], [0.5555555555555556, \"#d8576b\"], [0.6666666666666666, \"#ed7953\"], [0.7777777777777778, \"#fb9f3a\"], [0.8888888888888888, \"#fdca26\"], [1.0, \"#f0f921\"]], \"type\": \"heatmap\"}], \"heatmapgl\": [{\"colorbar\": {\"outlinewidth\": 0, \"ticks\": \"\"}, \"colorscale\": [[0.0, \"#0d0887\"], [0.1111111111111111, \"#46039f\"], [0.2222222222222222, \"#7201a8\"], [0.3333333333333333, \"#9c179e\"], [0.4444444444444444, \"#bd3786\"], [0.5555555555555556, \"#d8576b\"], [0.6666666666666666, \"#ed7953\"], [0.7777777777777778, \"#fb9f3a\"], [0.8888888888888888, \"#fdca26\"], [1.0, \"#f0f921\"]], \"type\": \"heatmapgl\"}], \"histogram\": [{\"marker\": {\"colorbar\": {\"outlinewidth\": 0, \"ticks\": \"\"}}, \"type\": \"histogram\"}], \"histogram2d\": [{\"colorbar\": {\"outlinewidth\": 0, \"ticks\": \"\"}, \"colorscale\": [[0.0, \"#0d0887\"], [0.1111111111111111, \"#46039f\"], [0.2222222222222222, \"#7201a8\"], [0.3333333333333333, \"#9c179e\"], [0.4444444444444444, \"#bd3786\"], [0.5555555555555556, \"#d8576b\"], [0.6666666666666666, \"#ed7953\"], [0.7777777777777778, \"#fb9f3a\"], [0.8888888888888888, \"#fdca26\"], [1.0, \"#f0f921\"]], \"type\": \"histogram2d\"}], \"histogram2dcontour\": [{\"colorbar\": {\"outlinewidth\": 0, \"ticks\": \"\"}, \"colorscale\": [[0.0, \"#0d0887\"], [0.1111111111111111, \"#46039f\"], [0.2222222222222222, \"#7201a8\"], [0.3333333333333333, \"#9c179e\"], [0.4444444444444444, \"#bd3786\"], [0.5555555555555556, \"#d8576b\"], [0.6666666666666666, \"#ed7953\"], [0.7777777777777778, \"#fb9f3a\"], [0.8888888888888888, \"#fdca26\"], [1.0, \"#f0f921\"]], \"type\": \"histogram2dcontour\"}], \"mesh3d\": [{\"colorbar\": {\"outlinewidth\": 0, \"ticks\": \"\"}, \"type\": \"mesh3d\"}], \"parcoords\": [{\"line\": {\"colorbar\": {\"outlinewidth\": 0, \"ticks\": \"\"}}, \"type\": \"parcoords\"}], \"pie\": [{\"automargin\": true, \"type\": \"pie\"}], \"scatter\": [{\"marker\": {\"colorbar\": {\"outlinewidth\": 0, \"ticks\": \"\"}}, \"type\": \"scatter\"}], \"scatter3d\": [{\"line\": {\"colorbar\": {\"outlinewidth\": 0, \"ticks\": \"\"}}, \"marker\": {\"colorbar\": {\"outlinewidth\": 0, \"ticks\": \"\"}}, \"type\": \"scatter3d\"}], \"scattercarpet\": [{\"marker\": {\"colorbar\": {\"outlinewidth\": 0, \"ticks\": \"\"}}, \"type\": \"scattercarpet\"}], \"scattergeo\": [{\"marker\": {\"colorbar\": {\"outlinewidth\": 0, \"ticks\": \"\"}}, \"type\": \"scattergeo\"}], \"scattergl\": [{\"marker\": {\"colorbar\": {\"outlinewidth\": 0, \"ticks\": \"\"}}, \"type\": \"scattergl\"}], \"scattermapbox\": [{\"marker\": {\"colorbar\": {\"outlinewidth\": 0, \"ticks\": \"\"}}, \"type\": \"scattermapbox\"}], \"scatterpolar\": [{\"marker\": {\"colorbar\": {\"outlinewidth\": 0, \"ticks\": \"\"}}, \"type\": \"scatterpolar\"}], \"scatterpolargl\": [{\"marker\": {\"colorbar\": {\"outlinewidth\": 0, \"ticks\": \"\"}}, \"type\": \"scatterpolargl\"}], \"scatterternary\": [{\"marker\": {\"colorbar\": {\"outlinewidth\": 0, \"ticks\": \"\"}}, \"type\": \"scatterternary\"}], \"surface\": [{\"colorbar\": {\"outlinewidth\": 0, \"ticks\": \"\"}, \"colorscale\": [[0.0, \"#0d0887\"], [0.1111111111111111, \"#46039f\"], [0.2222222222222222, \"#7201a8\"], [0.3333333333333333, \"#9c179e\"], [0.4444444444444444, \"#bd3786\"], [0.5555555555555556, \"#d8576b\"], [0.6666666666666666, \"#ed7953\"], [0.7777777777777778, \"#fb9f3a\"], [0.8888888888888888, \"#fdca26\"], [1.0, \"#f0f921\"]], \"type\": \"surface\"}], \"table\": [{\"cells\": {\"fill\": {\"color\": \"#EBF0F8\"}, \"line\": {\"color\": \"white\"}}, \"header\": {\"fill\": {\"color\": \"#C8D4E3\"}, \"line\": {\"color\": \"white\"}}, \"type\": \"table\"}]}, \"layout\": {\"annotationdefaults\": {\"arrowcolor\": \"#2a3f5f\", \"arrowhead\": 0, \"arrowwidth\": 1}, \"coloraxis\": {\"colorbar\": {\"outlinewidth\": 0, \"ticks\": \"\"}}, \"colorscale\": {\"diverging\": [[0, \"#8e0152\"], [0.1, \"#c51b7d\"], [0.2, \"#de77ae\"], [0.3, \"#f1b6da\"], [0.4, \"#fde0ef\"], [0.5, \"#f7f7f7\"], [0.6, \"#e6f5d0\"], [0.7, \"#b8e186\"], [0.8, \"#7fbc41\"], [0.9, \"#4d9221\"], [1, \"#276419\"]], \"sequential\": [[0.0, \"#0d0887\"], [0.1111111111111111, \"#46039f\"], [0.2222222222222222, \"#7201a8\"], [0.3333333333333333, \"#9c179e\"], [0.4444444444444444, \"#bd3786\"], [0.5555555555555556, \"#d8576b\"], [0.6666666666666666, \"#ed7953\"], [0.7777777777777778, \"#fb9f3a\"], [0.8888888888888888, \"#fdca26\"], [1.0, \"#f0f921\"]], \"sequentialminus\": [[0.0, \"#0d0887\"], [0.1111111111111111, \"#46039f\"], [0.2222222222222222, \"#7201a8\"], [0.3333333333333333, \"#9c179e\"], [0.4444444444444444, \"#bd3786\"], [0.5555555555555556, \"#d8576b\"], [0.6666666666666666, \"#ed7953\"], [0.7777777777777778, \"#fb9f3a\"], [0.8888888888888888, \"#fdca26\"], [1.0, \"#f0f921\"]]}, \"colorway\": [\"#636efa\", \"#EF553B\", \"#00cc96\", \"#ab63fa\", \"#FFA15A\", \"#19d3f3\", \"#FF6692\", \"#B6E880\", \"#FF97FF\", \"#FECB52\"], \"font\": {\"color\": \"#2a3f5f\"}, \"geo\": {\"bgcolor\": \"white\", \"lakecolor\": \"white\", \"landcolor\": \"#E5ECF6\", \"showlakes\": true, \"showland\": true, \"subunitcolor\": \"white\"}, \"hoverlabel\": {\"align\": \"left\"}, \"hovermode\": \"closest\", \"mapbox\": {\"style\": \"light\"}, \"paper_bgcolor\": \"white\", \"plot_bgcolor\": \"#E5ECF6\", \"polar\": {\"angularaxis\": {\"gridcolor\": \"white\", \"linecolor\": \"white\", \"ticks\": \"\"}, \"bgcolor\": \"#E5ECF6\", \"radialaxis\": {\"gridcolor\": \"white\", \"linecolor\": \"white\", \"ticks\": \"\"}}, \"scene\": {\"xaxis\": {\"backgroundcolor\": \"#E5ECF6\", \"gridcolor\": \"white\", \"gridwidth\": 2, \"linecolor\": \"white\", \"showbackground\": true, \"ticks\": \"\", \"zerolinecolor\": \"white\"}, \"yaxis\": {\"backgroundcolor\": \"#E5ECF6\", \"gridcolor\": \"white\", \"gridwidth\": 2, \"linecolor\": \"white\", \"showbackground\": true, \"ticks\": \"\", \"zerolinecolor\": \"white\"}, \"zaxis\": {\"backgroundcolor\": \"#E5ECF6\", \"gridcolor\": \"white\", \"gridwidth\": 2, \"linecolor\": \"white\", \"showbackground\": true, \"ticks\": \"\", \"zerolinecolor\": \"white\"}}, \"shapedefaults\": {\"line\": {\"color\": \"#2a3f5f\"}}, \"ternary\": {\"aaxis\": {\"gridcolor\": \"white\", \"linecolor\": \"white\", \"ticks\": \"\"}, \"baxis\": {\"gridcolor\": \"white\", \"linecolor\": \"white\", \"ticks\": \"\"}, \"bgcolor\": \"#E5ECF6\", \"caxis\": {\"gridcolor\": \"white\", \"linecolor\": \"white\", \"ticks\": \"\"}}, \"title\": {\"x\": 0.05}, \"xaxis\": {\"automargin\": true, \"gridcolor\": \"white\", \"linecolor\": \"white\", \"ticks\": \"\", \"title\": {\"standoff\": 15}, \"zerolinecolor\": \"white\", \"zerolinewidth\": 2}, \"yaxis\": {\"automargin\": true, \"gridcolor\": \"white\", \"linecolor\": \"white\", \"ticks\": \"\", \"title\": {\"standoff\": 15}, \"zerolinecolor\": \"white\", \"zerolinewidth\": 2}}}, \"title\": {\"font\": {\"color\": \"#4D5663\"}}, \"xaxis\": {\"gridcolor\": \"#E1E5ED\", \"showgrid\": true, \"tickfont\": {\"color\": \"#4D5663\"}, \"title\": {\"font\": {\"color\": \"#4D5663\"}, \"text\": \"\"}, \"zerolinecolor\": \"#E1E5ED\"}, \"yaxis\": {\"gridcolor\": \"#E1E5ED\", \"showgrid\": true, \"tickfont\": {\"color\": \"#4D5663\"}, \"title\": {\"font\": {\"color\": \"#4D5663\"}, \"text\": \"\"}, \"zerolinecolor\": \"#E1E5ED\"}},\n",
       "                        {\"showLink\": true, \"linkText\": \"Export to plot.ly\", \"plotlyServerURL\": \"https://plot.ly\", \"responsive\": true}\n",
       "                    ).then(function(){\n",
       "                            \n",
       "var gd = document.getElementById('0445cb33-441a-4dd1-9b72-c9e0243b7a28');\n",
       "var x = new MutationObserver(function (mutations, observer) {{\n",
       "        var display = window.getComputedStyle(gd).display;\n",
       "        if (!display || display === 'none') {{\n",
       "            console.log([gd, 'removed!']);\n",
       "            Plotly.purge(gd);\n",
       "            observer.disconnect();\n",
       "        }}\n",
       "}});\n",
       "\n",
       "// Listen for the removal of the full notebook cells\n",
       "var notebookContainer = gd.closest('#notebook-container');\n",
       "if (notebookContainer) {{\n",
       "    x.observe(notebookContainer, {childList: true});\n",
       "}}\n",
       "\n",
       "// Listen for the clearing of the current output cell\n",
       "var outputEl = gd.closest('.output');\n",
       "if (outputEl) {{\n",
       "    x.observe(outputEl, {childList: true});\n",
       "}}\n",
       "\n",
       "                        })\n",
       "                };\n",
       "                });\n",
       "            </script>\n",
       "        </div>"
      ]
     },
     "metadata": {},
     "output_type": "display_data"
    }
   ],
   "source": [
    "df.count().iplot(kind='bar')"
   ]
  },
  {
   "cell_type": "code",
   "execution_count": 37,
   "metadata": {},
   "outputs": [
    {
     "data": {
      "application/vnd.plotly.v1+json": {
       "config": {
        "linkText": "Export to plot.ly",
        "plotlyServerURL": "https://plot.ly",
        "showLink": true
       },
       "data": [
        {
         "marker": {
          "color": "rgba(255, 153, 51, 0.6)",
          "line": {
           "color": "rgba(255, 153, 51, 1.0)",
           "width": 1
          }
         },
         "name": "None",
         "orientation": "v",
         "text": "",
         "type": "bar",
         "x": [
          "A",
          "B",
          "C",
          "D"
         ],
         "y": [
          -19.871308252388317,
          -17.216337825678973,
          -2.3969351677885244,
          17.475664156735775
         ]
        }
       ],
       "layout": {
        "legend": {
         "bgcolor": "#F5F6F9",
         "font": {
          "color": "#4D5663"
         }
        },
        "paper_bgcolor": "#F5F6F9",
        "plot_bgcolor": "#F5F6F9",
        "template": {
         "data": {
          "bar": [
           {
            "error_x": {
             "color": "#2a3f5f"
            },
            "error_y": {
             "color": "#2a3f5f"
            },
            "marker": {
             "line": {
              "color": "#E5ECF6",
              "width": 0.5
             }
            },
            "type": "bar"
           }
          ],
          "barpolar": [
           {
            "marker": {
             "line": {
              "color": "#E5ECF6",
              "width": 0.5
             }
            },
            "type": "barpolar"
           }
          ],
          "carpet": [
           {
            "aaxis": {
             "endlinecolor": "#2a3f5f",
             "gridcolor": "white",
             "linecolor": "white",
             "minorgridcolor": "white",
             "startlinecolor": "#2a3f5f"
            },
            "baxis": {
             "endlinecolor": "#2a3f5f",
             "gridcolor": "white",
             "linecolor": "white",
             "minorgridcolor": "white",
             "startlinecolor": "#2a3f5f"
            },
            "type": "carpet"
           }
          ],
          "choropleth": [
           {
            "colorbar": {
             "outlinewidth": 0,
             "ticks": ""
            },
            "type": "choropleth"
           }
          ],
          "contour": [
           {
            "colorbar": {
             "outlinewidth": 0,
             "ticks": ""
            },
            "colorscale": [
             [
              0,
              "#0d0887"
             ],
             [
              0.1111111111111111,
              "#46039f"
             ],
             [
              0.2222222222222222,
              "#7201a8"
             ],
             [
              0.3333333333333333,
              "#9c179e"
             ],
             [
              0.4444444444444444,
              "#bd3786"
             ],
             [
              0.5555555555555556,
              "#d8576b"
             ],
             [
              0.6666666666666666,
              "#ed7953"
             ],
             [
              0.7777777777777778,
              "#fb9f3a"
             ],
             [
              0.8888888888888888,
              "#fdca26"
             ],
             [
              1,
              "#f0f921"
             ]
            ],
            "type": "contour"
           }
          ],
          "contourcarpet": [
           {
            "colorbar": {
             "outlinewidth": 0,
             "ticks": ""
            },
            "type": "contourcarpet"
           }
          ],
          "heatmap": [
           {
            "colorbar": {
             "outlinewidth": 0,
             "ticks": ""
            },
            "colorscale": [
             [
              0,
              "#0d0887"
             ],
             [
              0.1111111111111111,
              "#46039f"
             ],
             [
              0.2222222222222222,
              "#7201a8"
             ],
             [
              0.3333333333333333,
              "#9c179e"
             ],
             [
              0.4444444444444444,
              "#bd3786"
             ],
             [
              0.5555555555555556,
              "#d8576b"
             ],
             [
              0.6666666666666666,
              "#ed7953"
             ],
             [
              0.7777777777777778,
              "#fb9f3a"
             ],
             [
              0.8888888888888888,
              "#fdca26"
             ],
             [
              1,
              "#f0f921"
             ]
            ],
            "type": "heatmap"
           }
          ],
          "heatmapgl": [
           {
            "colorbar": {
             "outlinewidth": 0,
             "ticks": ""
            },
            "colorscale": [
             [
              0,
              "#0d0887"
             ],
             [
              0.1111111111111111,
              "#46039f"
             ],
             [
              0.2222222222222222,
              "#7201a8"
             ],
             [
              0.3333333333333333,
              "#9c179e"
             ],
             [
              0.4444444444444444,
              "#bd3786"
             ],
             [
              0.5555555555555556,
              "#d8576b"
             ],
             [
              0.6666666666666666,
              "#ed7953"
             ],
             [
              0.7777777777777778,
              "#fb9f3a"
             ],
             [
              0.8888888888888888,
              "#fdca26"
             ],
             [
              1,
              "#f0f921"
             ]
            ],
            "type": "heatmapgl"
           }
          ],
          "histogram": [
           {
            "marker": {
             "colorbar": {
              "outlinewidth": 0,
              "ticks": ""
             }
            },
            "type": "histogram"
           }
          ],
          "histogram2d": [
           {
            "colorbar": {
             "outlinewidth": 0,
             "ticks": ""
            },
            "colorscale": [
             [
              0,
              "#0d0887"
             ],
             [
              0.1111111111111111,
              "#46039f"
             ],
             [
              0.2222222222222222,
              "#7201a8"
             ],
             [
              0.3333333333333333,
              "#9c179e"
             ],
             [
              0.4444444444444444,
              "#bd3786"
             ],
             [
              0.5555555555555556,
              "#d8576b"
             ],
             [
              0.6666666666666666,
              "#ed7953"
             ],
             [
              0.7777777777777778,
              "#fb9f3a"
             ],
             [
              0.8888888888888888,
              "#fdca26"
             ],
             [
              1,
              "#f0f921"
             ]
            ],
            "type": "histogram2d"
           }
          ],
          "histogram2dcontour": [
           {
            "colorbar": {
             "outlinewidth": 0,
             "ticks": ""
            },
            "colorscale": [
             [
              0,
              "#0d0887"
             ],
             [
              0.1111111111111111,
              "#46039f"
             ],
             [
              0.2222222222222222,
              "#7201a8"
             ],
             [
              0.3333333333333333,
              "#9c179e"
             ],
             [
              0.4444444444444444,
              "#bd3786"
             ],
             [
              0.5555555555555556,
              "#d8576b"
             ],
             [
              0.6666666666666666,
              "#ed7953"
             ],
             [
              0.7777777777777778,
              "#fb9f3a"
             ],
             [
              0.8888888888888888,
              "#fdca26"
             ],
             [
              1,
              "#f0f921"
             ]
            ],
            "type": "histogram2dcontour"
           }
          ],
          "mesh3d": [
           {
            "colorbar": {
             "outlinewidth": 0,
             "ticks": ""
            },
            "type": "mesh3d"
           }
          ],
          "parcoords": [
           {
            "line": {
             "colorbar": {
              "outlinewidth": 0,
              "ticks": ""
             }
            },
            "type": "parcoords"
           }
          ],
          "pie": [
           {
            "automargin": true,
            "type": "pie"
           }
          ],
          "scatter": [
           {
            "marker": {
             "colorbar": {
              "outlinewidth": 0,
              "ticks": ""
             }
            },
            "type": "scatter"
           }
          ],
          "scatter3d": [
           {
            "line": {
             "colorbar": {
              "outlinewidth": 0,
              "ticks": ""
             }
            },
            "marker": {
             "colorbar": {
              "outlinewidth": 0,
              "ticks": ""
             }
            },
            "type": "scatter3d"
           }
          ],
          "scattercarpet": [
           {
            "marker": {
             "colorbar": {
              "outlinewidth": 0,
              "ticks": ""
             }
            },
            "type": "scattercarpet"
           }
          ],
          "scattergeo": [
           {
            "marker": {
             "colorbar": {
              "outlinewidth": 0,
              "ticks": ""
             }
            },
            "type": "scattergeo"
           }
          ],
          "scattergl": [
           {
            "marker": {
             "colorbar": {
              "outlinewidth": 0,
              "ticks": ""
             }
            },
            "type": "scattergl"
           }
          ],
          "scattermapbox": [
           {
            "marker": {
             "colorbar": {
              "outlinewidth": 0,
              "ticks": ""
             }
            },
            "type": "scattermapbox"
           }
          ],
          "scatterpolar": [
           {
            "marker": {
             "colorbar": {
              "outlinewidth": 0,
              "ticks": ""
             }
            },
            "type": "scatterpolar"
           }
          ],
          "scatterpolargl": [
           {
            "marker": {
             "colorbar": {
              "outlinewidth": 0,
              "ticks": ""
             }
            },
            "type": "scatterpolargl"
           }
          ],
          "scatterternary": [
           {
            "marker": {
             "colorbar": {
              "outlinewidth": 0,
              "ticks": ""
             }
            },
            "type": "scatterternary"
           }
          ],
          "surface": [
           {
            "colorbar": {
             "outlinewidth": 0,
             "ticks": ""
            },
            "colorscale": [
             [
              0,
              "#0d0887"
             ],
             [
              0.1111111111111111,
              "#46039f"
             ],
             [
              0.2222222222222222,
              "#7201a8"
             ],
             [
              0.3333333333333333,
              "#9c179e"
             ],
             [
              0.4444444444444444,
              "#bd3786"
             ],
             [
              0.5555555555555556,
              "#d8576b"
             ],
             [
              0.6666666666666666,
              "#ed7953"
             ],
             [
              0.7777777777777778,
              "#fb9f3a"
             ],
             [
              0.8888888888888888,
              "#fdca26"
             ],
             [
              1,
              "#f0f921"
             ]
            ],
            "type": "surface"
           }
          ],
          "table": [
           {
            "cells": {
             "fill": {
              "color": "#EBF0F8"
             },
             "line": {
              "color": "white"
             }
            },
            "header": {
             "fill": {
              "color": "#C8D4E3"
             },
             "line": {
              "color": "white"
             }
            },
            "type": "table"
           }
          ]
         },
         "layout": {
          "annotationdefaults": {
           "arrowcolor": "#2a3f5f",
           "arrowhead": 0,
           "arrowwidth": 1
          },
          "coloraxis": {
           "colorbar": {
            "outlinewidth": 0,
            "ticks": ""
           }
          },
          "colorscale": {
           "diverging": [
            [
             0,
             "#8e0152"
            ],
            [
             0.1,
             "#c51b7d"
            ],
            [
             0.2,
             "#de77ae"
            ],
            [
             0.3,
             "#f1b6da"
            ],
            [
             0.4,
             "#fde0ef"
            ],
            [
             0.5,
             "#f7f7f7"
            ],
            [
             0.6,
             "#e6f5d0"
            ],
            [
             0.7,
             "#b8e186"
            ],
            [
             0.8,
             "#7fbc41"
            ],
            [
             0.9,
             "#4d9221"
            ],
            [
             1,
             "#276419"
            ]
           ],
           "sequential": [
            [
             0,
             "#0d0887"
            ],
            [
             0.1111111111111111,
             "#46039f"
            ],
            [
             0.2222222222222222,
             "#7201a8"
            ],
            [
             0.3333333333333333,
             "#9c179e"
            ],
            [
             0.4444444444444444,
             "#bd3786"
            ],
            [
             0.5555555555555556,
             "#d8576b"
            ],
            [
             0.6666666666666666,
             "#ed7953"
            ],
            [
             0.7777777777777778,
             "#fb9f3a"
            ],
            [
             0.8888888888888888,
             "#fdca26"
            ],
            [
             1,
             "#f0f921"
            ]
           ],
           "sequentialminus": [
            [
             0,
             "#0d0887"
            ],
            [
             0.1111111111111111,
             "#46039f"
            ],
            [
             0.2222222222222222,
             "#7201a8"
            ],
            [
             0.3333333333333333,
             "#9c179e"
            ],
            [
             0.4444444444444444,
             "#bd3786"
            ],
            [
             0.5555555555555556,
             "#d8576b"
            ],
            [
             0.6666666666666666,
             "#ed7953"
            ],
            [
             0.7777777777777778,
             "#fb9f3a"
            ],
            [
             0.8888888888888888,
             "#fdca26"
            ],
            [
             1,
             "#f0f921"
            ]
           ]
          },
          "colorway": [
           "#636efa",
           "#EF553B",
           "#00cc96",
           "#ab63fa",
           "#FFA15A",
           "#19d3f3",
           "#FF6692",
           "#B6E880",
           "#FF97FF",
           "#FECB52"
          ],
          "font": {
           "color": "#2a3f5f"
          },
          "geo": {
           "bgcolor": "white",
           "lakecolor": "white",
           "landcolor": "#E5ECF6",
           "showlakes": true,
           "showland": true,
           "subunitcolor": "white"
          },
          "hoverlabel": {
           "align": "left"
          },
          "hovermode": "closest",
          "mapbox": {
           "style": "light"
          },
          "paper_bgcolor": "white",
          "plot_bgcolor": "#E5ECF6",
          "polar": {
           "angularaxis": {
            "gridcolor": "white",
            "linecolor": "white",
            "ticks": ""
           },
           "bgcolor": "#E5ECF6",
           "radialaxis": {
            "gridcolor": "white",
            "linecolor": "white",
            "ticks": ""
           }
          },
          "scene": {
           "xaxis": {
            "backgroundcolor": "#E5ECF6",
            "gridcolor": "white",
            "gridwidth": 2,
            "linecolor": "white",
            "showbackground": true,
            "ticks": "",
            "zerolinecolor": "white"
           },
           "yaxis": {
            "backgroundcolor": "#E5ECF6",
            "gridcolor": "white",
            "gridwidth": 2,
            "linecolor": "white",
            "showbackground": true,
            "ticks": "",
            "zerolinecolor": "white"
           },
           "zaxis": {
            "backgroundcolor": "#E5ECF6",
            "gridcolor": "white",
            "gridwidth": 2,
            "linecolor": "white",
            "showbackground": true,
            "ticks": "",
            "zerolinecolor": "white"
           }
          },
          "shapedefaults": {
           "line": {
            "color": "#2a3f5f"
           }
          },
          "ternary": {
           "aaxis": {
            "gridcolor": "white",
            "linecolor": "white",
            "ticks": ""
           },
           "baxis": {
            "gridcolor": "white",
            "linecolor": "white",
            "ticks": ""
           },
           "bgcolor": "#E5ECF6",
           "caxis": {
            "gridcolor": "white",
            "linecolor": "white",
            "ticks": ""
           }
          },
          "title": {
           "x": 0.05
          },
          "xaxis": {
           "automargin": true,
           "gridcolor": "white",
           "linecolor": "white",
           "ticks": "",
           "title": {
            "standoff": 15
           },
           "zerolinecolor": "white",
           "zerolinewidth": 2
          },
          "yaxis": {
           "automargin": true,
           "gridcolor": "white",
           "linecolor": "white",
           "ticks": "",
           "title": {
            "standoff": 15
           },
           "zerolinecolor": "white",
           "zerolinewidth": 2
          }
         }
        },
        "title": {
         "font": {
          "color": "#4D5663"
         }
        },
        "xaxis": {
         "gridcolor": "#E1E5ED",
         "showgrid": true,
         "tickfont": {
          "color": "#4D5663"
         },
         "title": {
          "font": {
           "color": "#4D5663"
          },
          "text": ""
         },
         "zerolinecolor": "#E1E5ED"
        },
        "yaxis": {
         "gridcolor": "#E1E5ED",
         "showgrid": true,
         "tickfont": {
          "color": "#4D5663"
         },
         "title": {
          "font": {
           "color": "#4D5663"
          },
          "text": ""
         },
         "zerolinecolor": "#E1E5ED"
        }
       }
      },
      "text/html": [
       "<div>\n",
       "        \n",
       "        \n",
       "            <div id=\"7d7ea4ed-018a-457a-b142-cf6622b43af8\" class=\"plotly-graph-div\" style=\"height:525px; width:100%;\"></div>\n",
       "            <script type=\"text/javascript\">\n",
       "                require([\"plotly\"], function(Plotly) {\n",
       "                    window.PLOTLYENV=window.PLOTLYENV || {};\n",
       "                    window.PLOTLYENV.BASE_URL='https://plot.ly';\n",
       "                    \n",
       "                if (document.getElementById(\"7d7ea4ed-018a-457a-b142-cf6622b43af8\")) {\n",
       "                    Plotly.newPlot(\n",
       "                        '7d7ea4ed-018a-457a-b142-cf6622b43af8',\n",
       "                        [{\"marker\": {\"color\": \"rgba(255, 153, 51, 0.6)\", \"line\": {\"color\": \"rgba(255, 153, 51, 1.0)\", \"width\": 1}}, \"name\": \"None\", \"orientation\": \"v\", \"text\": \"\", \"type\": \"bar\", \"x\": [\"A\", \"B\", \"C\", \"D\"], \"y\": [-19.871308252388317, -17.216337825678973, -2.3969351677885244, 17.475664156735775]}],\n",
       "                        {\"legend\": {\"bgcolor\": \"#F5F6F9\", \"font\": {\"color\": \"#4D5663\"}}, \"paper_bgcolor\": \"#F5F6F9\", \"plot_bgcolor\": \"#F5F6F9\", \"template\": {\"data\": {\"bar\": [{\"error_x\": {\"color\": \"#2a3f5f\"}, \"error_y\": {\"color\": \"#2a3f5f\"}, \"marker\": {\"line\": {\"color\": \"#E5ECF6\", \"width\": 0.5}}, \"type\": \"bar\"}], \"barpolar\": [{\"marker\": {\"line\": {\"color\": \"#E5ECF6\", \"width\": 0.5}}, \"type\": \"barpolar\"}], \"carpet\": [{\"aaxis\": {\"endlinecolor\": \"#2a3f5f\", \"gridcolor\": \"white\", \"linecolor\": \"white\", \"minorgridcolor\": \"white\", \"startlinecolor\": \"#2a3f5f\"}, \"baxis\": {\"endlinecolor\": \"#2a3f5f\", \"gridcolor\": \"white\", \"linecolor\": \"white\", \"minorgridcolor\": \"white\", \"startlinecolor\": \"#2a3f5f\"}, \"type\": \"carpet\"}], \"choropleth\": [{\"colorbar\": {\"outlinewidth\": 0, \"ticks\": \"\"}, \"type\": \"choropleth\"}], \"contour\": [{\"colorbar\": {\"outlinewidth\": 0, \"ticks\": \"\"}, \"colorscale\": [[0.0, \"#0d0887\"], [0.1111111111111111, \"#46039f\"], [0.2222222222222222, \"#7201a8\"], [0.3333333333333333, \"#9c179e\"], [0.4444444444444444, \"#bd3786\"], [0.5555555555555556, \"#d8576b\"], [0.6666666666666666, \"#ed7953\"], [0.7777777777777778, \"#fb9f3a\"], [0.8888888888888888, \"#fdca26\"], [1.0, \"#f0f921\"]], \"type\": \"contour\"}], \"contourcarpet\": [{\"colorbar\": {\"outlinewidth\": 0, \"ticks\": \"\"}, \"type\": \"contourcarpet\"}], \"heatmap\": [{\"colorbar\": {\"outlinewidth\": 0, \"ticks\": \"\"}, \"colorscale\": [[0.0, \"#0d0887\"], [0.1111111111111111, \"#46039f\"], [0.2222222222222222, \"#7201a8\"], [0.3333333333333333, \"#9c179e\"], [0.4444444444444444, \"#bd3786\"], [0.5555555555555556, \"#d8576b\"], [0.6666666666666666, \"#ed7953\"], [0.7777777777777778, \"#fb9f3a\"], [0.8888888888888888, \"#fdca26\"], [1.0, \"#f0f921\"]], \"type\": \"heatmap\"}], \"heatmapgl\": [{\"colorbar\": {\"outlinewidth\": 0, \"ticks\": \"\"}, \"colorscale\": [[0.0, \"#0d0887\"], [0.1111111111111111, \"#46039f\"], [0.2222222222222222, \"#7201a8\"], [0.3333333333333333, \"#9c179e\"], [0.4444444444444444, \"#bd3786\"], [0.5555555555555556, \"#d8576b\"], [0.6666666666666666, \"#ed7953\"], [0.7777777777777778, \"#fb9f3a\"], [0.8888888888888888, \"#fdca26\"], [1.0, \"#f0f921\"]], \"type\": \"heatmapgl\"}], \"histogram\": [{\"marker\": {\"colorbar\": {\"outlinewidth\": 0, \"ticks\": \"\"}}, \"type\": \"histogram\"}], \"histogram2d\": [{\"colorbar\": {\"outlinewidth\": 0, \"ticks\": \"\"}, \"colorscale\": [[0.0, \"#0d0887\"], [0.1111111111111111, \"#46039f\"], [0.2222222222222222, \"#7201a8\"], [0.3333333333333333, \"#9c179e\"], [0.4444444444444444, \"#bd3786\"], [0.5555555555555556, \"#d8576b\"], [0.6666666666666666, \"#ed7953\"], [0.7777777777777778, \"#fb9f3a\"], [0.8888888888888888, \"#fdca26\"], [1.0, \"#f0f921\"]], \"type\": \"histogram2d\"}], \"histogram2dcontour\": [{\"colorbar\": {\"outlinewidth\": 0, \"ticks\": \"\"}, \"colorscale\": [[0.0, \"#0d0887\"], [0.1111111111111111, \"#46039f\"], [0.2222222222222222, \"#7201a8\"], [0.3333333333333333, \"#9c179e\"], [0.4444444444444444, \"#bd3786\"], [0.5555555555555556, \"#d8576b\"], [0.6666666666666666, \"#ed7953\"], [0.7777777777777778, \"#fb9f3a\"], [0.8888888888888888, \"#fdca26\"], [1.0, \"#f0f921\"]], \"type\": \"histogram2dcontour\"}], \"mesh3d\": [{\"colorbar\": {\"outlinewidth\": 0, \"ticks\": \"\"}, \"type\": \"mesh3d\"}], \"parcoords\": [{\"line\": {\"colorbar\": {\"outlinewidth\": 0, \"ticks\": \"\"}}, \"type\": \"parcoords\"}], \"pie\": [{\"automargin\": true, \"type\": \"pie\"}], \"scatter\": [{\"marker\": {\"colorbar\": {\"outlinewidth\": 0, \"ticks\": \"\"}}, \"type\": \"scatter\"}], \"scatter3d\": [{\"line\": {\"colorbar\": {\"outlinewidth\": 0, \"ticks\": \"\"}}, \"marker\": {\"colorbar\": {\"outlinewidth\": 0, \"ticks\": \"\"}}, \"type\": \"scatter3d\"}], \"scattercarpet\": [{\"marker\": {\"colorbar\": {\"outlinewidth\": 0, \"ticks\": \"\"}}, \"type\": \"scattercarpet\"}], \"scattergeo\": [{\"marker\": {\"colorbar\": {\"outlinewidth\": 0, \"ticks\": \"\"}}, \"type\": \"scattergeo\"}], \"scattergl\": [{\"marker\": {\"colorbar\": {\"outlinewidth\": 0, \"ticks\": \"\"}}, \"type\": \"scattergl\"}], \"scattermapbox\": [{\"marker\": {\"colorbar\": {\"outlinewidth\": 0, \"ticks\": \"\"}}, \"type\": \"scattermapbox\"}], \"scatterpolar\": [{\"marker\": {\"colorbar\": {\"outlinewidth\": 0, \"ticks\": \"\"}}, \"type\": \"scatterpolar\"}], \"scatterpolargl\": [{\"marker\": {\"colorbar\": {\"outlinewidth\": 0, \"ticks\": \"\"}}, \"type\": \"scatterpolargl\"}], \"scatterternary\": [{\"marker\": {\"colorbar\": {\"outlinewidth\": 0, \"ticks\": \"\"}}, \"type\": \"scatterternary\"}], \"surface\": [{\"colorbar\": {\"outlinewidth\": 0, \"ticks\": \"\"}, \"colorscale\": [[0.0, \"#0d0887\"], [0.1111111111111111, \"#46039f\"], [0.2222222222222222, \"#7201a8\"], [0.3333333333333333, \"#9c179e\"], [0.4444444444444444, \"#bd3786\"], [0.5555555555555556, \"#d8576b\"], [0.6666666666666666, \"#ed7953\"], [0.7777777777777778, \"#fb9f3a\"], [0.8888888888888888, \"#fdca26\"], [1.0, \"#f0f921\"]], \"type\": \"surface\"}], \"table\": [{\"cells\": {\"fill\": {\"color\": \"#EBF0F8\"}, \"line\": {\"color\": \"white\"}}, \"header\": {\"fill\": {\"color\": \"#C8D4E3\"}, \"line\": {\"color\": \"white\"}}, \"type\": \"table\"}]}, \"layout\": {\"annotationdefaults\": {\"arrowcolor\": \"#2a3f5f\", \"arrowhead\": 0, \"arrowwidth\": 1}, \"coloraxis\": {\"colorbar\": {\"outlinewidth\": 0, \"ticks\": \"\"}}, \"colorscale\": {\"diverging\": [[0, \"#8e0152\"], [0.1, \"#c51b7d\"], [0.2, \"#de77ae\"], [0.3, \"#f1b6da\"], [0.4, \"#fde0ef\"], [0.5, \"#f7f7f7\"], [0.6, \"#e6f5d0\"], [0.7, \"#b8e186\"], [0.8, \"#7fbc41\"], [0.9, \"#4d9221\"], [1, \"#276419\"]], \"sequential\": [[0.0, \"#0d0887\"], [0.1111111111111111, \"#46039f\"], [0.2222222222222222, \"#7201a8\"], [0.3333333333333333, \"#9c179e\"], [0.4444444444444444, \"#bd3786\"], [0.5555555555555556, \"#d8576b\"], [0.6666666666666666, \"#ed7953\"], [0.7777777777777778, \"#fb9f3a\"], [0.8888888888888888, \"#fdca26\"], [1.0, \"#f0f921\"]], \"sequentialminus\": [[0.0, \"#0d0887\"], [0.1111111111111111, \"#46039f\"], [0.2222222222222222, \"#7201a8\"], [0.3333333333333333, \"#9c179e\"], [0.4444444444444444, \"#bd3786\"], [0.5555555555555556, \"#d8576b\"], [0.6666666666666666, \"#ed7953\"], [0.7777777777777778, \"#fb9f3a\"], [0.8888888888888888, \"#fdca26\"], [1.0, \"#f0f921\"]]}, \"colorway\": [\"#636efa\", \"#EF553B\", \"#00cc96\", \"#ab63fa\", \"#FFA15A\", \"#19d3f3\", \"#FF6692\", \"#B6E880\", \"#FF97FF\", \"#FECB52\"], \"font\": {\"color\": \"#2a3f5f\"}, \"geo\": {\"bgcolor\": \"white\", \"lakecolor\": \"white\", \"landcolor\": \"#E5ECF6\", \"showlakes\": true, \"showland\": true, \"subunitcolor\": \"white\"}, \"hoverlabel\": {\"align\": \"left\"}, \"hovermode\": \"closest\", \"mapbox\": {\"style\": \"light\"}, \"paper_bgcolor\": \"white\", \"plot_bgcolor\": \"#E5ECF6\", \"polar\": {\"angularaxis\": {\"gridcolor\": \"white\", \"linecolor\": \"white\", \"ticks\": \"\"}, \"bgcolor\": \"#E5ECF6\", \"radialaxis\": {\"gridcolor\": \"white\", \"linecolor\": \"white\", \"ticks\": \"\"}}, \"scene\": {\"xaxis\": {\"backgroundcolor\": \"#E5ECF6\", \"gridcolor\": \"white\", \"gridwidth\": 2, \"linecolor\": \"white\", \"showbackground\": true, \"ticks\": \"\", \"zerolinecolor\": \"white\"}, \"yaxis\": {\"backgroundcolor\": \"#E5ECF6\", \"gridcolor\": \"white\", \"gridwidth\": 2, \"linecolor\": \"white\", \"showbackground\": true, \"ticks\": \"\", \"zerolinecolor\": \"white\"}, \"zaxis\": {\"backgroundcolor\": \"#E5ECF6\", \"gridcolor\": \"white\", \"gridwidth\": 2, \"linecolor\": \"white\", \"showbackground\": true, \"ticks\": \"\", \"zerolinecolor\": \"white\"}}, \"shapedefaults\": {\"line\": {\"color\": \"#2a3f5f\"}}, \"ternary\": {\"aaxis\": {\"gridcolor\": \"white\", \"linecolor\": \"white\", \"ticks\": \"\"}, \"baxis\": {\"gridcolor\": \"white\", \"linecolor\": \"white\", \"ticks\": \"\"}, \"bgcolor\": \"#E5ECF6\", \"caxis\": {\"gridcolor\": \"white\", \"linecolor\": \"white\", \"ticks\": \"\"}}, \"title\": {\"x\": 0.05}, \"xaxis\": {\"automargin\": true, \"gridcolor\": \"white\", \"linecolor\": \"white\", \"ticks\": \"\", \"title\": {\"standoff\": 15}, \"zerolinecolor\": \"white\", \"zerolinewidth\": 2}, \"yaxis\": {\"automargin\": true, \"gridcolor\": \"white\", \"linecolor\": \"white\", \"ticks\": \"\", \"title\": {\"standoff\": 15}, \"zerolinecolor\": \"white\", \"zerolinewidth\": 2}}}, \"title\": {\"font\": {\"color\": \"#4D5663\"}}, \"xaxis\": {\"gridcolor\": \"#E1E5ED\", \"showgrid\": true, \"tickfont\": {\"color\": \"#4D5663\"}, \"title\": {\"font\": {\"color\": \"#4D5663\"}, \"text\": \"\"}, \"zerolinecolor\": \"#E1E5ED\"}, \"yaxis\": {\"gridcolor\": \"#E1E5ED\", \"showgrid\": true, \"tickfont\": {\"color\": \"#4D5663\"}, \"title\": {\"font\": {\"color\": \"#4D5663\"}, \"text\": \"\"}, \"zerolinecolor\": \"#E1E5ED\"}},\n",
       "                        {\"showLink\": true, \"linkText\": \"Export to plot.ly\", \"plotlyServerURL\": \"https://plot.ly\", \"responsive\": true}\n",
       "                    ).then(function(){\n",
       "                            \n",
       "var gd = document.getElementById('7d7ea4ed-018a-457a-b142-cf6622b43af8');\n",
       "var x = new MutationObserver(function (mutations, observer) {{\n",
       "        var display = window.getComputedStyle(gd).display;\n",
       "        if (!display || display === 'none') {{\n",
       "            console.log([gd, 'removed!']);\n",
       "            Plotly.purge(gd);\n",
       "            observer.disconnect();\n",
       "        }}\n",
       "}});\n",
       "\n",
       "// Listen for the removal of the full notebook cells\n",
       "var notebookContainer = gd.closest('#notebook-container');\n",
       "if (notebookContainer) {{\n",
       "    x.observe(notebookContainer, {childList: true});\n",
       "}}\n",
       "\n",
       "// Listen for the clearing of the current output cell\n",
       "var outputEl = gd.closest('.output');\n",
       "if (outputEl) {{\n",
       "    x.observe(outputEl, {childList: true});\n",
       "}}\n",
       "\n",
       "                        })\n",
       "                };\n",
       "                });\n",
       "            </script>\n",
       "        </div>"
      ]
     },
     "metadata": {},
     "output_type": "display_data"
    }
   ],
   "source": [
    "df.sum().iplot(kind='bar')"
   ]
  },
  {
   "cell_type": "code",
   "execution_count": 38,
   "metadata": {},
   "outputs": [
    {
     "data": {
      "application/vnd.plotly.v1+json": {
       "config": {
        "linkText": "Export to plot.ly",
        "plotlyServerURL": "https://plot.ly",
        "showLink": true
       },
       "data": [
        {
         "boxpoints": false,
         "line": {
          "width": 1.3
         },
         "marker": {
          "color": "rgba(255, 153, 51, 1.0)"
         },
         "name": "A",
         "orientation": "v",
         "type": "box",
         "y": [
          0.7377480585830137,
          0.7342847783883112,
          -1.0683171404471412,
          -1.502733798438884,
          0.6561686237827556,
          -1.1459037323632137,
          0.6476633312484361,
          0.954015340373593,
          1.539985876684928,
          0.7985745670731059,
          -1.5918749202161273,
          0.8082330941312681,
          0.4497225270275956,
          0.44060026434460214,
          0.6348032618871884,
          1.3874779330072162,
          0.0438216873576978,
          -1.1014944244087401,
          -1.2275063824869006,
          -1.8290699710898346,
          -0.22351957823940455,
          -0.7050039212800109,
          -1.1183465214167012,
          -1.8248514931381798,
          1.4905083191743311,
          0.25626490998075285,
          0.7422419175531905,
          0.027907303872408085,
          -0.06577875054392432,
          -2.028482755750844,
          -0.9999937897710787,
          0.18755245412529312,
          -1.3748890838009733,
          -0.7893670077838172,
          -0.9693956309750764,
          -0.3874700518752942,
          0.8497108153574742,
          -2.3984511660062826,
          -1.0375323703356547,
          -1.1668382338824628,
          1.0178209906174234,
          -2.0184440193807105,
          0.10005832909083658,
          -0.5248020077275282,
          0.6066228167525038,
          0.2697695084102519,
          -1.332359037059602,
          -0.1136562919792124,
          -1.5255681143137725,
          0.7148349278548535,
          -0.23774122847181883,
          0.7716215119493806,
          0.02376413684294443,
          -0.20117023619862676,
          -0.5919119812096941,
          -2.289606638197903,
          -1.69171991905258,
          0.03946357615375144,
          0.061783385108110836,
          0.5000231705082663,
          -0.08109990486056581,
          -0.22066706333618294,
          0.6970531220231665,
          0.5792548517859589,
          0.3834561644480958,
          0.30649813188746133,
          -0.810500502854627,
          1.1874691913836422,
          0.04273693089697035,
          0.10807765364701052,
          -1.9834385486030648,
          0.30500393482364385,
          0.04025339830170707,
          -1.3667014133501796,
          -1.0856887678202325,
          0.6435525794998168,
          0.09094754542965085,
          0.11965187209304147,
          -1.109132843870616,
          -1.1028645951963907,
          0.5112915171860486,
          1.9374953617279147,
          -0.07245361045267751,
          -0.5470649360074591,
          3.3981405035516525,
          -1.170234159171683,
          0.4029753395723124,
          -0.49332286516639035,
          -1.1812130978576854,
          -2.0723603009366376,
          -0.8091482359309616,
          0.956168042124244,
          -0.26979704705689905,
          -0.06303567646588461,
          0.28774570776517755,
          1.3294452569558244,
          0.25037832471323584,
          -0.23303023685009297,
          -0.8954288193418369,
          -0.29096827647431506
         ]
        },
        {
         "boxpoints": false,
         "line": {
          "width": 1.3
         },
         "marker": {
          "color": "rgba(55, 128, 191, 1.0)"
         },
         "name": "B",
         "orientation": "v",
         "type": "box",
         "y": [
          0.19757683481913466,
          0.19652603702414015,
          0.8802559451990586,
          -3.246105290136032,
          0.13166861327125656,
          0.37894731398952586,
          0.9017310254915447,
          0.8410559395842016,
          -0.3475436119400676,
          -0.6333759579885387,
          -0.46721317143339497,
          -0.25197763683591395,
          0.10798919230128363,
          0.8279785479323732,
          0.5181141679590413,
          -0.08740292588407063,
          -0.6262855402267856,
          -0.9981323252780863,
          -0.16530789117237085,
          -1.1171779612314283,
          0.14964301868274876,
          -0.7213752047771493,
          -0.55422745014167,
          -1.8050140419080938,
          -0.09366392738194239,
          0.7226521207213704,
          0.950687199099526,
          -0.3285326599246558,
          1.4151962610116287,
          -0.874654751843458,
          0.429029706243159,
          0.38343051280730256,
          0.5229346393025011,
          -1.0546871079135307,
          -0.9096170476035544,
          -1.4792325006326723,
          -0.0658692466059647,
          -1.3027699560793393,
          0.988090979663669,
          -0.22409559289129885,
          0.7133713100303162,
          0.3416091416133028,
          -0.9306940942545728,
          -0.34340258028634024,
          -0.5820680198522021,
          -0.47557889455395325,
          -0.4927696339863192,
          -1.0305543868008562,
          -1.0992997531456075,
          0.9989814097855022,
          0.29706921050397894,
          0.44290029683620286,
          0.23479596022042112,
          -1.2590740525741102,
          -0.5553387627535838,
          -0.9247408398573905,
          -0.30264344149525485,
          -0.710723649552731,
          -0.4571537974062655,
          -1.2442424570271577,
          0.6278670818249709,
          -0.5607876516543867,
          -0.6455709830869545,
          0.8795806440458941,
          0.4075942240710124,
          -0.5077041158846402,
          1.403109214192499,
          0.41190914173872556,
          -0.9797664268315869,
          -0.407844408205296,
          0.20692180881156025,
          0.2171037233664773,
          -1.0206316273355782,
          0.28358419056260675,
          0.681150249787766,
          0.5826961401987615,
          0.93025604132711,
          -0.6151490682609284,
          -1.7903317652004367,
          0.7746725906814703,
          0.9587083684669854,
          -1.0291724032658307,
          0.48332863248025204,
          -0.10730694261016965,
          1.0628165318834424,
          0.3498735613601411,
          -1.4542444735205482,
          -0.37433846017044375,
          -0.03994373838327206,
          -0.35655183390093353,
          0.26880757874751465,
          0.5083302621189569,
          0.9995757926517211,
          3.432394122748129,
          -1.6958994843957778,
          -1.0586459065945708,
          -1.8360538740318209,
          -0.6032852020161685,
          -1.5928644283858395,
          -1.8202141537266145
         ]
        },
        {
         "boxpoints": false,
         "line": {
          "width": 1.3
         },
         "marker": {
          "color": "rgba(50, 171, 96, 1.0)"
         },
         "name": "C",
         "orientation": "v",
         "type": "box",
         "y": [
          -0.6096608224151466,
          -0.6195079747212103,
          0.7109406448525754,
          -1.3576488964524391,
          0.3539574156709573,
          1.2262553786457966,
          -0.5023942829843933,
          0.5522310577308305,
          0.7108756556978424,
          0.10920510938871546,
          0.4149967488288535,
          1.3011189754866916,
          0.5542723738033885,
          0.7987642339371241,
          0.8759170909728486,
          0.7219316733733715,
          -1.7869490716923797,
          -1.679550595679321,
          1.9274639583266926,
          0.3828021930857063,
          1.2608656994571699,
          -0.1938433376033397,
          1.8357859382308004,
          1.3001031158009266,
          -0.632849920499351,
          -1.5342524445220331,
          -2.3585628827994283,
          0.0661748444944162,
          0.006365499709921685,
          0.312995564273019,
          0.0937504317809031,
          -0.29835371474252503,
          -1.8279726016525282,
          -0.352868152041477,
          -0.8559998733210675,
          -0.28608530691286377,
          1.396727023340674,
          -0.40359163631147577,
          -0.3292458811883445,
          0.599421083749579,
          -1.2124000262503405,
          -0.5693543470575455,
          0.4377338777037384,
          -1.642144774079887,
          -0.30764720537762086,
          1.2542750180885254,
          0.7564255708797416,
          -0.9832730838691014,
          0.4164998282128355,
          0.7477748458530866,
          1.3560202886782509,
          1.546746331079022,
          1.9052164640676077,
          -2.0461367992280457,
          0.9687250883987175,
          -0.16111852239983515,
          -0.2623169457336536,
          0.6979029617949611,
          -1.4823878216061581,
          0.392877675346139,
          0.21566655583007072,
          -1.7472944763299612,
          -1.2516772119417252,
          -0.13766057172636878,
          0.6390747642098169,
          -0.5165476343485128,
          -0.662260234384109,
          -1.4190709440988007,
          0.9135263608642058,
          -0.16528750001260598,
          -0.40019365725797157,
          -0.3700242924353822,
          -1.962750084533982,
          -0.4508981113805817,
          -0.9727042912984357,
          0.04723505603996999,
          1.4504684351884678,
          -0.1189997957052009,
          -1.2371007992918832,
          0.5995717421705108,
          -1.1166092112545292,
          0.1715473028907822,
          -0.3347258686563542,
          -1.240185466280291,
          1.0476296913470322,
          1.700571192640512,
          0.3146752141594078,
          -0.8066274098380597,
          1.1412362503571325,
          0.9193081732449275,
          0.41038052464580893,
          -0.6929166527794698,
          0.7922727125420788,
          0.3475430006898677,
          -0.5775533782567989,
          1.387393562697111,
          -0.14139060179298688,
          0.1232069052447074,
          -1.6848274592682884,
          -0.3079396992785525
         ]
        },
        {
         "boxpoints": false,
         "line": {
          "width": 1.3
         },
         "marker": {
          "color": "rgba(128, 0, 128, 1.0)"
         },
         "name": "D",
         "orientation": "v",
         "type": "box",
         "y": [
          1.1401673986248801,
          0.13313653080927113,
          0.19698757663838,
          0.952955548715361,
          -0.20989517397197824,
          0.23896266017547702,
          -0.35425191925320987,
          -0.6126943383460478,
          1.3920191303747103,
          0.548922979417018,
          0.6143207621742002,
          0.31775370625711374,
          0.35343266229756776,
          0.8146004499815067,
          -1.0202276992452228,
          1.0329463600952744,
          0.4050958787576824,
          -2.8435300437531796,
          0.8476960698637384,
          0.30060393407956204,
          2.395377396817081,
          0.41754187027079953,
          -0.041557565209885516,
          1.7756192538628472,
          0.6033104525486233,
          0.32067559892224434,
          0.5146999332229149,
          -1.2934581169624737,
          -0.13703049255397978,
          -0.07213589597693378,
          -0.3770317341839668,
          -1.0696842549372618,
          0.9816766588940186,
          1.918981131133428,
          -0.2289408687169476,
          0.2671261146526187,
          0.5119462534866697,
          -0.8239501957925991,
          -0.10913167594946674,
          -0.6679040757000227,
          -0.7749056852741179,
          0.20389806534071162,
          -0.901276867585821,
          1.154099420824574,
          0.011354401808919192,
          0.2098443593415194,
          1.5854698876338933,
          -0.07344276075067835,
          0.5073385189309244,
          -1.773319236552539,
          -0.05272041058146565,
          -0.00362736273952922,
          -0.5945275493238228,
          0.41809379429104887,
          0.8909465400459582,
          0.09563245179050314,
          1.0311602461832148,
          1.0159953770058927,
          -0.6170213287877444,
          -1.0976143674215801,
          -1.5004841052765934,
          0.09431301496742447,
          -0.9452218800849674,
          -0.01560992121439684,
          0.7879037411261346,
          0.6853755116492865,
          -0.8623001717604366,
          1.0769194654893817,
          0.6431688511361634,
          0.12895953199732638,
          -0.5498628658378011,
          -1.4492936939235181,
          0.016024222288879897,
          2.664282252712835,
          1.0696366331516471,
          0.12835965398046997,
          0.5101687936919098,
          1.5299010478683583,
          -1.2335689808342365,
          0.2464428699381851,
          2.1078222162200384,
          0.7843387741083879,
          -0.1446628038271378,
          0.8157535679411924,
          -0.20789418560122971,
          1.2911215665236357,
          -0.4371104648645292,
          1.2891046799090462,
          0.14198386497507962,
          -0.24169307687263147,
          0.08057209185200362,
          1.448257337150349,
          -0.6207616616697897,
          -1.3403917003667252,
          -0.8028486224328306,
          -0.21052336907806699,
          -0.09233070228788874,
          -0.3661415088533711,
          -0.4629290587443829,
          1.0483734858888971
         ]
        }
       ],
       "layout": {
        "legend": {
         "bgcolor": "#F5F6F9",
         "font": {
          "color": "#4D5663"
         }
        },
        "paper_bgcolor": "#F5F6F9",
        "plot_bgcolor": "#F5F6F9",
        "template": {
         "data": {
          "bar": [
           {
            "error_x": {
             "color": "#2a3f5f"
            },
            "error_y": {
             "color": "#2a3f5f"
            },
            "marker": {
             "line": {
              "color": "#E5ECF6",
              "width": 0.5
             }
            },
            "type": "bar"
           }
          ],
          "barpolar": [
           {
            "marker": {
             "line": {
              "color": "#E5ECF6",
              "width": 0.5
             }
            },
            "type": "barpolar"
           }
          ],
          "carpet": [
           {
            "aaxis": {
             "endlinecolor": "#2a3f5f",
             "gridcolor": "white",
             "linecolor": "white",
             "minorgridcolor": "white",
             "startlinecolor": "#2a3f5f"
            },
            "baxis": {
             "endlinecolor": "#2a3f5f",
             "gridcolor": "white",
             "linecolor": "white",
             "minorgridcolor": "white",
             "startlinecolor": "#2a3f5f"
            },
            "type": "carpet"
           }
          ],
          "choropleth": [
           {
            "colorbar": {
             "outlinewidth": 0,
             "ticks": ""
            },
            "type": "choropleth"
           }
          ],
          "contour": [
           {
            "colorbar": {
             "outlinewidth": 0,
             "ticks": ""
            },
            "colorscale": [
             [
              0,
              "#0d0887"
             ],
             [
              0.1111111111111111,
              "#46039f"
             ],
             [
              0.2222222222222222,
              "#7201a8"
             ],
             [
              0.3333333333333333,
              "#9c179e"
             ],
             [
              0.4444444444444444,
              "#bd3786"
             ],
             [
              0.5555555555555556,
              "#d8576b"
             ],
             [
              0.6666666666666666,
              "#ed7953"
             ],
             [
              0.7777777777777778,
              "#fb9f3a"
             ],
             [
              0.8888888888888888,
              "#fdca26"
             ],
             [
              1,
              "#f0f921"
             ]
            ],
            "type": "contour"
           }
          ],
          "contourcarpet": [
           {
            "colorbar": {
             "outlinewidth": 0,
             "ticks": ""
            },
            "type": "contourcarpet"
           }
          ],
          "heatmap": [
           {
            "colorbar": {
             "outlinewidth": 0,
             "ticks": ""
            },
            "colorscale": [
             [
              0,
              "#0d0887"
             ],
             [
              0.1111111111111111,
              "#46039f"
             ],
             [
              0.2222222222222222,
              "#7201a8"
             ],
             [
              0.3333333333333333,
              "#9c179e"
             ],
             [
              0.4444444444444444,
              "#bd3786"
             ],
             [
              0.5555555555555556,
              "#d8576b"
             ],
             [
              0.6666666666666666,
              "#ed7953"
             ],
             [
              0.7777777777777778,
              "#fb9f3a"
             ],
             [
              0.8888888888888888,
              "#fdca26"
             ],
             [
              1,
              "#f0f921"
             ]
            ],
            "type": "heatmap"
           }
          ],
          "heatmapgl": [
           {
            "colorbar": {
             "outlinewidth": 0,
             "ticks": ""
            },
            "colorscale": [
             [
              0,
              "#0d0887"
             ],
             [
              0.1111111111111111,
              "#46039f"
             ],
             [
              0.2222222222222222,
              "#7201a8"
             ],
             [
              0.3333333333333333,
              "#9c179e"
             ],
             [
              0.4444444444444444,
              "#bd3786"
             ],
             [
              0.5555555555555556,
              "#d8576b"
             ],
             [
              0.6666666666666666,
              "#ed7953"
             ],
             [
              0.7777777777777778,
              "#fb9f3a"
             ],
             [
              0.8888888888888888,
              "#fdca26"
             ],
             [
              1,
              "#f0f921"
             ]
            ],
            "type": "heatmapgl"
           }
          ],
          "histogram": [
           {
            "marker": {
             "colorbar": {
              "outlinewidth": 0,
              "ticks": ""
             }
            },
            "type": "histogram"
           }
          ],
          "histogram2d": [
           {
            "colorbar": {
             "outlinewidth": 0,
             "ticks": ""
            },
            "colorscale": [
             [
              0,
              "#0d0887"
             ],
             [
              0.1111111111111111,
              "#46039f"
             ],
             [
              0.2222222222222222,
              "#7201a8"
             ],
             [
              0.3333333333333333,
              "#9c179e"
             ],
             [
              0.4444444444444444,
              "#bd3786"
             ],
             [
              0.5555555555555556,
              "#d8576b"
             ],
             [
              0.6666666666666666,
              "#ed7953"
             ],
             [
              0.7777777777777778,
              "#fb9f3a"
             ],
             [
              0.8888888888888888,
              "#fdca26"
             ],
             [
              1,
              "#f0f921"
             ]
            ],
            "type": "histogram2d"
           }
          ],
          "histogram2dcontour": [
           {
            "colorbar": {
             "outlinewidth": 0,
             "ticks": ""
            },
            "colorscale": [
             [
              0,
              "#0d0887"
             ],
             [
              0.1111111111111111,
              "#46039f"
             ],
             [
              0.2222222222222222,
              "#7201a8"
             ],
             [
              0.3333333333333333,
              "#9c179e"
             ],
             [
              0.4444444444444444,
              "#bd3786"
             ],
             [
              0.5555555555555556,
              "#d8576b"
             ],
             [
              0.6666666666666666,
              "#ed7953"
             ],
             [
              0.7777777777777778,
              "#fb9f3a"
             ],
             [
              0.8888888888888888,
              "#fdca26"
             ],
             [
              1,
              "#f0f921"
             ]
            ],
            "type": "histogram2dcontour"
           }
          ],
          "mesh3d": [
           {
            "colorbar": {
             "outlinewidth": 0,
             "ticks": ""
            },
            "type": "mesh3d"
           }
          ],
          "parcoords": [
           {
            "line": {
             "colorbar": {
              "outlinewidth": 0,
              "ticks": ""
             }
            },
            "type": "parcoords"
           }
          ],
          "pie": [
           {
            "automargin": true,
            "type": "pie"
           }
          ],
          "scatter": [
           {
            "marker": {
             "colorbar": {
              "outlinewidth": 0,
              "ticks": ""
             }
            },
            "type": "scatter"
           }
          ],
          "scatter3d": [
           {
            "line": {
             "colorbar": {
              "outlinewidth": 0,
              "ticks": ""
             }
            },
            "marker": {
             "colorbar": {
              "outlinewidth": 0,
              "ticks": ""
             }
            },
            "type": "scatter3d"
           }
          ],
          "scattercarpet": [
           {
            "marker": {
             "colorbar": {
              "outlinewidth": 0,
              "ticks": ""
             }
            },
            "type": "scattercarpet"
           }
          ],
          "scattergeo": [
           {
            "marker": {
             "colorbar": {
              "outlinewidth": 0,
              "ticks": ""
             }
            },
            "type": "scattergeo"
           }
          ],
          "scattergl": [
           {
            "marker": {
             "colorbar": {
              "outlinewidth": 0,
              "ticks": ""
             }
            },
            "type": "scattergl"
           }
          ],
          "scattermapbox": [
           {
            "marker": {
             "colorbar": {
              "outlinewidth": 0,
              "ticks": ""
             }
            },
            "type": "scattermapbox"
           }
          ],
          "scatterpolar": [
           {
            "marker": {
             "colorbar": {
              "outlinewidth": 0,
              "ticks": ""
             }
            },
            "type": "scatterpolar"
           }
          ],
          "scatterpolargl": [
           {
            "marker": {
             "colorbar": {
              "outlinewidth": 0,
              "ticks": ""
             }
            },
            "type": "scatterpolargl"
           }
          ],
          "scatterternary": [
           {
            "marker": {
             "colorbar": {
              "outlinewidth": 0,
              "ticks": ""
             }
            },
            "type": "scatterternary"
           }
          ],
          "surface": [
           {
            "colorbar": {
             "outlinewidth": 0,
             "ticks": ""
            },
            "colorscale": [
             [
              0,
              "#0d0887"
             ],
             [
              0.1111111111111111,
              "#46039f"
             ],
             [
              0.2222222222222222,
              "#7201a8"
             ],
             [
              0.3333333333333333,
              "#9c179e"
             ],
             [
              0.4444444444444444,
              "#bd3786"
             ],
             [
              0.5555555555555556,
              "#d8576b"
             ],
             [
              0.6666666666666666,
              "#ed7953"
             ],
             [
              0.7777777777777778,
              "#fb9f3a"
             ],
             [
              0.8888888888888888,
              "#fdca26"
             ],
             [
              1,
              "#f0f921"
             ]
            ],
            "type": "surface"
           }
          ],
          "table": [
           {
            "cells": {
             "fill": {
              "color": "#EBF0F8"
             },
             "line": {
              "color": "white"
             }
            },
            "header": {
             "fill": {
              "color": "#C8D4E3"
             },
             "line": {
              "color": "white"
             }
            },
            "type": "table"
           }
          ]
         },
         "layout": {
          "annotationdefaults": {
           "arrowcolor": "#2a3f5f",
           "arrowhead": 0,
           "arrowwidth": 1
          },
          "coloraxis": {
           "colorbar": {
            "outlinewidth": 0,
            "ticks": ""
           }
          },
          "colorscale": {
           "diverging": [
            [
             0,
             "#8e0152"
            ],
            [
             0.1,
             "#c51b7d"
            ],
            [
             0.2,
             "#de77ae"
            ],
            [
             0.3,
             "#f1b6da"
            ],
            [
             0.4,
             "#fde0ef"
            ],
            [
             0.5,
             "#f7f7f7"
            ],
            [
             0.6,
             "#e6f5d0"
            ],
            [
             0.7,
             "#b8e186"
            ],
            [
             0.8,
             "#7fbc41"
            ],
            [
             0.9,
             "#4d9221"
            ],
            [
             1,
             "#276419"
            ]
           ],
           "sequential": [
            [
             0,
             "#0d0887"
            ],
            [
             0.1111111111111111,
             "#46039f"
            ],
            [
             0.2222222222222222,
             "#7201a8"
            ],
            [
             0.3333333333333333,
             "#9c179e"
            ],
            [
             0.4444444444444444,
             "#bd3786"
            ],
            [
             0.5555555555555556,
             "#d8576b"
            ],
            [
             0.6666666666666666,
             "#ed7953"
            ],
            [
             0.7777777777777778,
             "#fb9f3a"
            ],
            [
             0.8888888888888888,
             "#fdca26"
            ],
            [
             1,
             "#f0f921"
            ]
           ],
           "sequentialminus": [
            [
             0,
             "#0d0887"
            ],
            [
             0.1111111111111111,
             "#46039f"
            ],
            [
             0.2222222222222222,
             "#7201a8"
            ],
            [
             0.3333333333333333,
             "#9c179e"
            ],
            [
             0.4444444444444444,
             "#bd3786"
            ],
            [
             0.5555555555555556,
             "#d8576b"
            ],
            [
             0.6666666666666666,
             "#ed7953"
            ],
            [
             0.7777777777777778,
             "#fb9f3a"
            ],
            [
             0.8888888888888888,
             "#fdca26"
            ],
            [
             1,
             "#f0f921"
            ]
           ]
          },
          "colorway": [
           "#636efa",
           "#EF553B",
           "#00cc96",
           "#ab63fa",
           "#FFA15A",
           "#19d3f3",
           "#FF6692",
           "#B6E880",
           "#FF97FF",
           "#FECB52"
          ],
          "font": {
           "color": "#2a3f5f"
          },
          "geo": {
           "bgcolor": "white",
           "lakecolor": "white",
           "landcolor": "#E5ECF6",
           "showlakes": true,
           "showland": true,
           "subunitcolor": "white"
          },
          "hoverlabel": {
           "align": "left"
          },
          "hovermode": "closest",
          "mapbox": {
           "style": "light"
          },
          "paper_bgcolor": "white",
          "plot_bgcolor": "#E5ECF6",
          "polar": {
           "angularaxis": {
            "gridcolor": "white",
            "linecolor": "white",
            "ticks": ""
           },
           "bgcolor": "#E5ECF6",
           "radialaxis": {
            "gridcolor": "white",
            "linecolor": "white",
            "ticks": ""
           }
          },
          "scene": {
           "xaxis": {
            "backgroundcolor": "#E5ECF6",
            "gridcolor": "white",
            "gridwidth": 2,
            "linecolor": "white",
            "showbackground": true,
            "ticks": "",
            "zerolinecolor": "white"
           },
           "yaxis": {
            "backgroundcolor": "#E5ECF6",
            "gridcolor": "white",
            "gridwidth": 2,
            "linecolor": "white",
            "showbackground": true,
            "ticks": "",
            "zerolinecolor": "white"
           },
           "zaxis": {
            "backgroundcolor": "#E5ECF6",
            "gridcolor": "white",
            "gridwidth": 2,
            "linecolor": "white",
            "showbackground": true,
            "ticks": "",
            "zerolinecolor": "white"
           }
          },
          "shapedefaults": {
           "line": {
            "color": "#2a3f5f"
           }
          },
          "ternary": {
           "aaxis": {
            "gridcolor": "white",
            "linecolor": "white",
            "ticks": ""
           },
           "baxis": {
            "gridcolor": "white",
            "linecolor": "white",
            "ticks": ""
           },
           "bgcolor": "#E5ECF6",
           "caxis": {
            "gridcolor": "white",
            "linecolor": "white",
            "ticks": ""
           }
          },
          "title": {
           "x": 0.05
          },
          "xaxis": {
           "automargin": true,
           "gridcolor": "white",
           "linecolor": "white",
           "ticks": "",
           "title": {
            "standoff": 15
           },
           "zerolinecolor": "white",
           "zerolinewidth": 2
          },
          "yaxis": {
           "automargin": true,
           "gridcolor": "white",
           "linecolor": "white",
           "ticks": "",
           "title": {
            "standoff": 15
           },
           "zerolinecolor": "white",
           "zerolinewidth": 2
          }
         }
        },
        "title": {
         "font": {
          "color": "#4D5663"
         }
        },
        "xaxis": {
         "gridcolor": "#E1E5ED",
         "showgrid": true,
         "tickfont": {
          "color": "#4D5663"
         },
         "title": {
          "font": {
           "color": "#4D5663"
          },
          "text": ""
         },
         "zerolinecolor": "#E1E5ED"
        },
        "yaxis": {
         "gridcolor": "#E1E5ED",
         "showgrid": true,
         "tickfont": {
          "color": "#4D5663"
         },
         "title": {
          "font": {
           "color": "#4D5663"
          },
          "text": ""
         },
         "zerolinecolor": "#E1E5ED"
        }
       }
      },
      "text/html": [
       "<div>\n",
       "        \n",
       "        \n",
       "            <div id=\"8851e325-4d67-4577-84a7-24fabbff3ff4\" class=\"plotly-graph-div\" style=\"height:525px; width:100%;\"></div>\n",
       "            <script type=\"text/javascript\">\n",
       "                require([\"plotly\"], function(Plotly) {\n",
       "                    window.PLOTLYENV=window.PLOTLYENV || {};\n",
       "                    window.PLOTLYENV.BASE_URL='https://plot.ly';\n",
       "                    \n",
       "                if (document.getElementById(\"8851e325-4d67-4577-84a7-24fabbff3ff4\")) {\n",
       "                    Plotly.newPlot(\n",
       "                        '8851e325-4d67-4577-84a7-24fabbff3ff4',\n",
       "                        [{\"boxpoints\": false, \"line\": {\"width\": 1.3}, \"marker\": {\"color\": \"rgba(255, 153, 51, 1.0)\"}, \"name\": \"A\", \"orientation\": \"v\", \"type\": \"box\", \"y\": [0.7377480585830137, 0.7342847783883112, -1.0683171404471412, -1.502733798438884, 0.6561686237827556, -1.1459037323632137, 0.6476633312484361, 0.954015340373593, 1.539985876684928, 0.7985745670731059, -1.5918749202161273, 0.8082330941312681, 0.4497225270275956, 0.44060026434460214, 0.6348032618871884, 1.3874779330072162, 0.0438216873576978, -1.1014944244087401, -1.2275063824869006, -1.8290699710898346, -0.22351957823940455, -0.7050039212800109, -1.1183465214167012, -1.8248514931381798, 1.4905083191743311, 0.25626490998075285, 0.7422419175531905, 0.027907303872408085, -0.06577875054392432, -2.028482755750844, -0.9999937897710787, 0.18755245412529312, -1.3748890838009733, -0.7893670077838172, -0.9693956309750764, -0.3874700518752942, 0.8497108153574742, -2.3984511660062826, -1.0375323703356547, -1.1668382338824628, 1.0178209906174234, -2.0184440193807105, 0.10005832909083658, -0.5248020077275282, 0.6066228167525038, 0.2697695084102519, -1.332359037059602, -0.1136562919792124, -1.5255681143137725, 0.7148349278548535, -0.23774122847181883, 0.7716215119493806, 0.02376413684294443, -0.20117023619862676, -0.5919119812096941, -2.289606638197903, -1.69171991905258, 0.03946357615375144, 0.061783385108110836, 0.5000231705082663, -0.08109990486056581, -0.22066706333618294, 0.6970531220231665, 0.5792548517859589, 0.3834561644480958, 0.30649813188746133, -0.810500502854627, 1.1874691913836422, 0.04273693089697035, 0.10807765364701052, -1.9834385486030648, 0.30500393482364385, 0.04025339830170707, -1.3667014133501796, -1.0856887678202325, 0.6435525794998168, 0.09094754542965085, 0.11965187209304147, -1.109132843870616, -1.1028645951963907, 0.5112915171860486, 1.9374953617279147, -0.07245361045267751, -0.5470649360074591, 3.3981405035516525, -1.170234159171683, 0.4029753395723124, -0.49332286516639035, -1.1812130978576854, -2.0723603009366376, -0.8091482359309616, 0.956168042124244, -0.26979704705689905, -0.06303567646588461, 0.28774570776517755, 1.3294452569558244, 0.25037832471323584, -0.23303023685009297, -0.8954288193418369, -0.29096827647431506]}, {\"boxpoints\": false, \"line\": {\"width\": 1.3}, \"marker\": {\"color\": \"rgba(55, 128, 191, 1.0)\"}, \"name\": \"B\", \"orientation\": \"v\", \"type\": \"box\", \"y\": [0.19757683481913466, 0.19652603702414015, 0.8802559451990586, -3.246105290136032, 0.13166861327125656, 0.37894731398952586, 0.9017310254915447, 0.8410559395842016, -0.3475436119400676, -0.6333759579885387, -0.46721317143339497, -0.25197763683591395, 0.10798919230128363, 0.8279785479323732, 0.5181141679590413, -0.08740292588407063, -0.6262855402267856, -0.9981323252780863, -0.16530789117237085, -1.1171779612314283, 0.14964301868274876, -0.7213752047771493, -0.55422745014167, -1.8050140419080938, -0.09366392738194239, 0.7226521207213704, 0.950687199099526, -0.3285326599246558, 1.4151962610116287, -0.874654751843458, 0.429029706243159, 0.38343051280730256, 0.5229346393025011, -1.0546871079135307, -0.9096170476035544, -1.4792325006326723, -0.0658692466059647, -1.3027699560793393, 0.988090979663669, -0.22409559289129885, 0.7133713100303162, 0.3416091416133028, -0.9306940942545728, -0.34340258028634024, -0.5820680198522021, -0.47557889455395325, -0.4927696339863192, -1.0305543868008562, -1.0992997531456075, 0.9989814097855022, 0.29706921050397894, 0.44290029683620286, 0.23479596022042112, -1.2590740525741102, -0.5553387627535838, -0.9247408398573905, -0.30264344149525485, -0.710723649552731, -0.4571537974062655, -1.2442424570271577, 0.6278670818249709, -0.5607876516543867, -0.6455709830869545, 0.8795806440458941, 0.4075942240710124, -0.5077041158846402, 1.403109214192499, 0.41190914173872556, -0.9797664268315869, -0.407844408205296, 0.20692180881156025, 0.2171037233664773, -1.0206316273355782, 0.28358419056260675, 0.681150249787766, 0.5826961401987615, 0.93025604132711, -0.6151490682609284, -1.7903317652004367, 0.7746725906814703, 0.9587083684669854, -1.0291724032658307, 0.48332863248025204, -0.10730694261016965, 1.0628165318834424, 0.3498735613601411, -1.4542444735205482, -0.37433846017044375, -0.03994373838327206, -0.35655183390093353, 0.26880757874751465, 0.5083302621189569, 0.9995757926517211, 3.432394122748129, -1.6958994843957778, -1.0586459065945708, -1.8360538740318209, -0.6032852020161685, -1.5928644283858395, -1.8202141537266145]}, {\"boxpoints\": false, \"line\": {\"width\": 1.3}, \"marker\": {\"color\": \"rgba(50, 171, 96, 1.0)\"}, \"name\": \"C\", \"orientation\": \"v\", \"type\": \"box\", \"y\": [-0.6096608224151466, -0.6195079747212103, 0.7109406448525754, -1.3576488964524391, 0.3539574156709573, 1.2262553786457966, -0.5023942829843933, 0.5522310577308305, 0.7108756556978424, 0.10920510938871546, 0.4149967488288535, 1.3011189754866916, 0.5542723738033885, 0.7987642339371241, 0.8759170909728486, 0.7219316733733715, -1.7869490716923797, -1.679550595679321, 1.9274639583266926, 0.3828021930857063, 1.2608656994571699, -0.1938433376033397, 1.8357859382308004, 1.3001031158009266, -0.632849920499351, -1.5342524445220331, -2.3585628827994283, 0.0661748444944162, 0.006365499709921685, 0.312995564273019, 0.0937504317809031, -0.29835371474252503, -1.8279726016525282, -0.352868152041477, -0.8559998733210675, -0.28608530691286377, 1.396727023340674, -0.40359163631147577, -0.3292458811883445, 0.599421083749579, -1.2124000262503405, -0.5693543470575455, 0.4377338777037384, -1.642144774079887, -0.30764720537762086, 1.2542750180885254, 0.7564255708797416, -0.9832730838691014, 0.4164998282128355, 0.7477748458530866, 1.3560202886782509, 1.546746331079022, 1.9052164640676077, -2.0461367992280457, 0.9687250883987175, -0.16111852239983515, -0.2623169457336536, 0.6979029617949611, -1.4823878216061581, 0.392877675346139, 0.21566655583007072, -1.7472944763299612, -1.2516772119417252, -0.13766057172636878, 0.6390747642098169, -0.5165476343485128, -0.662260234384109, -1.4190709440988007, 0.9135263608642058, -0.16528750001260598, -0.40019365725797157, -0.3700242924353822, -1.962750084533982, -0.4508981113805817, -0.9727042912984357, 0.04723505603996999, 1.4504684351884678, -0.1189997957052009, -1.2371007992918832, 0.5995717421705108, -1.1166092112545292, 0.1715473028907822, -0.3347258686563542, -1.240185466280291, 1.0476296913470322, 1.700571192640512, 0.3146752141594078, -0.8066274098380597, 1.1412362503571325, 0.9193081732449275, 0.41038052464580893, -0.6929166527794698, 0.7922727125420788, 0.3475430006898677, -0.5775533782567989, 1.387393562697111, -0.14139060179298688, 0.1232069052447074, -1.6848274592682884, -0.3079396992785525]}, {\"boxpoints\": false, \"line\": {\"width\": 1.3}, \"marker\": {\"color\": \"rgba(128, 0, 128, 1.0)\"}, \"name\": \"D\", \"orientation\": \"v\", \"type\": \"box\", \"y\": [1.1401673986248801, 0.13313653080927113, 0.19698757663838, 0.952955548715361, -0.20989517397197824, 0.23896266017547702, -0.35425191925320987, -0.6126943383460478, 1.3920191303747103, 0.548922979417018, 0.6143207621742002, 0.31775370625711374, 0.35343266229756776, 0.8146004499815067, -1.0202276992452228, 1.0329463600952744, 0.4050958787576824, -2.8435300437531796, 0.8476960698637384, 0.30060393407956204, 2.395377396817081, 0.41754187027079953, -0.041557565209885516, 1.7756192538628472, 0.6033104525486233, 0.32067559892224434, 0.5146999332229149, -1.2934581169624737, -0.13703049255397978, -0.07213589597693378, -0.3770317341839668, -1.0696842549372618, 0.9816766588940186, 1.918981131133428, -0.2289408687169476, 0.2671261146526187, 0.5119462534866697, -0.8239501957925991, -0.10913167594946674, -0.6679040757000227, -0.7749056852741179, 0.20389806534071162, -0.901276867585821, 1.154099420824574, 0.011354401808919192, 0.2098443593415194, 1.5854698876338933, -0.07344276075067835, 0.5073385189309244, -1.773319236552539, -0.05272041058146565, -0.00362736273952922, -0.5945275493238228, 0.41809379429104887, 0.8909465400459582, 0.09563245179050314, 1.0311602461832148, 1.0159953770058927, -0.6170213287877444, -1.0976143674215801, -1.5004841052765934, 0.09431301496742447, -0.9452218800849674, -0.01560992121439684, 0.7879037411261346, 0.6853755116492865, -0.8623001717604366, 1.0769194654893817, 0.6431688511361634, 0.12895953199732638, -0.5498628658378011, -1.4492936939235181, 0.016024222288879897, 2.664282252712835, 1.0696366331516471, 0.12835965398046997, 0.5101687936919098, 1.5299010478683583, -1.2335689808342365, 0.2464428699381851, 2.1078222162200384, 0.7843387741083879, -0.1446628038271378, 0.8157535679411924, -0.20789418560122971, 1.2911215665236357, -0.4371104648645292, 1.2891046799090462, 0.14198386497507962, -0.24169307687263147, 0.08057209185200362, 1.448257337150349, -0.6207616616697897, -1.3403917003667252, -0.8028486224328306, -0.21052336907806699, -0.09233070228788874, -0.3661415088533711, -0.4629290587443829, 1.0483734858888971]}],\n",
       "                        {\"legend\": {\"bgcolor\": \"#F5F6F9\", \"font\": {\"color\": \"#4D5663\"}}, \"paper_bgcolor\": \"#F5F6F9\", \"plot_bgcolor\": \"#F5F6F9\", \"template\": {\"data\": {\"bar\": [{\"error_x\": {\"color\": \"#2a3f5f\"}, \"error_y\": {\"color\": \"#2a3f5f\"}, \"marker\": {\"line\": {\"color\": \"#E5ECF6\", \"width\": 0.5}}, \"type\": \"bar\"}], \"barpolar\": [{\"marker\": {\"line\": {\"color\": \"#E5ECF6\", \"width\": 0.5}}, \"type\": \"barpolar\"}], \"carpet\": [{\"aaxis\": {\"endlinecolor\": \"#2a3f5f\", \"gridcolor\": \"white\", \"linecolor\": \"white\", \"minorgridcolor\": \"white\", \"startlinecolor\": \"#2a3f5f\"}, \"baxis\": {\"endlinecolor\": \"#2a3f5f\", \"gridcolor\": \"white\", \"linecolor\": \"white\", \"minorgridcolor\": \"white\", \"startlinecolor\": \"#2a3f5f\"}, \"type\": \"carpet\"}], \"choropleth\": [{\"colorbar\": {\"outlinewidth\": 0, \"ticks\": \"\"}, \"type\": \"choropleth\"}], \"contour\": [{\"colorbar\": {\"outlinewidth\": 0, \"ticks\": \"\"}, \"colorscale\": [[0.0, \"#0d0887\"], [0.1111111111111111, \"#46039f\"], [0.2222222222222222, \"#7201a8\"], [0.3333333333333333, \"#9c179e\"], [0.4444444444444444, \"#bd3786\"], [0.5555555555555556, \"#d8576b\"], [0.6666666666666666, \"#ed7953\"], [0.7777777777777778, \"#fb9f3a\"], [0.8888888888888888, \"#fdca26\"], [1.0, \"#f0f921\"]], \"type\": \"contour\"}], \"contourcarpet\": [{\"colorbar\": {\"outlinewidth\": 0, \"ticks\": \"\"}, \"type\": \"contourcarpet\"}], \"heatmap\": [{\"colorbar\": {\"outlinewidth\": 0, \"ticks\": \"\"}, \"colorscale\": [[0.0, \"#0d0887\"], [0.1111111111111111, \"#46039f\"], [0.2222222222222222, \"#7201a8\"], [0.3333333333333333, \"#9c179e\"], [0.4444444444444444, \"#bd3786\"], [0.5555555555555556, \"#d8576b\"], [0.6666666666666666, \"#ed7953\"], [0.7777777777777778, \"#fb9f3a\"], [0.8888888888888888, \"#fdca26\"], [1.0, \"#f0f921\"]], \"type\": \"heatmap\"}], \"heatmapgl\": [{\"colorbar\": {\"outlinewidth\": 0, \"ticks\": \"\"}, \"colorscale\": [[0.0, \"#0d0887\"], [0.1111111111111111, \"#46039f\"], [0.2222222222222222, \"#7201a8\"], [0.3333333333333333, \"#9c179e\"], [0.4444444444444444, \"#bd3786\"], [0.5555555555555556, \"#d8576b\"], [0.6666666666666666, \"#ed7953\"], [0.7777777777777778, \"#fb9f3a\"], [0.8888888888888888, \"#fdca26\"], [1.0, \"#f0f921\"]], \"type\": \"heatmapgl\"}], \"histogram\": [{\"marker\": {\"colorbar\": {\"outlinewidth\": 0, \"ticks\": \"\"}}, \"type\": \"histogram\"}], \"histogram2d\": [{\"colorbar\": {\"outlinewidth\": 0, \"ticks\": \"\"}, \"colorscale\": [[0.0, \"#0d0887\"], [0.1111111111111111, \"#46039f\"], [0.2222222222222222, \"#7201a8\"], [0.3333333333333333, \"#9c179e\"], [0.4444444444444444, \"#bd3786\"], [0.5555555555555556, \"#d8576b\"], [0.6666666666666666, \"#ed7953\"], [0.7777777777777778, \"#fb9f3a\"], [0.8888888888888888, \"#fdca26\"], [1.0, \"#f0f921\"]], \"type\": \"histogram2d\"}], \"histogram2dcontour\": [{\"colorbar\": {\"outlinewidth\": 0, \"ticks\": \"\"}, \"colorscale\": [[0.0, \"#0d0887\"], [0.1111111111111111, \"#46039f\"], [0.2222222222222222, \"#7201a8\"], [0.3333333333333333, \"#9c179e\"], [0.4444444444444444, \"#bd3786\"], [0.5555555555555556, \"#d8576b\"], [0.6666666666666666, \"#ed7953\"], [0.7777777777777778, \"#fb9f3a\"], [0.8888888888888888, \"#fdca26\"], [1.0, \"#f0f921\"]], \"type\": \"histogram2dcontour\"}], \"mesh3d\": [{\"colorbar\": {\"outlinewidth\": 0, \"ticks\": \"\"}, \"type\": \"mesh3d\"}], \"parcoords\": [{\"line\": {\"colorbar\": {\"outlinewidth\": 0, \"ticks\": \"\"}}, \"type\": \"parcoords\"}], \"pie\": [{\"automargin\": true, \"type\": \"pie\"}], \"scatter\": [{\"marker\": {\"colorbar\": {\"outlinewidth\": 0, \"ticks\": \"\"}}, \"type\": \"scatter\"}], \"scatter3d\": [{\"line\": {\"colorbar\": {\"outlinewidth\": 0, \"ticks\": \"\"}}, \"marker\": {\"colorbar\": {\"outlinewidth\": 0, \"ticks\": \"\"}}, \"type\": \"scatter3d\"}], \"scattercarpet\": [{\"marker\": {\"colorbar\": {\"outlinewidth\": 0, \"ticks\": \"\"}}, \"type\": \"scattercarpet\"}], \"scattergeo\": [{\"marker\": {\"colorbar\": {\"outlinewidth\": 0, \"ticks\": \"\"}}, \"type\": \"scattergeo\"}], \"scattergl\": [{\"marker\": {\"colorbar\": {\"outlinewidth\": 0, \"ticks\": \"\"}}, \"type\": \"scattergl\"}], \"scattermapbox\": [{\"marker\": {\"colorbar\": {\"outlinewidth\": 0, \"ticks\": \"\"}}, \"type\": \"scattermapbox\"}], \"scatterpolar\": [{\"marker\": {\"colorbar\": {\"outlinewidth\": 0, \"ticks\": \"\"}}, \"type\": \"scatterpolar\"}], \"scatterpolargl\": [{\"marker\": {\"colorbar\": {\"outlinewidth\": 0, \"ticks\": \"\"}}, \"type\": \"scatterpolargl\"}], \"scatterternary\": [{\"marker\": {\"colorbar\": {\"outlinewidth\": 0, \"ticks\": \"\"}}, \"type\": \"scatterternary\"}], \"surface\": [{\"colorbar\": {\"outlinewidth\": 0, \"ticks\": \"\"}, \"colorscale\": [[0.0, \"#0d0887\"], [0.1111111111111111, \"#46039f\"], [0.2222222222222222, \"#7201a8\"], [0.3333333333333333, \"#9c179e\"], [0.4444444444444444, \"#bd3786\"], [0.5555555555555556, \"#d8576b\"], [0.6666666666666666, \"#ed7953\"], [0.7777777777777778, \"#fb9f3a\"], [0.8888888888888888, \"#fdca26\"], [1.0, \"#f0f921\"]], \"type\": \"surface\"}], \"table\": [{\"cells\": {\"fill\": {\"color\": \"#EBF0F8\"}, \"line\": {\"color\": \"white\"}}, \"header\": {\"fill\": {\"color\": \"#C8D4E3\"}, \"line\": {\"color\": \"white\"}}, \"type\": \"table\"}]}, \"layout\": {\"annotationdefaults\": {\"arrowcolor\": \"#2a3f5f\", \"arrowhead\": 0, \"arrowwidth\": 1}, \"coloraxis\": {\"colorbar\": {\"outlinewidth\": 0, \"ticks\": \"\"}}, \"colorscale\": {\"diverging\": [[0, \"#8e0152\"], [0.1, \"#c51b7d\"], [0.2, \"#de77ae\"], [0.3, \"#f1b6da\"], [0.4, \"#fde0ef\"], [0.5, \"#f7f7f7\"], [0.6, \"#e6f5d0\"], [0.7, \"#b8e186\"], [0.8, \"#7fbc41\"], [0.9, \"#4d9221\"], [1, \"#276419\"]], \"sequential\": [[0.0, \"#0d0887\"], [0.1111111111111111, \"#46039f\"], [0.2222222222222222, \"#7201a8\"], [0.3333333333333333, \"#9c179e\"], [0.4444444444444444, \"#bd3786\"], [0.5555555555555556, \"#d8576b\"], [0.6666666666666666, \"#ed7953\"], [0.7777777777777778, \"#fb9f3a\"], [0.8888888888888888, \"#fdca26\"], [1.0, \"#f0f921\"]], \"sequentialminus\": [[0.0, \"#0d0887\"], [0.1111111111111111, \"#46039f\"], [0.2222222222222222, \"#7201a8\"], [0.3333333333333333, \"#9c179e\"], [0.4444444444444444, \"#bd3786\"], [0.5555555555555556, \"#d8576b\"], [0.6666666666666666, \"#ed7953\"], [0.7777777777777778, \"#fb9f3a\"], [0.8888888888888888, \"#fdca26\"], [1.0, \"#f0f921\"]]}, \"colorway\": [\"#636efa\", \"#EF553B\", \"#00cc96\", \"#ab63fa\", \"#FFA15A\", \"#19d3f3\", \"#FF6692\", \"#B6E880\", \"#FF97FF\", \"#FECB52\"], \"font\": {\"color\": \"#2a3f5f\"}, \"geo\": {\"bgcolor\": \"white\", \"lakecolor\": \"white\", \"landcolor\": \"#E5ECF6\", \"showlakes\": true, \"showland\": true, \"subunitcolor\": \"white\"}, \"hoverlabel\": {\"align\": \"left\"}, \"hovermode\": \"closest\", \"mapbox\": {\"style\": \"light\"}, \"paper_bgcolor\": \"white\", \"plot_bgcolor\": \"#E5ECF6\", \"polar\": {\"angularaxis\": {\"gridcolor\": \"white\", \"linecolor\": \"white\", \"ticks\": \"\"}, \"bgcolor\": \"#E5ECF6\", \"radialaxis\": {\"gridcolor\": \"white\", \"linecolor\": \"white\", \"ticks\": \"\"}}, \"scene\": {\"xaxis\": {\"backgroundcolor\": \"#E5ECF6\", \"gridcolor\": \"white\", \"gridwidth\": 2, \"linecolor\": \"white\", \"showbackground\": true, \"ticks\": \"\", \"zerolinecolor\": \"white\"}, \"yaxis\": {\"backgroundcolor\": \"#E5ECF6\", \"gridcolor\": \"white\", \"gridwidth\": 2, \"linecolor\": \"white\", \"showbackground\": true, \"ticks\": \"\", \"zerolinecolor\": \"white\"}, \"zaxis\": {\"backgroundcolor\": \"#E5ECF6\", \"gridcolor\": \"white\", \"gridwidth\": 2, \"linecolor\": \"white\", \"showbackground\": true, \"ticks\": \"\", \"zerolinecolor\": \"white\"}}, \"shapedefaults\": {\"line\": {\"color\": \"#2a3f5f\"}}, \"ternary\": {\"aaxis\": {\"gridcolor\": \"white\", \"linecolor\": \"white\", \"ticks\": \"\"}, \"baxis\": {\"gridcolor\": \"white\", \"linecolor\": \"white\", \"ticks\": \"\"}, \"bgcolor\": \"#E5ECF6\", \"caxis\": {\"gridcolor\": \"white\", \"linecolor\": \"white\", \"ticks\": \"\"}}, \"title\": {\"x\": 0.05}, \"xaxis\": {\"automargin\": true, \"gridcolor\": \"white\", \"linecolor\": \"white\", \"ticks\": \"\", \"title\": {\"standoff\": 15}, \"zerolinecolor\": \"white\", \"zerolinewidth\": 2}, \"yaxis\": {\"automargin\": true, \"gridcolor\": \"white\", \"linecolor\": \"white\", \"ticks\": \"\", \"title\": {\"standoff\": 15}, \"zerolinecolor\": \"white\", \"zerolinewidth\": 2}}}, \"title\": {\"font\": {\"color\": \"#4D5663\"}}, \"xaxis\": {\"gridcolor\": \"#E1E5ED\", \"showgrid\": true, \"tickfont\": {\"color\": \"#4D5663\"}, \"title\": {\"font\": {\"color\": \"#4D5663\"}, \"text\": \"\"}, \"zerolinecolor\": \"#E1E5ED\"}, \"yaxis\": {\"gridcolor\": \"#E1E5ED\", \"showgrid\": true, \"tickfont\": {\"color\": \"#4D5663\"}, \"title\": {\"font\": {\"color\": \"#4D5663\"}, \"text\": \"\"}, \"zerolinecolor\": \"#E1E5ED\"}},\n",
       "                        {\"showLink\": true, \"linkText\": \"Export to plot.ly\", \"plotlyServerURL\": \"https://plot.ly\", \"responsive\": true}\n",
       "                    ).then(function(){\n",
       "                            \n",
       "var gd = document.getElementById('8851e325-4d67-4577-84a7-24fabbff3ff4');\n",
       "var x = new MutationObserver(function (mutations, observer) {{\n",
       "        var display = window.getComputedStyle(gd).display;\n",
       "        if (!display || display === 'none') {{\n",
       "            console.log([gd, 'removed!']);\n",
       "            Plotly.purge(gd);\n",
       "            observer.disconnect();\n",
       "        }}\n",
       "}});\n",
       "\n",
       "// Listen for the removal of the full notebook cells\n",
       "var notebookContainer = gd.closest('#notebook-container');\n",
       "if (notebookContainer) {{\n",
       "    x.observe(notebookContainer, {childList: true});\n",
       "}}\n",
       "\n",
       "// Listen for the clearing of the current output cell\n",
       "var outputEl = gd.closest('.output');\n",
       "if (outputEl) {{\n",
       "    x.observe(outputEl, {childList: true});\n",
       "}}\n",
       "\n",
       "                        })\n",
       "                };\n",
       "                });\n",
       "            </script>\n",
       "        </div>"
      ]
     },
     "metadata": {},
     "output_type": "display_data"
    }
   ],
   "source": [
    "df.iplot(kind='box')"
   ]
  },
  {
   "cell_type": "code",
   "execution_count": 40,
   "metadata": {},
   "outputs": [],
   "source": [
    "df3=pd.DataFrame({'x':[1,2,3,4,5],'y':[10,20,30,40,50],'z':[500,400,300,200,100]})"
   ]
  },
  {
   "cell_type": "code",
   "execution_count": 41,
   "metadata": {},
   "outputs": [
    {
     "data": {
      "text/html": [
       "<div>\n",
       "<style scoped>\n",
       "    .dataframe tbody tr th:only-of-type {\n",
       "        vertical-align: middle;\n",
       "    }\n",
       "\n",
       "    .dataframe tbody tr th {\n",
       "        vertical-align: top;\n",
       "    }\n",
       "\n",
       "    .dataframe thead th {\n",
       "        text-align: right;\n",
       "    }\n",
       "</style>\n",
       "<table border=\"1\" class=\"dataframe\">\n",
       "  <thead>\n",
       "    <tr style=\"text-align: right;\">\n",
       "      <th></th>\n",
       "      <th>x</th>\n",
       "      <th>y</th>\n",
       "      <th>z</th>\n",
       "    </tr>\n",
       "  </thead>\n",
       "  <tbody>\n",
       "    <tr>\n",
       "      <th>0</th>\n",
       "      <td>1</td>\n",
       "      <td>10</td>\n",
       "      <td>500</td>\n",
       "    </tr>\n",
       "    <tr>\n",
       "      <th>1</th>\n",
       "      <td>2</td>\n",
       "      <td>20</td>\n",
       "      <td>400</td>\n",
       "    </tr>\n",
       "    <tr>\n",
       "      <th>2</th>\n",
       "      <td>3</td>\n",
       "      <td>30</td>\n",
       "      <td>300</td>\n",
       "    </tr>\n",
       "    <tr>\n",
       "      <th>3</th>\n",
       "      <td>4</td>\n",
       "      <td>40</td>\n",
       "      <td>200</td>\n",
       "    </tr>\n",
       "    <tr>\n",
       "      <th>4</th>\n",
       "      <td>5</td>\n",
       "      <td>50</td>\n",
       "      <td>100</td>\n",
       "    </tr>\n",
       "  </tbody>\n",
       "</table>\n",
       "</div>"
      ],
      "text/plain": [
       "   x   y    z\n",
       "0  1  10  500\n",
       "1  2  20  400\n",
       "2  3  30  300\n",
       "3  4  40  200\n",
       "4  5  50  100"
      ]
     },
     "execution_count": 41,
     "metadata": {},
     "output_type": "execute_result"
    }
   ],
   "source": [
    "df3"
   ]
  },
  {
   "cell_type": "code",
   "execution_count": 43,
   "metadata": {},
   "outputs": [
    {
     "data": {
      "application/vnd.plotly.v1+json": {
       "config": {
        "linkText": "Export to plot.ly",
        "plotlyServerURL": "https://plot.ly",
        "showLink": true
       },
       "data": [
        {
         "colorscale": [
          [
           0,
           "rgb(165,0,38)"
          ],
          [
           0.1,
           "rgb(215,48,39)"
          ],
          [
           0.2,
           "rgb(244,109,67)"
          ],
          [
           0.3,
           "rgb(253,174,97)"
          ],
          [
           0.4,
           "rgb(254,224,144)"
          ],
          [
           0.5,
           "rgb(255,255,191)"
          ],
          [
           0.6,
           "rgb(224,243,248)"
          ],
          [
           0.7,
           "rgb(171,217,233)"
          ],
          [
           0.8,
           "rgb(116,173,209)"
          ],
          [
           0.9,
           "rgb(69,117,180)"
          ],
          [
           1,
           "rgb(49,54,149)"
          ]
         ],
         "type": "surface",
         "x": [
          0,
          1,
          2,
          3,
          4
         ],
         "y": [
          "x",
          "y",
          "z"
         ],
         "z": [
          [
           1,
           2,
           3,
           4,
           5
          ],
          [
           10,
           20,
           30,
           40,
           50
          ],
          [
           500,
           400,
           300,
           200,
           100
          ]
         ]
        }
       ],
       "layout": {
        "legend": {
         "bgcolor": "#F5F6F9",
         "font": {
          "color": "#4D5663"
         }
        },
        "paper_bgcolor": "#F5F6F9",
        "plot_bgcolor": "#F5F6F9",
        "template": {
         "data": {
          "bar": [
           {
            "error_x": {
             "color": "#2a3f5f"
            },
            "error_y": {
             "color": "#2a3f5f"
            },
            "marker": {
             "line": {
              "color": "#E5ECF6",
              "width": 0.5
             }
            },
            "type": "bar"
           }
          ],
          "barpolar": [
           {
            "marker": {
             "line": {
              "color": "#E5ECF6",
              "width": 0.5
             }
            },
            "type": "barpolar"
           }
          ],
          "carpet": [
           {
            "aaxis": {
             "endlinecolor": "#2a3f5f",
             "gridcolor": "white",
             "linecolor": "white",
             "minorgridcolor": "white",
             "startlinecolor": "#2a3f5f"
            },
            "baxis": {
             "endlinecolor": "#2a3f5f",
             "gridcolor": "white",
             "linecolor": "white",
             "minorgridcolor": "white",
             "startlinecolor": "#2a3f5f"
            },
            "type": "carpet"
           }
          ],
          "choropleth": [
           {
            "colorbar": {
             "outlinewidth": 0,
             "ticks": ""
            },
            "type": "choropleth"
           }
          ],
          "contour": [
           {
            "colorbar": {
             "outlinewidth": 0,
             "ticks": ""
            },
            "colorscale": [
             [
              0,
              "#0d0887"
             ],
             [
              0.1111111111111111,
              "#46039f"
             ],
             [
              0.2222222222222222,
              "#7201a8"
             ],
             [
              0.3333333333333333,
              "#9c179e"
             ],
             [
              0.4444444444444444,
              "#bd3786"
             ],
             [
              0.5555555555555556,
              "#d8576b"
             ],
             [
              0.6666666666666666,
              "#ed7953"
             ],
             [
              0.7777777777777778,
              "#fb9f3a"
             ],
             [
              0.8888888888888888,
              "#fdca26"
             ],
             [
              1,
              "#f0f921"
             ]
            ],
            "type": "contour"
           }
          ],
          "contourcarpet": [
           {
            "colorbar": {
             "outlinewidth": 0,
             "ticks": ""
            },
            "type": "contourcarpet"
           }
          ],
          "heatmap": [
           {
            "colorbar": {
             "outlinewidth": 0,
             "ticks": ""
            },
            "colorscale": [
             [
              0,
              "#0d0887"
             ],
             [
              0.1111111111111111,
              "#46039f"
             ],
             [
              0.2222222222222222,
              "#7201a8"
             ],
             [
              0.3333333333333333,
              "#9c179e"
             ],
             [
              0.4444444444444444,
              "#bd3786"
             ],
             [
              0.5555555555555556,
              "#d8576b"
             ],
             [
              0.6666666666666666,
              "#ed7953"
             ],
             [
              0.7777777777777778,
              "#fb9f3a"
             ],
             [
              0.8888888888888888,
              "#fdca26"
             ],
             [
              1,
              "#f0f921"
             ]
            ],
            "type": "heatmap"
           }
          ],
          "heatmapgl": [
           {
            "colorbar": {
             "outlinewidth": 0,
             "ticks": ""
            },
            "colorscale": [
             [
              0,
              "#0d0887"
             ],
             [
              0.1111111111111111,
              "#46039f"
             ],
             [
              0.2222222222222222,
              "#7201a8"
             ],
             [
              0.3333333333333333,
              "#9c179e"
             ],
             [
              0.4444444444444444,
              "#bd3786"
             ],
             [
              0.5555555555555556,
              "#d8576b"
             ],
             [
              0.6666666666666666,
              "#ed7953"
             ],
             [
              0.7777777777777778,
              "#fb9f3a"
             ],
             [
              0.8888888888888888,
              "#fdca26"
             ],
             [
              1,
              "#f0f921"
             ]
            ],
            "type": "heatmapgl"
           }
          ],
          "histogram": [
           {
            "marker": {
             "colorbar": {
              "outlinewidth": 0,
              "ticks": ""
             }
            },
            "type": "histogram"
           }
          ],
          "histogram2d": [
           {
            "colorbar": {
             "outlinewidth": 0,
             "ticks": ""
            },
            "colorscale": [
             [
              0,
              "#0d0887"
             ],
             [
              0.1111111111111111,
              "#46039f"
             ],
             [
              0.2222222222222222,
              "#7201a8"
             ],
             [
              0.3333333333333333,
              "#9c179e"
             ],
             [
              0.4444444444444444,
              "#bd3786"
             ],
             [
              0.5555555555555556,
              "#d8576b"
             ],
             [
              0.6666666666666666,
              "#ed7953"
             ],
             [
              0.7777777777777778,
              "#fb9f3a"
             ],
             [
              0.8888888888888888,
              "#fdca26"
             ],
             [
              1,
              "#f0f921"
             ]
            ],
            "type": "histogram2d"
           }
          ],
          "histogram2dcontour": [
           {
            "colorbar": {
             "outlinewidth": 0,
             "ticks": ""
            },
            "colorscale": [
             [
              0,
              "#0d0887"
             ],
             [
              0.1111111111111111,
              "#46039f"
             ],
             [
              0.2222222222222222,
              "#7201a8"
             ],
             [
              0.3333333333333333,
              "#9c179e"
             ],
             [
              0.4444444444444444,
              "#bd3786"
             ],
             [
              0.5555555555555556,
              "#d8576b"
             ],
             [
              0.6666666666666666,
              "#ed7953"
             ],
             [
              0.7777777777777778,
              "#fb9f3a"
             ],
             [
              0.8888888888888888,
              "#fdca26"
             ],
             [
              1,
              "#f0f921"
             ]
            ],
            "type": "histogram2dcontour"
           }
          ],
          "mesh3d": [
           {
            "colorbar": {
             "outlinewidth": 0,
             "ticks": ""
            },
            "type": "mesh3d"
           }
          ],
          "parcoords": [
           {
            "line": {
             "colorbar": {
              "outlinewidth": 0,
              "ticks": ""
             }
            },
            "type": "parcoords"
           }
          ],
          "pie": [
           {
            "automargin": true,
            "type": "pie"
           }
          ],
          "scatter": [
           {
            "marker": {
             "colorbar": {
              "outlinewidth": 0,
              "ticks": ""
             }
            },
            "type": "scatter"
           }
          ],
          "scatter3d": [
           {
            "line": {
             "colorbar": {
              "outlinewidth": 0,
              "ticks": ""
             }
            },
            "marker": {
             "colorbar": {
              "outlinewidth": 0,
              "ticks": ""
             }
            },
            "type": "scatter3d"
           }
          ],
          "scattercarpet": [
           {
            "marker": {
             "colorbar": {
              "outlinewidth": 0,
              "ticks": ""
             }
            },
            "type": "scattercarpet"
           }
          ],
          "scattergeo": [
           {
            "marker": {
             "colorbar": {
              "outlinewidth": 0,
              "ticks": ""
             }
            },
            "type": "scattergeo"
           }
          ],
          "scattergl": [
           {
            "marker": {
             "colorbar": {
              "outlinewidth": 0,
              "ticks": ""
             }
            },
            "type": "scattergl"
           }
          ],
          "scattermapbox": [
           {
            "marker": {
             "colorbar": {
              "outlinewidth": 0,
              "ticks": ""
             }
            },
            "type": "scattermapbox"
           }
          ],
          "scatterpolar": [
           {
            "marker": {
             "colorbar": {
              "outlinewidth": 0,
              "ticks": ""
             }
            },
            "type": "scatterpolar"
           }
          ],
          "scatterpolargl": [
           {
            "marker": {
             "colorbar": {
              "outlinewidth": 0,
              "ticks": ""
             }
            },
            "type": "scatterpolargl"
           }
          ],
          "scatterternary": [
           {
            "marker": {
             "colorbar": {
              "outlinewidth": 0,
              "ticks": ""
             }
            },
            "type": "scatterternary"
           }
          ],
          "surface": [
           {
            "colorbar": {
             "outlinewidth": 0,
             "ticks": ""
            },
            "colorscale": [
             [
              0,
              "#0d0887"
             ],
             [
              0.1111111111111111,
              "#46039f"
             ],
             [
              0.2222222222222222,
              "#7201a8"
             ],
             [
              0.3333333333333333,
              "#9c179e"
             ],
             [
              0.4444444444444444,
              "#bd3786"
             ],
             [
              0.5555555555555556,
              "#d8576b"
             ],
             [
              0.6666666666666666,
              "#ed7953"
             ],
             [
              0.7777777777777778,
              "#fb9f3a"
             ],
             [
              0.8888888888888888,
              "#fdca26"
             ],
             [
              1,
              "#f0f921"
             ]
            ],
            "type": "surface"
           }
          ],
          "table": [
           {
            "cells": {
             "fill": {
              "color": "#EBF0F8"
             },
             "line": {
              "color": "white"
             }
            },
            "header": {
             "fill": {
              "color": "#C8D4E3"
             },
             "line": {
              "color": "white"
             }
            },
            "type": "table"
           }
          ]
         },
         "layout": {
          "annotationdefaults": {
           "arrowcolor": "#2a3f5f",
           "arrowhead": 0,
           "arrowwidth": 1
          },
          "coloraxis": {
           "colorbar": {
            "outlinewidth": 0,
            "ticks": ""
           }
          },
          "colorscale": {
           "diverging": [
            [
             0,
             "#8e0152"
            ],
            [
             0.1,
             "#c51b7d"
            ],
            [
             0.2,
             "#de77ae"
            ],
            [
             0.3,
             "#f1b6da"
            ],
            [
             0.4,
             "#fde0ef"
            ],
            [
             0.5,
             "#f7f7f7"
            ],
            [
             0.6,
             "#e6f5d0"
            ],
            [
             0.7,
             "#b8e186"
            ],
            [
             0.8,
             "#7fbc41"
            ],
            [
             0.9,
             "#4d9221"
            ],
            [
             1,
             "#276419"
            ]
           ],
           "sequential": [
            [
             0,
             "#0d0887"
            ],
            [
             0.1111111111111111,
             "#46039f"
            ],
            [
             0.2222222222222222,
             "#7201a8"
            ],
            [
             0.3333333333333333,
             "#9c179e"
            ],
            [
             0.4444444444444444,
             "#bd3786"
            ],
            [
             0.5555555555555556,
             "#d8576b"
            ],
            [
             0.6666666666666666,
             "#ed7953"
            ],
            [
             0.7777777777777778,
             "#fb9f3a"
            ],
            [
             0.8888888888888888,
             "#fdca26"
            ],
            [
             1,
             "#f0f921"
            ]
           ],
           "sequentialminus": [
            [
             0,
             "#0d0887"
            ],
            [
             0.1111111111111111,
             "#46039f"
            ],
            [
             0.2222222222222222,
             "#7201a8"
            ],
            [
             0.3333333333333333,
             "#9c179e"
            ],
            [
             0.4444444444444444,
             "#bd3786"
            ],
            [
             0.5555555555555556,
             "#d8576b"
            ],
            [
             0.6666666666666666,
             "#ed7953"
            ],
            [
             0.7777777777777778,
             "#fb9f3a"
            ],
            [
             0.8888888888888888,
             "#fdca26"
            ],
            [
             1,
             "#f0f921"
            ]
           ]
          },
          "colorway": [
           "#636efa",
           "#EF553B",
           "#00cc96",
           "#ab63fa",
           "#FFA15A",
           "#19d3f3",
           "#FF6692",
           "#B6E880",
           "#FF97FF",
           "#FECB52"
          ],
          "font": {
           "color": "#2a3f5f"
          },
          "geo": {
           "bgcolor": "white",
           "lakecolor": "white",
           "landcolor": "#E5ECF6",
           "showlakes": true,
           "showland": true,
           "subunitcolor": "white"
          },
          "hoverlabel": {
           "align": "left"
          },
          "hovermode": "closest",
          "mapbox": {
           "style": "light"
          },
          "paper_bgcolor": "white",
          "plot_bgcolor": "#E5ECF6",
          "polar": {
           "angularaxis": {
            "gridcolor": "white",
            "linecolor": "white",
            "ticks": ""
           },
           "bgcolor": "#E5ECF6",
           "radialaxis": {
            "gridcolor": "white",
            "linecolor": "white",
            "ticks": ""
           }
          },
          "scene": {
           "xaxis": {
            "backgroundcolor": "#E5ECF6",
            "gridcolor": "white",
            "gridwidth": 2,
            "linecolor": "white",
            "showbackground": true,
            "ticks": "",
            "zerolinecolor": "white"
           },
           "yaxis": {
            "backgroundcolor": "#E5ECF6",
            "gridcolor": "white",
            "gridwidth": 2,
            "linecolor": "white",
            "showbackground": true,
            "ticks": "",
            "zerolinecolor": "white"
           },
           "zaxis": {
            "backgroundcolor": "#E5ECF6",
            "gridcolor": "white",
            "gridwidth": 2,
            "linecolor": "white",
            "showbackground": true,
            "ticks": "",
            "zerolinecolor": "white"
           }
          },
          "shapedefaults": {
           "line": {
            "color": "#2a3f5f"
           }
          },
          "ternary": {
           "aaxis": {
            "gridcolor": "white",
            "linecolor": "white",
            "ticks": ""
           },
           "baxis": {
            "gridcolor": "white",
            "linecolor": "white",
            "ticks": ""
           },
           "bgcolor": "#E5ECF6",
           "caxis": {
            "gridcolor": "white",
            "linecolor": "white",
            "ticks": ""
           }
          },
          "title": {
           "x": 0.05
          },
          "xaxis": {
           "automargin": true,
           "gridcolor": "white",
           "linecolor": "white",
           "ticks": "",
           "title": {
            "standoff": 15
           },
           "zerolinecolor": "white",
           "zerolinewidth": 2
          },
          "yaxis": {
           "automargin": true,
           "gridcolor": "white",
           "linecolor": "white",
           "ticks": "",
           "title": {
            "standoff": 15
           },
           "zerolinecolor": "white",
           "zerolinewidth": 2
          }
         }
        },
        "title": {
         "font": {
          "color": "#4D5663"
         }
        },
        "xaxis": {
         "gridcolor": "#E1E5ED",
         "showgrid": true,
         "tickfont": {
          "color": "#4D5663"
         },
         "title": {
          "font": {
           "color": "#4D5663"
          },
          "text": ""
         },
         "zerolinecolor": "#E1E5ED"
        },
        "yaxis": {
         "gridcolor": "#E1E5ED",
         "showgrid": true,
         "tickfont": {
          "color": "#4D5663"
         },
         "title": {
          "font": {
           "color": "#4D5663"
          },
          "text": ""
         },
         "zerolinecolor": "#E1E5ED"
        }
       }
      },
      "text/html": [
       "<div>\n",
       "        \n",
       "        \n",
       "            <div id=\"d7115d3f-18bd-406e-b284-596ba728ca8d\" class=\"plotly-graph-div\" style=\"height:525px; width:100%;\"></div>\n",
       "            <script type=\"text/javascript\">\n",
       "                require([\"plotly\"], function(Plotly) {\n",
       "                    window.PLOTLYENV=window.PLOTLYENV || {};\n",
       "                    window.PLOTLYENV.BASE_URL='https://plot.ly';\n",
       "                    \n",
       "                if (document.getElementById(\"d7115d3f-18bd-406e-b284-596ba728ca8d\")) {\n",
       "                    Plotly.newPlot(\n",
       "                        'd7115d3f-18bd-406e-b284-596ba728ca8d',\n",
       "                        [{\"colorscale\": [[0.0, \"rgb(165,0,38)\"], [0.1, \"rgb(215,48,39)\"], [0.2, \"rgb(244,109,67)\"], [0.3, \"rgb(253,174,97)\"], [0.4, \"rgb(254,224,144)\"], [0.5, \"rgb(255,255,191)\"], [0.6, \"rgb(224,243,248)\"], [0.7, \"rgb(171,217,233)\"], [0.8, \"rgb(116,173,209)\"], [0.9, \"rgb(69,117,180)\"], [1.0, \"rgb(49,54,149)\"]], \"type\": \"surface\", \"x\": [0, 1, 2, 3, 4], \"y\": [\"x\", \"y\", \"z\"], \"z\": [[1, 2, 3, 4, 5], [10, 20, 30, 40, 50], [500, 400, 300, 200, 100]]}],\n",
       "                        {\"legend\": {\"bgcolor\": \"#F5F6F9\", \"font\": {\"color\": \"#4D5663\"}}, \"paper_bgcolor\": \"#F5F6F9\", \"plot_bgcolor\": \"#F5F6F9\", \"template\": {\"data\": {\"bar\": [{\"error_x\": {\"color\": \"#2a3f5f\"}, \"error_y\": {\"color\": \"#2a3f5f\"}, \"marker\": {\"line\": {\"color\": \"#E5ECF6\", \"width\": 0.5}}, \"type\": \"bar\"}], \"barpolar\": [{\"marker\": {\"line\": {\"color\": \"#E5ECF6\", \"width\": 0.5}}, \"type\": \"barpolar\"}], \"carpet\": [{\"aaxis\": {\"endlinecolor\": \"#2a3f5f\", \"gridcolor\": \"white\", \"linecolor\": \"white\", \"minorgridcolor\": \"white\", \"startlinecolor\": \"#2a3f5f\"}, \"baxis\": {\"endlinecolor\": \"#2a3f5f\", \"gridcolor\": \"white\", \"linecolor\": \"white\", \"minorgridcolor\": \"white\", \"startlinecolor\": \"#2a3f5f\"}, \"type\": \"carpet\"}], \"choropleth\": [{\"colorbar\": {\"outlinewidth\": 0, \"ticks\": \"\"}, \"type\": \"choropleth\"}], \"contour\": [{\"colorbar\": {\"outlinewidth\": 0, \"ticks\": \"\"}, \"colorscale\": [[0.0, \"#0d0887\"], [0.1111111111111111, \"#46039f\"], [0.2222222222222222, \"#7201a8\"], [0.3333333333333333, \"#9c179e\"], [0.4444444444444444, \"#bd3786\"], [0.5555555555555556, \"#d8576b\"], [0.6666666666666666, \"#ed7953\"], [0.7777777777777778, \"#fb9f3a\"], [0.8888888888888888, \"#fdca26\"], [1.0, \"#f0f921\"]], \"type\": \"contour\"}], \"contourcarpet\": [{\"colorbar\": {\"outlinewidth\": 0, \"ticks\": \"\"}, \"type\": \"contourcarpet\"}], \"heatmap\": [{\"colorbar\": {\"outlinewidth\": 0, \"ticks\": \"\"}, \"colorscale\": [[0.0, \"#0d0887\"], [0.1111111111111111, \"#46039f\"], [0.2222222222222222, \"#7201a8\"], [0.3333333333333333, \"#9c179e\"], [0.4444444444444444, \"#bd3786\"], [0.5555555555555556, \"#d8576b\"], [0.6666666666666666, \"#ed7953\"], [0.7777777777777778, \"#fb9f3a\"], [0.8888888888888888, \"#fdca26\"], [1.0, \"#f0f921\"]], \"type\": \"heatmap\"}], \"heatmapgl\": [{\"colorbar\": {\"outlinewidth\": 0, \"ticks\": \"\"}, \"colorscale\": [[0.0, \"#0d0887\"], [0.1111111111111111, \"#46039f\"], [0.2222222222222222, \"#7201a8\"], [0.3333333333333333, \"#9c179e\"], [0.4444444444444444, \"#bd3786\"], [0.5555555555555556, \"#d8576b\"], [0.6666666666666666, \"#ed7953\"], [0.7777777777777778, \"#fb9f3a\"], [0.8888888888888888, \"#fdca26\"], [1.0, \"#f0f921\"]], \"type\": \"heatmapgl\"}], \"histogram\": [{\"marker\": {\"colorbar\": {\"outlinewidth\": 0, \"ticks\": \"\"}}, \"type\": \"histogram\"}], \"histogram2d\": [{\"colorbar\": {\"outlinewidth\": 0, \"ticks\": \"\"}, \"colorscale\": [[0.0, \"#0d0887\"], [0.1111111111111111, \"#46039f\"], [0.2222222222222222, \"#7201a8\"], [0.3333333333333333, \"#9c179e\"], [0.4444444444444444, \"#bd3786\"], [0.5555555555555556, \"#d8576b\"], [0.6666666666666666, \"#ed7953\"], [0.7777777777777778, \"#fb9f3a\"], [0.8888888888888888, \"#fdca26\"], [1.0, \"#f0f921\"]], \"type\": \"histogram2d\"}], \"histogram2dcontour\": [{\"colorbar\": {\"outlinewidth\": 0, \"ticks\": \"\"}, \"colorscale\": [[0.0, \"#0d0887\"], [0.1111111111111111, \"#46039f\"], [0.2222222222222222, \"#7201a8\"], [0.3333333333333333, \"#9c179e\"], [0.4444444444444444, \"#bd3786\"], [0.5555555555555556, \"#d8576b\"], [0.6666666666666666, \"#ed7953\"], [0.7777777777777778, \"#fb9f3a\"], [0.8888888888888888, \"#fdca26\"], [1.0, \"#f0f921\"]], \"type\": \"histogram2dcontour\"}], \"mesh3d\": [{\"colorbar\": {\"outlinewidth\": 0, \"ticks\": \"\"}, \"type\": \"mesh3d\"}], \"parcoords\": [{\"line\": {\"colorbar\": {\"outlinewidth\": 0, \"ticks\": \"\"}}, \"type\": \"parcoords\"}], \"pie\": [{\"automargin\": true, \"type\": \"pie\"}], \"scatter\": [{\"marker\": {\"colorbar\": {\"outlinewidth\": 0, \"ticks\": \"\"}}, \"type\": \"scatter\"}], \"scatter3d\": [{\"line\": {\"colorbar\": {\"outlinewidth\": 0, \"ticks\": \"\"}}, \"marker\": {\"colorbar\": {\"outlinewidth\": 0, \"ticks\": \"\"}}, \"type\": \"scatter3d\"}], \"scattercarpet\": [{\"marker\": {\"colorbar\": {\"outlinewidth\": 0, \"ticks\": \"\"}}, \"type\": \"scattercarpet\"}], \"scattergeo\": [{\"marker\": {\"colorbar\": {\"outlinewidth\": 0, \"ticks\": \"\"}}, \"type\": \"scattergeo\"}], \"scattergl\": [{\"marker\": {\"colorbar\": {\"outlinewidth\": 0, \"ticks\": \"\"}}, \"type\": \"scattergl\"}], \"scattermapbox\": [{\"marker\": {\"colorbar\": {\"outlinewidth\": 0, \"ticks\": \"\"}}, \"type\": \"scattermapbox\"}], \"scatterpolar\": [{\"marker\": {\"colorbar\": {\"outlinewidth\": 0, \"ticks\": \"\"}}, \"type\": \"scatterpolar\"}], \"scatterpolargl\": [{\"marker\": {\"colorbar\": {\"outlinewidth\": 0, \"ticks\": \"\"}}, \"type\": \"scatterpolargl\"}], \"scatterternary\": [{\"marker\": {\"colorbar\": {\"outlinewidth\": 0, \"ticks\": \"\"}}, \"type\": \"scatterternary\"}], \"surface\": [{\"colorbar\": {\"outlinewidth\": 0, \"ticks\": \"\"}, \"colorscale\": [[0.0, \"#0d0887\"], [0.1111111111111111, \"#46039f\"], [0.2222222222222222, \"#7201a8\"], [0.3333333333333333, \"#9c179e\"], [0.4444444444444444, \"#bd3786\"], [0.5555555555555556, \"#d8576b\"], [0.6666666666666666, \"#ed7953\"], [0.7777777777777778, \"#fb9f3a\"], [0.8888888888888888, \"#fdca26\"], [1.0, \"#f0f921\"]], \"type\": \"surface\"}], \"table\": [{\"cells\": {\"fill\": {\"color\": \"#EBF0F8\"}, \"line\": {\"color\": \"white\"}}, \"header\": {\"fill\": {\"color\": \"#C8D4E3\"}, \"line\": {\"color\": \"white\"}}, \"type\": \"table\"}]}, \"layout\": {\"annotationdefaults\": {\"arrowcolor\": \"#2a3f5f\", \"arrowhead\": 0, \"arrowwidth\": 1}, \"coloraxis\": {\"colorbar\": {\"outlinewidth\": 0, \"ticks\": \"\"}}, \"colorscale\": {\"diverging\": [[0, \"#8e0152\"], [0.1, \"#c51b7d\"], [0.2, \"#de77ae\"], [0.3, \"#f1b6da\"], [0.4, \"#fde0ef\"], [0.5, \"#f7f7f7\"], [0.6, \"#e6f5d0\"], [0.7, \"#b8e186\"], [0.8, \"#7fbc41\"], [0.9, \"#4d9221\"], [1, \"#276419\"]], \"sequential\": [[0.0, \"#0d0887\"], [0.1111111111111111, \"#46039f\"], [0.2222222222222222, \"#7201a8\"], [0.3333333333333333, \"#9c179e\"], [0.4444444444444444, \"#bd3786\"], [0.5555555555555556, \"#d8576b\"], [0.6666666666666666, \"#ed7953\"], [0.7777777777777778, \"#fb9f3a\"], [0.8888888888888888, \"#fdca26\"], [1.0, \"#f0f921\"]], \"sequentialminus\": [[0.0, \"#0d0887\"], [0.1111111111111111, \"#46039f\"], [0.2222222222222222, \"#7201a8\"], [0.3333333333333333, \"#9c179e\"], [0.4444444444444444, \"#bd3786\"], [0.5555555555555556, \"#d8576b\"], [0.6666666666666666, \"#ed7953\"], [0.7777777777777778, \"#fb9f3a\"], [0.8888888888888888, \"#fdca26\"], [1.0, \"#f0f921\"]]}, \"colorway\": [\"#636efa\", \"#EF553B\", \"#00cc96\", \"#ab63fa\", \"#FFA15A\", \"#19d3f3\", \"#FF6692\", \"#B6E880\", \"#FF97FF\", \"#FECB52\"], \"font\": {\"color\": \"#2a3f5f\"}, \"geo\": {\"bgcolor\": \"white\", \"lakecolor\": \"white\", \"landcolor\": \"#E5ECF6\", \"showlakes\": true, \"showland\": true, \"subunitcolor\": \"white\"}, \"hoverlabel\": {\"align\": \"left\"}, \"hovermode\": \"closest\", \"mapbox\": {\"style\": \"light\"}, \"paper_bgcolor\": \"white\", \"plot_bgcolor\": \"#E5ECF6\", \"polar\": {\"angularaxis\": {\"gridcolor\": \"white\", \"linecolor\": \"white\", \"ticks\": \"\"}, \"bgcolor\": \"#E5ECF6\", \"radialaxis\": {\"gridcolor\": \"white\", \"linecolor\": \"white\", \"ticks\": \"\"}}, \"scene\": {\"xaxis\": {\"backgroundcolor\": \"#E5ECF6\", \"gridcolor\": \"white\", \"gridwidth\": 2, \"linecolor\": \"white\", \"showbackground\": true, \"ticks\": \"\", \"zerolinecolor\": \"white\"}, \"yaxis\": {\"backgroundcolor\": \"#E5ECF6\", \"gridcolor\": \"white\", \"gridwidth\": 2, \"linecolor\": \"white\", \"showbackground\": true, \"ticks\": \"\", \"zerolinecolor\": \"white\"}, \"zaxis\": {\"backgroundcolor\": \"#E5ECF6\", \"gridcolor\": \"white\", \"gridwidth\": 2, \"linecolor\": \"white\", \"showbackground\": true, \"ticks\": \"\", \"zerolinecolor\": \"white\"}}, \"shapedefaults\": {\"line\": {\"color\": \"#2a3f5f\"}}, \"ternary\": {\"aaxis\": {\"gridcolor\": \"white\", \"linecolor\": \"white\", \"ticks\": \"\"}, \"baxis\": {\"gridcolor\": \"white\", \"linecolor\": \"white\", \"ticks\": \"\"}, \"bgcolor\": \"#E5ECF6\", \"caxis\": {\"gridcolor\": \"white\", \"linecolor\": \"white\", \"ticks\": \"\"}}, \"title\": {\"x\": 0.05}, \"xaxis\": {\"automargin\": true, \"gridcolor\": \"white\", \"linecolor\": \"white\", \"ticks\": \"\", \"title\": {\"standoff\": 15}, \"zerolinecolor\": \"white\", \"zerolinewidth\": 2}, \"yaxis\": {\"automargin\": true, \"gridcolor\": \"white\", \"linecolor\": \"white\", \"ticks\": \"\", \"title\": {\"standoff\": 15}, \"zerolinecolor\": \"white\", \"zerolinewidth\": 2}}}, \"title\": {\"font\": {\"color\": \"#4D5663\"}}, \"xaxis\": {\"gridcolor\": \"#E1E5ED\", \"showgrid\": true, \"tickfont\": {\"color\": \"#4D5663\"}, \"title\": {\"font\": {\"color\": \"#4D5663\"}, \"text\": \"\"}, \"zerolinecolor\": \"#E1E5ED\"}, \"yaxis\": {\"gridcolor\": \"#E1E5ED\", \"showgrid\": true, \"tickfont\": {\"color\": \"#4D5663\"}, \"title\": {\"font\": {\"color\": \"#4D5663\"}, \"text\": \"\"}, \"zerolinecolor\": \"#E1E5ED\"}},\n",
       "                        {\"showLink\": true, \"linkText\": \"Export to plot.ly\", \"plotlyServerURL\": \"https://plot.ly\", \"responsive\": true}\n",
       "                    ).then(function(){\n",
       "                            \n",
       "var gd = document.getElementById('d7115d3f-18bd-406e-b284-596ba728ca8d');\n",
       "var x = new MutationObserver(function (mutations, observer) {{\n",
       "        var display = window.getComputedStyle(gd).display;\n",
       "        if (!display || display === 'none') {{\n",
       "            console.log([gd, 'removed!']);\n",
       "            Plotly.purge(gd);\n",
       "            observer.disconnect();\n",
       "        }}\n",
       "}});\n",
       "\n",
       "// Listen for the removal of the full notebook cells\n",
       "var notebookContainer = gd.closest('#notebook-container');\n",
       "if (notebookContainer) {{\n",
       "    x.observe(notebookContainer, {childList: true});\n",
       "}}\n",
       "\n",
       "// Listen for the clearing of the current output cell\n",
       "var outputEl = gd.closest('.output');\n",
       "if (outputEl) {{\n",
       "    x.observe(outputEl, {childList: true});\n",
       "}}\n",
       "\n",
       "                        })\n",
       "                };\n",
       "                });\n",
       "            </script>\n",
       "        </div>"
      ]
     },
     "metadata": {},
     "output_type": "display_data"
    }
   ],
   "source": [
    "df3.iplot(kind='surface',colorscale='rdylbu')"
   ]
  },
  {
   "cell_type": "code",
   "execution_count": 45,
   "metadata": {},
   "outputs": [
    {
     "data": {
      "application/vnd.plotly.v1+json": {
       "config": {
        "linkText": "Export to plot.ly",
        "plotlyServerURL": "https://plot.ly",
        "showLink": true
       },
       "data": [
        {
         "histfunc": "count",
         "histnorm": "",
         "marker": {
          "color": "rgba(255, 153, 51, 1.0)",
          "line": {
           "color": "#4D5663",
           "width": 1.3
          }
         },
         "name": "A",
         "nbinsx": 30,
         "opacity": 0.8,
         "orientation": "v",
         "type": "histogram",
         "x": [
          0.7377480585830137,
          0.7342847783883112,
          -1.0683171404471412,
          -1.502733798438884,
          0.6561686237827556,
          -1.1459037323632137,
          0.6476633312484361,
          0.954015340373593,
          1.539985876684928,
          0.7985745670731059,
          -1.5918749202161273,
          0.8082330941312681,
          0.4497225270275956,
          0.44060026434460214,
          0.6348032618871884,
          1.3874779330072162,
          0.0438216873576978,
          -1.1014944244087401,
          -1.2275063824869006,
          -1.8290699710898346,
          -0.22351957823940455,
          -0.7050039212800109,
          -1.1183465214167012,
          -1.8248514931381798,
          1.4905083191743311,
          0.25626490998075285,
          0.7422419175531905,
          0.027907303872408085,
          -0.06577875054392432,
          -2.028482755750844,
          -0.9999937897710787,
          0.18755245412529312,
          -1.3748890838009733,
          -0.7893670077838172,
          -0.9693956309750764,
          -0.3874700518752942,
          0.8497108153574742,
          -2.3984511660062826,
          -1.0375323703356547,
          -1.1668382338824628,
          1.0178209906174234,
          -2.0184440193807105,
          0.10005832909083658,
          -0.5248020077275282,
          0.6066228167525038,
          0.2697695084102519,
          -1.332359037059602,
          -0.1136562919792124,
          -1.5255681143137725,
          0.7148349278548535,
          -0.23774122847181883,
          0.7716215119493806,
          0.02376413684294443,
          -0.20117023619862676,
          -0.5919119812096941,
          -2.289606638197903,
          -1.69171991905258,
          0.03946357615375144,
          0.061783385108110836,
          0.5000231705082663,
          -0.08109990486056581,
          -0.22066706333618294,
          0.6970531220231665,
          0.5792548517859589,
          0.3834561644480958,
          0.30649813188746133,
          -0.810500502854627,
          1.1874691913836422,
          0.04273693089697035,
          0.10807765364701052,
          -1.9834385486030648,
          0.30500393482364385,
          0.04025339830170707,
          -1.3667014133501796,
          -1.0856887678202325,
          0.6435525794998168,
          0.09094754542965085,
          0.11965187209304147,
          -1.109132843870616,
          -1.1028645951963907,
          0.5112915171860486,
          1.9374953617279147,
          -0.07245361045267751,
          -0.5470649360074591,
          3.3981405035516525,
          -1.170234159171683,
          0.4029753395723124,
          -0.49332286516639035,
          -1.1812130978576854,
          -2.0723603009366376,
          -0.8091482359309616,
          0.956168042124244,
          -0.26979704705689905,
          -0.06303567646588461,
          0.28774570776517755,
          1.3294452569558244,
          0.25037832471323584,
          -0.23303023685009297,
          -0.8954288193418369,
          -0.29096827647431506
         ]
        }
       ],
       "layout": {
        "barmode": "overlay",
        "legend": {
         "bgcolor": "#F5F6F9",
         "font": {
          "color": "#4D5663"
         }
        },
        "paper_bgcolor": "#F5F6F9",
        "plot_bgcolor": "#F5F6F9",
        "template": {
         "data": {
          "bar": [
           {
            "error_x": {
             "color": "#2a3f5f"
            },
            "error_y": {
             "color": "#2a3f5f"
            },
            "marker": {
             "line": {
              "color": "#E5ECF6",
              "width": 0.5
             }
            },
            "type": "bar"
           }
          ],
          "barpolar": [
           {
            "marker": {
             "line": {
              "color": "#E5ECF6",
              "width": 0.5
             }
            },
            "type": "barpolar"
           }
          ],
          "carpet": [
           {
            "aaxis": {
             "endlinecolor": "#2a3f5f",
             "gridcolor": "white",
             "linecolor": "white",
             "minorgridcolor": "white",
             "startlinecolor": "#2a3f5f"
            },
            "baxis": {
             "endlinecolor": "#2a3f5f",
             "gridcolor": "white",
             "linecolor": "white",
             "minorgridcolor": "white",
             "startlinecolor": "#2a3f5f"
            },
            "type": "carpet"
           }
          ],
          "choropleth": [
           {
            "colorbar": {
             "outlinewidth": 0,
             "ticks": ""
            },
            "type": "choropleth"
           }
          ],
          "contour": [
           {
            "colorbar": {
             "outlinewidth": 0,
             "ticks": ""
            },
            "colorscale": [
             [
              0,
              "#0d0887"
             ],
             [
              0.1111111111111111,
              "#46039f"
             ],
             [
              0.2222222222222222,
              "#7201a8"
             ],
             [
              0.3333333333333333,
              "#9c179e"
             ],
             [
              0.4444444444444444,
              "#bd3786"
             ],
             [
              0.5555555555555556,
              "#d8576b"
             ],
             [
              0.6666666666666666,
              "#ed7953"
             ],
             [
              0.7777777777777778,
              "#fb9f3a"
             ],
             [
              0.8888888888888888,
              "#fdca26"
             ],
             [
              1,
              "#f0f921"
             ]
            ],
            "type": "contour"
           }
          ],
          "contourcarpet": [
           {
            "colorbar": {
             "outlinewidth": 0,
             "ticks": ""
            },
            "type": "contourcarpet"
           }
          ],
          "heatmap": [
           {
            "colorbar": {
             "outlinewidth": 0,
             "ticks": ""
            },
            "colorscale": [
             [
              0,
              "#0d0887"
             ],
             [
              0.1111111111111111,
              "#46039f"
             ],
             [
              0.2222222222222222,
              "#7201a8"
             ],
             [
              0.3333333333333333,
              "#9c179e"
             ],
             [
              0.4444444444444444,
              "#bd3786"
             ],
             [
              0.5555555555555556,
              "#d8576b"
             ],
             [
              0.6666666666666666,
              "#ed7953"
             ],
             [
              0.7777777777777778,
              "#fb9f3a"
             ],
             [
              0.8888888888888888,
              "#fdca26"
             ],
             [
              1,
              "#f0f921"
             ]
            ],
            "type": "heatmap"
           }
          ],
          "heatmapgl": [
           {
            "colorbar": {
             "outlinewidth": 0,
             "ticks": ""
            },
            "colorscale": [
             [
              0,
              "#0d0887"
             ],
             [
              0.1111111111111111,
              "#46039f"
             ],
             [
              0.2222222222222222,
              "#7201a8"
             ],
             [
              0.3333333333333333,
              "#9c179e"
             ],
             [
              0.4444444444444444,
              "#bd3786"
             ],
             [
              0.5555555555555556,
              "#d8576b"
             ],
             [
              0.6666666666666666,
              "#ed7953"
             ],
             [
              0.7777777777777778,
              "#fb9f3a"
             ],
             [
              0.8888888888888888,
              "#fdca26"
             ],
             [
              1,
              "#f0f921"
             ]
            ],
            "type": "heatmapgl"
           }
          ],
          "histogram": [
           {
            "marker": {
             "colorbar": {
              "outlinewidth": 0,
              "ticks": ""
             }
            },
            "type": "histogram"
           }
          ],
          "histogram2d": [
           {
            "colorbar": {
             "outlinewidth": 0,
             "ticks": ""
            },
            "colorscale": [
             [
              0,
              "#0d0887"
             ],
             [
              0.1111111111111111,
              "#46039f"
             ],
             [
              0.2222222222222222,
              "#7201a8"
             ],
             [
              0.3333333333333333,
              "#9c179e"
             ],
             [
              0.4444444444444444,
              "#bd3786"
             ],
             [
              0.5555555555555556,
              "#d8576b"
             ],
             [
              0.6666666666666666,
              "#ed7953"
             ],
             [
              0.7777777777777778,
              "#fb9f3a"
             ],
             [
              0.8888888888888888,
              "#fdca26"
             ],
             [
              1,
              "#f0f921"
             ]
            ],
            "type": "histogram2d"
           }
          ],
          "histogram2dcontour": [
           {
            "colorbar": {
             "outlinewidth": 0,
             "ticks": ""
            },
            "colorscale": [
             [
              0,
              "#0d0887"
             ],
             [
              0.1111111111111111,
              "#46039f"
             ],
             [
              0.2222222222222222,
              "#7201a8"
             ],
             [
              0.3333333333333333,
              "#9c179e"
             ],
             [
              0.4444444444444444,
              "#bd3786"
             ],
             [
              0.5555555555555556,
              "#d8576b"
             ],
             [
              0.6666666666666666,
              "#ed7953"
             ],
             [
              0.7777777777777778,
              "#fb9f3a"
             ],
             [
              0.8888888888888888,
              "#fdca26"
             ],
             [
              1,
              "#f0f921"
             ]
            ],
            "type": "histogram2dcontour"
           }
          ],
          "mesh3d": [
           {
            "colorbar": {
             "outlinewidth": 0,
             "ticks": ""
            },
            "type": "mesh3d"
           }
          ],
          "parcoords": [
           {
            "line": {
             "colorbar": {
              "outlinewidth": 0,
              "ticks": ""
             }
            },
            "type": "parcoords"
           }
          ],
          "pie": [
           {
            "automargin": true,
            "type": "pie"
           }
          ],
          "scatter": [
           {
            "marker": {
             "colorbar": {
              "outlinewidth": 0,
              "ticks": ""
             }
            },
            "type": "scatter"
           }
          ],
          "scatter3d": [
           {
            "line": {
             "colorbar": {
              "outlinewidth": 0,
              "ticks": ""
             }
            },
            "marker": {
             "colorbar": {
              "outlinewidth": 0,
              "ticks": ""
             }
            },
            "type": "scatter3d"
           }
          ],
          "scattercarpet": [
           {
            "marker": {
             "colorbar": {
              "outlinewidth": 0,
              "ticks": ""
             }
            },
            "type": "scattercarpet"
           }
          ],
          "scattergeo": [
           {
            "marker": {
             "colorbar": {
              "outlinewidth": 0,
              "ticks": ""
             }
            },
            "type": "scattergeo"
           }
          ],
          "scattergl": [
           {
            "marker": {
             "colorbar": {
              "outlinewidth": 0,
              "ticks": ""
             }
            },
            "type": "scattergl"
           }
          ],
          "scattermapbox": [
           {
            "marker": {
             "colorbar": {
              "outlinewidth": 0,
              "ticks": ""
             }
            },
            "type": "scattermapbox"
           }
          ],
          "scatterpolar": [
           {
            "marker": {
             "colorbar": {
              "outlinewidth": 0,
              "ticks": ""
             }
            },
            "type": "scatterpolar"
           }
          ],
          "scatterpolargl": [
           {
            "marker": {
             "colorbar": {
              "outlinewidth": 0,
              "ticks": ""
             }
            },
            "type": "scatterpolargl"
           }
          ],
          "scatterternary": [
           {
            "marker": {
             "colorbar": {
              "outlinewidth": 0,
              "ticks": ""
             }
            },
            "type": "scatterternary"
           }
          ],
          "surface": [
           {
            "colorbar": {
             "outlinewidth": 0,
             "ticks": ""
            },
            "colorscale": [
             [
              0,
              "#0d0887"
             ],
             [
              0.1111111111111111,
              "#46039f"
             ],
             [
              0.2222222222222222,
              "#7201a8"
             ],
             [
              0.3333333333333333,
              "#9c179e"
             ],
             [
              0.4444444444444444,
              "#bd3786"
             ],
             [
              0.5555555555555556,
              "#d8576b"
             ],
             [
              0.6666666666666666,
              "#ed7953"
             ],
             [
              0.7777777777777778,
              "#fb9f3a"
             ],
             [
              0.8888888888888888,
              "#fdca26"
             ],
             [
              1,
              "#f0f921"
             ]
            ],
            "type": "surface"
           }
          ],
          "table": [
           {
            "cells": {
             "fill": {
              "color": "#EBF0F8"
             },
             "line": {
              "color": "white"
             }
            },
            "header": {
             "fill": {
              "color": "#C8D4E3"
             },
             "line": {
              "color": "white"
             }
            },
            "type": "table"
           }
          ]
         },
         "layout": {
          "annotationdefaults": {
           "arrowcolor": "#2a3f5f",
           "arrowhead": 0,
           "arrowwidth": 1
          },
          "coloraxis": {
           "colorbar": {
            "outlinewidth": 0,
            "ticks": ""
           }
          },
          "colorscale": {
           "diverging": [
            [
             0,
             "#8e0152"
            ],
            [
             0.1,
             "#c51b7d"
            ],
            [
             0.2,
             "#de77ae"
            ],
            [
             0.3,
             "#f1b6da"
            ],
            [
             0.4,
             "#fde0ef"
            ],
            [
             0.5,
             "#f7f7f7"
            ],
            [
             0.6,
             "#e6f5d0"
            ],
            [
             0.7,
             "#b8e186"
            ],
            [
             0.8,
             "#7fbc41"
            ],
            [
             0.9,
             "#4d9221"
            ],
            [
             1,
             "#276419"
            ]
           ],
           "sequential": [
            [
             0,
             "#0d0887"
            ],
            [
             0.1111111111111111,
             "#46039f"
            ],
            [
             0.2222222222222222,
             "#7201a8"
            ],
            [
             0.3333333333333333,
             "#9c179e"
            ],
            [
             0.4444444444444444,
             "#bd3786"
            ],
            [
             0.5555555555555556,
             "#d8576b"
            ],
            [
             0.6666666666666666,
             "#ed7953"
            ],
            [
             0.7777777777777778,
             "#fb9f3a"
            ],
            [
             0.8888888888888888,
             "#fdca26"
            ],
            [
             1,
             "#f0f921"
            ]
           ],
           "sequentialminus": [
            [
             0,
             "#0d0887"
            ],
            [
             0.1111111111111111,
             "#46039f"
            ],
            [
             0.2222222222222222,
             "#7201a8"
            ],
            [
             0.3333333333333333,
             "#9c179e"
            ],
            [
             0.4444444444444444,
             "#bd3786"
            ],
            [
             0.5555555555555556,
             "#d8576b"
            ],
            [
             0.6666666666666666,
             "#ed7953"
            ],
            [
             0.7777777777777778,
             "#fb9f3a"
            ],
            [
             0.8888888888888888,
             "#fdca26"
            ],
            [
             1,
             "#f0f921"
            ]
           ]
          },
          "colorway": [
           "#636efa",
           "#EF553B",
           "#00cc96",
           "#ab63fa",
           "#FFA15A",
           "#19d3f3",
           "#FF6692",
           "#B6E880",
           "#FF97FF",
           "#FECB52"
          ],
          "font": {
           "color": "#2a3f5f"
          },
          "geo": {
           "bgcolor": "white",
           "lakecolor": "white",
           "landcolor": "#E5ECF6",
           "showlakes": true,
           "showland": true,
           "subunitcolor": "white"
          },
          "hoverlabel": {
           "align": "left"
          },
          "hovermode": "closest",
          "mapbox": {
           "style": "light"
          },
          "paper_bgcolor": "white",
          "plot_bgcolor": "#E5ECF6",
          "polar": {
           "angularaxis": {
            "gridcolor": "white",
            "linecolor": "white",
            "ticks": ""
           },
           "bgcolor": "#E5ECF6",
           "radialaxis": {
            "gridcolor": "white",
            "linecolor": "white",
            "ticks": ""
           }
          },
          "scene": {
           "xaxis": {
            "backgroundcolor": "#E5ECF6",
            "gridcolor": "white",
            "gridwidth": 2,
            "linecolor": "white",
            "showbackground": true,
            "ticks": "",
            "zerolinecolor": "white"
           },
           "yaxis": {
            "backgroundcolor": "#E5ECF6",
            "gridcolor": "white",
            "gridwidth": 2,
            "linecolor": "white",
            "showbackground": true,
            "ticks": "",
            "zerolinecolor": "white"
           },
           "zaxis": {
            "backgroundcolor": "#E5ECF6",
            "gridcolor": "white",
            "gridwidth": 2,
            "linecolor": "white",
            "showbackground": true,
            "ticks": "",
            "zerolinecolor": "white"
           }
          },
          "shapedefaults": {
           "line": {
            "color": "#2a3f5f"
           }
          },
          "ternary": {
           "aaxis": {
            "gridcolor": "white",
            "linecolor": "white",
            "ticks": ""
           },
           "baxis": {
            "gridcolor": "white",
            "linecolor": "white",
            "ticks": ""
           },
           "bgcolor": "#E5ECF6",
           "caxis": {
            "gridcolor": "white",
            "linecolor": "white",
            "ticks": ""
           }
          },
          "title": {
           "x": 0.05
          },
          "xaxis": {
           "automargin": true,
           "gridcolor": "white",
           "linecolor": "white",
           "ticks": "",
           "title": {
            "standoff": 15
           },
           "zerolinecolor": "white",
           "zerolinewidth": 2
          },
          "yaxis": {
           "automargin": true,
           "gridcolor": "white",
           "linecolor": "white",
           "ticks": "",
           "title": {
            "standoff": 15
           },
           "zerolinecolor": "white",
           "zerolinewidth": 2
          }
         }
        },
        "title": {
         "font": {
          "color": "#4D5663"
         }
        },
        "xaxis": {
         "gridcolor": "#E1E5ED",
         "showgrid": true,
         "tickfont": {
          "color": "#4D5663"
         },
         "title": {
          "font": {
           "color": "#4D5663"
          },
          "text": ""
         },
         "zerolinecolor": "#E1E5ED"
        },
        "yaxis": {
         "gridcolor": "#E1E5ED",
         "showgrid": true,
         "tickfont": {
          "color": "#4D5663"
         },
         "title": {
          "font": {
           "color": "#4D5663"
          },
          "text": ""
         },
         "zerolinecolor": "#E1E5ED"
        }
       }
      },
      "text/html": [
       "<div>\n",
       "        \n",
       "        \n",
       "            <div id=\"e0691ead-bc20-4684-be18-a81888b5688c\" class=\"plotly-graph-div\" style=\"height:525px; width:100%;\"></div>\n",
       "            <script type=\"text/javascript\">\n",
       "                require([\"plotly\"], function(Plotly) {\n",
       "                    window.PLOTLYENV=window.PLOTLYENV || {};\n",
       "                    window.PLOTLYENV.BASE_URL='https://plot.ly';\n",
       "                    \n",
       "                if (document.getElementById(\"e0691ead-bc20-4684-be18-a81888b5688c\")) {\n",
       "                    Plotly.newPlot(\n",
       "                        'e0691ead-bc20-4684-be18-a81888b5688c',\n",
       "                        [{\"histfunc\": \"count\", \"histnorm\": \"\", \"marker\": {\"color\": \"rgba(255, 153, 51, 1.0)\", \"line\": {\"color\": \"#4D5663\", \"width\": 1.3}}, \"name\": \"A\", \"nbinsx\": 30, \"opacity\": 0.8, \"orientation\": \"v\", \"type\": \"histogram\", \"x\": [0.7377480585830137, 0.7342847783883112, -1.0683171404471412, -1.502733798438884, 0.6561686237827556, -1.1459037323632137, 0.6476633312484361, 0.954015340373593, 1.539985876684928, 0.7985745670731059, -1.5918749202161273, 0.8082330941312681, 0.4497225270275956, 0.44060026434460214, 0.6348032618871884, 1.3874779330072162, 0.0438216873576978, -1.1014944244087401, -1.2275063824869006, -1.8290699710898346, -0.22351957823940455, -0.7050039212800109, -1.1183465214167012, -1.8248514931381798, 1.4905083191743311, 0.25626490998075285, 0.7422419175531905, 0.027907303872408085, -0.06577875054392432, -2.028482755750844, -0.9999937897710787, 0.18755245412529312, -1.3748890838009733, -0.7893670077838172, -0.9693956309750764, -0.3874700518752942, 0.8497108153574742, -2.3984511660062826, -1.0375323703356547, -1.1668382338824628, 1.0178209906174234, -2.0184440193807105, 0.10005832909083658, -0.5248020077275282, 0.6066228167525038, 0.2697695084102519, -1.332359037059602, -0.1136562919792124, -1.5255681143137725, 0.7148349278548535, -0.23774122847181883, 0.7716215119493806, 0.02376413684294443, -0.20117023619862676, -0.5919119812096941, -2.289606638197903, -1.69171991905258, 0.03946357615375144, 0.061783385108110836, 0.5000231705082663, -0.08109990486056581, -0.22066706333618294, 0.6970531220231665, 0.5792548517859589, 0.3834561644480958, 0.30649813188746133, -0.810500502854627, 1.1874691913836422, 0.04273693089697035, 0.10807765364701052, -1.9834385486030648, 0.30500393482364385, 0.04025339830170707, -1.3667014133501796, -1.0856887678202325, 0.6435525794998168, 0.09094754542965085, 0.11965187209304147, -1.109132843870616, -1.1028645951963907, 0.5112915171860486, 1.9374953617279147, -0.07245361045267751, -0.5470649360074591, 3.3981405035516525, -1.170234159171683, 0.4029753395723124, -0.49332286516639035, -1.1812130978576854, -2.0723603009366376, -0.8091482359309616, 0.956168042124244, -0.26979704705689905, -0.06303567646588461, 0.28774570776517755, 1.3294452569558244, 0.25037832471323584, -0.23303023685009297, -0.8954288193418369, -0.29096827647431506]}],\n",
       "                        {\"barmode\": \"overlay\", \"legend\": {\"bgcolor\": \"#F5F6F9\", \"font\": {\"color\": \"#4D5663\"}}, \"paper_bgcolor\": \"#F5F6F9\", \"plot_bgcolor\": \"#F5F6F9\", \"template\": {\"data\": {\"bar\": [{\"error_x\": {\"color\": \"#2a3f5f\"}, \"error_y\": {\"color\": \"#2a3f5f\"}, \"marker\": {\"line\": {\"color\": \"#E5ECF6\", \"width\": 0.5}}, \"type\": \"bar\"}], \"barpolar\": [{\"marker\": {\"line\": {\"color\": \"#E5ECF6\", \"width\": 0.5}}, \"type\": \"barpolar\"}], \"carpet\": [{\"aaxis\": {\"endlinecolor\": \"#2a3f5f\", \"gridcolor\": \"white\", \"linecolor\": \"white\", \"minorgridcolor\": \"white\", \"startlinecolor\": \"#2a3f5f\"}, \"baxis\": {\"endlinecolor\": \"#2a3f5f\", \"gridcolor\": \"white\", \"linecolor\": \"white\", \"minorgridcolor\": \"white\", \"startlinecolor\": \"#2a3f5f\"}, \"type\": \"carpet\"}], \"choropleth\": [{\"colorbar\": {\"outlinewidth\": 0, \"ticks\": \"\"}, \"type\": \"choropleth\"}], \"contour\": [{\"colorbar\": {\"outlinewidth\": 0, \"ticks\": \"\"}, \"colorscale\": [[0.0, \"#0d0887\"], [0.1111111111111111, \"#46039f\"], [0.2222222222222222, \"#7201a8\"], [0.3333333333333333, \"#9c179e\"], [0.4444444444444444, \"#bd3786\"], [0.5555555555555556, \"#d8576b\"], [0.6666666666666666, \"#ed7953\"], [0.7777777777777778, \"#fb9f3a\"], [0.8888888888888888, \"#fdca26\"], [1.0, \"#f0f921\"]], \"type\": \"contour\"}], \"contourcarpet\": [{\"colorbar\": {\"outlinewidth\": 0, \"ticks\": \"\"}, \"type\": \"contourcarpet\"}], \"heatmap\": [{\"colorbar\": {\"outlinewidth\": 0, \"ticks\": \"\"}, \"colorscale\": [[0.0, \"#0d0887\"], [0.1111111111111111, \"#46039f\"], [0.2222222222222222, \"#7201a8\"], [0.3333333333333333, \"#9c179e\"], [0.4444444444444444, \"#bd3786\"], [0.5555555555555556, \"#d8576b\"], [0.6666666666666666, \"#ed7953\"], [0.7777777777777778, \"#fb9f3a\"], [0.8888888888888888, \"#fdca26\"], [1.0, \"#f0f921\"]], \"type\": \"heatmap\"}], \"heatmapgl\": [{\"colorbar\": {\"outlinewidth\": 0, \"ticks\": \"\"}, \"colorscale\": [[0.0, \"#0d0887\"], [0.1111111111111111, \"#46039f\"], [0.2222222222222222, \"#7201a8\"], [0.3333333333333333, \"#9c179e\"], [0.4444444444444444, \"#bd3786\"], [0.5555555555555556, \"#d8576b\"], [0.6666666666666666, \"#ed7953\"], [0.7777777777777778, \"#fb9f3a\"], [0.8888888888888888, \"#fdca26\"], [1.0, \"#f0f921\"]], \"type\": \"heatmapgl\"}], \"histogram\": [{\"marker\": {\"colorbar\": {\"outlinewidth\": 0, \"ticks\": \"\"}}, \"type\": \"histogram\"}], \"histogram2d\": [{\"colorbar\": {\"outlinewidth\": 0, \"ticks\": \"\"}, \"colorscale\": [[0.0, \"#0d0887\"], [0.1111111111111111, \"#46039f\"], [0.2222222222222222, \"#7201a8\"], [0.3333333333333333, \"#9c179e\"], [0.4444444444444444, \"#bd3786\"], [0.5555555555555556, \"#d8576b\"], [0.6666666666666666, \"#ed7953\"], [0.7777777777777778, \"#fb9f3a\"], [0.8888888888888888, \"#fdca26\"], [1.0, \"#f0f921\"]], \"type\": \"histogram2d\"}], \"histogram2dcontour\": [{\"colorbar\": {\"outlinewidth\": 0, \"ticks\": \"\"}, \"colorscale\": [[0.0, \"#0d0887\"], [0.1111111111111111, \"#46039f\"], [0.2222222222222222, \"#7201a8\"], [0.3333333333333333, \"#9c179e\"], [0.4444444444444444, \"#bd3786\"], [0.5555555555555556, \"#d8576b\"], [0.6666666666666666, \"#ed7953\"], [0.7777777777777778, \"#fb9f3a\"], [0.8888888888888888, \"#fdca26\"], [1.0, \"#f0f921\"]], \"type\": \"histogram2dcontour\"}], \"mesh3d\": [{\"colorbar\": {\"outlinewidth\": 0, \"ticks\": \"\"}, \"type\": \"mesh3d\"}], \"parcoords\": [{\"line\": {\"colorbar\": {\"outlinewidth\": 0, \"ticks\": \"\"}}, \"type\": \"parcoords\"}], \"pie\": [{\"automargin\": true, \"type\": \"pie\"}], \"scatter\": [{\"marker\": {\"colorbar\": {\"outlinewidth\": 0, \"ticks\": \"\"}}, \"type\": \"scatter\"}], \"scatter3d\": [{\"line\": {\"colorbar\": {\"outlinewidth\": 0, \"ticks\": \"\"}}, \"marker\": {\"colorbar\": {\"outlinewidth\": 0, \"ticks\": \"\"}}, \"type\": \"scatter3d\"}], \"scattercarpet\": [{\"marker\": {\"colorbar\": {\"outlinewidth\": 0, \"ticks\": \"\"}}, \"type\": \"scattercarpet\"}], \"scattergeo\": [{\"marker\": {\"colorbar\": {\"outlinewidth\": 0, \"ticks\": \"\"}}, \"type\": \"scattergeo\"}], \"scattergl\": [{\"marker\": {\"colorbar\": {\"outlinewidth\": 0, \"ticks\": \"\"}}, \"type\": \"scattergl\"}], \"scattermapbox\": [{\"marker\": {\"colorbar\": {\"outlinewidth\": 0, \"ticks\": \"\"}}, \"type\": \"scattermapbox\"}], \"scatterpolar\": [{\"marker\": {\"colorbar\": {\"outlinewidth\": 0, \"ticks\": \"\"}}, \"type\": \"scatterpolar\"}], \"scatterpolargl\": [{\"marker\": {\"colorbar\": {\"outlinewidth\": 0, \"ticks\": \"\"}}, \"type\": \"scatterpolargl\"}], \"scatterternary\": [{\"marker\": {\"colorbar\": {\"outlinewidth\": 0, \"ticks\": \"\"}}, \"type\": \"scatterternary\"}], \"surface\": [{\"colorbar\": {\"outlinewidth\": 0, \"ticks\": \"\"}, \"colorscale\": [[0.0, \"#0d0887\"], [0.1111111111111111, \"#46039f\"], [0.2222222222222222, \"#7201a8\"], [0.3333333333333333, \"#9c179e\"], [0.4444444444444444, \"#bd3786\"], [0.5555555555555556, \"#d8576b\"], [0.6666666666666666, \"#ed7953\"], [0.7777777777777778, \"#fb9f3a\"], [0.8888888888888888, \"#fdca26\"], [1.0, \"#f0f921\"]], \"type\": \"surface\"}], \"table\": [{\"cells\": {\"fill\": {\"color\": \"#EBF0F8\"}, \"line\": {\"color\": \"white\"}}, \"header\": {\"fill\": {\"color\": \"#C8D4E3\"}, \"line\": {\"color\": \"white\"}}, \"type\": \"table\"}]}, \"layout\": {\"annotationdefaults\": {\"arrowcolor\": \"#2a3f5f\", \"arrowhead\": 0, \"arrowwidth\": 1}, \"coloraxis\": {\"colorbar\": {\"outlinewidth\": 0, \"ticks\": \"\"}}, \"colorscale\": {\"diverging\": [[0, \"#8e0152\"], [0.1, \"#c51b7d\"], [0.2, \"#de77ae\"], [0.3, \"#f1b6da\"], [0.4, \"#fde0ef\"], [0.5, \"#f7f7f7\"], [0.6, \"#e6f5d0\"], [0.7, \"#b8e186\"], [0.8, \"#7fbc41\"], [0.9, \"#4d9221\"], [1, \"#276419\"]], \"sequential\": [[0.0, \"#0d0887\"], [0.1111111111111111, \"#46039f\"], [0.2222222222222222, \"#7201a8\"], [0.3333333333333333, \"#9c179e\"], [0.4444444444444444, \"#bd3786\"], [0.5555555555555556, \"#d8576b\"], [0.6666666666666666, \"#ed7953\"], [0.7777777777777778, \"#fb9f3a\"], [0.8888888888888888, \"#fdca26\"], [1.0, \"#f0f921\"]], \"sequentialminus\": [[0.0, \"#0d0887\"], [0.1111111111111111, \"#46039f\"], [0.2222222222222222, \"#7201a8\"], [0.3333333333333333, \"#9c179e\"], [0.4444444444444444, \"#bd3786\"], [0.5555555555555556, \"#d8576b\"], [0.6666666666666666, \"#ed7953\"], [0.7777777777777778, \"#fb9f3a\"], [0.8888888888888888, \"#fdca26\"], [1.0, \"#f0f921\"]]}, \"colorway\": [\"#636efa\", \"#EF553B\", \"#00cc96\", \"#ab63fa\", \"#FFA15A\", \"#19d3f3\", \"#FF6692\", \"#B6E880\", \"#FF97FF\", \"#FECB52\"], \"font\": {\"color\": \"#2a3f5f\"}, \"geo\": {\"bgcolor\": \"white\", \"lakecolor\": \"white\", \"landcolor\": \"#E5ECF6\", \"showlakes\": true, \"showland\": true, \"subunitcolor\": \"white\"}, \"hoverlabel\": {\"align\": \"left\"}, \"hovermode\": \"closest\", \"mapbox\": {\"style\": \"light\"}, \"paper_bgcolor\": \"white\", \"plot_bgcolor\": \"#E5ECF6\", \"polar\": {\"angularaxis\": {\"gridcolor\": \"white\", \"linecolor\": \"white\", \"ticks\": \"\"}, \"bgcolor\": \"#E5ECF6\", \"radialaxis\": {\"gridcolor\": \"white\", \"linecolor\": \"white\", \"ticks\": \"\"}}, \"scene\": {\"xaxis\": {\"backgroundcolor\": \"#E5ECF6\", \"gridcolor\": \"white\", \"gridwidth\": 2, \"linecolor\": \"white\", \"showbackground\": true, \"ticks\": \"\", \"zerolinecolor\": \"white\"}, \"yaxis\": {\"backgroundcolor\": \"#E5ECF6\", \"gridcolor\": \"white\", \"gridwidth\": 2, \"linecolor\": \"white\", \"showbackground\": true, \"ticks\": \"\", \"zerolinecolor\": \"white\"}, \"zaxis\": {\"backgroundcolor\": \"#E5ECF6\", \"gridcolor\": \"white\", \"gridwidth\": 2, \"linecolor\": \"white\", \"showbackground\": true, \"ticks\": \"\", \"zerolinecolor\": \"white\"}}, \"shapedefaults\": {\"line\": {\"color\": \"#2a3f5f\"}}, \"ternary\": {\"aaxis\": {\"gridcolor\": \"white\", \"linecolor\": \"white\", \"ticks\": \"\"}, \"baxis\": {\"gridcolor\": \"white\", \"linecolor\": \"white\", \"ticks\": \"\"}, \"bgcolor\": \"#E5ECF6\", \"caxis\": {\"gridcolor\": \"white\", \"linecolor\": \"white\", \"ticks\": \"\"}}, \"title\": {\"x\": 0.05}, \"xaxis\": {\"automargin\": true, \"gridcolor\": \"white\", \"linecolor\": \"white\", \"ticks\": \"\", \"title\": {\"standoff\": 15}, \"zerolinecolor\": \"white\", \"zerolinewidth\": 2}, \"yaxis\": {\"automargin\": true, \"gridcolor\": \"white\", \"linecolor\": \"white\", \"ticks\": \"\", \"title\": {\"standoff\": 15}, \"zerolinecolor\": \"white\", \"zerolinewidth\": 2}}}, \"title\": {\"font\": {\"color\": \"#4D5663\"}}, \"xaxis\": {\"gridcolor\": \"#E1E5ED\", \"showgrid\": true, \"tickfont\": {\"color\": \"#4D5663\"}, \"title\": {\"font\": {\"color\": \"#4D5663\"}, \"text\": \"\"}, \"zerolinecolor\": \"#E1E5ED\"}, \"yaxis\": {\"gridcolor\": \"#E1E5ED\", \"showgrid\": true, \"tickfont\": {\"color\": \"#4D5663\"}, \"title\": {\"font\": {\"color\": \"#4D5663\"}, \"text\": \"\"}, \"zerolinecolor\": \"#E1E5ED\"}},\n",
       "                        {\"showLink\": true, \"linkText\": \"Export to plot.ly\", \"plotlyServerURL\": \"https://plot.ly\", \"responsive\": true}\n",
       "                    ).then(function(){\n",
       "                            \n",
       "var gd = document.getElementById('e0691ead-bc20-4684-be18-a81888b5688c');\n",
       "var x = new MutationObserver(function (mutations, observer) {{\n",
       "        var display = window.getComputedStyle(gd).display;\n",
       "        if (!display || display === 'none') {{\n",
       "            console.log([gd, 'removed!']);\n",
       "            Plotly.purge(gd);\n",
       "            observer.disconnect();\n",
       "        }}\n",
       "}});\n",
       "\n",
       "// Listen for the removal of the full notebook cells\n",
       "var notebookContainer = gd.closest('#notebook-container');\n",
       "if (notebookContainer) {{\n",
       "    x.observe(notebookContainer, {childList: true});\n",
       "}}\n",
       "\n",
       "// Listen for the clearing of the current output cell\n",
       "var outputEl = gd.closest('.output');\n",
       "if (outputEl) {{\n",
       "    x.observe(outputEl, {childList: true});\n",
       "}}\n",
       "\n",
       "                        })\n",
       "                };\n",
       "                });\n",
       "            </script>\n",
       "        </div>"
      ]
     },
     "metadata": {},
     "output_type": "display_data"
    }
   ],
   "source": [
    "df['A'].iplot(kind='hist',bins=30)"
   ]
  },
  {
   "cell_type": "code",
   "execution_count": 47,
   "metadata": {},
   "outputs": [
    {
     "data": {
      "application/vnd.plotly.v1+json": {
       "config": {
        "linkText": "Export to plot.ly",
        "plotlyServerURL": "https://plot.ly",
        "showLink": true
       },
       "data": [
        {
         "histfunc": "count",
         "histnorm": "",
         "marker": {
          "color": "rgba(255, 153, 51, 1.0)",
          "line": {
           "color": "#4D5663",
           "width": 1.3
          }
         },
         "name": "A",
         "opacity": 0.8,
         "orientation": "v",
         "type": "histogram",
         "x": [
          0.7377480585830137,
          0.7342847783883112,
          -1.0683171404471412,
          -1.502733798438884,
          0.6561686237827556,
          -1.1459037323632137,
          0.6476633312484361,
          0.954015340373593,
          1.539985876684928,
          0.7985745670731059,
          -1.5918749202161273,
          0.8082330941312681,
          0.4497225270275956,
          0.44060026434460214,
          0.6348032618871884,
          1.3874779330072162,
          0.0438216873576978,
          -1.1014944244087401,
          -1.2275063824869006,
          -1.8290699710898346,
          -0.22351957823940455,
          -0.7050039212800109,
          -1.1183465214167012,
          -1.8248514931381798,
          1.4905083191743311,
          0.25626490998075285,
          0.7422419175531905,
          0.027907303872408085,
          -0.06577875054392432,
          -2.028482755750844,
          -0.9999937897710787,
          0.18755245412529312,
          -1.3748890838009733,
          -0.7893670077838172,
          -0.9693956309750764,
          -0.3874700518752942,
          0.8497108153574742,
          -2.3984511660062826,
          -1.0375323703356547,
          -1.1668382338824628,
          1.0178209906174234,
          -2.0184440193807105,
          0.10005832909083658,
          -0.5248020077275282,
          0.6066228167525038,
          0.2697695084102519,
          -1.332359037059602,
          -0.1136562919792124,
          -1.5255681143137725,
          0.7148349278548535,
          -0.23774122847181883,
          0.7716215119493806,
          0.02376413684294443,
          -0.20117023619862676,
          -0.5919119812096941,
          -2.289606638197903,
          -1.69171991905258,
          0.03946357615375144,
          0.061783385108110836,
          0.5000231705082663,
          -0.08109990486056581,
          -0.22066706333618294,
          0.6970531220231665,
          0.5792548517859589,
          0.3834561644480958,
          0.30649813188746133,
          -0.810500502854627,
          1.1874691913836422,
          0.04273693089697035,
          0.10807765364701052,
          -1.9834385486030648,
          0.30500393482364385,
          0.04025339830170707,
          -1.3667014133501796,
          -1.0856887678202325,
          0.6435525794998168,
          0.09094754542965085,
          0.11965187209304147,
          -1.109132843870616,
          -1.1028645951963907,
          0.5112915171860486,
          1.9374953617279147,
          -0.07245361045267751,
          -0.5470649360074591,
          3.3981405035516525,
          -1.170234159171683,
          0.4029753395723124,
          -0.49332286516639035,
          -1.1812130978576854,
          -2.0723603009366376,
          -0.8091482359309616,
          0.956168042124244,
          -0.26979704705689905,
          -0.06303567646588461,
          0.28774570776517755,
          1.3294452569558244,
          0.25037832471323584,
          -0.23303023685009297,
          -0.8954288193418369,
          -0.29096827647431506
         ]
        },
        {
         "histfunc": "count",
         "histnorm": "",
         "marker": {
          "color": "rgba(55, 128, 191, 1.0)",
          "line": {
           "color": "#4D5663",
           "width": 1.3
          }
         },
         "name": "B",
         "opacity": 0.8,
         "orientation": "v",
         "type": "histogram",
         "x": [
          0.19757683481913466,
          0.19652603702414015,
          0.8802559451990586,
          -3.246105290136032,
          0.13166861327125656,
          0.37894731398952586,
          0.9017310254915447,
          0.8410559395842016,
          -0.3475436119400676,
          -0.6333759579885387,
          -0.46721317143339497,
          -0.25197763683591395,
          0.10798919230128363,
          0.8279785479323732,
          0.5181141679590413,
          -0.08740292588407063,
          -0.6262855402267856,
          -0.9981323252780863,
          -0.16530789117237085,
          -1.1171779612314283,
          0.14964301868274876,
          -0.7213752047771493,
          -0.55422745014167,
          -1.8050140419080938,
          -0.09366392738194239,
          0.7226521207213704,
          0.950687199099526,
          -0.3285326599246558,
          1.4151962610116287,
          -0.874654751843458,
          0.429029706243159,
          0.38343051280730256,
          0.5229346393025011,
          -1.0546871079135307,
          -0.9096170476035544,
          -1.4792325006326723,
          -0.0658692466059647,
          -1.3027699560793393,
          0.988090979663669,
          -0.22409559289129885,
          0.7133713100303162,
          0.3416091416133028,
          -0.9306940942545728,
          -0.34340258028634024,
          -0.5820680198522021,
          -0.47557889455395325,
          -0.4927696339863192,
          -1.0305543868008562,
          -1.0992997531456075,
          0.9989814097855022,
          0.29706921050397894,
          0.44290029683620286,
          0.23479596022042112,
          -1.2590740525741102,
          -0.5553387627535838,
          -0.9247408398573905,
          -0.30264344149525485,
          -0.710723649552731,
          -0.4571537974062655,
          -1.2442424570271577,
          0.6278670818249709,
          -0.5607876516543867,
          -0.6455709830869545,
          0.8795806440458941,
          0.4075942240710124,
          -0.5077041158846402,
          1.403109214192499,
          0.41190914173872556,
          -0.9797664268315869,
          -0.407844408205296,
          0.20692180881156025,
          0.2171037233664773,
          -1.0206316273355782,
          0.28358419056260675,
          0.681150249787766,
          0.5826961401987615,
          0.93025604132711,
          -0.6151490682609284,
          -1.7903317652004367,
          0.7746725906814703,
          0.9587083684669854,
          -1.0291724032658307,
          0.48332863248025204,
          -0.10730694261016965,
          1.0628165318834424,
          0.3498735613601411,
          -1.4542444735205482,
          -0.37433846017044375,
          -0.03994373838327206,
          -0.35655183390093353,
          0.26880757874751465,
          0.5083302621189569,
          0.9995757926517211,
          3.432394122748129,
          -1.6958994843957778,
          -1.0586459065945708,
          -1.8360538740318209,
          -0.6032852020161685,
          -1.5928644283858395,
          -1.8202141537266145
         ]
        },
        {
         "histfunc": "count",
         "histnorm": "",
         "marker": {
          "color": "rgba(50, 171, 96, 1.0)",
          "line": {
           "color": "#4D5663",
           "width": 1.3
          }
         },
         "name": "C",
         "opacity": 0.8,
         "orientation": "v",
         "type": "histogram",
         "x": [
          -0.6096608224151466,
          -0.6195079747212103,
          0.7109406448525754,
          -1.3576488964524391,
          0.3539574156709573,
          1.2262553786457966,
          -0.5023942829843933,
          0.5522310577308305,
          0.7108756556978424,
          0.10920510938871546,
          0.4149967488288535,
          1.3011189754866916,
          0.5542723738033885,
          0.7987642339371241,
          0.8759170909728486,
          0.7219316733733715,
          -1.7869490716923797,
          -1.679550595679321,
          1.9274639583266926,
          0.3828021930857063,
          1.2608656994571699,
          -0.1938433376033397,
          1.8357859382308004,
          1.3001031158009266,
          -0.632849920499351,
          -1.5342524445220331,
          -2.3585628827994283,
          0.0661748444944162,
          0.006365499709921685,
          0.312995564273019,
          0.0937504317809031,
          -0.29835371474252503,
          -1.8279726016525282,
          -0.352868152041477,
          -0.8559998733210675,
          -0.28608530691286377,
          1.396727023340674,
          -0.40359163631147577,
          -0.3292458811883445,
          0.599421083749579,
          -1.2124000262503405,
          -0.5693543470575455,
          0.4377338777037384,
          -1.642144774079887,
          -0.30764720537762086,
          1.2542750180885254,
          0.7564255708797416,
          -0.9832730838691014,
          0.4164998282128355,
          0.7477748458530866,
          1.3560202886782509,
          1.546746331079022,
          1.9052164640676077,
          -2.0461367992280457,
          0.9687250883987175,
          -0.16111852239983515,
          -0.2623169457336536,
          0.6979029617949611,
          -1.4823878216061581,
          0.392877675346139,
          0.21566655583007072,
          -1.7472944763299612,
          -1.2516772119417252,
          -0.13766057172636878,
          0.6390747642098169,
          -0.5165476343485128,
          -0.662260234384109,
          -1.4190709440988007,
          0.9135263608642058,
          -0.16528750001260598,
          -0.40019365725797157,
          -0.3700242924353822,
          -1.962750084533982,
          -0.4508981113805817,
          -0.9727042912984357,
          0.04723505603996999,
          1.4504684351884678,
          -0.1189997957052009,
          -1.2371007992918832,
          0.5995717421705108,
          -1.1166092112545292,
          0.1715473028907822,
          -0.3347258686563542,
          -1.240185466280291,
          1.0476296913470322,
          1.700571192640512,
          0.3146752141594078,
          -0.8066274098380597,
          1.1412362503571325,
          0.9193081732449275,
          0.41038052464580893,
          -0.6929166527794698,
          0.7922727125420788,
          0.3475430006898677,
          -0.5775533782567989,
          1.387393562697111,
          -0.14139060179298688,
          0.1232069052447074,
          -1.6848274592682884,
          -0.3079396992785525
         ]
        },
        {
         "histfunc": "count",
         "histnorm": "",
         "marker": {
          "color": "rgba(128, 0, 128, 1.0)",
          "line": {
           "color": "#4D5663",
           "width": 1.3
          }
         },
         "name": "D",
         "opacity": 0.8,
         "orientation": "v",
         "type": "histogram",
         "x": [
          1.1401673986248801,
          0.13313653080927113,
          0.19698757663838,
          0.952955548715361,
          -0.20989517397197824,
          0.23896266017547702,
          -0.35425191925320987,
          -0.6126943383460478,
          1.3920191303747103,
          0.548922979417018,
          0.6143207621742002,
          0.31775370625711374,
          0.35343266229756776,
          0.8146004499815067,
          -1.0202276992452228,
          1.0329463600952744,
          0.4050958787576824,
          -2.8435300437531796,
          0.8476960698637384,
          0.30060393407956204,
          2.395377396817081,
          0.41754187027079953,
          -0.041557565209885516,
          1.7756192538628472,
          0.6033104525486233,
          0.32067559892224434,
          0.5146999332229149,
          -1.2934581169624737,
          -0.13703049255397978,
          -0.07213589597693378,
          -0.3770317341839668,
          -1.0696842549372618,
          0.9816766588940186,
          1.918981131133428,
          -0.2289408687169476,
          0.2671261146526187,
          0.5119462534866697,
          -0.8239501957925991,
          -0.10913167594946674,
          -0.6679040757000227,
          -0.7749056852741179,
          0.20389806534071162,
          -0.901276867585821,
          1.154099420824574,
          0.011354401808919192,
          0.2098443593415194,
          1.5854698876338933,
          -0.07344276075067835,
          0.5073385189309244,
          -1.773319236552539,
          -0.05272041058146565,
          -0.00362736273952922,
          -0.5945275493238228,
          0.41809379429104887,
          0.8909465400459582,
          0.09563245179050314,
          1.0311602461832148,
          1.0159953770058927,
          -0.6170213287877444,
          -1.0976143674215801,
          -1.5004841052765934,
          0.09431301496742447,
          -0.9452218800849674,
          -0.01560992121439684,
          0.7879037411261346,
          0.6853755116492865,
          -0.8623001717604366,
          1.0769194654893817,
          0.6431688511361634,
          0.12895953199732638,
          -0.5498628658378011,
          -1.4492936939235181,
          0.016024222288879897,
          2.664282252712835,
          1.0696366331516471,
          0.12835965398046997,
          0.5101687936919098,
          1.5299010478683583,
          -1.2335689808342365,
          0.2464428699381851,
          2.1078222162200384,
          0.7843387741083879,
          -0.1446628038271378,
          0.8157535679411924,
          -0.20789418560122971,
          1.2911215665236357,
          -0.4371104648645292,
          1.2891046799090462,
          0.14198386497507962,
          -0.24169307687263147,
          0.08057209185200362,
          1.448257337150349,
          -0.6207616616697897,
          -1.3403917003667252,
          -0.8028486224328306,
          -0.21052336907806699,
          -0.09233070228788874,
          -0.3661415088533711,
          -0.4629290587443829,
          1.0483734858888971
         ]
        }
       ],
       "layout": {
        "barmode": "overlay",
        "legend": {
         "bgcolor": "#F5F6F9",
         "font": {
          "color": "#4D5663"
         }
        },
        "paper_bgcolor": "#F5F6F9",
        "plot_bgcolor": "#F5F6F9",
        "template": {
         "data": {
          "bar": [
           {
            "error_x": {
             "color": "#2a3f5f"
            },
            "error_y": {
             "color": "#2a3f5f"
            },
            "marker": {
             "line": {
              "color": "#E5ECF6",
              "width": 0.5
             }
            },
            "type": "bar"
           }
          ],
          "barpolar": [
           {
            "marker": {
             "line": {
              "color": "#E5ECF6",
              "width": 0.5
             }
            },
            "type": "barpolar"
           }
          ],
          "carpet": [
           {
            "aaxis": {
             "endlinecolor": "#2a3f5f",
             "gridcolor": "white",
             "linecolor": "white",
             "minorgridcolor": "white",
             "startlinecolor": "#2a3f5f"
            },
            "baxis": {
             "endlinecolor": "#2a3f5f",
             "gridcolor": "white",
             "linecolor": "white",
             "minorgridcolor": "white",
             "startlinecolor": "#2a3f5f"
            },
            "type": "carpet"
           }
          ],
          "choropleth": [
           {
            "colorbar": {
             "outlinewidth": 0,
             "ticks": ""
            },
            "type": "choropleth"
           }
          ],
          "contour": [
           {
            "colorbar": {
             "outlinewidth": 0,
             "ticks": ""
            },
            "colorscale": [
             [
              0,
              "#0d0887"
             ],
             [
              0.1111111111111111,
              "#46039f"
             ],
             [
              0.2222222222222222,
              "#7201a8"
             ],
             [
              0.3333333333333333,
              "#9c179e"
             ],
             [
              0.4444444444444444,
              "#bd3786"
             ],
             [
              0.5555555555555556,
              "#d8576b"
             ],
             [
              0.6666666666666666,
              "#ed7953"
             ],
             [
              0.7777777777777778,
              "#fb9f3a"
             ],
             [
              0.8888888888888888,
              "#fdca26"
             ],
             [
              1,
              "#f0f921"
             ]
            ],
            "type": "contour"
           }
          ],
          "contourcarpet": [
           {
            "colorbar": {
             "outlinewidth": 0,
             "ticks": ""
            },
            "type": "contourcarpet"
           }
          ],
          "heatmap": [
           {
            "colorbar": {
             "outlinewidth": 0,
             "ticks": ""
            },
            "colorscale": [
             [
              0,
              "#0d0887"
             ],
             [
              0.1111111111111111,
              "#46039f"
             ],
             [
              0.2222222222222222,
              "#7201a8"
             ],
             [
              0.3333333333333333,
              "#9c179e"
             ],
             [
              0.4444444444444444,
              "#bd3786"
             ],
             [
              0.5555555555555556,
              "#d8576b"
             ],
             [
              0.6666666666666666,
              "#ed7953"
             ],
             [
              0.7777777777777778,
              "#fb9f3a"
             ],
             [
              0.8888888888888888,
              "#fdca26"
             ],
             [
              1,
              "#f0f921"
             ]
            ],
            "type": "heatmap"
           }
          ],
          "heatmapgl": [
           {
            "colorbar": {
             "outlinewidth": 0,
             "ticks": ""
            },
            "colorscale": [
             [
              0,
              "#0d0887"
             ],
             [
              0.1111111111111111,
              "#46039f"
             ],
             [
              0.2222222222222222,
              "#7201a8"
             ],
             [
              0.3333333333333333,
              "#9c179e"
             ],
             [
              0.4444444444444444,
              "#bd3786"
             ],
             [
              0.5555555555555556,
              "#d8576b"
             ],
             [
              0.6666666666666666,
              "#ed7953"
             ],
             [
              0.7777777777777778,
              "#fb9f3a"
             ],
             [
              0.8888888888888888,
              "#fdca26"
             ],
             [
              1,
              "#f0f921"
             ]
            ],
            "type": "heatmapgl"
           }
          ],
          "histogram": [
           {
            "marker": {
             "colorbar": {
              "outlinewidth": 0,
              "ticks": ""
             }
            },
            "type": "histogram"
           }
          ],
          "histogram2d": [
           {
            "colorbar": {
             "outlinewidth": 0,
             "ticks": ""
            },
            "colorscale": [
             [
              0,
              "#0d0887"
             ],
             [
              0.1111111111111111,
              "#46039f"
             ],
             [
              0.2222222222222222,
              "#7201a8"
             ],
             [
              0.3333333333333333,
              "#9c179e"
             ],
             [
              0.4444444444444444,
              "#bd3786"
             ],
             [
              0.5555555555555556,
              "#d8576b"
             ],
             [
              0.6666666666666666,
              "#ed7953"
             ],
             [
              0.7777777777777778,
              "#fb9f3a"
             ],
             [
              0.8888888888888888,
              "#fdca26"
             ],
             [
              1,
              "#f0f921"
             ]
            ],
            "type": "histogram2d"
           }
          ],
          "histogram2dcontour": [
           {
            "colorbar": {
             "outlinewidth": 0,
             "ticks": ""
            },
            "colorscale": [
             [
              0,
              "#0d0887"
             ],
             [
              0.1111111111111111,
              "#46039f"
             ],
             [
              0.2222222222222222,
              "#7201a8"
             ],
             [
              0.3333333333333333,
              "#9c179e"
             ],
             [
              0.4444444444444444,
              "#bd3786"
             ],
             [
              0.5555555555555556,
              "#d8576b"
             ],
             [
              0.6666666666666666,
              "#ed7953"
             ],
             [
              0.7777777777777778,
              "#fb9f3a"
             ],
             [
              0.8888888888888888,
              "#fdca26"
             ],
             [
              1,
              "#f0f921"
             ]
            ],
            "type": "histogram2dcontour"
           }
          ],
          "mesh3d": [
           {
            "colorbar": {
             "outlinewidth": 0,
             "ticks": ""
            },
            "type": "mesh3d"
           }
          ],
          "parcoords": [
           {
            "line": {
             "colorbar": {
              "outlinewidth": 0,
              "ticks": ""
             }
            },
            "type": "parcoords"
           }
          ],
          "pie": [
           {
            "automargin": true,
            "type": "pie"
           }
          ],
          "scatter": [
           {
            "marker": {
             "colorbar": {
              "outlinewidth": 0,
              "ticks": ""
             }
            },
            "type": "scatter"
           }
          ],
          "scatter3d": [
           {
            "line": {
             "colorbar": {
              "outlinewidth": 0,
              "ticks": ""
             }
            },
            "marker": {
             "colorbar": {
              "outlinewidth": 0,
              "ticks": ""
             }
            },
            "type": "scatter3d"
           }
          ],
          "scattercarpet": [
           {
            "marker": {
             "colorbar": {
              "outlinewidth": 0,
              "ticks": ""
             }
            },
            "type": "scattercarpet"
           }
          ],
          "scattergeo": [
           {
            "marker": {
             "colorbar": {
              "outlinewidth": 0,
              "ticks": ""
             }
            },
            "type": "scattergeo"
           }
          ],
          "scattergl": [
           {
            "marker": {
             "colorbar": {
              "outlinewidth": 0,
              "ticks": ""
             }
            },
            "type": "scattergl"
           }
          ],
          "scattermapbox": [
           {
            "marker": {
             "colorbar": {
              "outlinewidth": 0,
              "ticks": ""
             }
            },
            "type": "scattermapbox"
           }
          ],
          "scatterpolar": [
           {
            "marker": {
             "colorbar": {
              "outlinewidth": 0,
              "ticks": ""
             }
            },
            "type": "scatterpolar"
           }
          ],
          "scatterpolargl": [
           {
            "marker": {
             "colorbar": {
              "outlinewidth": 0,
              "ticks": ""
             }
            },
            "type": "scatterpolargl"
           }
          ],
          "scatterternary": [
           {
            "marker": {
             "colorbar": {
              "outlinewidth": 0,
              "ticks": ""
             }
            },
            "type": "scatterternary"
           }
          ],
          "surface": [
           {
            "colorbar": {
             "outlinewidth": 0,
             "ticks": ""
            },
            "colorscale": [
             [
              0,
              "#0d0887"
             ],
             [
              0.1111111111111111,
              "#46039f"
             ],
             [
              0.2222222222222222,
              "#7201a8"
             ],
             [
              0.3333333333333333,
              "#9c179e"
             ],
             [
              0.4444444444444444,
              "#bd3786"
             ],
             [
              0.5555555555555556,
              "#d8576b"
             ],
             [
              0.6666666666666666,
              "#ed7953"
             ],
             [
              0.7777777777777778,
              "#fb9f3a"
             ],
             [
              0.8888888888888888,
              "#fdca26"
             ],
             [
              1,
              "#f0f921"
             ]
            ],
            "type": "surface"
           }
          ],
          "table": [
           {
            "cells": {
             "fill": {
              "color": "#EBF0F8"
             },
             "line": {
              "color": "white"
             }
            },
            "header": {
             "fill": {
              "color": "#C8D4E3"
             },
             "line": {
              "color": "white"
             }
            },
            "type": "table"
           }
          ]
         },
         "layout": {
          "annotationdefaults": {
           "arrowcolor": "#2a3f5f",
           "arrowhead": 0,
           "arrowwidth": 1
          },
          "coloraxis": {
           "colorbar": {
            "outlinewidth": 0,
            "ticks": ""
           }
          },
          "colorscale": {
           "diverging": [
            [
             0,
             "#8e0152"
            ],
            [
             0.1,
             "#c51b7d"
            ],
            [
             0.2,
             "#de77ae"
            ],
            [
             0.3,
             "#f1b6da"
            ],
            [
             0.4,
             "#fde0ef"
            ],
            [
             0.5,
             "#f7f7f7"
            ],
            [
             0.6,
             "#e6f5d0"
            ],
            [
             0.7,
             "#b8e186"
            ],
            [
             0.8,
             "#7fbc41"
            ],
            [
             0.9,
             "#4d9221"
            ],
            [
             1,
             "#276419"
            ]
           ],
           "sequential": [
            [
             0,
             "#0d0887"
            ],
            [
             0.1111111111111111,
             "#46039f"
            ],
            [
             0.2222222222222222,
             "#7201a8"
            ],
            [
             0.3333333333333333,
             "#9c179e"
            ],
            [
             0.4444444444444444,
             "#bd3786"
            ],
            [
             0.5555555555555556,
             "#d8576b"
            ],
            [
             0.6666666666666666,
             "#ed7953"
            ],
            [
             0.7777777777777778,
             "#fb9f3a"
            ],
            [
             0.8888888888888888,
             "#fdca26"
            ],
            [
             1,
             "#f0f921"
            ]
           ],
           "sequentialminus": [
            [
             0,
             "#0d0887"
            ],
            [
             0.1111111111111111,
             "#46039f"
            ],
            [
             0.2222222222222222,
             "#7201a8"
            ],
            [
             0.3333333333333333,
             "#9c179e"
            ],
            [
             0.4444444444444444,
             "#bd3786"
            ],
            [
             0.5555555555555556,
             "#d8576b"
            ],
            [
             0.6666666666666666,
             "#ed7953"
            ],
            [
             0.7777777777777778,
             "#fb9f3a"
            ],
            [
             0.8888888888888888,
             "#fdca26"
            ],
            [
             1,
             "#f0f921"
            ]
           ]
          },
          "colorway": [
           "#636efa",
           "#EF553B",
           "#00cc96",
           "#ab63fa",
           "#FFA15A",
           "#19d3f3",
           "#FF6692",
           "#B6E880",
           "#FF97FF",
           "#FECB52"
          ],
          "font": {
           "color": "#2a3f5f"
          },
          "geo": {
           "bgcolor": "white",
           "lakecolor": "white",
           "landcolor": "#E5ECF6",
           "showlakes": true,
           "showland": true,
           "subunitcolor": "white"
          },
          "hoverlabel": {
           "align": "left"
          },
          "hovermode": "closest",
          "mapbox": {
           "style": "light"
          },
          "paper_bgcolor": "white",
          "plot_bgcolor": "#E5ECF6",
          "polar": {
           "angularaxis": {
            "gridcolor": "white",
            "linecolor": "white",
            "ticks": ""
           },
           "bgcolor": "#E5ECF6",
           "radialaxis": {
            "gridcolor": "white",
            "linecolor": "white",
            "ticks": ""
           }
          },
          "scene": {
           "xaxis": {
            "backgroundcolor": "#E5ECF6",
            "gridcolor": "white",
            "gridwidth": 2,
            "linecolor": "white",
            "showbackground": true,
            "ticks": "",
            "zerolinecolor": "white"
           },
           "yaxis": {
            "backgroundcolor": "#E5ECF6",
            "gridcolor": "white",
            "gridwidth": 2,
            "linecolor": "white",
            "showbackground": true,
            "ticks": "",
            "zerolinecolor": "white"
           },
           "zaxis": {
            "backgroundcolor": "#E5ECF6",
            "gridcolor": "white",
            "gridwidth": 2,
            "linecolor": "white",
            "showbackground": true,
            "ticks": "",
            "zerolinecolor": "white"
           }
          },
          "shapedefaults": {
           "line": {
            "color": "#2a3f5f"
           }
          },
          "ternary": {
           "aaxis": {
            "gridcolor": "white",
            "linecolor": "white",
            "ticks": ""
           },
           "baxis": {
            "gridcolor": "white",
            "linecolor": "white",
            "ticks": ""
           },
           "bgcolor": "#E5ECF6",
           "caxis": {
            "gridcolor": "white",
            "linecolor": "white",
            "ticks": ""
           }
          },
          "title": {
           "x": 0.05
          },
          "xaxis": {
           "automargin": true,
           "gridcolor": "white",
           "linecolor": "white",
           "ticks": "",
           "title": {
            "standoff": 15
           },
           "zerolinecolor": "white",
           "zerolinewidth": 2
          },
          "yaxis": {
           "automargin": true,
           "gridcolor": "white",
           "linecolor": "white",
           "ticks": "",
           "title": {
            "standoff": 15
           },
           "zerolinecolor": "white",
           "zerolinewidth": 2
          }
         }
        },
        "title": {
         "font": {
          "color": "#4D5663"
         }
        },
        "xaxis": {
         "gridcolor": "#E1E5ED",
         "showgrid": true,
         "tickfont": {
          "color": "#4D5663"
         },
         "title": {
          "font": {
           "color": "#4D5663"
          },
          "text": ""
         },
         "zerolinecolor": "#E1E5ED"
        },
        "yaxis": {
         "gridcolor": "#E1E5ED",
         "showgrid": true,
         "tickfont": {
          "color": "#4D5663"
         },
         "title": {
          "font": {
           "color": "#4D5663"
          },
          "text": ""
         },
         "zerolinecolor": "#E1E5ED"
        }
       }
      },
      "text/html": [
       "<div>\n",
       "        \n",
       "        \n",
       "            <div id=\"3bbc3927-8525-4ba4-b7c0-a08073b9a6fc\" class=\"plotly-graph-div\" style=\"height:525px; width:100%;\"></div>\n",
       "            <script type=\"text/javascript\">\n",
       "                require([\"plotly\"], function(Plotly) {\n",
       "                    window.PLOTLYENV=window.PLOTLYENV || {};\n",
       "                    window.PLOTLYENV.BASE_URL='https://plot.ly';\n",
       "                    \n",
       "                if (document.getElementById(\"3bbc3927-8525-4ba4-b7c0-a08073b9a6fc\")) {\n",
       "                    Plotly.newPlot(\n",
       "                        '3bbc3927-8525-4ba4-b7c0-a08073b9a6fc',\n",
       "                        [{\"histfunc\": \"count\", \"histnorm\": \"\", \"marker\": {\"color\": \"rgba(255, 153, 51, 1.0)\", \"line\": {\"color\": \"#4D5663\", \"width\": 1.3}}, \"name\": \"A\", \"opacity\": 0.8, \"orientation\": \"v\", \"type\": \"histogram\", \"x\": [0.7377480585830137, 0.7342847783883112, -1.0683171404471412, -1.502733798438884, 0.6561686237827556, -1.1459037323632137, 0.6476633312484361, 0.954015340373593, 1.539985876684928, 0.7985745670731059, -1.5918749202161273, 0.8082330941312681, 0.4497225270275956, 0.44060026434460214, 0.6348032618871884, 1.3874779330072162, 0.0438216873576978, -1.1014944244087401, -1.2275063824869006, -1.8290699710898346, -0.22351957823940455, -0.7050039212800109, -1.1183465214167012, -1.8248514931381798, 1.4905083191743311, 0.25626490998075285, 0.7422419175531905, 0.027907303872408085, -0.06577875054392432, -2.028482755750844, -0.9999937897710787, 0.18755245412529312, -1.3748890838009733, -0.7893670077838172, -0.9693956309750764, -0.3874700518752942, 0.8497108153574742, -2.3984511660062826, -1.0375323703356547, -1.1668382338824628, 1.0178209906174234, -2.0184440193807105, 0.10005832909083658, -0.5248020077275282, 0.6066228167525038, 0.2697695084102519, -1.332359037059602, -0.1136562919792124, -1.5255681143137725, 0.7148349278548535, -0.23774122847181883, 0.7716215119493806, 0.02376413684294443, -0.20117023619862676, -0.5919119812096941, -2.289606638197903, -1.69171991905258, 0.03946357615375144, 0.061783385108110836, 0.5000231705082663, -0.08109990486056581, -0.22066706333618294, 0.6970531220231665, 0.5792548517859589, 0.3834561644480958, 0.30649813188746133, -0.810500502854627, 1.1874691913836422, 0.04273693089697035, 0.10807765364701052, -1.9834385486030648, 0.30500393482364385, 0.04025339830170707, -1.3667014133501796, -1.0856887678202325, 0.6435525794998168, 0.09094754542965085, 0.11965187209304147, -1.109132843870616, -1.1028645951963907, 0.5112915171860486, 1.9374953617279147, -0.07245361045267751, -0.5470649360074591, 3.3981405035516525, -1.170234159171683, 0.4029753395723124, -0.49332286516639035, -1.1812130978576854, -2.0723603009366376, -0.8091482359309616, 0.956168042124244, -0.26979704705689905, -0.06303567646588461, 0.28774570776517755, 1.3294452569558244, 0.25037832471323584, -0.23303023685009297, -0.8954288193418369, -0.29096827647431506]}, {\"histfunc\": \"count\", \"histnorm\": \"\", \"marker\": {\"color\": \"rgba(55, 128, 191, 1.0)\", \"line\": {\"color\": \"#4D5663\", \"width\": 1.3}}, \"name\": \"B\", \"opacity\": 0.8, \"orientation\": \"v\", \"type\": \"histogram\", \"x\": [0.19757683481913466, 0.19652603702414015, 0.8802559451990586, -3.246105290136032, 0.13166861327125656, 0.37894731398952586, 0.9017310254915447, 0.8410559395842016, -0.3475436119400676, -0.6333759579885387, -0.46721317143339497, -0.25197763683591395, 0.10798919230128363, 0.8279785479323732, 0.5181141679590413, -0.08740292588407063, -0.6262855402267856, -0.9981323252780863, -0.16530789117237085, -1.1171779612314283, 0.14964301868274876, -0.7213752047771493, -0.55422745014167, -1.8050140419080938, -0.09366392738194239, 0.7226521207213704, 0.950687199099526, -0.3285326599246558, 1.4151962610116287, -0.874654751843458, 0.429029706243159, 0.38343051280730256, 0.5229346393025011, -1.0546871079135307, -0.9096170476035544, -1.4792325006326723, -0.0658692466059647, -1.3027699560793393, 0.988090979663669, -0.22409559289129885, 0.7133713100303162, 0.3416091416133028, -0.9306940942545728, -0.34340258028634024, -0.5820680198522021, -0.47557889455395325, -0.4927696339863192, -1.0305543868008562, -1.0992997531456075, 0.9989814097855022, 0.29706921050397894, 0.44290029683620286, 0.23479596022042112, -1.2590740525741102, -0.5553387627535838, -0.9247408398573905, -0.30264344149525485, -0.710723649552731, -0.4571537974062655, -1.2442424570271577, 0.6278670818249709, -0.5607876516543867, -0.6455709830869545, 0.8795806440458941, 0.4075942240710124, -0.5077041158846402, 1.403109214192499, 0.41190914173872556, -0.9797664268315869, -0.407844408205296, 0.20692180881156025, 0.2171037233664773, -1.0206316273355782, 0.28358419056260675, 0.681150249787766, 0.5826961401987615, 0.93025604132711, -0.6151490682609284, -1.7903317652004367, 0.7746725906814703, 0.9587083684669854, -1.0291724032658307, 0.48332863248025204, -0.10730694261016965, 1.0628165318834424, 0.3498735613601411, -1.4542444735205482, -0.37433846017044375, -0.03994373838327206, -0.35655183390093353, 0.26880757874751465, 0.5083302621189569, 0.9995757926517211, 3.432394122748129, -1.6958994843957778, -1.0586459065945708, -1.8360538740318209, -0.6032852020161685, -1.5928644283858395, -1.8202141537266145]}, {\"histfunc\": \"count\", \"histnorm\": \"\", \"marker\": {\"color\": \"rgba(50, 171, 96, 1.0)\", \"line\": {\"color\": \"#4D5663\", \"width\": 1.3}}, \"name\": \"C\", \"opacity\": 0.8, \"orientation\": \"v\", \"type\": \"histogram\", \"x\": [-0.6096608224151466, -0.6195079747212103, 0.7109406448525754, -1.3576488964524391, 0.3539574156709573, 1.2262553786457966, -0.5023942829843933, 0.5522310577308305, 0.7108756556978424, 0.10920510938871546, 0.4149967488288535, 1.3011189754866916, 0.5542723738033885, 0.7987642339371241, 0.8759170909728486, 0.7219316733733715, -1.7869490716923797, -1.679550595679321, 1.9274639583266926, 0.3828021930857063, 1.2608656994571699, -0.1938433376033397, 1.8357859382308004, 1.3001031158009266, -0.632849920499351, -1.5342524445220331, -2.3585628827994283, 0.0661748444944162, 0.006365499709921685, 0.312995564273019, 0.0937504317809031, -0.29835371474252503, -1.8279726016525282, -0.352868152041477, -0.8559998733210675, -0.28608530691286377, 1.396727023340674, -0.40359163631147577, -0.3292458811883445, 0.599421083749579, -1.2124000262503405, -0.5693543470575455, 0.4377338777037384, -1.642144774079887, -0.30764720537762086, 1.2542750180885254, 0.7564255708797416, -0.9832730838691014, 0.4164998282128355, 0.7477748458530866, 1.3560202886782509, 1.546746331079022, 1.9052164640676077, -2.0461367992280457, 0.9687250883987175, -0.16111852239983515, -0.2623169457336536, 0.6979029617949611, -1.4823878216061581, 0.392877675346139, 0.21566655583007072, -1.7472944763299612, -1.2516772119417252, -0.13766057172636878, 0.6390747642098169, -0.5165476343485128, -0.662260234384109, -1.4190709440988007, 0.9135263608642058, -0.16528750001260598, -0.40019365725797157, -0.3700242924353822, -1.962750084533982, -0.4508981113805817, -0.9727042912984357, 0.04723505603996999, 1.4504684351884678, -0.1189997957052009, -1.2371007992918832, 0.5995717421705108, -1.1166092112545292, 0.1715473028907822, -0.3347258686563542, -1.240185466280291, 1.0476296913470322, 1.700571192640512, 0.3146752141594078, -0.8066274098380597, 1.1412362503571325, 0.9193081732449275, 0.41038052464580893, -0.6929166527794698, 0.7922727125420788, 0.3475430006898677, -0.5775533782567989, 1.387393562697111, -0.14139060179298688, 0.1232069052447074, -1.6848274592682884, -0.3079396992785525]}, {\"histfunc\": \"count\", \"histnorm\": \"\", \"marker\": {\"color\": \"rgba(128, 0, 128, 1.0)\", \"line\": {\"color\": \"#4D5663\", \"width\": 1.3}}, \"name\": \"D\", \"opacity\": 0.8, \"orientation\": \"v\", \"type\": \"histogram\", \"x\": [1.1401673986248801, 0.13313653080927113, 0.19698757663838, 0.952955548715361, -0.20989517397197824, 0.23896266017547702, -0.35425191925320987, -0.6126943383460478, 1.3920191303747103, 0.548922979417018, 0.6143207621742002, 0.31775370625711374, 0.35343266229756776, 0.8146004499815067, -1.0202276992452228, 1.0329463600952744, 0.4050958787576824, -2.8435300437531796, 0.8476960698637384, 0.30060393407956204, 2.395377396817081, 0.41754187027079953, -0.041557565209885516, 1.7756192538628472, 0.6033104525486233, 0.32067559892224434, 0.5146999332229149, -1.2934581169624737, -0.13703049255397978, -0.07213589597693378, -0.3770317341839668, -1.0696842549372618, 0.9816766588940186, 1.918981131133428, -0.2289408687169476, 0.2671261146526187, 0.5119462534866697, -0.8239501957925991, -0.10913167594946674, -0.6679040757000227, -0.7749056852741179, 0.20389806534071162, -0.901276867585821, 1.154099420824574, 0.011354401808919192, 0.2098443593415194, 1.5854698876338933, -0.07344276075067835, 0.5073385189309244, -1.773319236552539, -0.05272041058146565, -0.00362736273952922, -0.5945275493238228, 0.41809379429104887, 0.8909465400459582, 0.09563245179050314, 1.0311602461832148, 1.0159953770058927, -0.6170213287877444, -1.0976143674215801, -1.5004841052765934, 0.09431301496742447, -0.9452218800849674, -0.01560992121439684, 0.7879037411261346, 0.6853755116492865, -0.8623001717604366, 1.0769194654893817, 0.6431688511361634, 0.12895953199732638, -0.5498628658378011, -1.4492936939235181, 0.016024222288879897, 2.664282252712835, 1.0696366331516471, 0.12835965398046997, 0.5101687936919098, 1.5299010478683583, -1.2335689808342365, 0.2464428699381851, 2.1078222162200384, 0.7843387741083879, -0.1446628038271378, 0.8157535679411924, -0.20789418560122971, 1.2911215665236357, -0.4371104648645292, 1.2891046799090462, 0.14198386497507962, -0.24169307687263147, 0.08057209185200362, 1.448257337150349, -0.6207616616697897, -1.3403917003667252, -0.8028486224328306, -0.21052336907806699, -0.09233070228788874, -0.3661415088533711, -0.4629290587443829, 1.0483734858888971]}],\n",
       "                        {\"barmode\": \"overlay\", \"legend\": {\"bgcolor\": \"#F5F6F9\", \"font\": {\"color\": \"#4D5663\"}}, \"paper_bgcolor\": \"#F5F6F9\", \"plot_bgcolor\": \"#F5F6F9\", \"template\": {\"data\": {\"bar\": [{\"error_x\": {\"color\": \"#2a3f5f\"}, \"error_y\": {\"color\": \"#2a3f5f\"}, \"marker\": {\"line\": {\"color\": \"#E5ECF6\", \"width\": 0.5}}, \"type\": \"bar\"}], \"barpolar\": [{\"marker\": {\"line\": {\"color\": \"#E5ECF6\", \"width\": 0.5}}, \"type\": \"barpolar\"}], \"carpet\": [{\"aaxis\": {\"endlinecolor\": \"#2a3f5f\", \"gridcolor\": \"white\", \"linecolor\": \"white\", \"minorgridcolor\": \"white\", \"startlinecolor\": \"#2a3f5f\"}, \"baxis\": {\"endlinecolor\": \"#2a3f5f\", \"gridcolor\": \"white\", \"linecolor\": \"white\", \"minorgridcolor\": \"white\", \"startlinecolor\": \"#2a3f5f\"}, \"type\": \"carpet\"}], \"choropleth\": [{\"colorbar\": {\"outlinewidth\": 0, \"ticks\": \"\"}, \"type\": \"choropleth\"}], \"contour\": [{\"colorbar\": {\"outlinewidth\": 0, \"ticks\": \"\"}, \"colorscale\": [[0.0, \"#0d0887\"], [0.1111111111111111, \"#46039f\"], [0.2222222222222222, \"#7201a8\"], [0.3333333333333333, \"#9c179e\"], [0.4444444444444444, \"#bd3786\"], [0.5555555555555556, \"#d8576b\"], [0.6666666666666666, \"#ed7953\"], [0.7777777777777778, \"#fb9f3a\"], [0.8888888888888888, \"#fdca26\"], [1.0, \"#f0f921\"]], \"type\": \"contour\"}], \"contourcarpet\": [{\"colorbar\": {\"outlinewidth\": 0, \"ticks\": \"\"}, \"type\": \"contourcarpet\"}], \"heatmap\": [{\"colorbar\": {\"outlinewidth\": 0, \"ticks\": \"\"}, \"colorscale\": [[0.0, \"#0d0887\"], [0.1111111111111111, \"#46039f\"], [0.2222222222222222, \"#7201a8\"], [0.3333333333333333, \"#9c179e\"], [0.4444444444444444, \"#bd3786\"], [0.5555555555555556, \"#d8576b\"], [0.6666666666666666, \"#ed7953\"], [0.7777777777777778, \"#fb9f3a\"], [0.8888888888888888, \"#fdca26\"], [1.0, \"#f0f921\"]], \"type\": \"heatmap\"}], \"heatmapgl\": [{\"colorbar\": {\"outlinewidth\": 0, \"ticks\": \"\"}, \"colorscale\": [[0.0, \"#0d0887\"], [0.1111111111111111, \"#46039f\"], [0.2222222222222222, \"#7201a8\"], [0.3333333333333333, \"#9c179e\"], [0.4444444444444444, \"#bd3786\"], [0.5555555555555556, \"#d8576b\"], [0.6666666666666666, \"#ed7953\"], [0.7777777777777778, \"#fb9f3a\"], [0.8888888888888888, \"#fdca26\"], [1.0, \"#f0f921\"]], \"type\": \"heatmapgl\"}], \"histogram\": [{\"marker\": {\"colorbar\": {\"outlinewidth\": 0, \"ticks\": \"\"}}, \"type\": \"histogram\"}], \"histogram2d\": [{\"colorbar\": {\"outlinewidth\": 0, \"ticks\": \"\"}, \"colorscale\": [[0.0, \"#0d0887\"], [0.1111111111111111, \"#46039f\"], [0.2222222222222222, \"#7201a8\"], [0.3333333333333333, \"#9c179e\"], [0.4444444444444444, \"#bd3786\"], [0.5555555555555556, \"#d8576b\"], [0.6666666666666666, \"#ed7953\"], [0.7777777777777778, \"#fb9f3a\"], [0.8888888888888888, \"#fdca26\"], [1.0, \"#f0f921\"]], \"type\": \"histogram2d\"}], \"histogram2dcontour\": [{\"colorbar\": {\"outlinewidth\": 0, \"ticks\": \"\"}, \"colorscale\": [[0.0, \"#0d0887\"], [0.1111111111111111, \"#46039f\"], [0.2222222222222222, \"#7201a8\"], [0.3333333333333333, \"#9c179e\"], [0.4444444444444444, \"#bd3786\"], [0.5555555555555556, \"#d8576b\"], [0.6666666666666666, \"#ed7953\"], [0.7777777777777778, \"#fb9f3a\"], [0.8888888888888888, \"#fdca26\"], [1.0, \"#f0f921\"]], \"type\": \"histogram2dcontour\"}], \"mesh3d\": [{\"colorbar\": {\"outlinewidth\": 0, \"ticks\": \"\"}, \"type\": \"mesh3d\"}], \"parcoords\": [{\"line\": {\"colorbar\": {\"outlinewidth\": 0, \"ticks\": \"\"}}, \"type\": \"parcoords\"}], \"pie\": [{\"automargin\": true, \"type\": \"pie\"}], \"scatter\": [{\"marker\": {\"colorbar\": {\"outlinewidth\": 0, \"ticks\": \"\"}}, \"type\": \"scatter\"}], \"scatter3d\": [{\"line\": {\"colorbar\": {\"outlinewidth\": 0, \"ticks\": \"\"}}, \"marker\": {\"colorbar\": {\"outlinewidth\": 0, \"ticks\": \"\"}}, \"type\": \"scatter3d\"}], \"scattercarpet\": [{\"marker\": {\"colorbar\": {\"outlinewidth\": 0, \"ticks\": \"\"}}, \"type\": \"scattercarpet\"}], \"scattergeo\": [{\"marker\": {\"colorbar\": {\"outlinewidth\": 0, \"ticks\": \"\"}}, \"type\": \"scattergeo\"}], \"scattergl\": [{\"marker\": {\"colorbar\": {\"outlinewidth\": 0, \"ticks\": \"\"}}, \"type\": \"scattergl\"}], \"scattermapbox\": [{\"marker\": {\"colorbar\": {\"outlinewidth\": 0, \"ticks\": \"\"}}, \"type\": \"scattermapbox\"}], \"scatterpolar\": [{\"marker\": {\"colorbar\": {\"outlinewidth\": 0, \"ticks\": \"\"}}, \"type\": \"scatterpolar\"}], \"scatterpolargl\": [{\"marker\": {\"colorbar\": {\"outlinewidth\": 0, \"ticks\": \"\"}}, \"type\": \"scatterpolargl\"}], \"scatterternary\": [{\"marker\": {\"colorbar\": {\"outlinewidth\": 0, \"ticks\": \"\"}}, \"type\": \"scatterternary\"}], \"surface\": [{\"colorbar\": {\"outlinewidth\": 0, \"ticks\": \"\"}, \"colorscale\": [[0.0, \"#0d0887\"], [0.1111111111111111, \"#46039f\"], [0.2222222222222222, \"#7201a8\"], [0.3333333333333333, \"#9c179e\"], [0.4444444444444444, \"#bd3786\"], [0.5555555555555556, \"#d8576b\"], [0.6666666666666666, \"#ed7953\"], [0.7777777777777778, \"#fb9f3a\"], [0.8888888888888888, \"#fdca26\"], [1.0, \"#f0f921\"]], \"type\": \"surface\"}], \"table\": [{\"cells\": {\"fill\": {\"color\": \"#EBF0F8\"}, \"line\": {\"color\": \"white\"}}, \"header\": {\"fill\": {\"color\": \"#C8D4E3\"}, \"line\": {\"color\": \"white\"}}, \"type\": \"table\"}]}, \"layout\": {\"annotationdefaults\": {\"arrowcolor\": \"#2a3f5f\", \"arrowhead\": 0, \"arrowwidth\": 1}, \"coloraxis\": {\"colorbar\": {\"outlinewidth\": 0, \"ticks\": \"\"}}, \"colorscale\": {\"diverging\": [[0, \"#8e0152\"], [0.1, \"#c51b7d\"], [0.2, \"#de77ae\"], [0.3, \"#f1b6da\"], [0.4, \"#fde0ef\"], [0.5, \"#f7f7f7\"], [0.6, \"#e6f5d0\"], [0.7, \"#b8e186\"], [0.8, \"#7fbc41\"], [0.9, \"#4d9221\"], [1, \"#276419\"]], \"sequential\": [[0.0, \"#0d0887\"], [0.1111111111111111, \"#46039f\"], [0.2222222222222222, \"#7201a8\"], [0.3333333333333333, \"#9c179e\"], [0.4444444444444444, \"#bd3786\"], [0.5555555555555556, \"#d8576b\"], [0.6666666666666666, \"#ed7953\"], [0.7777777777777778, \"#fb9f3a\"], [0.8888888888888888, \"#fdca26\"], [1.0, \"#f0f921\"]], \"sequentialminus\": [[0.0, \"#0d0887\"], [0.1111111111111111, \"#46039f\"], [0.2222222222222222, \"#7201a8\"], [0.3333333333333333, \"#9c179e\"], [0.4444444444444444, \"#bd3786\"], [0.5555555555555556, \"#d8576b\"], [0.6666666666666666, \"#ed7953\"], [0.7777777777777778, \"#fb9f3a\"], [0.8888888888888888, \"#fdca26\"], [1.0, \"#f0f921\"]]}, \"colorway\": [\"#636efa\", \"#EF553B\", \"#00cc96\", \"#ab63fa\", \"#FFA15A\", \"#19d3f3\", \"#FF6692\", \"#B6E880\", \"#FF97FF\", \"#FECB52\"], \"font\": {\"color\": \"#2a3f5f\"}, \"geo\": {\"bgcolor\": \"white\", \"lakecolor\": \"white\", \"landcolor\": \"#E5ECF6\", \"showlakes\": true, \"showland\": true, \"subunitcolor\": \"white\"}, \"hoverlabel\": {\"align\": \"left\"}, \"hovermode\": \"closest\", \"mapbox\": {\"style\": \"light\"}, \"paper_bgcolor\": \"white\", \"plot_bgcolor\": \"#E5ECF6\", \"polar\": {\"angularaxis\": {\"gridcolor\": \"white\", \"linecolor\": \"white\", \"ticks\": \"\"}, \"bgcolor\": \"#E5ECF6\", \"radialaxis\": {\"gridcolor\": \"white\", \"linecolor\": \"white\", \"ticks\": \"\"}}, \"scene\": {\"xaxis\": {\"backgroundcolor\": \"#E5ECF6\", \"gridcolor\": \"white\", \"gridwidth\": 2, \"linecolor\": \"white\", \"showbackground\": true, \"ticks\": \"\", \"zerolinecolor\": \"white\"}, \"yaxis\": {\"backgroundcolor\": \"#E5ECF6\", \"gridcolor\": \"white\", \"gridwidth\": 2, \"linecolor\": \"white\", \"showbackground\": true, \"ticks\": \"\", \"zerolinecolor\": \"white\"}, \"zaxis\": {\"backgroundcolor\": \"#E5ECF6\", \"gridcolor\": \"white\", \"gridwidth\": 2, \"linecolor\": \"white\", \"showbackground\": true, \"ticks\": \"\", \"zerolinecolor\": \"white\"}}, \"shapedefaults\": {\"line\": {\"color\": \"#2a3f5f\"}}, \"ternary\": {\"aaxis\": {\"gridcolor\": \"white\", \"linecolor\": \"white\", \"ticks\": \"\"}, \"baxis\": {\"gridcolor\": \"white\", \"linecolor\": \"white\", \"ticks\": \"\"}, \"bgcolor\": \"#E5ECF6\", \"caxis\": {\"gridcolor\": \"white\", \"linecolor\": \"white\", \"ticks\": \"\"}}, \"title\": {\"x\": 0.05}, \"xaxis\": {\"automargin\": true, \"gridcolor\": \"white\", \"linecolor\": \"white\", \"ticks\": \"\", \"title\": {\"standoff\": 15}, \"zerolinecolor\": \"white\", \"zerolinewidth\": 2}, \"yaxis\": {\"automargin\": true, \"gridcolor\": \"white\", \"linecolor\": \"white\", \"ticks\": \"\", \"title\": {\"standoff\": 15}, \"zerolinecolor\": \"white\", \"zerolinewidth\": 2}}}, \"title\": {\"font\": {\"color\": \"#4D5663\"}}, \"xaxis\": {\"gridcolor\": \"#E1E5ED\", \"showgrid\": true, \"tickfont\": {\"color\": \"#4D5663\"}, \"title\": {\"font\": {\"color\": \"#4D5663\"}, \"text\": \"\"}, \"zerolinecolor\": \"#E1E5ED\"}, \"yaxis\": {\"gridcolor\": \"#E1E5ED\", \"showgrid\": true, \"tickfont\": {\"color\": \"#4D5663\"}, \"title\": {\"font\": {\"color\": \"#4D5663\"}, \"text\": \"\"}, \"zerolinecolor\": \"#E1E5ED\"}},\n",
       "                        {\"showLink\": true, \"linkText\": \"Export to plot.ly\", \"plotlyServerURL\": \"https://plot.ly\", \"responsive\": true}\n",
       "                    ).then(function(){\n",
       "                            \n",
       "var gd = document.getElementById('3bbc3927-8525-4ba4-b7c0-a08073b9a6fc');\n",
       "var x = new MutationObserver(function (mutations, observer) {{\n",
       "        var display = window.getComputedStyle(gd).display;\n",
       "        if (!display || display === 'none') {{\n",
       "            console.log([gd, 'removed!']);\n",
       "            Plotly.purge(gd);\n",
       "            observer.disconnect();\n",
       "        }}\n",
       "}});\n",
       "\n",
       "// Listen for the removal of the full notebook cells\n",
       "var notebookContainer = gd.closest('#notebook-container');\n",
       "if (notebookContainer) {{\n",
       "    x.observe(notebookContainer, {childList: true});\n",
       "}}\n",
       "\n",
       "// Listen for the clearing of the current output cell\n",
       "var outputEl = gd.closest('.output');\n",
       "if (outputEl) {{\n",
       "    x.observe(outputEl, {childList: true});\n",
       "}}\n",
       "\n",
       "                        })\n",
       "                };\n",
       "                });\n",
       "            </script>\n",
       "        </div>"
      ]
     },
     "metadata": {},
     "output_type": "display_data"
    }
   ],
   "source": [
    "df.iplot(kind='hist')"
   ]
  },
  {
   "cell_type": "code",
   "execution_count": 48,
   "metadata": {},
   "outputs": [
    {
     "name": "stderr",
     "output_type": "stream",
     "text": [
      "C:\\Users\\manisha\\anaconda3\\envs\\python38\\lib\\site-packages\\cufflinks\\plotlytools.py:849: FutureWarning:\n",
      "\n",
      "The pandas.np module is deprecated and will be removed from pandas in a future version. Import numpy directly instead\n",
      "\n",
      "C:\\Users\\manisha\\anaconda3\\envs\\python38\\lib\\site-packages\\cufflinks\\plotlytools.py:850: FutureWarning:\n",
      "\n",
      "The pandas.np module is deprecated and will be removed from pandas in a future version. Import numpy directly instead\n",
      "\n"
     ]
    },
    {
     "data": {
      "application/vnd.plotly.v1+json": {
       "config": {
        "linkText": "Export to plot.ly",
        "plotlyServerURL": "https://plot.ly",
        "showLink": true
       },
       "data": [
        {
         "line": {
          "color": "rgba(255, 153, 51, 1.0)",
          "dash": "solid",
          "shape": "linear",
          "width": 1.3
         },
         "mode": "lines",
         "name": "A",
         "text": "",
         "type": "scatter",
         "x": [
          0,
          1,
          2,
          3,
          4,
          5,
          6,
          7,
          8,
          9,
          10,
          11,
          12,
          13,
          14,
          15,
          16,
          17,
          18,
          19,
          20,
          21,
          22,
          23,
          24,
          25,
          26,
          27,
          28,
          29,
          30,
          31,
          32,
          33,
          34,
          35,
          36,
          37,
          38,
          39,
          40,
          41,
          42,
          43,
          44,
          45,
          46,
          47,
          48,
          49,
          50,
          51,
          52,
          53,
          54,
          55,
          56,
          57,
          58,
          59,
          60,
          61,
          62,
          63,
          64,
          65,
          66,
          67,
          68,
          69,
          70,
          71,
          72,
          73,
          74,
          75,
          76,
          77,
          78,
          79,
          80,
          81,
          82,
          83,
          84,
          85,
          86,
          87,
          88,
          89,
          90,
          91,
          92,
          93,
          94,
          95,
          96,
          97,
          98,
          99
         ],
         "y": [
          0.7377480585830137,
          0.7342847783883112,
          -1.0683171404471412,
          -1.502733798438884,
          0.6561686237827556,
          -1.1459037323632137,
          0.6476633312484361,
          0.954015340373593,
          1.539985876684928,
          0.7985745670731059,
          -1.5918749202161273,
          0.8082330941312681,
          0.4497225270275956,
          0.44060026434460214,
          0.6348032618871884,
          1.3874779330072162,
          0.0438216873576978,
          -1.1014944244087401,
          -1.2275063824869006,
          -1.8290699710898346,
          -0.22351957823940455,
          -0.7050039212800109,
          -1.1183465214167012,
          -1.8248514931381798,
          1.4905083191743311,
          0.25626490998075285,
          0.7422419175531905,
          0.027907303872408085,
          -0.06577875054392432,
          -2.028482755750844,
          -0.9999937897710787,
          0.18755245412529312,
          -1.3748890838009733,
          -0.7893670077838172,
          -0.9693956309750764,
          -0.3874700518752942,
          0.8497108153574742,
          -2.3984511660062826,
          -1.0375323703356547,
          -1.1668382338824628,
          1.0178209906174234,
          -2.0184440193807105,
          0.10005832909083658,
          -0.5248020077275282,
          0.6066228167525038,
          0.2697695084102519,
          -1.332359037059602,
          -0.1136562919792124,
          -1.5255681143137725,
          0.7148349278548535,
          -0.23774122847181883,
          0.7716215119493806,
          0.02376413684294443,
          -0.20117023619862676,
          -0.5919119812096941,
          -2.289606638197903,
          -1.69171991905258,
          0.03946357615375144,
          0.061783385108110836,
          0.5000231705082663,
          -0.08109990486056581,
          -0.22066706333618294,
          0.6970531220231665,
          0.5792548517859589,
          0.3834561644480958,
          0.30649813188746133,
          -0.810500502854627,
          1.1874691913836422,
          0.04273693089697035,
          0.10807765364701052,
          -1.9834385486030648,
          0.30500393482364385,
          0.04025339830170707,
          -1.3667014133501796,
          -1.0856887678202325,
          0.6435525794998168,
          0.09094754542965085,
          0.11965187209304147,
          -1.109132843870616,
          -1.1028645951963907,
          0.5112915171860486,
          1.9374953617279147,
          -0.07245361045267751,
          -0.5470649360074591,
          3.3981405035516525,
          -1.170234159171683,
          0.4029753395723124,
          -0.49332286516639035,
          -1.1812130978576854,
          -2.0723603009366376,
          -0.8091482359309616,
          0.956168042124244,
          -0.26979704705689905,
          -0.06303567646588461,
          0.28774570776517755,
          1.3294452569558244,
          0.25037832471323584,
          -0.23303023685009297,
          -0.8954288193418369,
          -0.29096827647431506
         ]
        },
        {
         "line": {
          "color": "rgba(55, 128, 191, 1.0)",
          "dash": "solid",
          "shape": "linear",
          "width": 1.3
         },
         "mode": "lines",
         "name": "B",
         "text": "",
         "type": "scatter",
         "x": [
          0,
          1,
          2,
          3,
          4,
          5,
          6,
          7,
          8,
          9,
          10,
          11,
          12,
          13,
          14,
          15,
          16,
          17,
          18,
          19,
          20,
          21,
          22,
          23,
          24,
          25,
          26,
          27,
          28,
          29,
          30,
          31,
          32,
          33,
          34,
          35,
          36,
          37,
          38,
          39,
          40,
          41,
          42,
          43,
          44,
          45,
          46,
          47,
          48,
          49,
          50,
          51,
          52,
          53,
          54,
          55,
          56,
          57,
          58,
          59,
          60,
          61,
          62,
          63,
          64,
          65,
          66,
          67,
          68,
          69,
          70,
          71,
          72,
          73,
          74,
          75,
          76,
          77,
          78,
          79,
          80,
          81,
          82,
          83,
          84,
          85,
          86,
          87,
          88,
          89,
          90,
          91,
          92,
          93,
          94,
          95,
          96,
          97,
          98,
          99
         ],
         "y": [
          0.19757683481913466,
          0.19652603702414015,
          0.8802559451990586,
          -3.246105290136032,
          0.13166861327125656,
          0.37894731398952586,
          0.9017310254915447,
          0.8410559395842016,
          -0.3475436119400676,
          -0.6333759579885387,
          -0.46721317143339497,
          -0.25197763683591395,
          0.10798919230128363,
          0.8279785479323732,
          0.5181141679590413,
          -0.08740292588407063,
          -0.6262855402267856,
          -0.9981323252780863,
          -0.16530789117237085,
          -1.1171779612314283,
          0.14964301868274876,
          -0.7213752047771493,
          -0.55422745014167,
          -1.8050140419080938,
          -0.09366392738194239,
          0.7226521207213704,
          0.950687199099526,
          -0.3285326599246558,
          1.4151962610116287,
          -0.874654751843458,
          0.429029706243159,
          0.38343051280730256,
          0.5229346393025011,
          -1.0546871079135307,
          -0.9096170476035544,
          -1.4792325006326723,
          -0.0658692466059647,
          -1.3027699560793393,
          0.988090979663669,
          -0.22409559289129885,
          0.7133713100303162,
          0.3416091416133028,
          -0.9306940942545728,
          -0.34340258028634024,
          -0.5820680198522021,
          -0.47557889455395325,
          -0.4927696339863192,
          -1.0305543868008562,
          -1.0992997531456075,
          0.9989814097855022,
          0.29706921050397894,
          0.44290029683620286,
          0.23479596022042112,
          -1.2590740525741102,
          -0.5553387627535838,
          -0.9247408398573905,
          -0.30264344149525485,
          -0.710723649552731,
          -0.4571537974062655,
          -1.2442424570271577,
          0.6278670818249709,
          -0.5607876516543867,
          -0.6455709830869545,
          0.8795806440458941,
          0.4075942240710124,
          -0.5077041158846402,
          1.403109214192499,
          0.41190914173872556,
          -0.9797664268315869,
          -0.407844408205296,
          0.20692180881156025,
          0.2171037233664773,
          -1.0206316273355782,
          0.28358419056260675,
          0.681150249787766,
          0.5826961401987615,
          0.93025604132711,
          -0.6151490682609284,
          -1.7903317652004367,
          0.7746725906814703,
          0.9587083684669854,
          -1.0291724032658307,
          0.48332863248025204,
          -0.10730694261016965,
          1.0628165318834424,
          0.3498735613601411,
          -1.4542444735205482,
          -0.37433846017044375,
          -0.03994373838327206,
          -0.35655183390093353,
          0.26880757874751465,
          0.5083302621189569,
          0.9995757926517211,
          3.432394122748129,
          -1.6958994843957778,
          -1.0586459065945708,
          -1.8360538740318209,
          -0.6032852020161685,
          -1.5928644283858395,
          -1.8202141537266145
         ]
        },
        {
         "connectgaps": false,
         "fill": "tozeroy",
         "line": {
          "color": "green",
          "dash": "solid",
          "shape": "linear",
          "width": 0.5
         },
         "mode": "lines",
         "name": "Spread",
         "showlegend": false,
         "type": "scatter",
         "x": [
          0,
          1,
          2,
          3,
          4,
          5,
          6,
          7,
          8,
          9,
          10,
          11,
          12,
          13,
          14,
          15,
          16,
          17,
          18,
          19,
          20,
          21,
          22,
          23,
          24,
          25,
          26,
          27,
          28,
          29,
          30,
          31,
          32,
          33,
          34,
          35,
          36,
          37,
          38,
          39,
          40,
          41,
          42,
          43,
          44,
          45,
          46,
          47,
          48,
          49,
          50,
          51,
          52,
          53,
          54,
          55,
          56,
          57,
          58,
          59,
          60,
          61,
          62,
          63,
          64,
          65,
          66,
          67,
          68,
          69,
          70,
          71,
          72,
          73,
          74,
          75,
          76,
          77,
          78,
          79,
          80,
          81,
          82,
          83,
          84,
          85,
          86,
          87,
          88,
          89,
          90,
          91,
          92,
          93,
          94,
          95,
          96,
          97,
          98,
          99
         ],
         "xaxis": "x2",
         "y": [
          0.540171223763879,
          0.537758741364171,
          "",
          1.7433714916971481,
          0.5245000105114991,
          "",
          "",
          0.11295940078939148,
          1.8875294886249956,
          1.4319505250616447,
          "",
          1.060210730967182,
          0.34173333472631195,
          "",
          0.11668909392814708,
          1.474880858891287,
          0.6701072275844834,
          "",
          "",
          "",
          "",
          0.016371283497138456,
          "",
          "",
          1.5841722465562735,
          "",
          "",
          0.3564399637970639,
          "",
          "",
          "",
          "",
          "",
          0.2653201001297135,
          "",
          1.091762448757378,
          0.9155800619634389,
          "",
          "",
          "",
          0.3044496805871072,
          "",
          1.0307524233454095,
          "",
          1.188690836604706,
          0.7453484029642051,
          "",
          0.9168980948216439,
          "",
          "",
          "",
          0.3287212151131777,
          "",
          1.0579038163754835,
          "",
          "",
          "",
          0.7501872257064824,
          0.5189371825143764,
          1.744265627535424,
          "",
          0.3401205883182038,
          1.3426241051101209,
          "",
          "",
          0.8142022477721015,
          "",
          0.7755600496449166,
          1.0225033577285572,
          0.5159220618523065,
          "",
          0.08790021145716656,
          1.0608850256372853,
          "",
          "",
          0.06085643930105533,
          "",
          0.7348009403539699,
          0.6811989213298206,
          "",
          "",
          2.9666677649937454,
          "",
          "",
          2.33532397166821,
          "",
          1.8572198130928605,
          "",
          "",
          "",
          "",
          0.44783778000528707,
          "",
          "",
          1.9836451921609553,
          2.388091163550395,
          2.0864321987450567,
          0.3702549651660756,
          0.6974356090440026,
          1.5292458772522994
         ],
         "yaxis": "y2"
        },
        {
         "connectgaps": false,
         "fill": "tozeroy",
         "line": {
          "color": "red",
          "dash": "solid",
          "shape": "linear",
          "width": 0.5
         },
         "mode": "lines",
         "name": "Spread",
         "showlegend": false,
         "type": "scatter",
         "x": [
          0,
          1,
          2,
          3,
          4,
          5,
          6,
          7,
          8,
          9,
          10,
          11,
          12,
          13,
          14,
          15,
          16,
          17,
          18,
          19,
          20,
          21,
          22,
          23,
          24,
          25,
          26,
          27,
          28,
          29,
          30,
          31,
          32,
          33,
          34,
          35,
          36,
          37,
          38,
          39,
          40,
          41,
          42,
          43,
          44,
          45,
          46,
          47,
          48,
          49,
          50,
          51,
          52,
          53,
          54,
          55,
          56,
          57,
          58,
          59,
          60,
          61,
          62,
          63,
          64,
          65,
          66,
          67,
          68,
          69,
          70,
          71,
          72,
          73,
          74,
          75,
          76,
          77,
          78,
          79,
          80,
          81,
          82,
          83,
          84,
          85,
          86,
          87,
          88,
          89,
          90,
          91,
          92,
          93,
          94,
          95,
          96,
          97,
          98,
          99
         ],
         "xaxis": "x2",
         "y": [
          "",
          "",
          -1.9485730856461998,
          "",
          "",
          -1.5248510463527396,
          -0.2540676942431086,
          "",
          "",
          "",
          -1.1246617487827324,
          "",
          "",
          -0.3873782835877711,
          "",
          "",
          "",
          -0.10336209913065386,
          -1.0621984913145297,
          -0.7118920098584063,
          -0.3731625969221533,
          "",
          -0.5641190712750312,
          -0.019837451230086067,
          "",
          -0.46638721074061756,
          -0.20844528154633557,
          "",
          -1.480975011555553,
          -1.153828003907386,
          -1.4290234960142376,
          -0.19587805868200944,
          -1.8978237231034742,
          "",
          -0.059778583371521976,
          "",
          "",
          -1.0956812099269433,
          -2.0256233499993237,
          -0.9427426409911639,
          "",
          -2.3600531609940134,
          "",
          -0.18139942744118792,
          "",
          "",
          -0.8395894030732827,
          "",
          -0.426268361168165,
          -0.28414648193064873,
          -0.5348104389757977,
          "",
          -0.2110318233774767,
          "",
          -0.03657321845611028,
          -1.3648657983405124,
          -1.3890764775573252,
          "",
          "",
          "",
          -0.7089669866855367,
          "",
          "",
          -0.30032579225993516,
          -0.024138059622916597,
          "",
          -2.213609717047126,
          "",
          "",
          "",
          -2.190360357414625,
          "",
          "",
          -1.6502856039127862,
          -1.7668390176079984,
          "",
          -0.8393084958974592,
          "",
          "",
          -1.877537185877861,
          -0.4474168512809368,
          "",
          -0.5557822429329295,
          -0.43975799339728944,
          "",
          -1.520107720531824,
          "",
          -0.11898440499594659,
          -1.1412693594744132,
          -1.715808467035704,
          -1.0779558146784762,
          "",
          -1.2693728397086201,
          -3.4954297992140138,
          "",
          "",
          "",
          "",
          "",
          ""
         ],
         "yaxis": "y2"
        }
       ],
       "layout": {
        "hovermode": "x",
        "legend": {
         "bgcolor": "#F5F6F9",
         "font": {
          "color": "#4D5663"
         }
        },
        "paper_bgcolor": "#F5F6F9",
        "plot_bgcolor": "#F5F6F9",
        "template": {
         "data": {
          "bar": [
           {
            "error_x": {
             "color": "#2a3f5f"
            },
            "error_y": {
             "color": "#2a3f5f"
            },
            "marker": {
             "line": {
              "color": "#E5ECF6",
              "width": 0.5
             }
            },
            "type": "bar"
           }
          ],
          "barpolar": [
           {
            "marker": {
             "line": {
              "color": "#E5ECF6",
              "width": 0.5
             }
            },
            "type": "barpolar"
           }
          ],
          "carpet": [
           {
            "aaxis": {
             "endlinecolor": "#2a3f5f",
             "gridcolor": "white",
             "linecolor": "white",
             "minorgridcolor": "white",
             "startlinecolor": "#2a3f5f"
            },
            "baxis": {
             "endlinecolor": "#2a3f5f",
             "gridcolor": "white",
             "linecolor": "white",
             "minorgridcolor": "white",
             "startlinecolor": "#2a3f5f"
            },
            "type": "carpet"
           }
          ],
          "choropleth": [
           {
            "colorbar": {
             "outlinewidth": 0,
             "ticks": ""
            },
            "type": "choropleth"
           }
          ],
          "contour": [
           {
            "colorbar": {
             "outlinewidth": 0,
             "ticks": ""
            },
            "colorscale": [
             [
              0,
              "#0d0887"
             ],
             [
              0.1111111111111111,
              "#46039f"
             ],
             [
              0.2222222222222222,
              "#7201a8"
             ],
             [
              0.3333333333333333,
              "#9c179e"
             ],
             [
              0.4444444444444444,
              "#bd3786"
             ],
             [
              0.5555555555555556,
              "#d8576b"
             ],
             [
              0.6666666666666666,
              "#ed7953"
             ],
             [
              0.7777777777777778,
              "#fb9f3a"
             ],
             [
              0.8888888888888888,
              "#fdca26"
             ],
             [
              1,
              "#f0f921"
             ]
            ],
            "type": "contour"
           }
          ],
          "contourcarpet": [
           {
            "colorbar": {
             "outlinewidth": 0,
             "ticks": ""
            },
            "type": "contourcarpet"
           }
          ],
          "heatmap": [
           {
            "colorbar": {
             "outlinewidth": 0,
             "ticks": ""
            },
            "colorscale": [
             [
              0,
              "#0d0887"
             ],
             [
              0.1111111111111111,
              "#46039f"
             ],
             [
              0.2222222222222222,
              "#7201a8"
             ],
             [
              0.3333333333333333,
              "#9c179e"
             ],
             [
              0.4444444444444444,
              "#bd3786"
             ],
             [
              0.5555555555555556,
              "#d8576b"
             ],
             [
              0.6666666666666666,
              "#ed7953"
             ],
             [
              0.7777777777777778,
              "#fb9f3a"
             ],
             [
              0.8888888888888888,
              "#fdca26"
             ],
             [
              1,
              "#f0f921"
             ]
            ],
            "type": "heatmap"
           }
          ],
          "heatmapgl": [
           {
            "colorbar": {
             "outlinewidth": 0,
             "ticks": ""
            },
            "colorscale": [
             [
              0,
              "#0d0887"
             ],
             [
              0.1111111111111111,
              "#46039f"
             ],
             [
              0.2222222222222222,
              "#7201a8"
             ],
             [
              0.3333333333333333,
              "#9c179e"
             ],
             [
              0.4444444444444444,
              "#bd3786"
             ],
             [
              0.5555555555555556,
              "#d8576b"
             ],
             [
              0.6666666666666666,
              "#ed7953"
             ],
             [
              0.7777777777777778,
              "#fb9f3a"
             ],
             [
              0.8888888888888888,
              "#fdca26"
             ],
             [
              1,
              "#f0f921"
             ]
            ],
            "type": "heatmapgl"
           }
          ],
          "histogram": [
           {
            "marker": {
             "colorbar": {
              "outlinewidth": 0,
              "ticks": ""
             }
            },
            "type": "histogram"
           }
          ],
          "histogram2d": [
           {
            "colorbar": {
             "outlinewidth": 0,
             "ticks": ""
            },
            "colorscale": [
             [
              0,
              "#0d0887"
             ],
             [
              0.1111111111111111,
              "#46039f"
             ],
             [
              0.2222222222222222,
              "#7201a8"
             ],
             [
              0.3333333333333333,
              "#9c179e"
             ],
             [
              0.4444444444444444,
              "#bd3786"
             ],
             [
              0.5555555555555556,
              "#d8576b"
             ],
             [
              0.6666666666666666,
              "#ed7953"
             ],
             [
              0.7777777777777778,
              "#fb9f3a"
             ],
             [
              0.8888888888888888,
              "#fdca26"
             ],
             [
              1,
              "#f0f921"
             ]
            ],
            "type": "histogram2d"
           }
          ],
          "histogram2dcontour": [
           {
            "colorbar": {
             "outlinewidth": 0,
             "ticks": ""
            },
            "colorscale": [
             [
              0,
              "#0d0887"
             ],
             [
              0.1111111111111111,
              "#46039f"
             ],
             [
              0.2222222222222222,
              "#7201a8"
             ],
             [
              0.3333333333333333,
              "#9c179e"
             ],
             [
              0.4444444444444444,
              "#bd3786"
             ],
             [
              0.5555555555555556,
              "#d8576b"
             ],
             [
              0.6666666666666666,
              "#ed7953"
             ],
             [
              0.7777777777777778,
              "#fb9f3a"
             ],
             [
              0.8888888888888888,
              "#fdca26"
             ],
             [
              1,
              "#f0f921"
             ]
            ],
            "type": "histogram2dcontour"
           }
          ],
          "mesh3d": [
           {
            "colorbar": {
             "outlinewidth": 0,
             "ticks": ""
            },
            "type": "mesh3d"
           }
          ],
          "parcoords": [
           {
            "line": {
             "colorbar": {
              "outlinewidth": 0,
              "ticks": ""
             }
            },
            "type": "parcoords"
           }
          ],
          "pie": [
           {
            "automargin": true,
            "type": "pie"
           }
          ],
          "scatter": [
           {
            "marker": {
             "colorbar": {
              "outlinewidth": 0,
              "ticks": ""
             }
            },
            "type": "scatter"
           }
          ],
          "scatter3d": [
           {
            "line": {
             "colorbar": {
              "outlinewidth": 0,
              "ticks": ""
             }
            },
            "marker": {
             "colorbar": {
              "outlinewidth": 0,
              "ticks": ""
             }
            },
            "type": "scatter3d"
           }
          ],
          "scattercarpet": [
           {
            "marker": {
             "colorbar": {
              "outlinewidth": 0,
              "ticks": ""
             }
            },
            "type": "scattercarpet"
           }
          ],
          "scattergeo": [
           {
            "marker": {
             "colorbar": {
              "outlinewidth": 0,
              "ticks": ""
             }
            },
            "type": "scattergeo"
           }
          ],
          "scattergl": [
           {
            "marker": {
             "colorbar": {
              "outlinewidth": 0,
              "ticks": ""
             }
            },
            "type": "scattergl"
           }
          ],
          "scattermapbox": [
           {
            "marker": {
             "colorbar": {
              "outlinewidth": 0,
              "ticks": ""
             }
            },
            "type": "scattermapbox"
           }
          ],
          "scatterpolar": [
           {
            "marker": {
             "colorbar": {
              "outlinewidth": 0,
              "ticks": ""
             }
            },
            "type": "scatterpolar"
           }
          ],
          "scatterpolargl": [
           {
            "marker": {
             "colorbar": {
              "outlinewidth": 0,
              "ticks": ""
             }
            },
            "type": "scatterpolargl"
           }
          ],
          "scatterternary": [
           {
            "marker": {
             "colorbar": {
              "outlinewidth": 0,
              "ticks": ""
             }
            },
            "type": "scatterternary"
           }
          ],
          "surface": [
           {
            "colorbar": {
             "outlinewidth": 0,
             "ticks": ""
            },
            "colorscale": [
             [
              0,
              "#0d0887"
             ],
             [
              0.1111111111111111,
              "#46039f"
             ],
             [
              0.2222222222222222,
              "#7201a8"
             ],
             [
              0.3333333333333333,
              "#9c179e"
             ],
             [
              0.4444444444444444,
              "#bd3786"
             ],
             [
              0.5555555555555556,
              "#d8576b"
             ],
             [
              0.6666666666666666,
              "#ed7953"
             ],
             [
              0.7777777777777778,
              "#fb9f3a"
             ],
             [
              0.8888888888888888,
              "#fdca26"
             ],
             [
              1,
              "#f0f921"
             ]
            ],
            "type": "surface"
           }
          ],
          "table": [
           {
            "cells": {
             "fill": {
              "color": "#EBF0F8"
             },
             "line": {
              "color": "white"
             }
            },
            "header": {
             "fill": {
              "color": "#C8D4E3"
             },
             "line": {
              "color": "white"
             }
            },
            "type": "table"
           }
          ]
         },
         "layout": {
          "annotationdefaults": {
           "arrowcolor": "#2a3f5f",
           "arrowhead": 0,
           "arrowwidth": 1
          },
          "coloraxis": {
           "colorbar": {
            "outlinewidth": 0,
            "ticks": ""
           }
          },
          "colorscale": {
           "diverging": [
            [
             0,
             "#8e0152"
            ],
            [
             0.1,
             "#c51b7d"
            ],
            [
             0.2,
             "#de77ae"
            ],
            [
             0.3,
             "#f1b6da"
            ],
            [
             0.4,
             "#fde0ef"
            ],
            [
             0.5,
             "#f7f7f7"
            ],
            [
             0.6,
             "#e6f5d0"
            ],
            [
             0.7,
             "#b8e186"
            ],
            [
             0.8,
             "#7fbc41"
            ],
            [
             0.9,
             "#4d9221"
            ],
            [
             1,
             "#276419"
            ]
           ],
           "sequential": [
            [
             0,
             "#0d0887"
            ],
            [
             0.1111111111111111,
             "#46039f"
            ],
            [
             0.2222222222222222,
             "#7201a8"
            ],
            [
             0.3333333333333333,
             "#9c179e"
            ],
            [
             0.4444444444444444,
             "#bd3786"
            ],
            [
             0.5555555555555556,
             "#d8576b"
            ],
            [
             0.6666666666666666,
             "#ed7953"
            ],
            [
             0.7777777777777778,
             "#fb9f3a"
            ],
            [
             0.8888888888888888,
             "#fdca26"
            ],
            [
             1,
             "#f0f921"
            ]
           ],
           "sequentialminus": [
            [
             0,
             "#0d0887"
            ],
            [
             0.1111111111111111,
             "#46039f"
            ],
            [
             0.2222222222222222,
             "#7201a8"
            ],
            [
             0.3333333333333333,
             "#9c179e"
            ],
            [
             0.4444444444444444,
             "#bd3786"
            ],
            [
             0.5555555555555556,
             "#d8576b"
            ],
            [
             0.6666666666666666,
             "#ed7953"
            ],
            [
             0.7777777777777778,
             "#fb9f3a"
            ],
            [
             0.8888888888888888,
             "#fdca26"
            ],
            [
             1,
             "#f0f921"
            ]
           ]
          },
          "colorway": [
           "#636efa",
           "#EF553B",
           "#00cc96",
           "#ab63fa",
           "#FFA15A",
           "#19d3f3",
           "#FF6692",
           "#B6E880",
           "#FF97FF",
           "#FECB52"
          ],
          "font": {
           "color": "#2a3f5f"
          },
          "geo": {
           "bgcolor": "white",
           "lakecolor": "white",
           "landcolor": "#E5ECF6",
           "showlakes": true,
           "showland": true,
           "subunitcolor": "white"
          },
          "hoverlabel": {
           "align": "left"
          },
          "hovermode": "closest",
          "mapbox": {
           "style": "light"
          },
          "paper_bgcolor": "white",
          "plot_bgcolor": "#E5ECF6",
          "polar": {
           "angularaxis": {
            "gridcolor": "white",
            "linecolor": "white",
            "ticks": ""
           },
           "bgcolor": "#E5ECF6",
           "radialaxis": {
            "gridcolor": "white",
            "linecolor": "white",
            "ticks": ""
           }
          },
          "scene": {
           "xaxis": {
            "backgroundcolor": "#E5ECF6",
            "gridcolor": "white",
            "gridwidth": 2,
            "linecolor": "white",
            "showbackground": true,
            "ticks": "",
            "zerolinecolor": "white"
           },
           "yaxis": {
            "backgroundcolor": "#E5ECF6",
            "gridcolor": "white",
            "gridwidth": 2,
            "linecolor": "white",
            "showbackground": true,
            "ticks": "",
            "zerolinecolor": "white"
           },
           "zaxis": {
            "backgroundcolor": "#E5ECF6",
            "gridcolor": "white",
            "gridwidth": 2,
            "linecolor": "white",
            "showbackground": true,
            "ticks": "",
            "zerolinecolor": "white"
           }
          },
          "shapedefaults": {
           "line": {
            "color": "#2a3f5f"
           }
          },
          "ternary": {
           "aaxis": {
            "gridcolor": "white",
            "linecolor": "white",
            "ticks": ""
           },
           "baxis": {
            "gridcolor": "white",
            "linecolor": "white",
            "ticks": ""
           },
           "bgcolor": "#E5ECF6",
           "caxis": {
            "gridcolor": "white",
            "linecolor": "white",
            "ticks": ""
           }
          },
          "title": {
           "x": 0.05
          },
          "xaxis": {
           "automargin": true,
           "gridcolor": "white",
           "linecolor": "white",
           "ticks": "",
           "title": {
            "standoff": 15
           },
           "zerolinecolor": "white",
           "zerolinewidth": 2
          },
          "yaxis": {
           "automargin": true,
           "gridcolor": "white",
           "linecolor": "white",
           "ticks": "",
           "title": {
            "standoff": 15
           },
           "zerolinecolor": "white",
           "zerolinewidth": 2
          }
         }
        },
        "title": {
         "font": {
          "color": "#4D5663"
         }
        },
        "xaxis": {
         "gridcolor": "#E1E5ED",
         "showgrid": true,
         "tickfont": {
          "color": "#4D5663"
         },
         "title": {
          "font": {
           "color": "#4D5663"
          },
          "text": ""
         },
         "zerolinecolor": "#E1E5ED"
        },
        "xaxis2": {
         "anchor": "y2",
         "gridcolor": "#E1E5ED",
         "showgrid": true,
         "showticklabels": false,
         "tickfont": {
          "color": "#4D5663"
         },
         "title": {
          "font": {
           "color": "#4D5663"
          },
          "text": ""
         },
         "zerolinecolor": "#E1E5ED"
        },
        "yaxis": {
         "domain": [
          0.3,
          1
         ],
         "gridcolor": "#E1E5ED",
         "showgrid": true,
         "tickfont": {
          "color": "#4D5663"
         },
         "title": {
          "font": {
           "color": "#4D5663"
          },
          "text": ""
         },
         "zerolinecolor": "#E1E5ED"
        },
        "yaxis2": {
         "domain": [
          0,
          0.25
         ],
         "gridcolor": "#E1E5ED",
         "showgrid": true,
         "tickfont": {
          "color": "#4D5663"
         },
         "title": {
          "font": {
           "color": "#4D5663"
          },
          "text": "Spread"
         },
         "zerolinecolor": "#E1E5ED"
        }
       }
      },
      "text/html": [
       "<div>\n",
       "        \n",
       "        \n",
       "            <div id=\"22d65458-b5b6-44fd-89a6-a1dcfe46a591\" class=\"plotly-graph-div\" style=\"height:525px; width:100%;\"></div>\n",
       "            <script type=\"text/javascript\">\n",
       "                require([\"plotly\"], function(Plotly) {\n",
       "                    window.PLOTLYENV=window.PLOTLYENV || {};\n",
       "                    window.PLOTLYENV.BASE_URL='https://plot.ly';\n",
       "                    \n",
       "                if (document.getElementById(\"22d65458-b5b6-44fd-89a6-a1dcfe46a591\")) {\n",
       "                    Plotly.newPlot(\n",
       "                        '22d65458-b5b6-44fd-89a6-a1dcfe46a591',\n",
       "                        [{\"line\": {\"color\": \"rgba(255, 153, 51, 1.0)\", \"dash\": \"solid\", \"shape\": \"linear\", \"width\": 1.3}, \"mode\": \"lines\", \"name\": \"A\", \"text\": \"\", \"type\": \"scatter\", \"x\": [0, 1, 2, 3, 4, 5, 6, 7, 8, 9, 10, 11, 12, 13, 14, 15, 16, 17, 18, 19, 20, 21, 22, 23, 24, 25, 26, 27, 28, 29, 30, 31, 32, 33, 34, 35, 36, 37, 38, 39, 40, 41, 42, 43, 44, 45, 46, 47, 48, 49, 50, 51, 52, 53, 54, 55, 56, 57, 58, 59, 60, 61, 62, 63, 64, 65, 66, 67, 68, 69, 70, 71, 72, 73, 74, 75, 76, 77, 78, 79, 80, 81, 82, 83, 84, 85, 86, 87, 88, 89, 90, 91, 92, 93, 94, 95, 96, 97, 98, 99], \"y\": [0.7377480585830137, 0.7342847783883112, -1.0683171404471412, -1.502733798438884, 0.6561686237827556, -1.1459037323632137, 0.6476633312484361, 0.954015340373593, 1.539985876684928, 0.7985745670731059, -1.5918749202161273, 0.8082330941312681, 0.4497225270275956, 0.44060026434460214, 0.6348032618871884, 1.3874779330072162, 0.0438216873576978, -1.1014944244087401, -1.2275063824869006, -1.8290699710898346, -0.22351957823940455, -0.7050039212800109, -1.1183465214167012, -1.8248514931381798, 1.4905083191743311, 0.25626490998075285, 0.7422419175531905, 0.027907303872408085, -0.06577875054392432, -2.028482755750844, -0.9999937897710787, 0.18755245412529312, -1.3748890838009733, -0.7893670077838172, -0.9693956309750764, -0.3874700518752942, 0.8497108153574742, -2.3984511660062826, -1.0375323703356547, -1.1668382338824628, 1.0178209906174234, -2.0184440193807105, 0.10005832909083658, -0.5248020077275282, 0.6066228167525038, 0.2697695084102519, -1.332359037059602, -0.1136562919792124, -1.5255681143137725, 0.7148349278548535, -0.23774122847181883, 0.7716215119493806, 0.02376413684294443, -0.20117023619862676, -0.5919119812096941, -2.289606638197903, -1.69171991905258, 0.03946357615375144, 0.061783385108110836, 0.5000231705082663, -0.08109990486056581, -0.22066706333618294, 0.6970531220231665, 0.5792548517859589, 0.3834561644480958, 0.30649813188746133, -0.810500502854627, 1.1874691913836422, 0.04273693089697035, 0.10807765364701052, -1.9834385486030648, 0.30500393482364385, 0.04025339830170707, -1.3667014133501796, -1.0856887678202325, 0.6435525794998168, 0.09094754542965085, 0.11965187209304147, -1.109132843870616, -1.1028645951963907, 0.5112915171860486, 1.9374953617279147, -0.07245361045267751, -0.5470649360074591, 3.3981405035516525, -1.170234159171683, 0.4029753395723124, -0.49332286516639035, -1.1812130978576854, -2.0723603009366376, -0.8091482359309616, 0.956168042124244, -0.26979704705689905, -0.06303567646588461, 0.28774570776517755, 1.3294452569558244, 0.25037832471323584, -0.23303023685009297, -0.8954288193418369, -0.29096827647431506]}, {\"line\": {\"color\": \"rgba(55, 128, 191, 1.0)\", \"dash\": \"solid\", \"shape\": \"linear\", \"width\": 1.3}, \"mode\": \"lines\", \"name\": \"B\", \"text\": \"\", \"type\": \"scatter\", \"x\": [0, 1, 2, 3, 4, 5, 6, 7, 8, 9, 10, 11, 12, 13, 14, 15, 16, 17, 18, 19, 20, 21, 22, 23, 24, 25, 26, 27, 28, 29, 30, 31, 32, 33, 34, 35, 36, 37, 38, 39, 40, 41, 42, 43, 44, 45, 46, 47, 48, 49, 50, 51, 52, 53, 54, 55, 56, 57, 58, 59, 60, 61, 62, 63, 64, 65, 66, 67, 68, 69, 70, 71, 72, 73, 74, 75, 76, 77, 78, 79, 80, 81, 82, 83, 84, 85, 86, 87, 88, 89, 90, 91, 92, 93, 94, 95, 96, 97, 98, 99], \"y\": [0.19757683481913466, 0.19652603702414015, 0.8802559451990586, -3.246105290136032, 0.13166861327125656, 0.37894731398952586, 0.9017310254915447, 0.8410559395842016, -0.3475436119400676, -0.6333759579885387, -0.46721317143339497, -0.25197763683591395, 0.10798919230128363, 0.8279785479323732, 0.5181141679590413, -0.08740292588407063, -0.6262855402267856, -0.9981323252780863, -0.16530789117237085, -1.1171779612314283, 0.14964301868274876, -0.7213752047771493, -0.55422745014167, -1.8050140419080938, -0.09366392738194239, 0.7226521207213704, 0.950687199099526, -0.3285326599246558, 1.4151962610116287, -0.874654751843458, 0.429029706243159, 0.38343051280730256, 0.5229346393025011, -1.0546871079135307, -0.9096170476035544, -1.4792325006326723, -0.0658692466059647, -1.3027699560793393, 0.988090979663669, -0.22409559289129885, 0.7133713100303162, 0.3416091416133028, -0.9306940942545728, -0.34340258028634024, -0.5820680198522021, -0.47557889455395325, -0.4927696339863192, -1.0305543868008562, -1.0992997531456075, 0.9989814097855022, 0.29706921050397894, 0.44290029683620286, 0.23479596022042112, -1.2590740525741102, -0.5553387627535838, -0.9247408398573905, -0.30264344149525485, -0.710723649552731, -0.4571537974062655, -1.2442424570271577, 0.6278670818249709, -0.5607876516543867, -0.6455709830869545, 0.8795806440458941, 0.4075942240710124, -0.5077041158846402, 1.403109214192499, 0.41190914173872556, -0.9797664268315869, -0.407844408205296, 0.20692180881156025, 0.2171037233664773, -1.0206316273355782, 0.28358419056260675, 0.681150249787766, 0.5826961401987615, 0.93025604132711, -0.6151490682609284, -1.7903317652004367, 0.7746725906814703, 0.9587083684669854, -1.0291724032658307, 0.48332863248025204, -0.10730694261016965, 1.0628165318834424, 0.3498735613601411, -1.4542444735205482, -0.37433846017044375, -0.03994373838327206, -0.35655183390093353, 0.26880757874751465, 0.5083302621189569, 0.9995757926517211, 3.432394122748129, -1.6958994843957778, -1.0586459065945708, -1.8360538740318209, -0.6032852020161685, -1.5928644283858395, -1.8202141537266145]}, {\"connectgaps\": false, \"fill\": \"tozeroy\", \"line\": {\"color\": \"green\", \"dash\": \"solid\", \"shape\": \"linear\", \"width\": 0.5}, \"mode\": \"lines\", \"name\": \"Spread\", \"showlegend\": false, \"type\": \"scatter\", \"x\": [0, 1, 2, 3, 4, 5, 6, 7, 8, 9, 10, 11, 12, 13, 14, 15, 16, 17, 18, 19, 20, 21, 22, 23, 24, 25, 26, 27, 28, 29, 30, 31, 32, 33, 34, 35, 36, 37, 38, 39, 40, 41, 42, 43, 44, 45, 46, 47, 48, 49, 50, 51, 52, 53, 54, 55, 56, 57, 58, 59, 60, 61, 62, 63, 64, 65, 66, 67, 68, 69, 70, 71, 72, 73, 74, 75, 76, 77, 78, 79, 80, 81, 82, 83, 84, 85, 86, 87, 88, 89, 90, 91, 92, 93, 94, 95, 96, 97, 98, 99], \"xaxis\": \"x2\", \"y\": [0.540171223763879, 0.537758741364171, \"\", 1.7433714916971481, 0.5245000105114991, \"\", \"\", 0.11295940078939148, 1.8875294886249956, 1.4319505250616447, \"\", 1.060210730967182, 0.34173333472631195, \"\", 0.11668909392814708, 1.474880858891287, 0.6701072275844834, \"\", \"\", \"\", \"\", 0.016371283497138456, \"\", \"\", 1.5841722465562735, \"\", \"\", 0.3564399637970639, \"\", \"\", \"\", \"\", \"\", 0.2653201001297135, \"\", 1.091762448757378, 0.9155800619634389, \"\", \"\", \"\", 0.3044496805871072, \"\", 1.0307524233454095, \"\", 1.188690836604706, 0.7453484029642051, \"\", 0.9168980948216439, \"\", \"\", \"\", 0.3287212151131777, \"\", 1.0579038163754835, \"\", \"\", \"\", 0.7501872257064824, 0.5189371825143764, 1.744265627535424, \"\", 0.3401205883182038, 1.3426241051101209, \"\", \"\", 0.8142022477721015, \"\", 0.7755600496449166, 1.0225033577285572, 0.5159220618523065, \"\", 0.08790021145716656, 1.0608850256372853, \"\", \"\", 0.06085643930105533, \"\", 0.7348009403539699, 0.6811989213298206, \"\", \"\", 2.9666677649937454, \"\", \"\", 2.33532397166821, \"\", 1.8572198130928605, \"\", \"\", \"\", \"\", 0.44783778000528707, \"\", \"\", 1.9836451921609553, 2.388091163550395, 2.0864321987450567, 0.3702549651660756, 0.6974356090440026, 1.5292458772522994], \"yaxis\": \"y2\"}, {\"connectgaps\": false, \"fill\": \"tozeroy\", \"line\": {\"color\": \"red\", \"dash\": \"solid\", \"shape\": \"linear\", \"width\": 0.5}, \"mode\": \"lines\", \"name\": \"Spread\", \"showlegend\": false, \"type\": \"scatter\", \"x\": [0, 1, 2, 3, 4, 5, 6, 7, 8, 9, 10, 11, 12, 13, 14, 15, 16, 17, 18, 19, 20, 21, 22, 23, 24, 25, 26, 27, 28, 29, 30, 31, 32, 33, 34, 35, 36, 37, 38, 39, 40, 41, 42, 43, 44, 45, 46, 47, 48, 49, 50, 51, 52, 53, 54, 55, 56, 57, 58, 59, 60, 61, 62, 63, 64, 65, 66, 67, 68, 69, 70, 71, 72, 73, 74, 75, 76, 77, 78, 79, 80, 81, 82, 83, 84, 85, 86, 87, 88, 89, 90, 91, 92, 93, 94, 95, 96, 97, 98, 99], \"xaxis\": \"x2\", \"y\": [\"\", \"\", -1.9485730856461998, \"\", \"\", -1.5248510463527396, -0.2540676942431086, \"\", \"\", \"\", -1.1246617487827324, \"\", \"\", -0.3873782835877711, \"\", \"\", \"\", -0.10336209913065386, -1.0621984913145297, -0.7118920098584063, -0.3731625969221533, \"\", -0.5641190712750312, -0.019837451230086067, \"\", -0.46638721074061756, -0.20844528154633557, \"\", -1.480975011555553, -1.153828003907386, -1.4290234960142376, -0.19587805868200944, -1.8978237231034742, \"\", -0.059778583371521976, \"\", \"\", -1.0956812099269433, -2.0256233499993237, -0.9427426409911639, \"\", -2.3600531609940134, \"\", -0.18139942744118792, \"\", \"\", -0.8395894030732827, \"\", -0.426268361168165, -0.28414648193064873, -0.5348104389757977, \"\", -0.2110318233774767, \"\", -0.03657321845611028, -1.3648657983405124, -1.3890764775573252, \"\", \"\", \"\", -0.7089669866855367, \"\", \"\", -0.30032579225993516, -0.024138059622916597, \"\", -2.213609717047126, \"\", \"\", \"\", -2.190360357414625, \"\", \"\", -1.6502856039127862, -1.7668390176079984, \"\", -0.8393084958974592, \"\", \"\", -1.877537185877861, -0.4474168512809368, \"\", -0.5557822429329295, -0.43975799339728944, \"\", -1.520107720531824, \"\", -0.11898440499594659, -1.1412693594744132, -1.715808467035704, -1.0779558146784762, \"\", -1.2693728397086201, -3.4954297992140138, \"\", \"\", \"\", \"\", \"\", \"\"], \"yaxis\": \"y2\"}],\n",
       "                        {\"hovermode\": \"x\", \"legend\": {\"bgcolor\": \"#F5F6F9\", \"font\": {\"color\": \"#4D5663\"}}, \"paper_bgcolor\": \"#F5F6F9\", \"plot_bgcolor\": \"#F5F6F9\", \"template\": {\"data\": {\"bar\": [{\"error_x\": {\"color\": \"#2a3f5f\"}, \"error_y\": {\"color\": \"#2a3f5f\"}, \"marker\": {\"line\": {\"color\": \"#E5ECF6\", \"width\": 0.5}}, \"type\": \"bar\"}], \"barpolar\": [{\"marker\": {\"line\": {\"color\": \"#E5ECF6\", \"width\": 0.5}}, \"type\": \"barpolar\"}], \"carpet\": [{\"aaxis\": {\"endlinecolor\": \"#2a3f5f\", \"gridcolor\": \"white\", \"linecolor\": \"white\", \"minorgridcolor\": \"white\", \"startlinecolor\": \"#2a3f5f\"}, \"baxis\": {\"endlinecolor\": \"#2a3f5f\", \"gridcolor\": \"white\", \"linecolor\": \"white\", \"minorgridcolor\": \"white\", \"startlinecolor\": \"#2a3f5f\"}, \"type\": \"carpet\"}], \"choropleth\": [{\"colorbar\": {\"outlinewidth\": 0, \"ticks\": \"\"}, \"type\": \"choropleth\"}], \"contour\": [{\"colorbar\": {\"outlinewidth\": 0, \"ticks\": \"\"}, \"colorscale\": [[0.0, \"#0d0887\"], [0.1111111111111111, \"#46039f\"], [0.2222222222222222, \"#7201a8\"], [0.3333333333333333, \"#9c179e\"], [0.4444444444444444, \"#bd3786\"], [0.5555555555555556, \"#d8576b\"], [0.6666666666666666, \"#ed7953\"], [0.7777777777777778, \"#fb9f3a\"], [0.8888888888888888, \"#fdca26\"], [1.0, \"#f0f921\"]], \"type\": \"contour\"}], \"contourcarpet\": [{\"colorbar\": {\"outlinewidth\": 0, \"ticks\": \"\"}, \"type\": \"contourcarpet\"}], \"heatmap\": [{\"colorbar\": {\"outlinewidth\": 0, \"ticks\": \"\"}, \"colorscale\": [[0.0, \"#0d0887\"], [0.1111111111111111, \"#46039f\"], [0.2222222222222222, \"#7201a8\"], [0.3333333333333333, \"#9c179e\"], [0.4444444444444444, \"#bd3786\"], [0.5555555555555556, \"#d8576b\"], [0.6666666666666666, \"#ed7953\"], [0.7777777777777778, \"#fb9f3a\"], [0.8888888888888888, \"#fdca26\"], [1.0, \"#f0f921\"]], \"type\": \"heatmap\"}], \"heatmapgl\": [{\"colorbar\": {\"outlinewidth\": 0, \"ticks\": \"\"}, \"colorscale\": [[0.0, \"#0d0887\"], [0.1111111111111111, \"#46039f\"], [0.2222222222222222, \"#7201a8\"], [0.3333333333333333, \"#9c179e\"], [0.4444444444444444, \"#bd3786\"], [0.5555555555555556, \"#d8576b\"], [0.6666666666666666, \"#ed7953\"], [0.7777777777777778, \"#fb9f3a\"], [0.8888888888888888, \"#fdca26\"], [1.0, \"#f0f921\"]], \"type\": \"heatmapgl\"}], \"histogram\": [{\"marker\": {\"colorbar\": {\"outlinewidth\": 0, \"ticks\": \"\"}}, \"type\": \"histogram\"}], \"histogram2d\": [{\"colorbar\": {\"outlinewidth\": 0, \"ticks\": \"\"}, \"colorscale\": [[0.0, \"#0d0887\"], [0.1111111111111111, \"#46039f\"], [0.2222222222222222, \"#7201a8\"], [0.3333333333333333, \"#9c179e\"], [0.4444444444444444, \"#bd3786\"], [0.5555555555555556, \"#d8576b\"], [0.6666666666666666, \"#ed7953\"], [0.7777777777777778, \"#fb9f3a\"], [0.8888888888888888, \"#fdca26\"], [1.0, \"#f0f921\"]], \"type\": \"histogram2d\"}], \"histogram2dcontour\": [{\"colorbar\": {\"outlinewidth\": 0, \"ticks\": \"\"}, \"colorscale\": [[0.0, \"#0d0887\"], [0.1111111111111111, \"#46039f\"], [0.2222222222222222, \"#7201a8\"], [0.3333333333333333, \"#9c179e\"], [0.4444444444444444, \"#bd3786\"], [0.5555555555555556, \"#d8576b\"], [0.6666666666666666, \"#ed7953\"], [0.7777777777777778, \"#fb9f3a\"], [0.8888888888888888, \"#fdca26\"], [1.0, \"#f0f921\"]], \"type\": \"histogram2dcontour\"}], \"mesh3d\": [{\"colorbar\": {\"outlinewidth\": 0, \"ticks\": \"\"}, \"type\": \"mesh3d\"}], \"parcoords\": [{\"line\": {\"colorbar\": {\"outlinewidth\": 0, \"ticks\": \"\"}}, \"type\": \"parcoords\"}], \"pie\": [{\"automargin\": true, \"type\": \"pie\"}], \"scatter\": [{\"marker\": {\"colorbar\": {\"outlinewidth\": 0, \"ticks\": \"\"}}, \"type\": \"scatter\"}], \"scatter3d\": [{\"line\": {\"colorbar\": {\"outlinewidth\": 0, \"ticks\": \"\"}}, \"marker\": {\"colorbar\": {\"outlinewidth\": 0, \"ticks\": \"\"}}, \"type\": \"scatter3d\"}], \"scattercarpet\": [{\"marker\": {\"colorbar\": {\"outlinewidth\": 0, \"ticks\": \"\"}}, \"type\": \"scattercarpet\"}], \"scattergeo\": [{\"marker\": {\"colorbar\": {\"outlinewidth\": 0, \"ticks\": \"\"}}, \"type\": \"scattergeo\"}], \"scattergl\": [{\"marker\": {\"colorbar\": {\"outlinewidth\": 0, \"ticks\": \"\"}}, \"type\": \"scattergl\"}], \"scattermapbox\": [{\"marker\": {\"colorbar\": {\"outlinewidth\": 0, \"ticks\": \"\"}}, \"type\": \"scattermapbox\"}], \"scatterpolar\": [{\"marker\": {\"colorbar\": {\"outlinewidth\": 0, \"ticks\": \"\"}}, \"type\": \"scatterpolar\"}], \"scatterpolargl\": [{\"marker\": {\"colorbar\": {\"outlinewidth\": 0, \"ticks\": \"\"}}, \"type\": \"scatterpolargl\"}], \"scatterternary\": [{\"marker\": {\"colorbar\": {\"outlinewidth\": 0, \"ticks\": \"\"}}, \"type\": \"scatterternary\"}], \"surface\": [{\"colorbar\": {\"outlinewidth\": 0, \"ticks\": \"\"}, \"colorscale\": [[0.0, \"#0d0887\"], [0.1111111111111111, \"#46039f\"], [0.2222222222222222, \"#7201a8\"], [0.3333333333333333, \"#9c179e\"], [0.4444444444444444, \"#bd3786\"], [0.5555555555555556, \"#d8576b\"], [0.6666666666666666, \"#ed7953\"], [0.7777777777777778, \"#fb9f3a\"], [0.8888888888888888, \"#fdca26\"], [1.0, \"#f0f921\"]], \"type\": \"surface\"}], \"table\": [{\"cells\": {\"fill\": {\"color\": \"#EBF0F8\"}, \"line\": {\"color\": \"white\"}}, \"header\": {\"fill\": {\"color\": \"#C8D4E3\"}, \"line\": {\"color\": \"white\"}}, \"type\": \"table\"}]}, \"layout\": {\"annotationdefaults\": {\"arrowcolor\": \"#2a3f5f\", \"arrowhead\": 0, \"arrowwidth\": 1}, \"coloraxis\": {\"colorbar\": {\"outlinewidth\": 0, \"ticks\": \"\"}}, \"colorscale\": {\"diverging\": [[0, \"#8e0152\"], [0.1, \"#c51b7d\"], [0.2, \"#de77ae\"], [0.3, \"#f1b6da\"], [0.4, \"#fde0ef\"], [0.5, \"#f7f7f7\"], [0.6, \"#e6f5d0\"], [0.7, \"#b8e186\"], [0.8, \"#7fbc41\"], [0.9, \"#4d9221\"], [1, \"#276419\"]], \"sequential\": [[0.0, \"#0d0887\"], [0.1111111111111111, \"#46039f\"], [0.2222222222222222, \"#7201a8\"], [0.3333333333333333, \"#9c179e\"], [0.4444444444444444, \"#bd3786\"], [0.5555555555555556, \"#d8576b\"], [0.6666666666666666, \"#ed7953\"], [0.7777777777777778, \"#fb9f3a\"], [0.8888888888888888, \"#fdca26\"], [1.0, \"#f0f921\"]], \"sequentialminus\": [[0.0, \"#0d0887\"], [0.1111111111111111, \"#46039f\"], [0.2222222222222222, \"#7201a8\"], [0.3333333333333333, \"#9c179e\"], [0.4444444444444444, \"#bd3786\"], [0.5555555555555556, \"#d8576b\"], [0.6666666666666666, \"#ed7953\"], [0.7777777777777778, \"#fb9f3a\"], [0.8888888888888888, \"#fdca26\"], [1.0, \"#f0f921\"]]}, \"colorway\": [\"#636efa\", \"#EF553B\", \"#00cc96\", \"#ab63fa\", \"#FFA15A\", \"#19d3f3\", \"#FF6692\", \"#B6E880\", \"#FF97FF\", \"#FECB52\"], \"font\": {\"color\": \"#2a3f5f\"}, \"geo\": {\"bgcolor\": \"white\", \"lakecolor\": \"white\", \"landcolor\": \"#E5ECF6\", \"showlakes\": true, \"showland\": true, \"subunitcolor\": \"white\"}, \"hoverlabel\": {\"align\": \"left\"}, \"hovermode\": \"closest\", \"mapbox\": {\"style\": \"light\"}, \"paper_bgcolor\": \"white\", \"plot_bgcolor\": \"#E5ECF6\", \"polar\": {\"angularaxis\": {\"gridcolor\": \"white\", \"linecolor\": \"white\", \"ticks\": \"\"}, \"bgcolor\": \"#E5ECF6\", \"radialaxis\": {\"gridcolor\": \"white\", \"linecolor\": \"white\", \"ticks\": \"\"}}, \"scene\": {\"xaxis\": {\"backgroundcolor\": \"#E5ECF6\", \"gridcolor\": \"white\", \"gridwidth\": 2, \"linecolor\": \"white\", \"showbackground\": true, \"ticks\": \"\", \"zerolinecolor\": \"white\"}, \"yaxis\": {\"backgroundcolor\": \"#E5ECF6\", \"gridcolor\": \"white\", \"gridwidth\": 2, \"linecolor\": \"white\", \"showbackground\": true, \"ticks\": \"\", \"zerolinecolor\": \"white\"}, \"zaxis\": {\"backgroundcolor\": \"#E5ECF6\", \"gridcolor\": \"white\", \"gridwidth\": 2, \"linecolor\": \"white\", \"showbackground\": true, \"ticks\": \"\", \"zerolinecolor\": \"white\"}}, \"shapedefaults\": {\"line\": {\"color\": \"#2a3f5f\"}}, \"ternary\": {\"aaxis\": {\"gridcolor\": \"white\", \"linecolor\": \"white\", \"ticks\": \"\"}, \"baxis\": {\"gridcolor\": \"white\", \"linecolor\": \"white\", \"ticks\": \"\"}, \"bgcolor\": \"#E5ECF6\", \"caxis\": {\"gridcolor\": \"white\", \"linecolor\": \"white\", \"ticks\": \"\"}}, \"title\": {\"x\": 0.05}, \"xaxis\": {\"automargin\": true, \"gridcolor\": \"white\", \"linecolor\": \"white\", \"ticks\": \"\", \"title\": {\"standoff\": 15}, \"zerolinecolor\": \"white\", \"zerolinewidth\": 2}, \"yaxis\": {\"automargin\": true, \"gridcolor\": \"white\", \"linecolor\": \"white\", \"ticks\": \"\", \"title\": {\"standoff\": 15}, \"zerolinecolor\": \"white\", \"zerolinewidth\": 2}}}, \"title\": {\"font\": {\"color\": \"#4D5663\"}}, \"xaxis\": {\"gridcolor\": \"#E1E5ED\", \"showgrid\": true, \"tickfont\": {\"color\": \"#4D5663\"}, \"title\": {\"font\": {\"color\": \"#4D5663\"}, \"text\": \"\"}, \"zerolinecolor\": \"#E1E5ED\"}, \"xaxis2\": {\"anchor\": \"y2\", \"gridcolor\": \"#E1E5ED\", \"showgrid\": true, \"showticklabels\": false, \"tickfont\": {\"color\": \"#4D5663\"}, \"title\": {\"font\": {\"color\": \"#4D5663\"}, \"text\": \"\"}, \"zerolinecolor\": \"#E1E5ED\"}, \"yaxis\": {\"domain\": [0.3, 1], \"gridcolor\": \"#E1E5ED\", \"showgrid\": true, \"tickfont\": {\"color\": \"#4D5663\"}, \"title\": {\"font\": {\"color\": \"#4D5663\"}, \"text\": \"\"}, \"zerolinecolor\": \"#E1E5ED\"}, \"yaxis2\": {\"domain\": [0, 0.25], \"gridcolor\": \"#E1E5ED\", \"showgrid\": true, \"tickfont\": {\"color\": \"#4D5663\"}, \"title\": {\"font\": {\"color\": \"#4D5663\"}, \"text\": \"Spread\"}, \"zerolinecolor\": \"#E1E5ED\"}},\n",
       "                        {\"showLink\": true, \"linkText\": \"Export to plot.ly\", \"plotlyServerURL\": \"https://plot.ly\", \"responsive\": true}\n",
       "                    ).then(function(){\n",
       "                            \n",
       "var gd = document.getElementById('22d65458-b5b6-44fd-89a6-a1dcfe46a591');\n",
       "var x = new MutationObserver(function (mutations, observer) {{\n",
       "        var display = window.getComputedStyle(gd).display;\n",
       "        if (!display || display === 'none') {{\n",
       "            console.log([gd, 'removed!']);\n",
       "            Plotly.purge(gd);\n",
       "            observer.disconnect();\n",
       "        }}\n",
       "}});\n",
       "\n",
       "// Listen for the removal of the full notebook cells\n",
       "var notebookContainer = gd.closest('#notebook-container');\n",
       "if (notebookContainer) {{\n",
       "    x.observe(notebookContainer, {childList: true});\n",
       "}}\n",
       "\n",
       "// Listen for the clearing of the current output cell\n",
       "var outputEl = gd.closest('.output');\n",
       "if (outputEl) {{\n",
       "    x.observe(outputEl, {childList: true});\n",
       "}}\n",
       "\n",
       "                        })\n",
       "                };\n",
       "                });\n",
       "            </script>\n",
       "        </div>"
      ]
     },
     "metadata": {},
     "output_type": "display_data"
    }
   ],
   "source": [
    "df[['A','B']].iplot(kind='spread')"
   ]
  },
  {
   "cell_type": "code",
   "execution_count": 51,
   "metadata": {},
   "outputs": [
    {
     "data": {
      "application/vnd.plotly.v1+json": {
       "config": {
        "linkText": "Export to plot.ly",
        "plotlyServerURL": "https://plot.ly",
        "showLink": true
       },
       "data": [
        {
         "marker": {
          "color": [
           "rgb(255, 153, 51)",
           "rgb(55, 128, 191)",
           "rgb(50, 171, 96)",
           "rgb(128, 0, 128)",
           "rgb(219, 64, 82)",
           "rgb(0, 128, 128)",
           "rgb(255, 255, 51)",
           "rgb(128, 128, 0)",
           "rgb(251, 128, 114)",
           "rgb(128, 177, 211)"
          ],
          "line": {
           "width": 1.3
          },
          "size": [
           52,
           52,
           83,
           35,
           75,
           95,
           55,
           79,
           83,
           69,
           76,
           97,
           79,
           85,
           87,
           83,
           25,
           27,
           112,
           75,
           96,
           62,
           109,
           97,
           52,
           31,
           12,
           68,
           67,
           74,
           69,
           60,
           24,
           58,
           47,
           60,
           99,
           57,
           59,
           81,
           38,
           53,
           77,
           28,
           59,
           96,
           84,
           44,
           76,
           84,
           98,
           103,
           111,
           19,
           89,
           63,
           60,
           83,
           32,
           76,
           72,
           26,
           37,
           63,
           81,
           54,
           51,
           33,
           88,
           63,
           57,
           58,
           21,
           56,
           44,
           68,
           100,
           64,
           38,
           81,
           40,
           71,
           59,
           38,
           91,
           106,
           74,
           48,
           93,
           88,
           76,
           50,
           85,
           75,
           53,
           99,
           63,
           69,
           27,
           59
          ],
          "symbol": "circle"
         },
         "mode": "markers",
         "text": "",
         "type": "scatter",
         "x": [
          0.7377480585830137,
          0.7342847783883112,
          -1.0683171404471412,
          -1.502733798438884,
          0.6561686237827556,
          -1.1459037323632137,
          0.6476633312484361,
          0.954015340373593,
          1.539985876684928,
          0.7985745670731059,
          -1.5918749202161273,
          0.8082330941312681,
          0.4497225270275956,
          0.44060026434460214,
          0.6348032618871884,
          1.3874779330072162,
          0.0438216873576978,
          -1.1014944244087401,
          -1.2275063824869006,
          -1.8290699710898346,
          -0.22351957823940455,
          -0.7050039212800109,
          -1.1183465214167012,
          -1.8248514931381798,
          1.4905083191743311,
          0.25626490998075285,
          0.7422419175531905,
          0.027907303872408085,
          -0.06577875054392432,
          -2.028482755750844,
          -0.9999937897710787,
          0.18755245412529312,
          -1.3748890838009733,
          -0.7893670077838172,
          -0.9693956309750764,
          -0.3874700518752942,
          0.8497108153574742,
          -2.3984511660062826,
          -1.0375323703356547,
          -1.1668382338824628,
          1.0178209906174234,
          -2.0184440193807105,
          0.10005832909083658,
          -0.5248020077275282,
          0.6066228167525038,
          0.2697695084102519,
          -1.332359037059602,
          -0.1136562919792124,
          -1.5255681143137725,
          0.7148349278548535,
          -0.23774122847181883,
          0.7716215119493806,
          0.02376413684294443,
          -0.20117023619862676,
          -0.5919119812096941,
          -2.289606638197903,
          -1.69171991905258,
          0.03946357615375144,
          0.061783385108110836,
          0.5000231705082663,
          -0.08109990486056581,
          -0.22066706333618294,
          0.6970531220231665,
          0.5792548517859589,
          0.3834561644480958,
          0.30649813188746133,
          -0.810500502854627,
          1.1874691913836422,
          0.04273693089697035,
          0.10807765364701052,
          -1.9834385486030648,
          0.30500393482364385,
          0.04025339830170707,
          -1.3667014133501796,
          -1.0856887678202325,
          0.6435525794998168,
          0.09094754542965085,
          0.11965187209304147,
          -1.109132843870616,
          -1.1028645951963907,
          0.5112915171860486,
          1.9374953617279147,
          -0.07245361045267751,
          -0.5470649360074591,
          3.3981405035516525,
          -1.170234159171683,
          0.4029753395723124,
          -0.49332286516639035,
          -1.1812130978576854,
          -2.0723603009366376,
          -0.8091482359309616,
          0.956168042124244,
          -0.26979704705689905,
          -0.06303567646588461,
          0.28774570776517755,
          1.3294452569558244,
          0.25037832471323584,
          -0.23303023685009297,
          -0.8954288193418369,
          -0.29096827647431506
         ],
         "y": [
          0.19757683481913466,
          0.19652603702414015,
          0.8802559451990586,
          -3.246105290136032,
          0.13166861327125656,
          0.37894731398952586,
          0.9017310254915447,
          0.8410559395842016,
          -0.3475436119400676,
          -0.6333759579885387,
          -0.46721317143339497,
          -0.25197763683591395,
          0.10798919230128363,
          0.8279785479323732,
          0.5181141679590413,
          -0.08740292588407063,
          -0.6262855402267856,
          -0.9981323252780863,
          -0.16530789117237085,
          -1.1171779612314283,
          0.14964301868274876,
          -0.7213752047771493,
          -0.55422745014167,
          -1.8050140419080938,
          -0.09366392738194239,
          0.7226521207213704,
          0.950687199099526,
          -0.3285326599246558,
          1.4151962610116287,
          -0.874654751843458,
          0.429029706243159,
          0.38343051280730256,
          0.5229346393025011,
          -1.0546871079135307,
          -0.9096170476035544,
          -1.4792325006326723,
          -0.0658692466059647,
          -1.3027699560793393,
          0.988090979663669,
          -0.22409559289129885,
          0.7133713100303162,
          0.3416091416133028,
          -0.9306940942545728,
          -0.34340258028634024,
          -0.5820680198522021,
          -0.47557889455395325,
          -0.4927696339863192,
          -1.0305543868008562,
          -1.0992997531456075,
          0.9989814097855022,
          0.29706921050397894,
          0.44290029683620286,
          0.23479596022042112,
          -1.2590740525741102,
          -0.5553387627535838,
          -0.9247408398573905,
          -0.30264344149525485,
          -0.710723649552731,
          -0.4571537974062655,
          -1.2442424570271577,
          0.6278670818249709,
          -0.5607876516543867,
          -0.6455709830869545,
          0.8795806440458941,
          0.4075942240710124,
          -0.5077041158846402,
          1.403109214192499,
          0.41190914173872556,
          -0.9797664268315869,
          -0.407844408205296,
          0.20692180881156025,
          0.2171037233664773,
          -1.0206316273355782,
          0.28358419056260675,
          0.681150249787766,
          0.5826961401987615,
          0.93025604132711,
          -0.6151490682609284,
          -1.7903317652004367,
          0.7746725906814703,
          0.9587083684669854,
          -1.0291724032658307,
          0.48332863248025204,
          -0.10730694261016965,
          1.0628165318834424,
          0.3498735613601411,
          -1.4542444735205482,
          -0.37433846017044375,
          -0.03994373838327206,
          -0.35655183390093353,
          0.26880757874751465,
          0.5083302621189569,
          0.9995757926517211,
          3.432394122748129,
          -1.6958994843957778,
          -1.0586459065945708,
          -1.8360538740318209,
          -0.6032852020161685,
          -1.5928644283858395,
          -1.8202141537266145
         ]
        }
       ],
       "layout": {
        "legend": {
         "bgcolor": "#F5F6F9",
         "font": {
          "color": "#4D5663"
         }
        },
        "paper_bgcolor": "#F5F6F9",
        "plot_bgcolor": "#F5F6F9",
        "template": {
         "data": {
          "bar": [
           {
            "error_x": {
             "color": "#2a3f5f"
            },
            "error_y": {
             "color": "#2a3f5f"
            },
            "marker": {
             "line": {
              "color": "#E5ECF6",
              "width": 0.5
             }
            },
            "type": "bar"
           }
          ],
          "barpolar": [
           {
            "marker": {
             "line": {
              "color": "#E5ECF6",
              "width": 0.5
             }
            },
            "type": "barpolar"
           }
          ],
          "carpet": [
           {
            "aaxis": {
             "endlinecolor": "#2a3f5f",
             "gridcolor": "white",
             "linecolor": "white",
             "minorgridcolor": "white",
             "startlinecolor": "#2a3f5f"
            },
            "baxis": {
             "endlinecolor": "#2a3f5f",
             "gridcolor": "white",
             "linecolor": "white",
             "minorgridcolor": "white",
             "startlinecolor": "#2a3f5f"
            },
            "type": "carpet"
           }
          ],
          "choropleth": [
           {
            "colorbar": {
             "outlinewidth": 0,
             "ticks": ""
            },
            "type": "choropleth"
           }
          ],
          "contour": [
           {
            "colorbar": {
             "outlinewidth": 0,
             "ticks": ""
            },
            "colorscale": [
             [
              0,
              "#0d0887"
             ],
             [
              0.1111111111111111,
              "#46039f"
             ],
             [
              0.2222222222222222,
              "#7201a8"
             ],
             [
              0.3333333333333333,
              "#9c179e"
             ],
             [
              0.4444444444444444,
              "#bd3786"
             ],
             [
              0.5555555555555556,
              "#d8576b"
             ],
             [
              0.6666666666666666,
              "#ed7953"
             ],
             [
              0.7777777777777778,
              "#fb9f3a"
             ],
             [
              0.8888888888888888,
              "#fdca26"
             ],
             [
              1,
              "#f0f921"
             ]
            ],
            "type": "contour"
           }
          ],
          "contourcarpet": [
           {
            "colorbar": {
             "outlinewidth": 0,
             "ticks": ""
            },
            "type": "contourcarpet"
           }
          ],
          "heatmap": [
           {
            "colorbar": {
             "outlinewidth": 0,
             "ticks": ""
            },
            "colorscale": [
             [
              0,
              "#0d0887"
             ],
             [
              0.1111111111111111,
              "#46039f"
             ],
             [
              0.2222222222222222,
              "#7201a8"
             ],
             [
              0.3333333333333333,
              "#9c179e"
             ],
             [
              0.4444444444444444,
              "#bd3786"
             ],
             [
              0.5555555555555556,
              "#d8576b"
             ],
             [
              0.6666666666666666,
              "#ed7953"
             ],
             [
              0.7777777777777778,
              "#fb9f3a"
             ],
             [
              0.8888888888888888,
              "#fdca26"
             ],
             [
              1,
              "#f0f921"
             ]
            ],
            "type": "heatmap"
           }
          ],
          "heatmapgl": [
           {
            "colorbar": {
             "outlinewidth": 0,
             "ticks": ""
            },
            "colorscale": [
             [
              0,
              "#0d0887"
             ],
             [
              0.1111111111111111,
              "#46039f"
             ],
             [
              0.2222222222222222,
              "#7201a8"
             ],
             [
              0.3333333333333333,
              "#9c179e"
             ],
             [
              0.4444444444444444,
              "#bd3786"
             ],
             [
              0.5555555555555556,
              "#d8576b"
             ],
             [
              0.6666666666666666,
              "#ed7953"
             ],
             [
              0.7777777777777778,
              "#fb9f3a"
             ],
             [
              0.8888888888888888,
              "#fdca26"
             ],
             [
              1,
              "#f0f921"
             ]
            ],
            "type": "heatmapgl"
           }
          ],
          "histogram": [
           {
            "marker": {
             "colorbar": {
              "outlinewidth": 0,
              "ticks": ""
             }
            },
            "type": "histogram"
           }
          ],
          "histogram2d": [
           {
            "colorbar": {
             "outlinewidth": 0,
             "ticks": ""
            },
            "colorscale": [
             [
              0,
              "#0d0887"
             ],
             [
              0.1111111111111111,
              "#46039f"
             ],
             [
              0.2222222222222222,
              "#7201a8"
             ],
             [
              0.3333333333333333,
              "#9c179e"
             ],
             [
              0.4444444444444444,
              "#bd3786"
             ],
             [
              0.5555555555555556,
              "#d8576b"
             ],
             [
              0.6666666666666666,
              "#ed7953"
             ],
             [
              0.7777777777777778,
              "#fb9f3a"
             ],
             [
              0.8888888888888888,
              "#fdca26"
             ],
             [
              1,
              "#f0f921"
             ]
            ],
            "type": "histogram2d"
           }
          ],
          "histogram2dcontour": [
           {
            "colorbar": {
             "outlinewidth": 0,
             "ticks": ""
            },
            "colorscale": [
             [
              0,
              "#0d0887"
             ],
             [
              0.1111111111111111,
              "#46039f"
             ],
             [
              0.2222222222222222,
              "#7201a8"
             ],
             [
              0.3333333333333333,
              "#9c179e"
             ],
             [
              0.4444444444444444,
              "#bd3786"
             ],
             [
              0.5555555555555556,
              "#d8576b"
             ],
             [
              0.6666666666666666,
              "#ed7953"
             ],
             [
              0.7777777777777778,
              "#fb9f3a"
             ],
             [
              0.8888888888888888,
              "#fdca26"
             ],
             [
              1,
              "#f0f921"
             ]
            ],
            "type": "histogram2dcontour"
           }
          ],
          "mesh3d": [
           {
            "colorbar": {
             "outlinewidth": 0,
             "ticks": ""
            },
            "type": "mesh3d"
           }
          ],
          "parcoords": [
           {
            "line": {
             "colorbar": {
              "outlinewidth": 0,
              "ticks": ""
             }
            },
            "type": "parcoords"
           }
          ],
          "pie": [
           {
            "automargin": true,
            "type": "pie"
           }
          ],
          "scatter": [
           {
            "marker": {
             "colorbar": {
              "outlinewidth": 0,
              "ticks": ""
             }
            },
            "type": "scatter"
           }
          ],
          "scatter3d": [
           {
            "line": {
             "colorbar": {
              "outlinewidth": 0,
              "ticks": ""
             }
            },
            "marker": {
             "colorbar": {
              "outlinewidth": 0,
              "ticks": ""
             }
            },
            "type": "scatter3d"
           }
          ],
          "scattercarpet": [
           {
            "marker": {
             "colorbar": {
              "outlinewidth": 0,
              "ticks": ""
             }
            },
            "type": "scattercarpet"
           }
          ],
          "scattergeo": [
           {
            "marker": {
             "colorbar": {
              "outlinewidth": 0,
              "ticks": ""
             }
            },
            "type": "scattergeo"
           }
          ],
          "scattergl": [
           {
            "marker": {
             "colorbar": {
              "outlinewidth": 0,
              "ticks": ""
             }
            },
            "type": "scattergl"
           }
          ],
          "scattermapbox": [
           {
            "marker": {
             "colorbar": {
              "outlinewidth": 0,
              "ticks": ""
             }
            },
            "type": "scattermapbox"
           }
          ],
          "scatterpolar": [
           {
            "marker": {
             "colorbar": {
              "outlinewidth": 0,
              "ticks": ""
             }
            },
            "type": "scatterpolar"
           }
          ],
          "scatterpolargl": [
           {
            "marker": {
             "colorbar": {
              "outlinewidth": 0,
              "ticks": ""
             }
            },
            "type": "scatterpolargl"
           }
          ],
          "scatterternary": [
           {
            "marker": {
             "colorbar": {
              "outlinewidth": 0,
              "ticks": ""
             }
            },
            "type": "scatterternary"
           }
          ],
          "surface": [
           {
            "colorbar": {
             "outlinewidth": 0,
             "ticks": ""
            },
            "colorscale": [
             [
              0,
              "#0d0887"
             ],
             [
              0.1111111111111111,
              "#46039f"
             ],
             [
              0.2222222222222222,
              "#7201a8"
             ],
             [
              0.3333333333333333,
              "#9c179e"
             ],
             [
              0.4444444444444444,
              "#bd3786"
             ],
             [
              0.5555555555555556,
              "#d8576b"
             ],
             [
              0.6666666666666666,
              "#ed7953"
             ],
             [
              0.7777777777777778,
              "#fb9f3a"
             ],
             [
              0.8888888888888888,
              "#fdca26"
             ],
             [
              1,
              "#f0f921"
             ]
            ],
            "type": "surface"
           }
          ],
          "table": [
           {
            "cells": {
             "fill": {
              "color": "#EBF0F8"
             },
             "line": {
              "color": "white"
             }
            },
            "header": {
             "fill": {
              "color": "#C8D4E3"
             },
             "line": {
              "color": "white"
             }
            },
            "type": "table"
           }
          ]
         },
         "layout": {
          "annotationdefaults": {
           "arrowcolor": "#2a3f5f",
           "arrowhead": 0,
           "arrowwidth": 1
          },
          "coloraxis": {
           "colorbar": {
            "outlinewidth": 0,
            "ticks": ""
           }
          },
          "colorscale": {
           "diverging": [
            [
             0,
             "#8e0152"
            ],
            [
             0.1,
             "#c51b7d"
            ],
            [
             0.2,
             "#de77ae"
            ],
            [
             0.3,
             "#f1b6da"
            ],
            [
             0.4,
             "#fde0ef"
            ],
            [
             0.5,
             "#f7f7f7"
            ],
            [
             0.6,
             "#e6f5d0"
            ],
            [
             0.7,
             "#b8e186"
            ],
            [
             0.8,
             "#7fbc41"
            ],
            [
             0.9,
             "#4d9221"
            ],
            [
             1,
             "#276419"
            ]
           ],
           "sequential": [
            [
             0,
             "#0d0887"
            ],
            [
             0.1111111111111111,
             "#46039f"
            ],
            [
             0.2222222222222222,
             "#7201a8"
            ],
            [
             0.3333333333333333,
             "#9c179e"
            ],
            [
             0.4444444444444444,
             "#bd3786"
            ],
            [
             0.5555555555555556,
             "#d8576b"
            ],
            [
             0.6666666666666666,
             "#ed7953"
            ],
            [
             0.7777777777777778,
             "#fb9f3a"
            ],
            [
             0.8888888888888888,
             "#fdca26"
            ],
            [
             1,
             "#f0f921"
            ]
           ],
           "sequentialminus": [
            [
             0,
             "#0d0887"
            ],
            [
             0.1111111111111111,
             "#46039f"
            ],
            [
             0.2222222222222222,
             "#7201a8"
            ],
            [
             0.3333333333333333,
             "#9c179e"
            ],
            [
             0.4444444444444444,
             "#bd3786"
            ],
            [
             0.5555555555555556,
             "#d8576b"
            ],
            [
             0.6666666666666666,
             "#ed7953"
            ],
            [
             0.7777777777777778,
             "#fb9f3a"
            ],
            [
             0.8888888888888888,
             "#fdca26"
            ],
            [
             1,
             "#f0f921"
            ]
           ]
          },
          "colorway": [
           "#636efa",
           "#EF553B",
           "#00cc96",
           "#ab63fa",
           "#FFA15A",
           "#19d3f3",
           "#FF6692",
           "#B6E880",
           "#FF97FF",
           "#FECB52"
          ],
          "font": {
           "color": "#2a3f5f"
          },
          "geo": {
           "bgcolor": "white",
           "lakecolor": "white",
           "landcolor": "#E5ECF6",
           "showlakes": true,
           "showland": true,
           "subunitcolor": "white"
          },
          "hoverlabel": {
           "align": "left"
          },
          "hovermode": "closest",
          "mapbox": {
           "style": "light"
          },
          "paper_bgcolor": "white",
          "plot_bgcolor": "#E5ECF6",
          "polar": {
           "angularaxis": {
            "gridcolor": "white",
            "linecolor": "white",
            "ticks": ""
           },
           "bgcolor": "#E5ECF6",
           "radialaxis": {
            "gridcolor": "white",
            "linecolor": "white",
            "ticks": ""
           }
          },
          "scene": {
           "xaxis": {
            "backgroundcolor": "#E5ECF6",
            "gridcolor": "white",
            "gridwidth": 2,
            "linecolor": "white",
            "showbackground": true,
            "ticks": "",
            "zerolinecolor": "white"
           },
           "yaxis": {
            "backgroundcolor": "#E5ECF6",
            "gridcolor": "white",
            "gridwidth": 2,
            "linecolor": "white",
            "showbackground": true,
            "ticks": "",
            "zerolinecolor": "white"
           },
           "zaxis": {
            "backgroundcolor": "#E5ECF6",
            "gridcolor": "white",
            "gridwidth": 2,
            "linecolor": "white",
            "showbackground": true,
            "ticks": "",
            "zerolinecolor": "white"
           }
          },
          "shapedefaults": {
           "line": {
            "color": "#2a3f5f"
           }
          },
          "ternary": {
           "aaxis": {
            "gridcolor": "white",
            "linecolor": "white",
            "ticks": ""
           },
           "baxis": {
            "gridcolor": "white",
            "linecolor": "white",
            "ticks": ""
           },
           "bgcolor": "#E5ECF6",
           "caxis": {
            "gridcolor": "white",
            "linecolor": "white",
            "ticks": ""
           }
          },
          "title": {
           "x": 0.05
          },
          "xaxis": {
           "automargin": true,
           "gridcolor": "white",
           "linecolor": "white",
           "ticks": "",
           "title": {
            "standoff": 15
           },
           "zerolinecolor": "white",
           "zerolinewidth": 2
          },
          "yaxis": {
           "automargin": true,
           "gridcolor": "white",
           "linecolor": "white",
           "ticks": "",
           "title": {
            "standoff": 15
           },
           "zerolinecolor": "white",
           "zerolinewidth": 2
          }
         }
        },
        "title": {
         "font": {
          "color": "#4D5663"
         }
        },
        "xaxis": {
         "gridcolor": "#E1E5ED",
         "showgrid": true,
         "tickfont": {
          "color": "#4D5663"
         },
         "title": {
          "font": {
           "color": "#4D5663"
          },
          "text": ""
         },
         "zerolinecolor": "#E1E5ED"
        },
        "yaxis": {
         "gridcolor": "#E1E5ED",
         "showgrid": true,
         "tickfont": {
          "color": "#4D5663"
         },
         "title": {
          "font": {
           "color": "#4D5663"
          },
          "text": ""
         },
         "zerolinecolor": "#E1E5ED"
        }
       }
      },
      "text/html": [
       "<div>\n",
       "        \n",
       "        \n",
       "            <div id=\"c59a0032-e541-4d53-94f7-a6d90969ef9a\" class=\"plotly-graph-div\" style=\"height:525px; width:100%;\"></div>\n",
       "            <script type=\"text/javascript\">\n",
       "                require([\"plotly\"], function(Plotly) {\n",
       "                    window.PLOTLYENV=window.PLOTLYENV || {};\n",
       "                    window.PLOTLYENV.BASE_URL='https://plot.ly';\n",
       "                    \n",
       "                if (document.getElementById(\"c59a0032-e541-4d53-94f7-a6d90969ef9a\")) {\n",
       "                    Plotly.newPlot(\n",
       "                        'c59a0032-e541-4d53-94f7-a6d90969ef9a',\n",
       "                        [{\"marker\": {\"color\": [\"rgb(255, 153, 51)\", \"rgb(55, 128, 191)\", \"rgb(50, 171, 96)\", \"rgb(128, 0, 128)\", \"rgb(219, 64, 82)\", \"rgb(0, 128, 128)\", \"rgb(255, 255, 51)\", \"rgb(128, 128, 0)\", \"rgb(251, 128, 114)\", \"rgb(128, 177, 211)\"], \"line\": {\"width\": 1.3}, \"size\": [52, 52, 83, 35, 75, 95, 55, 79, 83, 69, 76, 97, 79, 85, 87, 83, 25, 27, 112, 75, 96, 62, 109, 97, 52, 31, 12, 68, 67, 74, 69, 60, 24, 58, 47, 60, 99, 57, 59, 81, 38, 53, 77, 28, 59, 96, 84, 44, 76, 84, 98, 103, 111, 19, 89, 63, 60, 83, 32, 76, 72, 26, 37, 63, 81, 54, 51, 33, 88, 63, 57, 58, 21, 56, 44, 68, 100, 64, 38, 81, 40, 71, 59, 38, 91, 106, 74, 48, 93, 88, 76, 50, 85, 75, 53, 99, 63, 69, 27, 59], \"symbol\": \"circle\"}, \"mode\": \"markers\", \"text\": \"\", \"type\": \"scatter\", \"x\": [0.7377480585830137, 0.7342847783883112, -1.0683171404471412, -1.502733798438884, 0.6561686237827556, -1.1459037323632137, 0.6476633312484361, 0.954015340373593, 1.539985876684928, 0.7985745670731059, -1.5918749202161273, 0.8082330941312681, 0.4497225270275956, 0.44060026434460214, 0.6348032618871884, 1.3874779330072162, 0.0438216873576978, -1.1014944244087401, -1.2275063824869006, -1.8290699710898346, -0.22351957823940455, -0.7050039212800109, -1.1183465214167012, -1.8248514931381798, 1.4905083191743311, 0.25626490998075285, 0.7422419175531905, 0.027907303872408085, -0.06577875054392432, -2.028482755750844, -0.9999937897710787, 0.18755245412529312, -1.3748890838009733, -0.7893670077838172, -0.9693956309750764, -0.3874700518752942, 0.8497108153574742, -2.3984511660062826, -1.0375323703356547, -1.1668382338824628, 1.0178209906174234, -2.0184440193807105, 0.10005832909083658, -0.5248020077275282, 0.6066228167525038, 0.2697695084102519, -1.332359037059602, -0.1136562919792124, -1.5255681143137725, 0.7148349278548535, -0.23774122847181883, 0.7716215119493806, 0.02376413684294443, -0.20117023619862676, -0.5919119812096941, -2.289606638197903, -1.69171991905258, 0.03946357615375144, 0.061783385108110836, 0.5000231705082663, -0.08109990486056581, -0.22066706333618294, 0.6970531220231665, 0.5792548517859589, 0.3834561644480958, 0.30649813188746133, -0.810500502854627, 1.1874691913836422, 0.04273693089697035, 0.10807765364701052, -1.9834385486030648, 0.30500393482364385, 0.04025339830170707, -1.3667014133501796, -1.0856887678202325, 0.6435525794998168, 0.09094754542965085, 0.11965187209304147, -1.109132843870616, -1.1028645951963907, 0.5112915171860486, 1.9374953617279147, -0.07245361045267751, -0.5470649360074591, 3.3981405035516525, -1.170234159171683, 0.4029753395723124, -0.49332286516639035, -1.1812130978576854, -2.0723603009366376, -0.8091482359309616, 0.956168042124244, -0.26979704705689905, -0.06303567646588461, 0.28774570776517755, 1.3294452569558244, 0.25037832471323584, -0.23303023685009297, -0.8954288193418369, -0.29096827647431506], \"y\": [0.19757683481913466, 0.19652603702414015, 0.8802559451990586, -3.246105290136032, 0.13166861327125656, 0.37894731398952586, 0.9017310254915447, 0.8410559395842016, -0.3475436119400676, -0.6333759579885387, -0.46721317143339497, -0.25197763683591395, 0.10798919230128363, 0.8279785479323732, 0.5181141679590413, -0.08740292588407063, -0.6262855402267856, -0.9981323252780863, -0.16530789117237085, -1.1171779612314283, 0.14964301868274876, -0.7213752047771493, -0.55422745014167, -1.8050140419080938, -0.09366392738194239, 0.7226521207213704, 0.950687199099526, -0.3285326599246558, 1.4151962610116287, -0.874654751843458, 0.429029706243159, 0.38343051280730256, 0.5229346393025011, -1.0546871079135307, -0.9096170476035544, -1.4792325006326723, -0.0658692466059647, -1.3027699560793393, 0.988090979663669, -0.22409559289129885, 0.7133713100303162, 0.3416091416133028, -0.9306940942545728, -0.34340258028634024, -0.5820680198522021, -0.47557889455395325, -0.4927696339863192, -1.0305543868008562, -1.0992997531456075, 0.9989814097855022, 0.29706921050397894, 0.44290029683620286, 0.23479596022042112, -1.2590740525741102, -0.5553387627535838, -0.9247408398573905, -0.30264344149525485, -0.710723649552731, -0.4571537974062655, -1.2442424570271577, 0.6278670818249709, -0.5607876516543867, -0.6455709830869545, 0.8795806440458941, 0.4075942240710124, -0.5077041158846402, 1.403109214192499, 0.41190914173872556, -0.9797664268315869, -0.407844408205296, 0.20692180881156025, 0.2171037233664773, -1.0206316273355782, 0.28358419056260675, 0.681150249787766, 0.5826961401987615, 0.93025604132711, -0.6151490682609284, -1.7903317652004367, 0.7746725906814703, 0.9587083684669854, -1.0291724032658307, 0.48332863248025204, -0.10730694261016965, 1.0628165318834424, 0.3498735613601411, -1.4542444735205482, -0.37433846017044375, -0.03994373838327206, -0.35655183390093353, 0.26880757874751465, 0.5083302621189569, 0.9995757926517211, 3.432394122748129, -1.6958994843957778, -1.0586459065945708, -1.8360538740318209, -0.6032852020161685, -1.5928644283858395, -1.8202141537266145]}],\n",
       "                        {\"legend\": {\"bgcolor\": \"#F5F6F9\", \"font\": {\"color\": \"#4D5663\"}}, \"paper_bgcolor\": \"#F5F6F9\", \"plot_bgcolor\": \"#F5F6F9\", \"template\": {\"data\": {\"bar\": [{\"error_x\": {\"color\": \"#2a3f5f\"}, \"error_y\": {\"color\": \"#2a3f5f\"}, \"marker\": {\"line\": {\"color\": \"#E5ECF6\", \"width\": 0.5}}, \"type\": \"bar\"}], \"barpolar\": [{\"marker\": {\"line\": {\"color\": \"#E5ECF6\", \"width\": 0.5}}, \"type\": \"barpolar\"}], \"carpet\": [{\"aaxis\": {\"endlinecolor\": \"#2a3f5f\", \"gridcolor\": \"white\", \"linecolor\": \"white\", \"minorgridcolor\": \"white\", \"startlinecolor\": \"#2a3f5f\"}, \"baxis\": {\"endlinecolor\": \"#2a3f5f\", \"gridcolor\": \"white\", \"linecolor\": \"white\", \"minorgridcolor\": \"white\", \"startlinecolor\": \"#2a3f5f\"}, \"type\": \"carpet\"}], \"choropleth\": [{\"colorbar\": {\"outlinewidth\": 0, \"ticks\": \"\"}, \"type\": \"choropleth\"}], \"contour\": [{\"colorbar\": {\"outlinewidth\": 0, \"ticks\": \"\"}, \"colorscale\": [[0.0, \"#0d0887\"], [0.1111111111111111, \"#46039f\"], [0.2222222222222222, \"#7201a8\"], [0.3333333333333333, \"#9c179e\"], [0.4444444444444444, \"#bd3786\"], [0.5555555555555556, \"#d8576b\"], [0.6666666666666666, \"#ed7953\"], [0.7777777777777778, \"#fb9f3a\"], [0.8888888888888888, \"#fdca26\"], [1.0, \"#f0f921\"]], \"type\": \"contour\"}], \"contourcarpet\": [{\"colorbar\": {\"outlinewidth\": 0, \"ticks\": \"\"}, \"type\": \"contourcarpet\"}], \"heatmap\": [{\"colorbar\": {\"outlinewidth\": 0, \"ticks\": \"\"}, \"colorscale\": [[0.0, \"#0d0887\"], [0.1111111111111111, \"#46039f\"], [0.2222222222222222, \"#7201a8\"], [0.3333333333333333, \"#9c179e\"], [0.4444444444444444, \"#bd3786\"], [0.5555555555555556, \"#d8576b\"], [0.6666666666666666, \"#ed7953\"], [0.7777777777777778, \"#fb9f3a\"], [0.8888888888888888, \"#fdca26\"], [1.0, \"#f0f921\"]], \"type\": \"heatmap\"}], \"heatmapgl\": [{\"colorbar\": {\"outlinewidth\": 0, \"ticks\": \"\"}, \"colorscale\": [[0.0, \"#0d0887\"], [0.1111111111111111, \"#46039f\"], [0.2222222222222222, \"#7201a8\"], [0.3333333333333333, \"#9c179e\"], [0.4444444444444444, \"#bd3786\"], [0.5555555555555556, \"#d8576b\"], [0.6666666666666666, \"#ed7953\"], [0.7777777777777778, \"#fb9f3a\"], [0.8888888888888888, \"#fdca26\"], [1.0, \"#f0f921\"]], \"type\": \"heatmapgl\"}], \"histogram\": [{\"marker\": {\"colorbar\": {\"outlinewidth\": 0, \"ticks\": \"\"}}, \"type\": \"histogram\"}], \"histogram2d\": [{\"colorbar\": {\"outlinewidth\": 0, \"ticks\": \"\"}, \"colorscale\": [[0.0, \"#0d0887\"], [0.1111111111111111, \"#46039f\"], [0.2222222222222222, \"#7201a8\"], [0.3333333333333333, \"#9c179e\"], [0.4444444444444444, \"#bd3786\"], [0.5555555555555556, \"#d8576b\"], [0.6666666666666666, \"#ed7953\"], [0.7777777777777778, \"#fb9f3a\"], [0.8888888888888888, \"#fdca26\"], [1.0, \"#f0f921\"]], \"type\": \"histogram2d\"}], \"histogram2dcontour\": [{\"colorbar\": {\"outlinewidth\": 0, \"ticks\": \"\"}, \"colorscale\": [[0.0, \"#0d0887\"], [0.1111111111111111, \"#46039f\"], [0.2222222222222222, \"#7201a8\"], [0.3333333333333333, \"#9c179e\"], [0.4444444444444444, \"#bd3786\"], [0.5555555555555556, \"#d8576b\"], [0.6666666666666666, \"#ed7953\"], [0.7777777777777778, \"#fb9f3a\"], [0.8888888888888888, \"#fdca26\"], [1.0, \"#f0f921\"]], \"type\": \"histogram2dcontour\"}], \"mesh3d\": [{\"colorbar\": {\"outlinewidth\": 0, \"ticks\": \"\"}, \"type\": \"mesh3d\"}], \"parcoords\": [{\"line\": {\"colorbar\": {\"outlinewidth\": 0, \"ticks\": \"\"}}, \"type\": \"parcoords\"}], \"pie\": [{\"automargin\": true, \"type\": \"pie\"}], \"scatter\": [{\"marker\": {\"colorbar\": {\"outlinewidth\": 0, \"ticks\": \"\"}}, \"type\": \"scatter\"}], \"scatter3d\": [{\"line\": {\"colorbar\": {\"outlinewidth\": 0, \"ticks\": \"\"}}, \"marker\": {\"colorbar\": {\"outlinewidth\": 0, \"ticks\": \"\"}}, \"type\": \"scatter3d\"}], \"scattercarpet\": [{\"marker\": {\"colorbar\": {\"outlinewidth\": 0, \"ticks\": \"\"}}, \"type\": \"scattercarpet\"}], \"scattergeo\": [{\"marker\": {\"colorbar\": {\"outlinewidth\": 0, \"ticks\": \"\"}}, \"type\": \"scattergeo\"}], \"scattergl\": [{\"marker\": {\"colorbar\": {\"outlinewidth\": 0, \"ticks\": \"\"}}, \"type\": \"scattergl\"}], \"scattermapbox\": [{\"marker\": {\"colorbar\": {\"outlinewidth\": 0, \"ticks\": \"\"}}, \"type\": \"scattermapbox\"}], \"scatterpolar\": [{\"marker\": {\"colorbar\": {\"outlinewidth\": 0, \"ticks\": \"\"}}, \"type\": \"scatterpolar\"}], \"scatterpolargl\": [{\"marker\": {\"colorbar\": {\"outlinewidth\": 0, \"ticks\": \"\"}}, \"type\": \"scatterpolargl\"}], \"scatterternary\": [{\"marker\": {\"colorbar\": {\"outlinewidth\": 0, \"ticks\": \"\"}}, \"type\": \"scatterternary\"}], \"surface\": [{\"colorbar\": {\"outlinewidth\": 0, \"ticks\": \"\"}, \"colorscale\": [[0.0, \"#0d0887\"], [0.1111111111111111, \"#46039f\"], [0.2222222222222222, \"#7201a8\"], [0.3333333333333333, \"#9c179e\"], [0.4444444444444444, \"#bd3786\"], [0.5555555555555556, \"#d8576b\"], [0.6666666666666666, \"#ed7953\"], [0.7777777777777778, \"#fb9f3a\"], [0.8888888888888888, \"#fdca26\"], [1.0, \"#f0f921\"]], \"type\": \"surface\"}], \"table\": [{\"cells\": {\"fill\": {\"color\": \"#EBF0F8\"}, \"line\": {\"color\": \"white\"}}, \"header\": {\"fill\": {\"color\": \"#C8D4E3\"}, \"line\": {\"color\": \"white\"}}, \"type\": \"table\"}]}, \"layout\": {\"annotationdefaults\": {\"arrowcolor\": \"#2a3f5f\", \"arrowhead\": 0, \"arrowwidth\": 1}, \"coloraxis\": {\"colorbar\": {\"outlinewidth\": 0, \"ticks\": \"\"}}, \"colorscale\": {\"diverging\": [[0, \"#8e0152\"], [0.1, \"#c51b7d\"], [0.2, \"#de77ae\"], [0.3, \"#f1b6da\"], [0.4, \"#fde0ef\"], [0.5, \"#f7f7f7\"], [0.6, \"#e6f5d0\"], [0.7, \"#b8e186\"], [0.8, \"#7fbc41\"], [0.9, \"#4d9221\"], [1, \"#276419\"]], \"sequential\": [[0.0, \"#0d0887\"], [0.1111111111111111, \"#46039f\"], [0.2222222222222222, \"#7201a8\"], [0.3333333333333333, \"#9c179e\"], [0.4444444444444444, \"#bd3786\"], [0.5555555555555556, \"#d8576b\"], [0.6666666666666666, \"#ed7953\"], [0.7777777777777778, \"#fb9f3a\"], [0.8888888888888888, \"#fdca26\"], [1.0, \"#f0f921\"]], \"sequentialminus\": [[0.0, \"#0d0887\"], [0.1111111111111111, \"#46039f\"], [0.2222222222222222, \"#7201a8\"], [0.3333333333333333, \"#9c179e\"], [0.4444444444444444, \"#bd3786\"], [0.5555555555555556, \"#d8576b\"], [0.6666666666666666, \"#ed7953\"], [0.7777777777777778, \"#fb9f3a\"], [0.8888888888888888, \"#fdca26\"], [1.0, \"#f0f921\"]]}, \"colorway\": [\"#636efa\", \"#EF553B\", \"#00cc96\", \"#ab63fa\", \"#FFA15A\", \"#19d3f3\", \"#FF6692\", \"#B6E880\", \"#FF97FF\", \"#FECB52\"], \"font\": {\"color\": \"#2a3f5f\"}, \"geo\": {\"bgcolor\": \"white\", \"lakecolor\": \"white\", \"landcolor\": \"#E5ECF6\", \"showlakes\": true, \"showland\": true, \"subunitcolor\": \"white\"}, \"hoverlabel\": {\"align\": \"left\"}, \"hovermode\": \"closest\", \"mapbox\": {\"style\": \"light\"}, \"paper_bgcolor\": \"white\", \"plot_bgcolor\": \"#E5ECF6\", \"polar\": {\"angularaxis\": {\"gridcolor\": \"white\", \"linecolor\": \"white\", \"ticks\": \"\"}, \"bgcolor\": \"#E5ECF6\", \"radialaxis\": {\"gridcolor\": \"white\", \"linecolor\": \"white\", \"ticks\": \"\"}}, \"scene\": {\"xaxis\": {\"backgroundcolor\": \"#E5ECF6\", \"gridcolor\": \"white\", \"gridwidth\": 2, \"linecolor\": \"white\", \"showbackground\": true, \"ticks\": \"\", \"zerolinecolor\": \"white\"}, \"yaxis\": {\"backgroundcolor\": \"#E5ECF6\", \"gridcolor\": \"white\", \"gridwidth\": 2, \"linecolor\": \"white\", \"showbackground\": true, \"ticks\": \"\", \"zerolinecolor\": \"white\"}, \"zaxis\": {\"backgroundcolor\": \"#E5ECF6\", \"gridcolor\": \"white\", \"gridwidth\": 2, \"linecolor\": \"white\", \"showbackground\": true, \"ticks\": \"\", \"zerolinecolor\": \"white\"}}, \"shapedefaults\": {\"line\": {\"color\": \"#2a3f5f\"}}, \"ternary\": {\"aaxis\": {\"gridcolor\": \"white\", \"linecolor\": \"white\", \"ticks\": \"\"}, \"baxis\": {\"gridcolor\": \"white\", \"linecolor\": \"white\", \"ticks\": \"\"}, \"bgcolor\": \"#E5ECF6\", \"caxis\": {\"gridcolor\": \"white\", \"linecolor\": \"white\", \"ticks\": \"\"}}, \"title\": {\"x\": 0.05}, \"xaxis\": {\"automargin\": true, \"gridcolor\": \"white\", \"linecolor\": \"white\", \"ticks\": \"\", \"title\": {\"standoff\": 15}, \"zerolinecolor\": \"white\", \"zerolinewidth\": 2}, \"yaxis\": {\"automargin\": true, \"gridcolor\": \"white\", \"linecolor\": \"white\", \"ticks\": \"\", \"title\": {\"standoff\": 15}, \"zerolinecolor\": \"white\", \"zerolinewidth\": 2}}}, \"title\": {\"font\": {\"color\": \"#4D5663\"}}, \"xaxis\": {\"gridcolor\": \"#E1E5ED\", \"showgrid\": true, \"tickfont\": {\"color\": \"#4D5663\"}, \"title\": {\"font\": {\"color\": \"#4D5663\"}, \"text\": \"\"}, \"zerolinecolor\": \"#E1E5ED\"}, \"yaxis\": {\"gridcolor\": \"#E1E5ED\", \"showgrid\": true, \"tickfont\": {\"color\": \"#4D5663\"}, \"title\": {\"font\": {\"color\": \"#4D5663\"}, \"text\": \"\"}, \"zerolinecolor\": \"#E1E5ED\"}},\n",
       "                        {\"showLink\": true, \"linkText\": \"Export to plot.ly\", \"plotlyServerURL\": \"https://plot.ly\", \"responsive\": true}\n",
       "                    ).then(function(){\n",
       "                            \n",
       "var gd = document.getElementById('c59a0032-e541-4d53-94f7-a6d90969ef9a');\n",
       "var x = new MutationObserver(function (mutations, observer) {{\n",
       "        var display = window.getComputedStyle(gd).display;\n",
       "        if (!display || display === 'none') {{\n",
       "            console.log([gd, 'removed!']);\n",
       "            Plotly.purge(gd);\n",
       "            observer.disconnect();\n",
       "        }}\n",
       "}});\n",
       "\n",
       "// Listen for the removal of the full notebook cells\n",
       "var notebookContainer = gd.closest('#notebook-container');\n",
       "if (notebookContainer) {{\n",
       "    x.observe(notebookContainer, {childList: true});\n",
       "}}\n",
       "\n",
       "// Listen for the clearing of the current output cell\n",
       "var outputEl = gd.closest('.output');\n",
       "if (outputEl) {{\n",
       "    x.observe(outputEl, {childList: true});\n",
       "}}\n",
       "\n",
       "                        })\n",
       "                };\n",
       "                });\n",
       "            </script>\n",
       "        </div>"
      ]
     },
     "metadata": {},
     "output_type": "display_data"
    }
   ],
   "source": [
    "df.iplot(kind='bubble',x='A',y='B',size='C')"
   ]
  },
  {
   "cell_type": "code",
   "execution_count": 52,
   "metadata": {},
   "outputs": [
    {
     "data": {
      "application/vnd.plotly.v1+json": {
       "config": {
        "linkText": "Export to plot.ly",
        "plotlyServerURL": "https://plot.ly",
        "showLink": true
       },
       "data": [
        {
         "histfunc": "count",
         "histnorm": "",
         "marker": {
          "color": "rgba(255, 153, 51, 1.0)",
          "line": {
           "color": "#4D5663",
           "width": 1.3
          }
         },
         "name": "A",
         "nbinsx": 10,
         "opacity": 0.8,
         "orientation": "v",
         "type": "histogram",
         "x": [
          0.7377480585830137,
          0.7342847783883112,
          -1.0683171404471412,
          -1.502733798438884,
          0.6561686237827556,
          -1.1459037323632137,
          0.6476633312484361,
          0.954015340373593,
          1.539985876684928,
          0.7985745670731059,
          -1.5918749202161273,
          0.8082330941312681,
          0.4497225270275956,
          0.44060026434460214,
          0.6348032618871884,
          1.3874779330072162,
          0.0438216873576978,
          -1.1014944244087401,
          -1.2275063824869006,
          -1.8290699710898346,
          -0.22351957823940455,
          -0.7050039212800109,
          -1.1183465214167012,
          -1.8248514931381798,
          1.4905083191743311,
          0.25626490998075285,
          0.7422419175531905,
          0.027907303872408085,
          -0.06577875054392432,
          -2.028482755750844,
          -0.9999937897710787,
          0.18755245412529312,
          -1.3748890838009733,
          -0.7893670077838172,
          -0.9693956309750764,
          -0.3874700518752942,
          0.8497108153574742,
          -2.3984511660062826,
          -1.0375323703356547,
          -1.1668382338824628,
          1.0178209906174234,
          -2.0184440193807105,
          0.10005832909083658,
          -0.5248020077275282,
          0.6066228167525038,
          0.2697695084102519,
          -1.332359037059602,
          -0.1136562919792124,
          -1.5255681143137725,
          0.7148349278548535,
          -0.23774122847181883,
          0.7716215119493806,
          0.02376413684294443,
          -0.20117023619862676,
          -0.5919119812096941,
          -2.289606638197903,
          -1.69171991905258,
          0.03946357615375144,
          0.061783385108110836,
          0.5000231705082663,
          -0.08109990486056581,
          -0.22066706333618294,
          0.6970531220231665,
          0.5792548517859589,
          0.3834561644480958,
          0.30649813188746133,
          -0.810500502854627,
          1.1874691913836422,
          0.04273693089697035,
          0.10807765364701052,
          -1.9834385486030648,
          0.30500393482364385,
          0.04025339830170707,
          -1.3667014133501796,
          -1.0856887678202325,
          0.6435525794998168,
          0.09094754542965085,
          0.11965187209304147,
          -1.109132843870616,
          -1.1028645951963907,
          0.5112915171860486,
          1.9374953617279147,
          -0.07245361045267751,
          -0.5470649360074591,
          3.3981405035516525,
          -1.170234159171683,
          0.4029753395723124,
          -0.49332286516639035,
          -1.1812130978576854,
          -2.0723603009366376,
          -0.8091482359309616,
          0.956168042124244,
          -0.26979704705689905,
          -0.06303567646588461,
          0.28774570776517755,
          1.3294452569558244,
          0.25037832471323584,
          -0.23303023685009297,
          -0.8954288193418369,
          -0.29096827647431506
         ],
         "xaxis": "x",
         "yaxis": "y"
        },
        {
         "line": {
          "color": "rgba(128, 128, 128, 1.0)",
          "dash": "solid",
          "shape": "linear",
          "width": 1.3
         },
         "marker": {
          "size": 2,
          "symbol": "circle"
         },
         "mode": "markers",
         "name": "A",
         "text": "",
         "type": "scatter",
         "x": [
          0.19757683481913466,
          0.19652603702414015,
          0.8802559451990586,
          -3.246105290136032,
          0.13166861327125656,
          0.37894731398952586,
          0.9017310254915447,
          0.8410559395842016,
          -0.3475436119400676,
          -0.6333759579885387,
          -0.46721317143339497,
          -0.25197763683591395,
          0.10798919230128363,
          0.8279785479323732,
          0.5181141679590413,
          -0.08740292588407063,
          -0.6262855402267856,
          -0.9981323252780863,
          -0.16530789117237085,
          -1.1171779612314283,
          0.14964301868274876,
          -0.7213752047771493,
          -0.55422745014167,
          -1.8050140419080938,
          -0.09366392738194239,
          0.7226521207213704,
          0.950687199099526,
          -0.3285326599246558,
          1.4151962610116287,
          -0.874654751843458,
          0.429029706243159,
          0.38343051280730256,
          0.5229346393025011,
          -1.0546871079135307,
          -0.9096170476035544,
          -1.4792325006326723,
          -0.0658692466059647,
          -1.3027699560793393,
          0.988090979663669,
          -0.22409559289129885,
          0.7133713100303162,
          0.3416091416133028,
          -0.9306940942545728,
          -0.34340258028634024,
          -0.5820680198522021,
          -0.47557889455395325,
          -0.4927696339863192,
          -1.0305543868008562,
          -1.0992997531456075,
          0.9989814097855022,
          0.29706921050397894,
          0.44290029683620286,
          0.23479596022042112,
          -1.2590740525741102,
          -0.5553387627535838,
          -0.9247408398573905,
          -0.30264344149525485,
          -0.710723649552731,
          -0.4571537974062655,
          -1.2442424570271577,
          0.6278670818249709,
          -0.5607876516543867,
          -0.6455709830869545,
          0.8795806440458941,
          0.4075942240710124,
          -0.5077041158846402,
          1.403109214192499,
          0.41190914173872556,
          -0.9797664268315869,
          -0.407844408205296,
          0.20692180881156025,
          0.2171037233664773,
          -1.0206316273355782,
          0.28358419056260675,
          0.681150249787766,
          0.5826961401987615,
          0.93025604132711,
          -0.6151490682609284,
          -1.7903317652004367,
          0.7746725906814703,
          0.9587083684669854,
          -1.0291724032658307,
          0.48332863248025204,
          -0.10730694261016965,
          1.0628165318834424,
          0.3498735613601411,
          -1.4542444735205482,
          -0.37433846017044375,
          -0.03994373838327206,
          -0.35655183390093353,
          0.26880757874751465,
          0.5083302621189569,
          0.9995757926517211,
          3.432394122748129,
          -1.6958994843957778,
          -1.0586459065945708,
          -1.8360538740318209,
          -0.6032852020161685,
          -1.5928644283858395,
          -1.8202141537266145
         ],
         "xaxis": "x2",
         "y": [
          0.7377480585830137,
          0.7342847783883112,
          -1.0683171404471412,
          -1.502733798438884,
          0.6561686237827556,
          -1.1459037323632137,
          0.6476633312484361,
          0.954015340373593,
          1.539985876684928,
          0.7985745670731059,
          -1.5918749202161273,
          0.8082330941312681,
          0.4497225270275956,
          0.44060026434460214,
          0.6348032618871884,
          1.3874779330072162,
          0.0438216873576978,
          -1.1014944244087401,
          -1.2275063824869006,
          -1.8290699710898346,
          -0.22351957823940455,
          -0.7050039212800109,
          -1.1183465214167012,
          -1.8248514931381798,
          1.4905083191743311,
          0.25626490998075285,
          0.7422419175531905,
          0.027907303872408085,
          -0.06577875054392432,
          -2.028482755750844,
          -0.9999937897710787,
          0.18755245412529312,
          -1.3748890838009733,
          -0.7893670077838172,
          -0.9693956309750764,
          -0.3874700518752942,
          0.8497108153574742,
          -2.3984511660062826,
          -1.0375323703356547,
          -1.1668382338824628,
          1.0178209906174234,
          -2.0184440193807105,
          0.10005832909083658,
          -0.5248020077275282,
          0.6066228167525038,
          0.2697695084102519,
          -1.332359037059602,
          -0.1136562919792124,
          -1.5255681143137725,
          0.7148349278548535,
          -0.23774122847181883,
          0.7716215119493806,
          0.02376413684294443,
          -0.20117023619862676,
          -0.5919119812096941,
          -2.289606638197903,
          -1.69171991905258,
          0.03946357615375144,
          0.061783385108110836,
          0.5000231705082663,
          -0.08109990486056581,
          -0.22066706333618294,
          0.6970531220231665,
          0.5792548517859589,
          0.3834561644480958,
          0.30649813188746133,
          -0.810500502854627,
          1.1874691913836422,
          0.04273693089697035,
          0.10807765364701052,
          -1.9834385486030648,
          0.30500393482364385,
          0.04025339830170707,
          -1.3667014133501796,
          -1.0856887678202325,
          0.6435525794998168,
          0.09094754542965085,
          0.11965187209304147,
          -1.109132843870616,
          -1.1028645951963907,
          0.5112915171860486,
          1.9374953617279147,
          -0.07245361045267751,
          -0.5470649360074591,
          3.3981405035516525,
          -1.170234159171683,
          0.4029753395723124,
          -0.49332286516639035,
          -1.1812130978576854,
          -2.0723603009366376,
          -0.8091482359309616,
          0.956168042124244,
          -0.26979704705689905,
          -0.06303567646588461,
          0.28774570776517755,
          1.3294452569558244,
          0.25037832471323584,
          -0.23303023685009297,
          -0.8954288193418369,
          -0.29096827647431506
         ],
         "yaxis": "y2"
        },
        {
         "line": {
          "color": "rgba(128, 128, 128, 1.0)",
          "dash": "solid",
          "shape": "linear",
          "width": 1.3
         },
         "marker": {
          "size": 2,
          "symbol": "circle"
         },
         "mode": "markers",
         "name": "A",
         "text": "",
         "type": "scatter",
         "x": [
          -0.6096608224151466,
          -0.6195079747212103,
          0.7109406448525754,
          -1.3576488964524391,
          0.3539574156709573,
          1.2262553786457966,
          -0.5023942829843933,
          0.5522310577308305,
          0.7108756556978424,
          0.10920510938871546,
          0.4149967488288535,
          1.3011189754866916,
          0.5542723738033885,
          0.7987642339371241,
          0.8759170909728486,
          0.7219316733733715,
          -1.7869490716923797,
          -1.679550595679321,
          1.9274639583266926,
          0.3828021930857063,
          1.2608656994571699,
          -0.1938433376033397,
          1.8357859382308004,
          1.3001031158009266,
          -0.632849920499351,
          -1.5342524445220331,
          -2.3585628827994283,
          0.0661748444944162,
          0.006365499709921685,
          0.312995564273019,
          0.0937504317809031,
          -0.29835371474252503,
          -1.8279726016525282,
          -0.352868152041477,
          -0.8559998733210675,
          -0.28608530691286377,
          1.396727023340674,
          -0.40359163631147577,
          -0.3292458811883445,
          0.599421083749579,
          -1.2124000262503405,
          -0.5693543470575455,
          0.4377338777037384,
          -1.642144774079887,
          -0.30764720537762086,
          1.2542750180885254,
          0.7564255708797416,
          -0.9832730838691014,
          0.4164998282128355,
          0.7477748458530866,
          1.3560202886782509,
          1.546746331079022,
          1.9052164640676077,
          -2.0461367992280457,
          0.9687250883987175,
          -0.16111852239983515,
          -0.2623169457336536,
          0.6979029617949611,
          -1.4823878216061581,
          0.392877675346139,
          0.21566655583007072,
          -1.7472944763299612,
          -1.2516772119417252,
          -0.13766057172636878,
          0.6390747642098169,
          -0.5165476343485128,
          -0.662260234384109,
          -1.4190709440988007,
          0.9135263608642058,
          -0.16528750001260598,
          -0.40019365725797157,
          -0.3700242924353822,
          -1.962750084533982,
          -0.4508981113805817,
          -0.9727042912984357,
          0.04723505603996999,
          1.4504684351884678,
          -0.1189997957052009,
          -1.2371007992918832,
          0.5995717421705108,
          -1.1166092112545292,
          0.1715473028907822,
          -0.3347258686563542,
          -1.240185466280291,
          1.0476296913470322,
          1.700571192640512,
          0.3146752141594078,
          -0.8066274098380597,
          1.1412362503571325,
          0.9193081732449275,
          0.41038052464580893,
          -0.6929166527794698,
          0.7922727125420788,
          0.3475430006898677,
          -0.5775533782567989,
          1.387393562697111,
          -0.14139060179298688,
          0.1232069052447074,
          -1.6848274592682884,
          -0.3079396992785525
         ],
         "xaxis": "x3",
         "y": [
          0.7377480585830137,
          0.7342847783883112,
          -1.0683171404471412,
          -1.502733798438884,
          0.6561686237827556,
          -1.1459037323632137,
          0.6476633312484361,
          0.954015340373593,
          1.539985876684928,
          0.7985745670731059,
          -1.5918749202161273,
          0.8082330941312681,
          0.4497225270275956,
          0.44060026434460214,
          0.6348032618871884,
          1.3874779330072162,
          0.0438216873576978,
          -1.1014944244087401,
          -1.2275063824869006,
          -1.8290699710898346,
          -0.22351957823940455,
          -0.7050039212800109,
          -1.1183465214167012,
          -1.8248514931381798,
          1.4905083191743311,
          0.25626490998075285,
          0.7422419175531905,
          0.027907303872408085,
          -0.06577875054392432,
          -2.028482755750844,
          -0.9999937897710787,
          0.18755245412529312,
          -1.3748890838009733,
          -0.7893670077838172,
          -0.9693956309750764,
          -0.3874700518752942,
          0.8497108153574742,
          -2.3984511660062826,
          -1.0375323703356547,
          -1.1668382338824628,
          1.0178209906174234,
          -2.0184440193807105,
          0.10005832909083658,
          -0.5248020077275282,
          0.6066228167525038,
          0.2697695084102519,
          -1.332359037059602,
          -0.1136562919792124,
          -1.5255681143137725,
          0.7148349278548535,
          -0.23774122847181883,
          0.7716215119493806,
          0.02376413684294443,
          -0.20117023619862676,
          -0.5919119812096941,
          -2.289606638197903,
          -1.69171991905258,
          0.03946357615375144,
          0.061783385108110836,
          0.5000231705082663,
          -0.08109990486056581,
          -0.22066706333618294,
          0.6970531220231665,
          0.5792548517859589,
          0.3834561644480958,
          0.30649813188746133,
          -0.810500502854627,
          1.1874691913836422,
          0.04273693089697035,
          0.10807765364701052,
          -1.9834385486030648,
          0.30500393482364385,
          0.04025339830170707,
          -1.3667014133501796,
          -1.0856887678202325,
          0.6435525794998168,
          0.09094754542965085,
          0.11965187209304147,
          -1.109132843870616,
          -1.1028645951963907,
          0.5112915171860486,
          1.9374953617279147,
          -0.07245361045267751,
          -0.5470649360074591,
          3.3981405035516525,
          -1.170234159171683,
          0.4029753395723124,
          -0.49332286516639035,
          -1.1812130978576854,
          -2.0723603009366376,
          -0.8091482359309616,
          0.956168042124244,
          -0.26979704705689905,
          -0.06303567646588461,
          0.28774570776517755,
          1.3294452569558244,
          0.25037832471323584,
          -0.23303023685009297,
          -0.8954288193418369,
          -0.29096827647431506
         ],
         "yaxis": "y3"
        },
        {
         "line": {
          "color": "rgba(128, 128, 128, 1.0)",
          "dash": "solid",
          "shape": "linear",
          "width": 1.3
         },
         "marker": {
          "size": 2,
          "symbol": "circle"
         },
         "mode": "markers",
         "name": "A",
         "text": "",
         "type": "scatter",
         "x": [
          1.1401673986248801,
          0.13313653080927113,
          0.19698757663838,
          0.952955548715361,
          -0.20989517397197824,
          0.23896266017547702,
          -0.35425191925320987,
          -0.6126943383460478,
          1.3920191303747103,
          0.548922979417018,
          0.6143207621742002,
          0.31775370625711374,
          0.35343266229756776,
          0.8146004499815067,
          -1.0202276992452228,
          1.0329463600952744,
          0.4050958787576824,
          -2.8435300437531796,
          0.8476960698637384,
          0.30060393407956204,
          2.395377396817081,
          0.41754187027079953,
          -0.041557565209885516,
          1.7756192538628472,
          0.6033104525486233,
          0.32067559892224434,
          0.5146999332229149,
          -1.2934581169624737,
          -0.13703049255397978,
          -0.07213589597693378,
          -0.3770317341839668,
          -1.0696842549372618,
          0.9816766588940186,
          1.918981131133428,
          -0.2289408687169476,
          0.2671261146526187,
          0.5119462534866697,
          -0.8239501957925991,
          -0.10913167594946674,
          -0.6679040757000227,
          -0.7749056852741179,
          0.20389806534071162,
          -0.901276867585821,
          1.154099420824574,
          0.011354401808919192,
          0.2098443593415194,
          1.5854698876338933,
          -0.07344276075067835,
          0.5073385189309244,
          -1.773319236552539,
          -0.05272041058146565,
          -0.00362736273952922,
          -0.5945275493238228,
          0.41809379429104887,
          0.8909465400459582,
          0.09563245179050314,
          1.0311602461832148,
          1.0159953770058927,
          -0.6170213287877444,
          -1.0976143674215801,
          -1.5004841052765934,
          0.09431301496742447,
          -0.9452218800849674,
          -0.01560992121439684,
          0.7879037411261346,
          0.6853755116492865,
          -0.8623001717604366,
          1.0769194654893817,
          0.6431688511361634,
          0.12895953199732638,
          -0.5498628658378011,
          -1.4492936939235181,
          0.016024222288879897,
          2.664282252712835,
          1.0696366331516471,
          0.12835965398046997,
          0.5101687936919098,
          1.5299010478683583,
          -1.2335689808342365,
          0.2464428699381851,
          2.1078222162200384,
          0.7843387741083879,
          -0.1446628038271378,
          0.8157535679411924,
          -0.20789418560122971,
          1.2911215665236357,
          -0.4371104648645292,
          1.2891046799090462,
          0.14198386497507962,
          -0.24169307687263147,
          0.08057209185200362,
          1.448257337150349,
          -0.6207616616697897,
          -1.3403917003667252,
          -0.8028486224328306,
          -0.21052336907806699,
          -0.09233070228788874,
          -0.3661415088533711,
          -0.4629290587443829,
          1.0483734858888971
         ],
         "xaxis": "x4",
         "y": [
          0.7377480585830137,
          0.7342847783883112,
          -1.0683171404471412,
          -1.502733798438884,
          0.6561686237827556,
          -1.1459037323632137,
          0.6476633312484361,
          0.954015340373593,
          1.539985876684928,
          0.7985745670731059,
          -1.5918749202161273,
          0.8082330941312681,
          0.4497225270275956,
          0.44060026434460214,
          0.6348032618871884,
          1.3874779330072162,
          0.0438216873576978,
          -1.1014944244087401,
          -1.2275063824869006,
          -1.8290699710898346,
          -0.22351957823940455,
          -0.7050039212800109,
          -1.1183465214167012,
          -1.8248514931381798,
          1.4905083191743311,
          0.25626490998075285,
          0.7422419175531905,
          0.027907303872408085,
          -0.06577875054392432,
          -2.028482755750844,
          -0.9999937897710787,
          0.18755245412529312,
          -1.3748890838009733,
          -0.7893670077838172,
          -0.9693956309750764,
          -0.3874700518752942,
          0.8497108153574742,
          -2.3984511660062826,
          -1.0375323703356547,
          -1.1668382338824628,
          1.0178209906174234,
          -2.0184440193807105,
          0.10005832909083658,
          -0.5248020077275282,
          0.6066228167525038,
          0.2697695084102519,
          -1.332359037059602,
          -0.1136562919792124,
          -1.5255681143137725,
          0.7148349278548535,
          -0.23774122847181883,
          0.7716215119493806,
          0.02376413684294443,
          -0.20117023619862676,
          -0.5919119812096941,
          -2.289606638197903,
          -1.69171991905258,
          0.03946357615375144,
          0.061783385108110836,
          0.5000231705082663,
          -0.08109990486056581,
          -0.22066706333618294,
          0.6970531220231665,
          0.5792548517859589,
          0.3834561644480958,
          0.30649813188746133,
          -0.810500502854627,
          1.1874691913836422,
          0.04273693089697035,
          0.10807765364701052,
          -1.9834385486030648,
          0.30500393482364385,
          0.04025339830170707,
          -1.3667014133501796,
          -1.0856887678202325,
          0.6435525794998168,
          0.09094754542965085,
          0.11965187209304147,
          -1.109132843870616,
          -1.1028645951963907,
          0.5112915171860486,
          1.9374953617279147,
          -0.07245361045267751,
          -0.5470649360074591,
          3.3981405035516525,
          -1.170234159171683,
          0.4029753395723124,
          -0.49332286516639035,
          -1.1812130978576854,
          -2.0723603009366376,
          -0.8091482359309616,
          0.956168042124244,
          -0.26979704705689905,
          -0.06303567646588461,
          0.28774570776517755,
          1.3294452569558244,
          0.25037832471323584,
          -0.23303023685009297,
          -0.8954288193418369,
          -0.29096827647431506
         ],
         "yaxis": "y4"
        },
        {
         "line": {
          "color": "rgba(128, 128, 128, 1.0)",
          "dash": "solid",
          "shape": "linear",
          "width": 1.3
         },
         "marker": {
          "size": 2,
          "symbol": "circle"
         },
         "mode": "markers",
         "name": "B",
         "text": "",
         "type": "scatter",
         "x": [
          0.7377480585830137,
          0.7342847783883112,
          -1.0683171404471412,
          -1.502733798438884,
          0.6561686237827556,
          -1.1459037323632137,
          0.6476633312484361,
          0.954015340373593,
          1.539985876684928,
          0.7985745670731059,
          -1.5918749202161273,
          0.8082330941312681,
          0.4497225270275956,
          0.44060026434460214,
          0.6348032618871884,
          1.3874779330072162,
          0.0438216873576978,
          -1.1014944244087401,
          -1.2275063824869006,
          -1.8290699710898346,
          -0.22351957823940455,
          -0.7050039212800109,
          -1.1183465214167012,
          -1.8248514931381798,
          1.4905083191743311,
          0.25626490998075285,
          0.7422419175531905,
          0.027907303872408085,
          -0.06577875054392432,
          -2.028482755750844,
          -0.9999937897710787,
          0.18755245412529312,
          -1.3748890838009733,
          -0.7893670077838172,
          -0.9693956309750764,
          -0.3874700518752942,
          0.8497108153574742,
          -2.3984511660062826,
          -1.0375323703356547,
          -1.1668382338824628,
          1.0178209906174234,
          -2.0184440193807105,
          0.10005832909083658,
          -0.5248020077275282,
          0.6066228167525038,
          0.2697695084102519,
          -1.332359037059602,
          -0.1136562919792124,
          -1.5255681143137725,
          0.7148349278548535,
          -0.23774122847181883,
          0.7716215119493806,
          0.02376413684294443,
          -0.20117023619862676,
          -0.5919119812096941,
          -2.289606638197903,
          -1.69171991905258,
          0.03946357615375144,
          0.061783385108110836,
          0.5000231705082663,
          -0.08109990486056581,
          -0.22066706333618294,
          0.6970531220231665,
          0.5792548517859589,
          0.3834561644480958,
          0.30649813188746133,
          -0.810500502854627,
          1.1874691913836422,
          0.04273693089697035,
          0.10807765364701052,
          -1.9834385486030648,
          0.30500393482364385,
          0.04025339830170707,
          -1.3667014133501796,
          -1.0856887678202325,
          0.6435525794998168,
          0.09094754542965085,
          0.11965187209304147,
          -1.109132843870616,
          -1.1028645951963907,
          0.5112915171860486,
          1.9374953617279147,
          -0.07245361045267751,
          -0.5470649360074591,
          3.3981405035516525,
          -1.170234159171683,
          0.4029753395723124,
          -0.49332286516639035,
          -1.1812130978576854,
          -2.0723603009366376,
          -0.8091482359309616,
          0.956168042124244,
          -0.26979704705689905,
          -0.06303567646588461,
          0.28774570776517755,
          1.3294452569558244,
          0.25037832471323584,
          -0.23303023685009297,
          -0.8954288193418369,
          -0.29096827647431506
         ],
         "xaxis": "x5",
         "y": [
          0.19757683481913466,
          0.19652603702414015,
          0.8802559451990586,
          -3.246105290136032,
          0.13166861327125656,
          0.37894731398952586,
          0.9017310254915447,
          0.8410559395842016,
          -0.3475436119400676,
          -0.6333759579885387,
          -0.46721317143339497,
          -0.25197763683591395,
          0.10798919230128363,
          0.8279785479323732,
          0.5181141679590413,
          -0.08740292588407063,
          -0.6262855402267856,
          -0.9981323252780863,
          -0.16530789117237085,
          -1.1171779612314283,
          0.14964301868274876,
          -0.7213752047771493,
          -0.55422745014167,
          -1.8050140419080938,
          -0.09366392738194239,
          0.7226521207213704,
          0.950687199099526,
          -0.3285326599246558,
          1.4151962610116287,
          -0.874654751843458,
          0.429029706243159,
          0.38343051280730256,
          0.5229346393025011,
          -1.0546871079135307,
          -0.9096170476035544,
          -1.4792325006326723,
          -0.0658692466059647,
          -1.3027699560793393,
          0.988090979663669,
          -0.22409559289129885,
          0.7133713100303162,
          0.3416091416133028,
          -0.9306940942545728,
          -0.34340258028634024,
          -0.5820680198522021,
          -0.47557889455395325,
          -0.4927696339863192,
          -1.0305543868008562,
          -1.0992997531456075,
          0.9989814097855022,
          0.29706921050397894,
          0.44290029683620286,
          0.23479596022042112,
          -1.2590740525741102,
          -0.5553387627535838,
          -0.9247408398573905,
          -0.30264344149525485,
          -0.710723649552731,
          -0.4571537974062655,
          -1.2442424570271577,
          0.6278670818249709,
          -0.5607876516543867,
          -0.6455709830869545,
          0.8795806440458941,
          0.4075942240710124,
          -0.5077041158846402,
          1.403109214192499,
          0.41190914173872556,
          -0.9797664268315869,
          -0.407844408205296,
          0.20692180881156025,
          0.2171037233664773,
          -1.0206316273355782,
          0.28358419056260675,
          0.681150249787766,
          0.5826961401987615,
          0.93025604132711,
          -0.6151490682609284,
          -1.7903317652004367,
          0.7746725906814703,
          0.9587083684669854,
          -1.0291724032658307,
          0.48332863248025204,
          -0.10730694261016965,
          1.0628165318834424,
          0.3498735613601411,
          -1.4542444735205482,
          -0.37433846017044375,
          -0.03994373838327206,
          -0.35655183390093353,
          0.26880757874751465,
          0.5083302621189569,
          0.9995757926517211,
          3.432394122748129,
          -1.6958994843957778,
          -1.0586459065945708,
          -1.8360538740318209,
          -0.6032852020161685,
          -1.5928644283858395,
          -1.8202141537266145
         ],
         "yaxis": "y5"
        },
        {
         "histfunc": "count",
         "histnorm": "",
         "marker": {
          "color": "rgba(55, 128, 191, 1.0)",
          "line": {
           "color": "#4D5663",
           "width": 1.3
          }
         },
         "name": "B",
         "nbinsx": 10,
         "opacity": 0.8,
         "orientation": "v",
         "type": "histogram",
         "x": [
          0.19757683481913466,
          0.19652603702414015,
          0.8802559451990586,
          -3.246105290136032,
          0.13166861327125656,
          0.37894731398952586,
          0.9017310254915447,
          0.8410559395842016,
          -0.3475436119400676,
          -0.6333759579885387,
          -0.46721317143339497,
          -0.25197763683591395,
          0.10798919230128363,
          0.8279785479323732,
          0.5181141679590413,
          -0.08740292588407063,
          -0.6262855402267856,
          -0.9981323252780863,
          -0.16530789117237085,
          -1.1171779612314283,
          0.14964301868274876,
          -0.7213752047771493,
          -0.55422745014167,
          -1.8050140419080938,
          -0.09366392738194239,
          0.7226521207213704,
          0.950687199099526,
          -0.3285326599246558,
          1.4151962610116287,
          -0.874654751843458,
          0.429029706243159,
          0.38343051280730256,
          0.5229346393025011,
          -1.0546871079135307,
          -0.9096170476035544,
          -1.4792325006326723,
          -0.0658692466059647,
          -1.3027699560793393,
          0.988090979663669,
          -0.22409559289129885,
          0.7133713100303162,
          0.3416091416133028,
          -0.9306940942545728,
          -0.34340258028634024,
          -0.5820680198522021,
          -0.47557889455395325,
          -0.4927696339863192,
          -1.0305543868008562,
          -1.0992997531456075,
          0.9989814097855022,
          0.29706921050397894,
          0.44290029683620286,
          0.23479596022042112,
          -1.2590740525741102,
          -0.5553387627535838,
          -0.9247408398573905,
          -0.30264344149525485,
          -0.710723649552731,
          -0.4571537974062655,
          -1.2442424570271577,
          0.6278670818249709,
          -0.5607876516543867,
          -0.6455709830869545,
          0.8795806440458941,
          0.4075942240710124,
          -0.5077041158846402,
          1.403109214192499,
          0.41190914173872556,
          -0.9797664268315869,
          -0.407844408205296,
          0.20692180881156025,
          0.2171037233664773,
          -1.0206316273355782,
          0.28358419056260675,
          0.681150249787766,
          0.5826961401987615,
          0.93025604132711,
          -0.6151490682609284,
          -1.7903317652004367,
          0.7746725906814703,
          0.9587083684669854,
          -1.0291724032658307,
          0.48332863248025204,
          -0.10730694261016965,
          1.0628165318834424,
          0.3498735613601411,
          -1.4542444735205482,
          -0.37433846017044375,
          -0.03994373838327206,
          -0.35655183390093353,
          0.26880757874751465,
          0.5083302621189569,
          0.9995757926517211,
          3.432394122748129,
          -1.6958994843957778,
          -1.0586459065945708,
          -1.8360538740318209,
          -0.6032852020161685,
          -1.5928644283858395,
          -1.8202141537266145
         ],
         "xaxis": "x6",
         "yaxis": "y6"
        },
        {
         "line": {
          "color": "rgba(128, 128, 128, 1.0)",
          "dash": "solid",
          "shape": "linear",
          "width": 1.3
         },
         "marker": {
          "size": 2,
          "symbol": "circle"
         },
         "mode": "markers",
         "name": "B",
         "text": "",
         "type": "scatter",
         "x": [
          -0.6096608224151466,
          -0.6195079747212103,
          0.7109406448525754,
          -1.3576488964524391,
          0.3539574156709573,
          1.2262553786457966,
          -0.5023942829843933,
          0.5522310577308305,
          0.7108756556978424,
          0.10920510938871546,
          0.4149967488288535,
          1.3011189754866916,
          0.5542723738033885,
          0.7987642339371241,
          0.8759170909728486,
          0.7219316733733715,
          -1.7869490716923797,
          -1.679550595679321,
          1.9274639583266926,
          0.3828021930857063,
          1.2608656994571699,
          -0.1938433376033397,
          1.8357859382308004,
          1.3001031158009266,
          -0.632849920499351,
          -1.5342524445220331,
          -2.3585628827994283,
          0.0661748444944162,
          0.006365499709921685,
          0.312995564273019,
          0.0937504317809031,
          -0.29835371474252503,
          -1.8279726016525282,
          -0.352868152041477,
          -0.8559998733210675,
          -0.28608530691286377,
          1.396727023340674,
          -0.40359163631147577,
          -0.3292458811883445,
          0.599421083749579,
          -1.2124000262503405,
          -0.5693543470575455,
          0.4377338777037384,
          -1.642144774079887,
          -0.30764720537762086,
          1.2542750180885254,
          0.7564255708797416,
          -0.9832730838691014,
          0.4164998282128355,
          0.7477748458530866,
          1.3560202886782509,
          1.546746331079022,
          1.9052164640676077,
          -2.0461367992280457,
          0.9687250883987175,
          -0.16111852239983515,
          -0.2623169457336536,
          0.6979029617949611,
          -1.4823878216061581,
          0.392877675346139,
          0.21566655583007072,
          -1.7472944763299612,
          -1.2516772119417252,
          -0.13766057172636878,
          0.6390747642098169,
          -0.5165476343485128,
          -0.662260234384109,
          -1.4190709440988007,
          0.9135263608642058,
          -0.16528750001260598,
          -0.40019365725797157,
          -0.3700242924353822,
          -1.962750084533982,
          -0.4508981113805817,
          -0.9727042912984357,
          0.04723505603996999,
          1.4504684351884678,
          -0.1189997957052009,
          -1.2371007992918832,
          0.5995717421705108,
          -1.1166092112545292,
          0.1715473028907822,
          -0.3347258686563542,
          -1.240185466280291,
          1.0476296913470322,
          1.700571192640512,
          0.3146752141594078,
          -0.8066274098380597,
          1.1412362503571325,
          0.9193081732449275,
          0.41038052464580893,
          -0.6929166527794698,
          0.7922727125420788,
          0.3475430006898677,
          -0.5775533782567989,
          1.387393562697111,
          -0.14139060179298688,
          0.1232069052447074,
          -1.6848274592682884,
          -0.3079396992785525
         ],
         "xaxis": "x7",
         "y": [
          0.19757683481913466,
          0.19652603702414015,
          0.8802559451990586,
          -3.246105290136032,
          0.13166861327125656,
          0.37894731398952586,
          0.9017310254915447,
          0.8410559395842016,
          -0.3475436119400676,
          -0.6333759579885387,
          -0.46721317143339497,
          -0.25197763683591395,
          0.10798919230128363,
          0.8279785479323732,
          0.5181141679590413,
          -0.08740292588407063,
          -0.6262855402267856,
          -0.9981323252780863,
          -0.16530789117237085,
          -1.1171779612314283,
          0.14964301868274876,
          -0.7213752047771493,
          -0.55422745014167,
          -1.8050140419080938,
          -0.09366392738194239,
          0.7226521207213704,
          0.950687199099526,
          -0.3285326599246558,
          1.4151962610116287,
          -0.874654751843458,
          0.429029706243159,
          0.38343051280730256,
          0.5229346393025011,
          -1.0546871079135307,
          -0.9096170476035544,
          -1.4792325006326723,
          -0.0658692466059647,
          -1.3027699560793393,
          0.988090979663669,
          -0.22409559289129885,
          0.7133713100303162,
          0.3416091416133028,
          -0.9306940942545728,
          -0.34340258028634024,
          -0.5820680198522021,
          -0.47557889455395325,
          -0.4927696339863192,
          -1.0305543868008562,
          -1.0992997531456075,
          0.9989814097855022,
          0.29706921050397894,
          0.44290029683620286,
          0.23479596022042112,
          -1.2590740525741102,
          -0.5553387627535838,
          -0.9247408398573905,
          -0.30264344149525485,
          -0.710723649552731,
          -0.4571537974062655,
          -1.2442424570271577,
          0.6278670818249709,
          -0.5607876516543867,
          -0.6455709830869545,
          0.8795806440458941,
          0.4075942240710124,
          -0.5077041158846402,
          1.403109214192499,
          0.41190914173872556,
          -0.9797664268315869,
          -0.407844408205296,
          0.20692180881156025,
          0.2171037233664773,
          -1.0206316273355782,
          0.28358419056260675,
          0.681150249787766,
          0.5826961401987615,
          0.93025604132711,
          -0.6151490682609284,
          -1.7903317652004367,
          0.7746725906814703,
          0.9587083684669854,
          -1.0291724032658307,
          0.48332863248025204,
          -0.10730694261016965,
          1.0628165318834424,
          0.3498735613601411,
          -1.4542444735205482,
          -0.37433846017044375,
          -0.03994373838327206,
          -0.35655183390093353,
          0.26880757874751465,
          0.5083302621189569,
          0.9995757926517211,
          3.432394122748129,
          -1.6958994843957778,
          -1.0586459065945708,
          -1.8360538740318209,
          -0.6032852020161685,
          -1.5928644283858395,
          -1.8202141537266145
         ],
         "yaxis": "y7"
        },
        {
         "line": {
          "color": "rgba(128, 128, 128, 1.0)",
          "dash": "solid",
          "shape": "linear",
          "width": 1.3
         },
         "marker": {
          "size": 2,
          "symbol": "circle"
         },
         "mode": "markers",
         "name": "B",
         "text": "",
         "type": "scatter",
         "x": [
          1.1401673986248801,
          0.13313653080927113,
          0.19698757663838,
          0.952955548715361,
          -0.20989517397197824,
          0.23896266017547702,
          -0.35425191925320987,
          -0.6126943383460478,
          1.3920191303747103,
          0.548922979417018,
          0.6143207621742002,
          0.31775370625711374,
          0.35343266229756776,
          0.8146004499815067,
          -1.0202276992452228,
          1.0329463600952744,
          0.4050958787576824,
          -2.8435300437531796,
          0.8476960698637384,
          0.30060393407956204,
          2.395377396817081,
          0.41754187027079953,
          -0.041557565209885516,
          1.7756192538628472,
          0.6033104525486233,
          0.32067559892224434,
          0.5146999332229149,
          -1.2934581169624737,
          -0.13703049255397978,
          -0.07213589597693378,
          -0.3770317341839668,
          -1.0696842549372618,
          0.9816766588940186,
          1.918981131133428,
          -0.2289408687169476,
          0.2671261146526187,
          0.5119462534866697,
          -0.8239501957925991,
          -0.10913167594946674,
          -0.6679040757000227,
          -0.7749056852741179,
          0.20389806534071162,
          -0.901276867585821,
          1.154099420824574,
          0.011354401808919192,
          0.2098443593415194,
          1.5854698876338933,
          -0.07344276075067835,
          0.5073385189309244,
          -1.773319236552539,
          -0.05272041058146565,
          -0.00362736273952922,
          -0.5945275493238228,
          0.41809379429104887,
          0.8909465400459582,
          0.09563245179050314,
          1.0311602461832148,
          1.0159953770058927,
          -0.6170213287877444,
          -1.0976143674215801,
          -1.5004841052765934,
          0.09431301496742447,
          -0.9452218800849674,
          -0.01560992121439684,
          0.7879037411261346,
          0.6853755116492865,
          -0.8623001717604366,
          1.0769194654893817,
          0.6431688511361634,
          0.12895953199732638,
          -0.5498628658378011,
          -1.4492936939235181,
          0.016024222288879897,
          2.664282252712835,
          1.0696366331516471,
          0.12835965398046997,
          0.5101687936919098,
          1.5299010478683583,
          -1.2335689808342365,
          0.2464428699381851,
          2.1078222162200384,
          0.7843387741083879,
          -0.1446628038271378,
          0.8157535679411924,
          -0.20789418560122971,
          1.2911215665236357,
          -0.4371104648645292,
          1.2891046799090462,
          0.14198386497507962,
          -0.24169307687263147,
          0.08057209185200362,
          1.448257337150349,
          -0.6207616616697897,
          -1.3403917003667252,
          -0.8028486224328306,
          -0.21052336907806699,
          -0.09233070228788874,
          -0.3661415088533711,
          -0.4629290587443829,
          1.0483734858888971
         ],
         "xaxis": "x8",
         "y": [
          0.19757683481913466,
          0.19652603702414015,
          0.8802559451990586,
          -3.246105290136032,
          0.13166861327125656,
          0.37894731398952586,
          0.9017310254915447,
          0.8410559395842016,
          -0.3475436119400676,
          -0.6333759579885387,
          -0.46721317143339497,
          -0.25197763683591395,
          0.10798919230128363,
          0.8279785479323732,
          0.5181141679590413,
          -0.08740292588407063,
          -0.6262855402267856,
          -0.9981323252780863,
          -0.16530789117237085,
          -1.1171779612314283,
          0.14964301868274876,
          -0.7213752047771493,
          -0.55422745014167,
          -1.8050140419080938,
          -0.09366392738194239,
          0.7226521207213704,
          0.950687199099526,
          -0.3285326599246558,
          1.4151962610116287,
          -0.874654751843458,
          0.429029706243159,
          0.38343051280730256,
          0.5229346393025011,
          -1.0546871079135307,
          -0.9096170476035544,
          -1.4792325006326723,
          -0.0658692466059647,
          -1.3027699560793393,
          0.988090979663669,
          -0.22409559289129885,
          0.7133713100303162,
          0.3416091416133028,
          -0.9306940942545728,
          -0.34340258028634024,
          -0.5820680198522021,
          -0.47557889455395325,
          -0.4927696339863192,
          -1.0305543868008562,
          -1.0992997531456075,
          0.9989814097855022,
          0.29706921050397894,
          0.44290029683620286,
          0.23479596022042112,
          -1.2590740525741102,
          -0.5553387627535838,
          -0.9247408398573905,
          -0.30264344149525485,
          -0.710723649552731,
          -0.4571537974062655,
          -1.2442424570271577,
          0.6278670818249709,
          -0.5607876516543867,
          -0.6455709830869545,
          0.8795806440458941,
          0.4075942240710124,
          -0.5077041158846402,
          1.403109214192499,
          0.41190914173872556,
          -0.9797664268315869,
          -0.407844408205296,
          0.20692180881156025,
          0.2171037233664773,
          -1.0206316273355782,
          0.28358419056260675,
          0.681150249787766,
          0.5826961401987615,
          0.93025604132711,
          -0.6151490682609284,
          -1.7903317652004367,
          0.7746725906814703,
          0.9587083684669854,
          -1.0291724032658307,
          0.48332863248025204,
          -0.10730694261016965,
          1.0628165318834424,
          0.3498735613601411,
          -1.4542444735205482,
          -0.37433846017044375,
          -0.03994373838327206,
          -0.35655183390093353,
          0.26880757874751465,
          0.5083302621189569,
          0.9995757926517211,
          3.432394122748129,
          -1.6958994843957778,
          -1.0586459065945708,
          -1.8360538740318209,
          -0.6032852020161685,
          -1.5928644283858395,
          -1.8202141537266145
         ],
         "yaxis": "y8"
        },
        {
         "line": {
          "color": "rgba(128, 128, 128, 1.0)",
          "dash": "solid",
          "shape": "linear",
          "width": 1.3
         },
         "marker": {
          "size": 2,
          "symbol": "circle"
         },
         "mode": "markers",
         "name": "C",
         "text": "",
         "type": "scatter",
         "x": [
          0.7377480585830137,
          0.7342847783883112,
          -1.0683171404471412,
          -1.502733798438884,
          0.6561686237827556,
          -1.1459037323632137,
          0.6476633312484361,
          0.954015340373593,
          1.539985876684928,
          0.7985745670731059,
          -1.5918749202161273,
          0.8082330941312681,
          0.4497225270275956,
          0.44060026434460214,
          0.6348032618871884,
          1.3874779330072162,
          0.0438216873576978,
          -1.1014944244087401,
          -1.2275063824869006,
          -1.8290699710898346,
          -0.22351957823940455,
          -0.7050039212800109,
          -1.1183465214167012,
          -1.8248514931381798,
          1.4905083191743311,
          0.25626490998075285,
          0.7422419175531905,
          0.027907303872408085,
          -0.06577875054392432,
          -2.028482755750844,
          -0.9999937897710787,
          0.18755245412529312,
          -1.3748890838009733,
          -0.7893670077838172,
          -0.9693956309750764,
          -0.3874700518752942,
          0.8497108153574742,
          -2.3984511660062826,
          -1.0375323703356547,
          -1.1668382338824628,
          1.0178209906174234,
          -2.0184440193807105,
          0.10005832909083658,
          -0.5248020077275282,
          0.6066228167525038,
          0.2697695084102519,
          -1.332359037059602,
          -0.1136562919792124,
          -1.5255681143137725,
          0.7148349278548535,
          -0.23774122847181883,
          0.7716215119493806,
          0.02376413684294443,
          -0.20117023619862676,
          -0.5919119812096941,
          -2.289606638197903,
          -1.69171991905258,
          0.03946357615375144,
          0.061783385108110836,
          0.5000231705082663,
          -0.08109990486056581,
          -0.22066706333618294,
          0.6970531220231665,
          0.5792548517859589,
          0.3834561644480958,
          0.30649813188746133,
          -0.810500502854627,
          1.1874691913836422,
          0.04273693089697035,
          0.10807765364701052,
          -1.9834385486030648,
          0.30500393482364385,
          0.04025339830170707,
          -1.3667014133501796,
          -1.0856887678202325,
          0.6435525794998168,
          0.09094754542965085,
          0.11965187209304147,
          -1.109132843870616,
          -1.1028645951963907,
          0.5112915171860486,
          1.9374953617279147,
          -0.07245361045267751,
          -0.5470649360074591,
          3.3981405035516525,
          -1.170234159171683,
          0.4029753395723124,
          -0.49332286516639035,
          -1.1812130978576854,
          -2.0723603009366376,
          -0.8091482359309616,
          0.956168042124244,
          -0.26979704705689905,
          -0.06303567646588461,
          0.28774570776517755,
          1.3294452569558244,
          0.25037832471323584,
          -0.23303023685009297,
          -0.8954288193418369,
          -0.29096827647431506
         ],
         "xaxis": "x9",
         "y": [
          -0.6096608224151466,
          -0.6195079747212103,
          0.7109406448525754,
          -1.3576488964524391,
          0.3539574156709573,
          1.2262553786457966,
          -0.5023942829843933,
          0.5522310577308305,
          0.7108756556978424,
          0.10920510938871546,
          0.4149967488288535,
          1.3011189754866916,
          0.5542723738033885,
          0.7987642339371241,
          0.8759170909728486,
          0.7219316733733715,
          -1.7869490716923797,
          -1.679550595679321,
          1.9274639583266926,
          0.3828021930857063,
          1.2608656994571699,
          -0.1938433376033397,
          1.8357859382308004,
          1.3001031158009266,
          -0.632849920499351,
          -1.5342524445220331,
          -2.3585628827994283,
          0.0661748444944162,
          0.006365499709921685,
          0.312995564273019,
          0.0937504317809031,
          -0.29835371474252503,
          -1.8279726016525282,
          -0.352868152041477,
          -0.8559998733210675,
          -0.28608530691286377,
          1.396727023340674,
          -0.40359163631147577,
          -0.3292458811883445,
          0.599421083749579,
          -1.2124000262503405,
          -0.5693543470575455,
          0.4377338777037384,
          -1.642144774079887,
          -0.30764720537762086,
          1.2542750180885254,
          0.7564255708797416,
          -0.9832730838691014,
          0.4164998282128355,
          0.7477748458530866,
          1.3560202886782509,
          1.546746331079022,
          1.9052164640676077,
          -2.0461367992280457,
          0.9687250883987175,
          -0.16111852239983515,
          -0.2623169457336536,
          0.6979029617949611,
          -1.4823878216061581,
          0.392877675346139,
          0.21566655583007072,
          -1.7472944763299612,
          -1.2516772119417252,
          -0.13766057172636878,
          0.6390747642098169,
          -0.5165476343485128,
          -0.662260234384109,
          -1.4190709440988007,
          0.9135263608642058,
          -0.16528750001260598,
          -0.40019365725797157,
          -0.3700242924353822,
          -1.962750084533982,
          -0.4508981113805817,
          -0.9727042912984357,
          0.04723505603996999,
          1.4504684351884678,
          -0.1189997957052009,
          -1.2371007992918832,
          0.5995717421705108,
          -1.1166092112545292,
          0.1715473028907822,
          -0.3347258686563542,
          -1.240185466280291,
          1.0476296913470322,
          1.700571192640512,
          0.3146752141594078,
          -0.8066274098380597,
          1.1412362503571325,
          0.9193081732449275,
          0.41038052464580893,
          -0.6929166527794698,
          0.7922727125420788,
          0.3475430006898677,
          -0.5775533782567989,
          1.387393562697111,
          -0.14139060179298688,
          0.1232069052447074,
          -1.6848274592682884,
          -0.3079396992785525
         ],
         "yaxis": "y9"
        },
        {
         "line": {
          "color": "rgba(128, 128, 128, 1.0)",
          "dash": "solid",
          "shape": "linear",
          "width": 1.3
         },
         "marker": {
          "size": 2,
          "symbol": "circle"
         },
         "mode": "markers",
         "name": "C",
         "text": "",
         "type": "scatter",
         "x": [
          0.19757683481913466,
          0.19652603702414015,
          0.8802559451990586,
          -3.246105290136032,
          0.13166861327125656,
          0.37894731398952586,
          0.9017310254915447,
          0.8410559395842016,
          -0.3475436119400676,
          -0.6333759579885387,
          -0.46721317143339497,
          -0.25197763683591395,
          0.10798919230128363,
          0.8279785479323732,
          0.5181141679590413,
          -0.08740292588407063,
          -0.6262855402267856,
          -0.9981323252780863,
          -0.16530789117237085,
          -1.1171779612314283,
          0.14964301868274876,
          -0.7213752047771493,
          -0.55422745014167,
          -1.8050140419080938,
          -0.09366392738194239,
          0.7226521207213704,
          0.950687199099526,
          -0.3285326599246558,
          1.4151962610116287,
          -0.874654751843458,
          0.429029706243159,
          0.38343051280730256,
          0.5229346393025011,
          -1.0546871079135307,
          -0.9096170476035544,
          -1.4792325006326723,
          -0.0658692466059647,
          -1.3027699560793393,
          0.988090979663669,
          -0.22409559289129885,
          0.7133713100303162,
          0.3416091416133028,
          -0.9306940942545728,
          -0.34340258028634024,
          -0.5820680198522021,
          -0.47557889455395325,
          -0.4927696339863192,
          -1.0305543868008562,
          -1.0992997531456075,
          0.9989814097855022,
          0.29706921050397894,
          0.44290029683620286,
          0.23479596022042112,
          -1.2590740525741102,
          -0.5553387627535838,
          -0.9247408398573905,
          -0.30264344149525485,
          -0.710723649552731,
          -0.4571537974062655,
          -1.2442424570271577,
          0.6278670818249709,
          -0.5607876516543867,
          -0.6455709830869545,
          0.8795806440458941,
          0.4075942240710124,
          -0.5077041158846402,
          1.403109214192499,
          0.41190914173872556,
          -0.9797664268315869,
          -0.407844408205296,
          0.20692180881156025,
          0.2171037233664773,
          -1.0206316273355782,
          0.28358419056260675,
          0.681150249787766,
          0.5826961401987615,
          0.93025604132711,
          -0.6151490682609284,
          -1.7903317652004367,
          0.7746725906814703,
          0.9587083684669854,
          -1.0291724032658307,
          0.48332863248025204,
          -0.10730694261016965,
          1.0628165318834424,
          0.3498735613601411,
          -1.4542444735205482,
          -0.37433846017044375,
          -0.03994373838327206,
          -0.35655183390093353,
          0.26880757874751465,
          0.5083302621189569,
          0.9995757926517211,
          3.432394122748129,
          -1.6958994843957778,
          -1.0586459065945708,
          -1.8360538740318209,
          -0.6032852020161685,
          -1.5928644283858395,
          -1.8202141537266145
         ],
         "xaxis": "x10",
         "y": [
          -0.6096608224151466,
          -0.6195079747212103,
          0.7109406448525754,
          -1.3576488964524391,
          0.3539574156709573,
          1.2262553786457966,
          -0.5023942829843933,
          0.5522310577308305,
          0.7108756556978424,
          0.10920510938871546,
          0.4149967488288535,
          1.3011189754866916,
          0.5542723738033885,
          0.7987642339371241,
          0.8759170909728486,
          0.7219316733733715,
          -1.7869490716923797,
          -1.679550595679321,
          1.9274639583266926,
          0.3828021930857063,
          1.2608656994571699,
          -0.1938433376033397,
          1.8357859382308004,
          1.3001031158009266,
          -0.632849920499351,
          -1.5342524445220331,
          -2.3585628827994283,
          0.0661748444944162,
          0.006365499709921685,
          0.312995564273019,
          0.0937504317809031,
          -0.29835371474252503,
          -1.8279726016525282,
          -0.352868152041477,
          -0.8559998733210675,
          -0.28608530691286377,
          1.396727023340674,
          -0.40359163631147577,
          -0.3292458811883445,
          0.599421083749579,
          -1.2124000262503405,
          -0.5693543470575455,
          0.4377338777037384,
          -1.642144774079887,
          -0.30764720537762086,
          1.2542750180885254,
          0.7564255708797416,
          -0.9832730838691014,
          0.4164998282128355,
          0.7477748458530866,
          1.3560202886782509,
          1.546746331079022,
          1.9052164640676077,
          -2.0461367992280457,
          0.9687250883987175,
          -0.16111852239983515,
          -0.2623169457336536,
          0.6979029617949611,
          -1.4823878216061581,
          0.392877675346139,
          0.21566655583007072,
          -1.7472944763299612,
          -1.2516772119417252,
          -0.13766057172636878,
          0.6390747642098169,
          -0.5165476343485128,
          -0.662260234384109,
          -1.4190709440988007,
          0.9135263608642058,
          -0.16528750001260598,
          -0.40019365725797157,
          -0.3700242924353822,
          -1.962750084533982,
          -0.4508981113805817,
          -0.9727042912984357,
          0.04723505603996999,
          1.4504684351884678,
          -0.1189997957052009,
          -1.2371007992918832,
          0.5995717421705108,
          -1.1166092112545292,
          0.1715473028907822,
          -0.3347258686563542,
          -1.240185466280291,
          1.0476296913470322,
          1.700571192640512,
          0.3146752141594078,
          -0.8066274098380597,
          1.1412362503571325,
          0.9193081732449275,
          0.41038052464580893,
          -0.6929166527794698,
          0.7922727125420788,
          0.3475430006898677,
          -0.5775533782567989,
          1.387393562697111,
          -0.14139060179298688,
          0.1232069052447074,
          -1.6848274592682884,
          -0.3079396992785525
         ],
         "yaxis": "y10"
        },
        {
         "histfunc": "count",
         "histnorm": "",
         "marker": {
          "color": "rgba(50, 171, 96, 1.0)",
          "line": {
           "color": "#4D5663",
           "width": 1.3
          }
         },
         "name": "C",
         "nbinsx": 10,
         "opacity": 0.8,
         "orientation": "v",
         "type": "histogram",
         "x": [
          -0.6096608224151466,
          -0.6195079747212103,
          0.7109406448525754,
          -1.3576488964524391,
          0.3539574156709573,
          1.2262553786457966,
          -0.5023942829843933,
          0.5522310577308305,
          0.7108756556978424,
          0.10920510938871546,
          0.4149967488288535,
          1.3011189754866916,
          0.5542723738033885,
          0.7987642339371241,
          0.8759170909728486,
          0.7219316733733715,
          -1.7869490716923797,
          -1.679550595679321,
          1.9274639583266926,
          0.3828021930857063,
          1.2608656994571699,
          -0.1938433376033397,
          1.8357859382308004,
          1.3001031158009266,
          -0.632849920499351,
          -1.5342524445220331,
          -2.3585628827994283,
          0.0661748444944162,
          0.006365499709921685,
          0.312995564273019,
          0.0937504317809031,
          -0.29835371474252503,
          -1.8279726016525282,
          -0.352868152041477,
          -0.8559998733210675,
          -0.28608530691286377,
          1.396727023340674,
          -0.40359163631147577,
          -0.3292458811883445,
          0.599421083749579,
          -1.2124000262503405,
          -0.5693543470575455,
          0.4377338777037384,
          -1.642144774079887,
          -0.30764720537762086,
          1.2542750180885254,
          0.7564255708797416,
          -0.9832730838691014,
          0.4164998282128355,
          0.7477748458530866,
          1.3560202886782509,
          1.546746331079022,
          1.9052164640676077,
          -2.0461367992280457,
          0.9687250883987175,
          -0.16111852239983515,
          -0.2623169457336536,
          0.6979029617949611,
          -1.4823878216061581,
          0.392877675346139,
          0.21566655583007072,
          -1.7472944763299612,
          -1.2516772119417252,
          -0.13766057172636878,
          0.6390747642098169,
          -0.5165476343485128,
          -0.662260234384109,
          -1.4190709440988007,
          0.9135263608642058,
          -0.16528750001260598,
          -0.40019365725797157,
          -0.3700242924353822,
          -1.962750084533982,
          -0.4508981113805817,
          -0.9727042912984357,
          0.04723505603996999,
          1.4504684351884678,
          -0.1189997957052009,
          -1.2371007992918832,
          0.5995717421705108,
          -1.1166092112545292,
          0.1715473028907822,
          -0.3347258686563542,
          -1.240185466280291,
          1.0476296913470322,
          1.700571192640512,
          0.3146752141594078,
          -0.8066274098380597,
          1.1412362503571325,
          0.9193081732449275,
          0.41038052464580893,
          -0.6929166527794698,
          0.7922727125420788,
          0.3475430006898677,
          -0.5775533782567989,
          1.387393562697111,
          -0.14139060179298688,
          0.1232069052447074,
          -1.6848274592682884,
          -0.3079396992785525
         ],
         "xaxis": "x11",
         "yaxis": "y11"
        },
        {
         "line": {
          "color": "rgba(128, 128, 128, 1.0)",
          "dash": "solid",
          "shape": "linear",
          "width": 1.3
         },
         "marker": {
          "size": 2,
          "symbol": "circle"
         },
         "mode": "markers",
         "name": "C",
         "text": "",
         "type": "scatter",
         "x": [
          1.1401673986248801,
          0.13313653080927113,
          0.19698757663838,
          0.952955548715361,
          -0.20989517397197824,
          0.23896266017547702,
          -0.35425191925320987,
          -0.6126943383460478,
          1.3920191303747103,
          0.548922979417018,
          0.6143207621742002,
          0.31775370625711374,
          0.35343266229756776,
          0.8146004499815067,
          -1.0202276992452228,
          1.0329463600952744,
          0.4050958787576824,
          -2.8435300437531796,
          0.8476960698637384,
          0.30060393407956204,
          2.395377396817081,
          0.41754187027079953,
          -0.041557565209885516,
          1.7756192538628472,
          0.6033104525486233,
          0.32067559892224434,
          0.5146999332229149,
          -1.2934581169624737,
          -0.13703049255397978,
          -0.07213589597693378,
          -0.3770317341839668,
          -1.0696842549372618,
          0.9816766588940186,
          1.918981131133428,
          -0.2289408687169476,
          0.2671261146526187,
          0.5119462534866697,
          -0.8239501957925991,
          -0.10913167594946674,
          -0.6679040757000227,
          -0.7749056852741179,
          0.20389806534071162,
          -0.901276867585821,
          1.154099420824574,
          0.011354401808919192,
          0.2098443593415194,
          1.5854698876338933,
          -0.07344276075067835,
          0.5073385189309244,
          -1.773319236552539,
          -0.05272041058146565,
          -0.00362736273952922,
          -0.5945275493238228,
          0.41809379429104887,
          0.8909465400459582,
          0.09563245179050314,
          1.0311602461832148,
          1.0159953770058927,
          -0.6170213287877444,
          -1.0976143674215801,
          -1.5004841052765934,
          0.09431301496742447,
          -0.9452218800849674,
          -0.01560992121439684,
          0.7879037411261346,
          0.6853755116492865,
          -0.8623001717604366,
          1.0769194654893817,
          0.6431688511361634,
          0.12895953199732638,
          -0.5498628658378011,
          -1.4492936939235181,
          0.016024222288879897,
          2.664282252712835,
          1.0696366331516471,
          0.12835965398046997,
          0.5101687936919098,
          1.5299010478683583,
          -1.2335689808342365,
          0.2464428699381851,
          2.1078222162200384,
          0.7843387741083879,
          -0.1446628038271378,
          0.8157535679411924,
          -0.20789418560122971,
          1.2911215665236357,
          -0.4371104648645292,
          1.2891046799090462,
          0.14198386497507962,
          -0.24169307687263147,
          0.08057209185200362,
          1.448257337150349,
          -0.6207616616697897,
          -1.3403917003667252,
          -0.8028486224328306,
          -0.21052336907806699,
          -0.09233070228788874,
          -0.3661415088533711,
          -0.4629290587443829,
          1.0483734858888971
         ],
         "xaxis": "x12",
         "y": [
          -0.6096608224151466,
          -0.6195079747212103,
          0.7109406448525754,
          -1.3576488964524391,
          0.3539574156709573,
          1.2262553786457966,
          -0.5023942829843933,
          0.5522310577308305,
          0.7108756556978424,
          0.10920510938871546,
          0.4149967488288535,
          1.3011189754866916,
          0.5542723738033885,
          0.7987642339371241,
          0.8759170909728486,
          0.7219316733733715,
          -1.7869490716923797,
          -1.679550595679321,
          1.9274639583266926,
          0.3828021930857063,
          1.2608656994571699,
          -0.1938433376033397,
          1.8357859382308004,
          1.3001031158009266,
          -0.632849920499351,
          -1.5342524445220331,
          -2.3585628827994283,
          0.0661748444944162,
          0.006365499709921685,
          0.312995564273019,
          0.0937504317809031,
          -0.29835371474252503,
          -1.8279726016525282,
          -0.352868152041477,
          -0.8559998733210675,
          -0.28608530691286377,
          1.396727023340674,
          -0.40359163631147577,
          -0.3292458811883445,
          0.599421083749579,
          -1.2124000262503405,
          -0.5693543470575455,
          0.4377338777037384,
          -1.642144774079887,
          -0.30764720537762086,
          1.2542750180885254,
          0.7564255708797416,
          -0.9832730838691014,
          0.4164998282128355,
          0.7477748458530866,
          1.3560202886782509,
          1.546746331079022,
          1.9052164640676077,
          -2.0461367992280457,
          0.9687250883987175,
          -0.16111852239983515,
          -0.2623169457336536,
          0.6979029617949611,
          -1.4823878216061581,
          0.392877675346139,
          0.21566655583007072,
          -1.7472944763299612,
          -1.2516772119417252,
          -0.13766057172636878,
          0.6390747642098169,
          -0.5165476343485128,
          -0.662260234384109,
          -1.4190709440988007,
          0.9135263608642058,
          -0.16528750001260598,
          -0.40019365725797157,
          -0.3700242924353822,
          -1.962750084533982,
          -0.4508981113805817,
          -0.9727042912984357,
          0.04723505603996999,
          1.4504684351884678,
          -0.1189997957052009,
          -1.2371007992918832,
          0.5995717421705108,
          -1.1166092112545292,
          0.1715473028907822,
          -0.3347258686563542,
          -1.240185466280291,
          1.0476296913470322,
          1.700571192640512,
          0.3146752141594078,
          -0.8066274098380597,
          1.1412362503571325,
          0.9193081732449275,
          0.41038052464580893,
          -0.6929166527794698,
          0.7922727125420788,
          0.3475430006898677,
          -0.5775533782567989,
          1.387393562697111,
          -0.14139060179298688,
          0.1232069052447074,
          -1.6848274592682884,
          -0.3079396992785525
         ],
         "yaxis": "y12"
        },
        {
         "line": {
          "color": "rgba(128, 128, 128, 1.0)",
          "dash": "solid",
          "shape": "linear",
          "width": 1.3
         },
         "marker": {
          "size": 2,
          "symbol": "circle"
         },
         "mode": "markers",
         "name": "D",
         "text": "",
         "type": "scatter",
         "x": [
          0.7377480585830137,
          0.7342847783883112,
          -1.0683171404471412,
          -1.502733798438884,
          0.6561686237827556,
          -1.1459037323632137,
          0.6476633312484361,
          0.954015340373593,
          1.539985876684928,
          0.7985745670731059,
          -1.5918749202161273,
          0.8082330941312681,
          0.4497225270275956,
          0.44060026434460214,
          0.6348032618871884,
          1.3874779330072162,
          0.0438216873576978,
          -1.1014944244087401,
          -1.2275063824869006,
          -1.8290699710898346,
          -0.22351957823940455,
          -0.7050039212800109,
          -1.1183465214167012,
          -1.8248514931381798,
          1.4905083191743311,
          0.25626490998075285,
          0.7422419175531905,
          0.027907303872408085,
          -0.06577875054392432,
          -2.028482755750844,
          -0.9999937897710787,
          0.18755245412529312,
          -1.3748890838009733,
          -0.7893670077838172,
          -0.9693956309750764,
          -0.3874700518752942,
          0.8497108153574742,
          -2.3984511660062826,
          -1.0375323703356547,
          -1.1668382338824628,
          1.0178209906174234,
          -2.0184440193807105,
          0.10005832909083658,
          -0.5248020077275282,
          0.6066228167525038,
          0.2697695084102519,
          -1.332359037059602,
          -0.1136562919792124,
          -1.5255681143137725,
          0.7148349278548535,
          -0.23774122847181883,
          0.7716215119493806,
          0.02376413684294443,
          -0.20117023619862676,
          -0.5919119812096941,
          -2.289606638197903,
          -1.69171991905258,
          0.03946357615375144,
          0.061783385108110836,
          0.5000231705082663,
          -0.08109990486056581,
          -0.22066706333618294,
          0.6970531220231665,
          0.5792548517859589,
          0.3834561644480958,
          0.30649813188746133,
          -0.810500502854627,
          1.1874691913836422,
          0.04273693089697035,
          0.10807765364701052,
          -1.9834385486030648,
          0.30500393482364385,
          0.04025339830170707,
          -1.3667014133501796,
          -1.0856887678202325,
          0.6435525794998168,
          0.09094754542965085,
          0.11965187209304147,
          -1.109132843870616,
          -1.1028645951963907,
          0.5112915171860486,
          1.9374953617279147,
          -0.07245361045267751,
          -0.5470649360074591,
          3.3981405035516525,
          -1.170234159171683,
          0.4029753395723124,
          -0.49332286516639035,
          -1.1812130978576854,
          -2.0723603009366376,
          -0.8091482359309616,
          0.956168042124244,
          -0.26979704705689905,
          -0.06303567646588461,
          0.28774570776517755,
          1.3294452569558244,
          0.25037832471323584,
          -0.23303023685009297,
          -0.8954288193418369,
          -0.29096827647431506
         ],
         "xaxis": "x13",
         "y": [
          1.1401673986248801,
          0.13313653080927113,
          0.19698757663838,
          0.952955548715361,
          -0.20989517397197824,
          0.23896266017547702,
          -0.35425191925320987,
          -0.6126943383460478,
          1.3920191303747103,
          0.548922979417018,
          0.6143207621742002,
          0.31775370625711374,
          0.35343266229756776,
          0.8146004499815067,
          -1.0202276992452228,
          1.0329463600952744,
          0.4050958787576824,
          -2.8435300437531796,
          0.8476960698637384,
          0.30060393407956204,
          2.395377396817081,
          0.41754187027079953,
          -0.041557565209885516,
          1.7756192538628472,
          0.6033104525486233,
          0.32067559892224434,
          0.5146999332229149,
          -1.2934581169624737,
          -0.13703049255397978,
          -0.07213589597693378,
          -0.3770317341839668,
          -1.0696842549372618,
          0.9816766588940186,
          1.918981131133428,
          -0.2289408687169476,
          0.2671261146526187,
          0.5119462534866697,
          -0.8239501957925991,
          -0.10913167594946674,
          -0.6679040757000227,
          -0.7749056852741179,
          0.20389806534071162,
          -0.901276867585821,
          1.154099420824574,
          0.011354401808919192,
          0.2098443593415194,
          1.5854698876338933,
          -0.07344276075067835,
          0.5073385189309244,
          -1.773319236552539,
          -0.05272041058146565,
          -0.00362736273952922,
          -0.5945275493238228,
          0.41809379429104887,
          0.8909465400459582,
          0.09563245179050314,
          1.0311602461832148,
          1.0159953770058927,
          -0.6170213287877444,
          -1.0976143674215801,
          -1.5004841052765934,
          0.09431301496742447,
          -0.9452218800849674,
          -0.01560992121439684,
          0.7879037411261346,
          0.6853755116492865,
          -0.8623001717604366,
          1.0769194654893817,
          0.6431688511361634,
          0.12895953199732638,
          -0.5498628658378011,
          -1.4492936939235181,
          0.016024222288879897,
          2.664282252712835,
          1.0696366331516471,
          0.12835965398046997,
          0.5101687936919098,
          1.5299010478683583,
          -1.2335689808342365,
          0.2464428699381851,
          2.1078222162200384,
          0.7843387741083879,
          -0.1446628038271378,
          0.8157535679411924,
          -0.20789418560122971,
          1.2911215665236357,
          -0.4371104648645292,
          1.2891046799090462,
          0.14198386497507962,
          -0.24169307687263147,
          0.08057209185200362,
          1.448257337150349,
          -0.6207616616697897,
          -1.3403917003667252,
          -0.8028486224328306,
          -0.21052336907806699,
          -0.09233070228788874,
          -0.3661415088533711,
          -0.4629290587443829,
          1.0483734858888971
         ],
         "yaxis": "y13"
        },
        {
         "line": {
          "color": "rgba(128, 128, 128, 1.0)",
          "dash": "solid",
          "shape": "linear",
          "width": 1.3
         },
         "marker": {
          "size": 2,
          "symbol": "circle"
         },
         "mode": "markers",
         "name": "D",
         "text": "",
         "type": "scatter",
         "x": [
          0.19757683481913466,
          0.19652603702414015,
          0.8802559451990586,
          -3.246105290136032,
          0.13166861327125656,
          0.37894731398952586,
          0.9017310254915447,
          0.8410559395842016,
          -0.3475436119400676,
          -0.6333759579885387,
          -0.46721317143339497,
          -0.25197763683591395,
          0.10798919230128363,
          0.8279785479323732,
          0.5181141679590413,
          -0.08740292588407063,
          -0.6262855402267856,
          -0.9981323252780863,
          -0.16530789117237085,
          -1.1171779612314283,
          0.14964301868274876,
          -0.7213752047771493,
          -0.55422745014167,
          -1.8050140419080938,
          -0.09366392738194239,
          0.7226521207213704,
          0.950687199099526,
          -0.3285326599246558,
          1.4151962610116287,
          -0.874654751843458,
          0.429029706243159,
          0.38343051280730256,
          0.5229346393025011,
          -1.0546871079135307,
          -0.9096170476035544,
          -1.4792325006326723,
          -0.0658692466059647,
          -1.3027699560793393,
          0.988090979663669,
          -0.22409559289129885,
          0.7133713100303162,
          0.3416091416133028,
          -0.9306940942545728,
          -0.34340258028634024,
          -0.5820680198522021,
          -0.47557889455395325,
          -0.4927696339863192,
          -1.0305543868008562,
          -1.0992997531456075,
          0.9989814097855022,
          0.29706921050397894,
          0.44290029683620286,
          0.23479596022042112,
          -1.2590740525741102,
          -0.5553387627535838,
          -0.9247408398573905,
          -0.30264344149525485,
          -0.710723649552731,
          -0.4571537974062655,
          -1.2442424570271577,
          0.6278670818249709,
          -0.5607876516543867,
          -0.6455709830869545,
          0.8795806440458941,
          0.4075942240710124,
          -0.5077041158846402,
          1.403109214192499,
          0.41190914173872556,
          -0.9797664268315869,
          -0.407844408205296,
          0.20692180881156025,
          0.2171037233664773,
          -1.0206316273355782,
          0.28358419056260675,
          0.681150249787766,
          0.5826961401987615,
          0.93025604132711,
          -0.6151490682609284,
          -1.7903317652004367,
          0.7746725906814703,
          0.9587083684669854,
          -1.0291724032658307,
          0.48332863248025204,
          -0.10730694261016965,
          1.0628165318834424,
          0.3498735613601411,
          -1.4542444735205482,
          -0.37433846017044375,
          -0.03994373838327206,
          -0.35655183390093353,
          0.26880757874751465,
          0.5083302621189569,
          0.9995757926517211,
          3.432394122748129,
          -1.6958994843957778,
          -1.0586459065945708,
          -1.8360538740318209,
          -0.6032852020161685,
          -1.5928644283858395,
          -1.8202141537266145
         ],
         "xaxis": "x14",
         "y": [
          1.1401673986248801,
          0.13313653080927113,
          0.19698757663838,
          0.952955548715361,
          -0.20989517397197824,
          0.23896266017547702,
          -0.35425191925320987,
          -0.6126943383460478,
          1.3920191303747103,
          0.548922979417018,
          0.6143207621742002,
          0.31775370625711374,
          0.35343266229756776,
          0.8146004499815067,
          -1.0202276992452228,
          1.0329463600952744,
          0.4050958787576824,
          -2.8435300437531796,
          0.8476960698637384,
          0.30060393407956204,
          2.395377396817081,
          0.41754187027079953,
          -0.041557565209885516,
          1.7756192538628472,
          0.6033104525486233,
          0.32067559892224434,
          0.5146999332229149,
          -1.2934581169624737,
          -0.13703049255397978,
          -0.07213589597693378,
          -0.3770317341839668,
          -1.0696842549372618,
          0.9816766588940186,
          1.918981131133428,
          -0.2289408687169476,
          0.2671261146526187,
          0.5119462534866697,
          -0.8239501957925991,
          -0.10913167594946674,
          -0.6679040757000227,
          -0.7749056852741179,
          0.20389806534071162,
          -0.901276867585821,
          1.154099420824574,
          0.011354401808919192,
          0.2098443593415194,
          1.5854698876338933,
          -0.07344276075067835,
          0.5073385189309244,
          -1.773319236552539,
          -0.05272041058146565,
          -0.00362736273952922,
          -0.5945275493238228,
          0.41809379429104887,
          0.8909465400459582,
          0.09563245179050314,
          1.0311602461832148,
          1.0159953770058927,
          -0.6170213287877444,
          -1.0976143674215801,
          -1.5004841052765934,
          0.09431301496742447,
          -0.9452218800849674,
          -0.01560992121439684,
          0.7879037411261346,
          0.6853755116492865,
          -0.8623001717604366,
          1.0769194654893817,
          0.6431688511361634,
          0.12895953199732638,
          -0.5498628658378011,
          -1.4492936939235181,
          0.016024222288879897,
          2.664282252712835,
          1.0696366331516471,
          0.12835965398046997,
          0.5101687936919098,
          1.5299010478683583,
          -1.2335689808342365,
          0.2464428699381851,
          2.1078222162200384,
          0.7843387741083879,
          -0.1446628038271378,
          0.8157535679411924,
          -0.20789418560122971,
          1.2911215665236357,
          -0.4371104648645292,
          1.2891046799090462,
          0.14198386497507962,
          -0.24169307687263147,
          0.08057209185200362,
          1.448257337150349,
          -0.6207616616697897,
          -1.3403917003667252,
          -0.8028486224328306,
          -0.21052336907806699,
          -0.09233070228788874,
          -0.3661415088533711,
          -0.4629290587443829,
          1.0483734858888971
         ],
         "yaxis": "y14"
        },
        {
         "line": {
          "color": "rgba(128, 128, 128, 1.0)",
          "dash": "solid",
          "shape": "linear",
          "width": 1.3
         },
         "marker": {
          "size": 2,
          "symbol": "circle"
         },
         "mode": "markers",
         "name": "D",
         "text": "",
         "type": "scatter",
         "x": [
          -0.6096608224151466,
          -0.6195079747212103,
          0.7109406448525754,
          -1.3576488964524391,
          0.3539574156709573,
          1.2262553786457966,
          -0.5023942829843933,
          0.5522310577308305,
          0.7108756556978424,
          0.10920510938871546,
          0.4149967488288535,
          1.3011189754866916,
          0.5542723738033885,
          0.7987642339371241,
          0.8759170909728486,
          0.7219316733733715,
          -1.7869490716923797,
          -1.679550595679321,
          1.9274639583266926,
          0.3828021930857063,
          1.2608656994571699,
          -0.1938433376033397,
          1.8357859382308004,
          1.3001031158009266,
          -0.632849920499351,
          -1.5342524445220331,
          -2.3585628827994283,
          0.0661748444944162,
          0.006365499709921685,
          0.312995564273019,
          0.0937504317809031,
          -0.29835371474252503,
          -1.8279726016525282,
          -0.352868152041477,
          -0.8559998733210675,
          -0.28608530691286377,
          1.396727023340674,
          -0.40359163631147577,
          -0.3292458811883445,
          0.599421083749579,
          -1.2124000262503405,
          -0.5693543470575455,
          0.4377338777037384,
          -1.642144774079887,
          -0.30764720537762086,
          1.2542750180885254,
          0.7564255708797416,
          -0.9832730838691014,
          0.4164998282128355,
          0.7477748458530866,
          1.3560202886782509,
          1.546746331079022,
          1.9052164640676077,
          -2.0461367992280457,
          0.9687250883987175,
          -0.16111852239983515,
          -0.2623169457336536,
          0.6979029617949611,
          -1.4823878216061581,
          0.392877675346139,
          0.21566655583007072,
          -1.7472944763299612,
          -1.2516772119417252,
          -0.13766057172636878,
          0.6390747642098169,
          -0.5165476343485128,
          -0.662260234384109,
          -1.4190709440988007,
          0.9135263608642058,
          -0.16528750001260598,
          -0.40019365725797157,
          -0.3700242924353822,
          -1.962750084533982,
          -0.4508981113805817,
          -0.9727042912984357,
          0.04723505603996999,
          1.4504684351884678,
          -0.1189997957052009,
          -1.2371007992918832,
          0.5995717421705108,
          -1.1166092112545292,
          0.1715473028907822,
          -0.3347258686563542,
          -1.240185466280291,
          1.0476296913470322,
          1.700571192640512,
          0.3146752141594078,
          -0.8066274098380597,
          1.1412362503571325,
          0.9193081732449275,
          0.41038052464580893,
          -0.6929166527794698,
          0.7922727125420788,
          0.3475430006898677,
          -0.5775533782567989,
          1.387393562697111,
          -0.14139060179298688,
          0.1232069052447074,
          -1.6848274592682884,
          -0.3079396992785525
         ],
         "xaxis": "x15",
         "y": [
          1.1401673986248801,
          0.13313653080927113,
          0.19698757663838,
          0.952955548715361,
          -0.20989517397197824,
          0.23896266017547702,
          -0.35425191925320987,
          -0.6126943383460478,
          1.3920191303747103,
          0.548922979417018,
          0.6143207621742002,
          0.31775370625711374,
          0.35343266229756776,
          0.8146004499815067,
          -1.0202276992452228,
          1.0329463600952744,
          0.4050958787576824,
          -2.8435300437531796,
          0.8476960698637384,
          0.30060393407956204,
          2.395377396817081,
          0.41754187027079953,
          -0.041557565209885516,
          1.7756192538628472,
          0.6033104525486233,
          0.32067559892224434,
          0.5146999332229149,
          -1.2934581169624737,
          -0.13703049255397978,
          -0.07213589597693378,
          -0.3770317341839668,
          -1.0696842549372618,
          0.9816766588940186,
          1.918981131133428,
          -0.2289408687169476,
          0.2671261146526187,
          0.5119462534866697,
          -0.8239501957925991,
          -0.10913167594946674,
          -0.6679040757000227,
          -0.7749056852741179,
          0.20389806534071162,
          -0.901276867585821,
          1.154099420824574,
          0.011354401808919192,
          0.2098443593415194,
          1.5854698876338933,
          -0.07344276075067835,
          0.5073385189309244,
          -1.773319236552539,
          -0.05272041058146565,
          -0.00362736273952922,
          -0.5945275493238228,
          0.41809379429104887,
          0.8909465400459582,
          0.09563245179050314,
          1.0311602461832148,
          1.0159953770058927,
          -0.6170213287877444,
          -1.0976143674215801,
          -1.5004841052765934,
          0.09431301496742447,
          -0.9452218800849674,
          -0.01560992121439684,
          0.7879037411261346,
          0.6853755116492865,
          -0.8623001717604366,
          1.0769194654893817,
          0.6431688511361634,
          0.12895953199732638,
          -0.5498628658378011,
          -1.4492936939235181,
          0.016024222288879897,
          2.664282252712835,
          1.0696366331516471,
          0.12835965398046997,
          0.5101687936919098,
          1.5299010478683583,
          -1.2335689808342365,
          0.2464428699381851,
          2.1078222162200384,
          0.7843387741083879,
          -0.1446628038271378,
          0.8157535679411924,
          -0.20789418560122971,
          1.2911215665236357,
          -0.4371104648645292,
          1.2891046799090462,
          0.14198386497507962,
          -0.24169307687263147,
          0.08057209185200362,
          1.448257337150349,
          -0.6207616616697897,
          -1.3403917003667252,
          -0.8028486224328306,
          -0.21052336907806699,
          -0.09233070228788874,
          -0.3661415088533711,
          -0.4629290587443829,
          1.0483734858888971
         ],
         "yaxis": "y15"
        },
        {
         "histfunc": "count",
         "histnorm": "",
         "marker": {
          "color": "rgba(128, 0, 128, 1.0)",
          "line": {
           "color": "#4D5663",
           "width": 1.3
          }
         },
         "name": "D",
         "nbinsx": 10,
         "opacity": 0.8,
         "orientation": "v",
         "type": "histogram",
         "x": [
          1.1401673986248801,
          0.13313653080927113,
          0.19698757663838,
          0.952955548715361,
          -0.20989517397197824,
          0.23896266017547702,
          -0.35425191925320987,
          -0.6126943383460478,
          1.3920191303747103,
          0.548922979417018,
          0.6143207621742002,
          0.31775370625711374,
          0.35343266229756776,
          0.8146004499815067,
          -1.0202276992452228,
          1.0329463600952744,
          0.4050958787576824,
          -2.8435300437531796,
          0.8476960698637384,
          0.30060393407956204,
          2.395377396817081,
          0.41754187027079953,
          -0.041557565209885516,
          1.7756192538628472,
          0.6033104525486233,
          0.32067559892224434,
          0.5146999332229149,
          -1.2934581169624737,
          -0.13703049255397978,
          -0.07213589597693378,
          -0.3770317341839668,
          -1.0696842549372618,
          0.9816766588940186,
          1.918981131133428,
          -0.2289408687169476,
          0.2671261146526187,
          0.5119462534866697,
          -0.8239501957925991,
          -0.10913167594946674,
          -0.6679040757000227,
          -0.7749056852741179,
          0.20389806534071162,
          -0.901276867585821,
          1.154099420824574,
          0.011354401808919192,
          0.2098443593415194,
          1.5854698876338933,
          -0.07344276075067835,
          0.5073385189309244,
          -1.773319236552539,
          -0.05272041058146565,
          -0.00362736273952922,
          -0.5945275493238228,
          0.41809379429104887,
          0.8909465400459582,
          0.09563245179050314,
          1.0311602461832148,
          1.0159953770058927,
          -0.6170213287877444,
          -1.0976143674215801,
          -1.5004841052765934,
          0.09431301496742447,
          -0.9452218800849674,
          -0.01560992121439684,
          0.7879037411261346,
          0.6853755116492865,
          -0.8623001717604366,
          1.0769194654893817,
          0.6431688511361634,
          0.12895953199732638,
          -0.5498628658378011,
          -1.4492936939235181,
          0.016024222288879897,
          2.664282252712835,
          1.0696366331516471,
          0.12835965398046997,
          0.5101687936919098,
          1.5299010478683583,
          -1.2335689808342365,
          0.2464428699381851,
          2.1078222162200384,
          0.7843387741083879,
          -0.1446628038271378,
          0.8157535679411924,
          -0.20789418560122971,
          1.2911215665236357,
          -0.4371104648645292,
          1.2891046799090462,
          0.14198386497507962,
          -0.24169307687263147,
          0.08057209185200362,
          1.448257337150349,
          -0.6207616616697897,
          -1.3403917003667252,
          -0.8028486224328306,
          -0.21052336907806699,
          -0.09233070228788874,
          -0.3661415088533711,
          -0.4629290587443829,
          1.0483734858888971
         ],
         "xaxis": "x16",
         "yaxis": "y16"
        }
       ],
       "layout": {
        "bargap": 0.02,
        "legend": {
         "bgcolor": "#F5F6F9",
         "font": {
          "color": "#4D5663"
         }
        },
        "paper_bgcolor": "#F5F6F9",
        "plot_bgcolor": "#F5F6F9",
        "showlegend": false,
        "template": {
         "data": {
          "bar": [
           {
            "error_x": {
             "color": "#2a3f5f"
            },
            "error_y": {
             "color": "#2a3f5f"
            },
            "marker": {
             "line": {
              "color": "#E5ECF6",
              "width": 0.5
             }
            },
            "type": "bar"
           }
          ],
          "barpolar": [
           {
            "marker": {
             "line": {
              "color": "#E5ECF6",
              "width": 0.5
             }
            },
            "type": "barpolar"
           }
          ],
          "carpet": [
           {
            "aaxis": {
             "endlinecolor": "#2a3f5f",
             "gridcolor": "white",
             "linecolor": "white",
             "minorgridcolor": "white",
             "startlinecolor": "#2a3f5f"
            },
            "baxis": {
             "endlinecolor": "#2a3f5f",
             "gridcolor": "white",
             "linecolor": "white",
             "minorgridcolor": "white",
             "startlinecolor": "#2a3f5f"
            },
            "type": "carpet"
           }
          ],
          "choropleth": [
           {
            "colorbar": {
             "outlinewidth": 0,
             "ticks": ""
            },
            "type": "choropleth"
           }
          ],
          "contour": [
           {
            "colorbar": {
             "outlinewidth": 0,
             "ticks": ""
            },
            "colorscale": [
             [
              0,
              "#0d0887"
             ],
             [
              0.1111111111111111,
              "#46039f"
             ],
             [
              0.2222222222222222,
              "#7201a8"
             ],
             [
              0.3333333333333333,
              "#9c179e"
             ],
             [
              0.4444444444444444,
              "#bd3786"
             ],
             [
              0.5555555555555556,
              "#d8576b"
             ],
             [
              0.6666666666666666,
              "#ed7953"
             ],
             [
              0.7777777777777778,
              "#fb9f3a"
             ],
             [
              0.8888888888888888,
              "#fdca26"
             ],
             [
              1,
              "#f0f921"
             ]
            ],
            "type": "contour"
           }
          ],
          "contourcarpet": [
           {
            "colorbar": {
             "outlinewidth": 0,
             "ticks": ""
            },
            "type": "contourcarpet"
           }
          ],
          "heatmap": [
           {
            "colorbar": {
             "outlinewidth": 0,
             "ticks": ""
            },
            "colorscale": [
             [
              0,
              "#0d0887"
             ],
             [
              0.1111111111111111,
              "#46039f"
             ],
             [
              0.2222222222222222,
              "#7201a8"
             ],
             [
              0.3333333333333333,
              "#9c179e"
             ],
             [
              0.4444444444444444,
              "#bd3786"
             ],
             [
              0.5555555555555556,
              "#d8576b"
             ],
             [
              0.6666666666666666,
              "#ed7953"
             ],
             [
              0.7777777777777778,
              "#fb9f3a"
             ],
             [
              0.8888888888888888,
              "#fdca26"
             ],
             [
              1,
              "#f0f921"
             ]
            ],
            "type": "heatmap"
           }
          ],
          "heatmapgl": [
           {
            "colorbar": {
             "outlinewidth": 0,
             "ticks": ""
            },
            "colorscale": [
             [
              0,
              "#0d0887"
             ],
             [
              0.1111111111111111,
              "#46039f"
             ],
             [
              0.2222222222222222,
              "#7201a8"
             ],
             [
              0.3333333333333333,
              "#9c179e"
             ],
             [
              0.4444444444444444,
              "#bd3786"
             ],
             [
              0.5555555555555556,
              "#d8576b"
             ],
             [
              0.6666666666666666,
              "#ed7953"
             ],
             [
              0.7777777777777778,
              "#fb9f3a"
             ],
             [
              0.8888888888888888,
              "#fdca26"
             ],
             [
              1,
              "#f0f921"
             ]
            ],
            "type": "heatmapgl"
           }
          ],
          "histogram": [
           {
            "marker": {
             "colorbar": {
              "outlinewidth": 0,
              "ticks": ""
             }
            },
            "type": "histogram"
           }
          ],
          "histogram2d": [
           {
            "colorbar": {
             "outlinewidth": 0,
             "ticks": ""
            },
            "colorscale": [
             [
              0,
              "#0d0887"
             ],
             [
              0.1111111111111111,
              "#46039f"
             ],
             [
              0.2222222222222222,
              "#7201a8"
             ],
             [
              0.3333333333333333,
              "#9c179e"
             ],
             [
              0.4444444444444444,
              "#bd3786"
             ],
             [
              0.5555555555555556,
              "#d8576b"
             ],
             [
              0.6666666666666666,
              "#ed7953"
             ],
             [
              0.7777777777777778,
              "#fb9f3a"
             ],
             [
              0.8888888888888888,
              "#fdca26"
             ],
             [
              1,
              "#f0f921"
             ]
            ],
            "type": "histogram2d"
           }
          ],
          "histogram2dcontour": [
           {
            "colorbar": {
             "outlinewidth": 0,
             "ticks": ""
            },
            "colorscale": [
             [
              0,
              "#0d0887"
             ],
             [
              0.1111111111111111,
              "#46039f"
             ],
             [
              0.2222222222222222,
              "#7201a8"
             ],
             [
              0.3333333333333333,
              "#9c179e"
             ],
             [
              0.4444444444444444,
              "#bd3786"
             ],
             [
              0.5555555555555556,
              "#d8576b"
             ],
             [
              0.6666666666666666,
              "#ed7953"
             ],
             [
              0.7777777777777778,
              "#fb9f3a"
             ],
             [
              0.8888888888888888,
              "#fdca26"
             ],
             [
              1,
              "#f0f921"
             ]
            ],
            "type": "histogram2dcontour"
           }
          ],
          "mesh3d": [
           {
            "colorbar": {
             "outlinewidth": 0,
             "ticks": ""
            },
            "type": "mesh3d"
           }
          ],
          "parcoords": [
           {
            "line": {
             "colorbar": {
              "outlinewidth": 0,
              "ticks": ""
             }
            },
            "type": "parcoords"
           }
          ],
          "pie": [
           {
            "automargin": true,
            "type": "pie"
           }
          ],
          "scatter": [
           {
            "marker": {
             "colorbar": {
              "outlinewidth": 0,
              "ticks": ""
             }
            },
            "type": "scatter"
           }
          ],
          "scatter3d": [
           {
            "line": {
             "colorbar": {
              "outlinewidth": 0,
              "ticks": ""
             }
            },
            "marker": {
             "colorbar": {
              "outlinewidth": 0,
              "ticks": ""
             }
            },
            "type": "scatter3d"
           }
          ],
          "scattercarpet": [
           {
            "marker": {
             "colorbar": {
              "outlinewidth": 0,
              "ticks": ""
             }
            },
            "type": "scattercarpet"
           }
          ],
          "scattergeo": [
           {
            "marker": {
             "colorbar": {
              "outlinewidth": 0,
              "ticks": ""
             }
            },
            "type": "scattergeo"
           }
          ],
          "scattergl": [
           {
            "marker": {
             "colorbar": {
              "outlinewidth": 0,
              "ticks": ""
             }
            },
            "type": "scattergl"
           }
          ],
          "scattermapbox": [
           {
            "marker": {
             "colorbar": {
              "outlinewidth": 0,
              "ticks": ""
             }
            },
            "type": "scattermapbox"
           }
          ],
          "scatterpolar": [
           {
            "marker": {
             "colorbar": {
              "outlinewidth": 0,
              "ticks": ""
             }
            },
            "type": "scatterpolar"
           }
          ],
          "scatterpolargl": [
           {
            "marker": {
             "colorbar": {
              "outlinewidth": 0,
              "ticks": ""
             }
            },
            "type": "scatterpolargl"
           }
          ],
          "scatterternary": [
           {
            "marker": {
             "colorbar": {
              "outlinewidth": 0,
              "ticks": ""
             }
            },
            "type": "scatterternary"
           }
          ],
          "surface": [
           {
            "colorbar": {
             "outlinewidth": 0,
             "ticks": ""
            },
            "colorscale": [
             [
              0,
              "#0d0887"
             ],
             [
              0.1111111111111111,
              "#46039f"
             ],
             [
              0.2222222222222222,
              "#7201a8"
             ],
             [
              0.3333333333333333,
              "#9c179e"
             ],
             [
              0.4444444444444444,
              "#bd3786"
             ],
             [
              0.5555555555555556,
              "#d8576b"
             ],
             [
              0.6666666666666666,
              "#ed7953"
             ],
             [
              0.7777777777777778,
              "#fb9f3a"
             ],
             [
              0.8888888888888888,
              "#fdca26"
             ],
             [
              1,
              "#f0f921"
             ]
            ],
            "type": "surface"
           }
          ],
          "table": [
           {
            "cells": {
             "fill": {
              "color": "#EBF0F8"
             },
             "line": {
              "color": "white"
             }
            },
            "header": {
             "fill": {
              "color": "#C8D4E3"
             },
             "line": {
              "color": "white"
             }
            },
            "type": "table"
           }
          ]
         },
         "layout": {
          "annotationdefaults": {
           "arrowcolor": "#2a3f5f",
           "arrowhead": 0,
           "arrowwidth": 1
          },
          "coloraxis": {
           "colorbar": {
            "outlinewidth": 0,
            "ticks": ""
           }
          },
          "colorscale": {
           "diverging": [
            [
             0,
             "#8e0152"
            ],
            [
             0.1,
             "#c51b7d"
            ],
            [
             0.2,
             "#de77ae"
            ],
            [
             0.3,
             "#f1b6da"
            ],
            [
             0.4,
             "#fde0ef"
            ],
            [
             0.5,
             "#f7f7f7"
            ],
            [
             0.6,
             "#e6f5d0"
            ],
            [
             0.7,
             "#b8e186"
            ],
            [
             0.8,
             "#7fbc41"
            ],
            [
             0.9,
             "#4d9221"
            ],
            [
             1,
             "#276419"
            ]
           ],
           "sequential": [
            [
             0,
             "#0d0887"
            ],
            [
             0.1111111111111111,
             "#46039f"
            ],
            [
             0.2222222222222222,
             "#7201a8"
            ],
            [
             0.3333333333333333,
             "#9c179e"
            ],
            [
             0.4444444444444444,
             "#bd3786"
            ],
            [
             0.5555555555555556,
             "#d8576b"
            ],
            [
             0.6666666666666666,
             "#ed7953"
            ],
            [
             0.7777777777777778,
             "#fb9f3a"
            ],
            [
             0.8888888888888888,
             "#fdca26"
            ],
            [
             1,
             "#f0f921"
            ]
           ],
           "sequentialminus": [
            [
             0,
             "#0d0887"
            ],
            [
             0.1111111111111111,
             "#46039f"
            ],
            [
             0.2222222222222222,
             "#7201a8"
            ],
            [
             0.3333333333333333,
             "#9c179e"
            ],
            [
             0.4444444444444444,
             "#bd3786"
            ],
            [
             0.5555555555555556,
             "#d8576b"
            ],
            [
             0.6666666666666666,
             "#ed7953"
            ],
            [
             0.7777777777777778,
             "#fb9f3a"
            ],
            [
             0.8888888888888888,
             "#fdca26"
            ],
            [
             1,
             "#f0f921"
            ]
           ]
          },
          "colorway": [
           "#636efa",
           "#EF553B",
           "#00cc96",
           "#ab63fa",
           "#FFA15A",
           "#19d3f3",
           "#FF6692",
           "#B6E880",
           "#FF97FF",
           "#FECB52"
          ],
          "font": {
           "color": "#2a3f5f"
          },
          "geo": {
           "bgcolor": "white",
           "lakecolor": "white",
           "landcolor": "#E5ECF6",
           "showlakes": true,
           "showland": true,
           "subunitcolor": "white"
          },
          "hoverlabel": {
           "align": "left"
          },
          "hovermode": "closest",
          "mapbox": {
           "style": "light"
          },
          "paper_bgcolor": "white",
          "plot_bgcolor": "#E5ECF6",
          "polar": {
           "angularaxis": {
            "gridcolor": "white",
            "linecolor": "white",
            "ticks": ""
           },
           "bgcolor": "#E5ECF6",
           "radialaxis": {
            "gridcolor": "white",
            "linecolor": "white",
            "ticks": ""
           }
          },
          "scene": {
           "xaxis": {
            "backgroundcolor": "#E5ECF6",
            "gridcolor": "white",
            "gridwidth": 2,
            "linecolor": "white",
            "showbackground": true,
            "ticks": "",
            "zerolinecolor": "white"
           },
           "yaxis": {
            "backgroundcolor": "#E5ECF6",
            "gridcolor": "white",
            "gridwidth": 2,
            "linecolor": "white",
            "showbackground": true,
            "ticks": "",
            "zerolinecolor": "white"
           },
           "zaxis": {
            "backgroundcolor": "#E5ECF6",
            "gridcolor": "white",
            "gridwidth": 2,
            "linecolor": "white",
            "showbackground": true,
            "ticks": "",
            "zerolinecolor": "white"
           }
          },
          "shapedefaults": {
           "line": {
            "color": "#2a3f5f"
           }
          },
          "ternary": {
           "aaxis": {
            "gridcolor": "white",
            "linecolor": "white",
            "ticks": ""
           },
           "baxis": {
            "gridcolor": "white",
            "linecolor": "white",
            "ticks": ""
           },
           "bgcolor": "#E5ECF6",
           "caxis": {
            "gridcolor": "white",
            "linecolor": "white",
            "ticks": ""
           }
          },
          "title": {
           "x": 0.05
          },
          "xaxis": {
           "automargin": true,
           "gridcolor": "white",
           "linecolor": "white",
           "ticks": "",
           "title": {
            "standoff": 15
           },
           "zerolinecolor": "white",
           "zerolinewidth": 2
          },
          "yaxis": {
           "automargin": true,
           "gridcolor": "white",
           "linecolor": "white",
           "ticks": "",
           "title": {
            "standoff": 15
           },
           "zerolinecolor": "white",
           "zerolinewidth": 2
          }
         }
        },
        "title": {
         "font": {
          "color": "#4D5663"
         }
        },
        "xaxis": {
         "anchor": "y",
         "domain": [
          0,
          0.2125
         ],
         "gridcolor": "#E1E5ED",
         "showgrid": false,
         "tickfont": {
          "color": "#4D5663"
         },
         "title": {
          "font": {
           "color": "#4D5663"
          },
          "text": ""
         },
         "zerolinecolor": "#E1E5ED"
        },
        "xaxis10": {
         "anchor": "y10",
         "domain": [
          0.2625,
          0.475
         ],
         "gridcolor": "#E1E5ED",
         "showgrid": false,
         "tickfont": {
          "color": "#4D5663"
         },
         "title": {
          "font": {
           "color": "#4D5663"
          },
          "text": ""
         },
         "zerolinecolor": "#E1E5ED"
        },
        "xaxis11": {
         "anchor": "y11",
         "domain": [
          0.525,
          0.7375
         ],
         "gridcolor": "#E1E5ED",
         "showgrid": false,
         "tickfont": {
          "color": "#4D5663"
         },
         "title": {
          "font": {
           "color": "#4D5663"
          },
          "text": ""
         },
         "zerolinecolor": "#E1E5ED"
        },
        "xaxis12": {
         "anchor": "y12",
         "domain": [
          0.7875,
          1
         ],
         "gridcolor": "#E1E5ED",
         "showgrid": false,
         "tickfont": {
          "color": "#4D5663"
         },
         "title": {
          "font": {
           "color": "#4D5663"
          },
          "text": ""
         },
         "zerolinecolor": "#E1E5ED"
        },
        "xaxis13": {
         "anchor": "y13",
         "domain": [
          0,
          0.2125
         ],
         "gridcolor": "#E1E5ED",
         "showgrid": false,
         "tickfont": {
          "color": "#4D5663"
         },
         "title": {
          "font": {
           "color": "#4D5663"
          },
          "text": ""
         },
         "zerolinecolor": "#E1E5ED"
        },
        "xaxis14": {
         "anchor": "y14",
         "domain": [
          0.2625,
          0.475
         ],
         "gridcolor": "#E1E5ED",
         "showgrid": false,
         "tickfont": {
          "color": "#4D5663"
         },
         "title": {
          "font": {
           "color": "#4D5663"
          },
          "text": ""
         },
         "zerolinecolor": "#E1E5ED"
        },
        "xaxis15": {
         "anchor": "y15",
         "domain": [
          0.525,
          0.7375
         ],
         "gridcolor": "#E1E5ED",
         "showgrid": false,
         "tickfont": {
          "color": "#4D5663"
         },
         "title": {
          "font": {
           "color": "#4D5663"
          },
          "text": ""
         },
         "zerolinecolor": "#E1E5ED"
        },
        "xaxis16": {
         "anchor": "y16",
         "domain": [
          0.7875,
          1
         ],
         "gridcolor": "#E1E5ED",
         "showgrid": false,
         "tickfont": {
          "color": "#4D5663"
         },
         "title": {
          "font": {
           "color": "#4D5663"
          },
          "text": ""
         },
         "zerolinecolor": "#E1E5ED"
        },
        "xaxis2": {
         "anchor": "y2",
         "domain": [
          0.2625,
          0.475
         ],
         "gridcolor": "#E1E5ED",
         "showgrid": false,
         "tickfont": {
          "color": "#4D5663"
         },
         "title": {
          "font": {
           "color": "#4D5663"
          },
          "text": ""
         },
         "zerolinecolor": "#E1E5ED"
        },
        "xaxis3": {
         "anchor": "y3",
         "domain": [
          0.525,
          0.7375
         ],
         "gridcolor": "#E1E5ED",
         "showgrid": false,
         "tickfont": {
          "color": "#4D5663"
         },
         "title": {
          "font": {
           "color": "#4D5663"
          },
          "text": ""
         },
         "zerolinecolor": "#E1E5ED"
        },
        "xaxis4": {
         "anchor": "y4",
         "domain": [
          0.7875,
          1
         ],
         "gridcolor": "#E1E5ED",
         "showgrid": false,
         "tickfont": {
          "color": "#4D5663"
         },
         "title": {
          "font": {
           "color": "#4D5663"
          },
          "text": ""
         },
         "zerolinecolor": "#E1E5ED"
        },
        "xaxis5": {
         "anchor": "y5",
         "domain": [
          0,
          0.2125
         ],
         "gridcolor": "#E1E5ED",
         "showgrid": false,
         "tickfont": {
          "color": "#4D5663"
         },
         "title": {
          "font": {
           "color": "#4D5663"
          },
          "text": ""
         },
         "zerolinecolor": "#E1E5ED"
        },
        "xaxis6": {
         "anchor": "y6",
         "domain": [
          0.2625,
          0.475
         ],
         "gridcolor": "#E1E5ED",
         "showgrid": false,
         "tickfont": {
          "color": "#4D5663"
         },
         "title": {
          "font": {
           "color": "#4D5663"
          },
          "text": ""
         },
         "zerolinecolor": "#E1E5ED"
        },
        "xaxis7": {
         "anchor": "y7",
         "domain": [
          0.525,
          0.7375
         ],
         "gridcolor": "#E1E5ED",
         "showgrid": false,
         "tickfont": {
          "color": "#4D5663"
         },
         "title": {
          "font": {
           "color": "#4D5663"
          },
          "text": ""
         },
         "zerolinecolor": "#E1E5ED"
        },
        "xaxis8": {
         "anchor": "y8",
         "domain": [
          0.7875,
          1
         ],
         "gridcolor": "#E1E5ED",
         "showgrid": false,
         "tickfont": {
          "color": "#4D5663"
         },
         "title": {
          "font": {
           "color": "#4D5663"
          },
          "text": ""
         },
         "zerolinecolor": "#E1E5ED"
        },
        "xaxis9": {
         "anchor": "y9",
         "domain": [
          0,
          0.2125
         ],
         "gridcolor": "#E1E5ED",
         "showgrid": false,
         "tickfont": {
          "color": "#4D5663"
         },
         "title": {
          "font": {
           "color": "#4D5663"
          },
          "text": ""
         },
         "zerolinecolor": "#E1E5ED"
        },
        "yaxis": {
         "anchor": "x",
         "domain": [
          0.8025,
          1
         ],
         "gridcolor": "#E1E5ED",
         "showgrid": false,
         "tickfont": {
          "color": "#4D5663"
         },
         "title": {
          "font": {
           "color": "#4D5663"
          },
          "text": ""
         },
         "zerolinecolor": "#E1E5ED"
        },
        "yaxis10": {
         "anchor": "x10",
         "domain": [
          0.2675,
          0.465
         ],
         "gridcolor": "#E1E5ED",
         "showgrid": false,
         "tickfont": {
          "color": "#4D5663"
         },
         "title": {
          "font": {
           "color": "#4D5663"
          },
          "text": ""
         },
         "zerolinecolor": "#E1E5ED"
        },
        "yaxis11": {
         "anchor": "x11",
         "domain": [
          0.2675,
          0.465
         ],
         "gridcolor": "#E1E5ED",
         "showgrid": false,
         "tickfont": {
          "color": "#4D5663"
         },
         "title": {
          "font": {
           "color": "#4D5663"
          },
          "text": ""
         },
         "zerolinecolor": "#E1E5ED"
        },
        "yaxis12": {
         "anchor": "x12",
         "domain": [
          0.2675,
          0.465
         ],
         "gridcolor": "#E1E5ED",
         "showgrid": false,
         "tickfont": {
          "color": "#4D5663"
         },
         "title": {
          "font": {
           "color": "#4D5663"
          },
          "text": ""
         },
         "zerolinecolor": "#E1E5ED"
        },
        "yaxis13": {
         "anchor": "x13",
         "domain": [
          0,
          0.1975
         ],
         "gridcolor": "#E1E5ED",
         "showgrid": false,
         "tickfont": {
          "color": "#4D5663"
         },
         "title": {
          "font": {
           "color": "#4D5663"
          },
          "text": ""
         },
         "zerolinecolor": "#E1E5ED"
        },
        "yaxis14": {
         "anchor": "x14",
         "domain": [
          0,
          0.1975
         ],
         "gridcolor": "#E1E5ED",
         "showgrid": false,
         "tickfont": {
          "color": "#4D5663"
         },
         "title": {
          "font": {
           "color": "#4D5663"
          },
          "text": ""
         },
         "zerolinecolor": "#E1E5ED"
        },
        "yaxis15": {
         "anchor": "x15",
         "domain": [
          0,
          0.1975
         ],
         "gridcolor": "#E1E5ED",
         "showgrid": false,
         "tickfont": {
          "color": "#4D5663"
         },
         "title": {
          "font": {
           "color": "#4D5663"
          },
          "text": ""
         },
         "zerolinecolor": "#E1E5ED"
        },
        "yaxis16": {
         "anchor": "x16",
         "domain": [
          0,
          0.1975
         ],
         "gridcolor": "#E1E5ED",
         "showgrid": false,
         "tickfont": {
          "color": "#4D5663"
         },
         "title": {
          "font": {
           "color": "#4D5663"
          },
          "text": ""
         },
         "zerolinecolor": "#E1E5ED"
        },
        "yaxis2": {
         "anchor": "x2",
         "domain": [
          0.8025,
          1
         ],
         "gridcolor": "#E1E5ED",
         "showgrid": false,
         "tickfont": {
          "color": "#4D5663"
         },
         "title": {
          "font": {
           "color": "#4D5663"
          },
          "text": ""
         },
         "zerolinecolor": "#E1E5ED"
        },
        "yaxis3": {
         "anchor": "x3",
         "domain": [
          0.8025,
          1
         ],
         "gridcolor": "#E1E5ED",
         "showgrid": false,
         "tickfont": {
          "color": "#4D5663"
         },
         "title": {
          "font": {
           "color": "#4D5663"
          },
          "text": ""
         },
         "zerolinecolor": "#E1E5ED"
        },
        "yaxis4": {
         "anchor": "x4",
         "domain": [
          0.8025,
          1
         ],
         "gridcolor": "#E1E5ED",
         "showgrid": false,
         "tickfont": {
          "color": "#4D5663"
         },
         "title": {
          "font": {
           "color": "#4D5663"
          },
          "text": ""
         },
         "zerolinecolor": "#E1E5ED"
        },
        "yaxis5": {
         "anchor": "x5",
         "domain": [
          0.535,
          0.7325
         ],
         "gridcolor": "#E1E5ED",
         "showgrid": false,
         "tickfont": {
          "color": "#4D5663"
         },
         "title": {
          "font": {
           "color": "#4D5663"
          },
          "text": ""
         },
         "zerolinecolor": "#E1E5ED"
        },
        "yaxis6": {
         "anchor": "x6",
         "domain": [
          0.535,
          0.7325
         ],
         "gridcolor": "#E1E5ED",
         "showgrid": false,
         "tickfont": {
          "color": "#4D5663"
         },
         "title": {
          "font": {
           "color": "#4D5663"
          },
          "text": ""
         },
         "zerolinecolor": "#E1E5ED"
        },
        "yaxis7": {
         "anchor": "x7",
         "domain": [
          0.535,
          0.7325
         ],
         "gridcolor": "#E1E5ED",
         "showgrid": false,
         "tickfont": {
          "color": "#4D5663"
         },
         "title": {
          "font": {
           "color": "#4D5663"
          },
          "text": ""
         },
         "zerolinecolor": "#E1E5ED"
        },
        "yaxis8": {
         "anchor": "x8",
         "domain": [
          0.535,
          0.7325
         ],
         "gridcolor": "#E1E5ED",
         "showgrid": false,
         "tickfont": {
          "color": "#4D5663"
         },
         "title": {
          "font": {
           "color": "#4D5663"
          },
          "text": ""
         },
         "zerolinecolor": "#E1E5ED"
        },
        "yaxis9": {
         "anchor": "x9",
         "domain": [
          0.2675,
          0.465
         ],
         "gridcolor": "#E1E5ED",
         "showgrid": false,
         "tickfont": {
          "color": "#4D5663"
         },
         "title": {
          "font": {
           "color": "#4D5663"
          },
          "text": ""
         },
         "zerolinecolor": "#E1E5ED"
        }
       }
      },
      "text/html": [
       "<div>\n",
       "        \n",
       "        \n",
       "            <div id=\"999e99eb-c18b-415c-82b2-695a18887226\" class=\"plotly-graph-div\" style=\"height:525px; width:100%;\"></div>\n",
       "            <script type=\"text/javascript\">\n",
       "                require([\"plotly\"], function(Plotly) {\n",
       "                    window.PLOTLYENV=window.PLOTLYENV || {};\n",
       "                    window.PLOTLYENV.BASE_URL='https://plot.ly';\n",
       "                    \n",
       "                if (document.getElementById(\"999e99eb-c18b-415c-82b2-695a18887226\")) {\n",
       "                    Plotly.newPlot(\n",
       "                        '999e99eb-c18b-415c-82b2-695a18887226',\n",
       "                        [{\"histfunc\": \"count\", \"histnorm\": \"\", \"marker\": {\"color\": \"rgba(255, 153, 51, 1.0)\", \"line\": {\"color\": \"#4D5663\", \"width\": 1.3}}, \"name\": \"A\", \"nbinsx\": 10, \"opacity\": 0.8, \"orientation\": \"v\", \"type\": \"histogram\", \"x\": [0.7377480585830137, 0.7342847783883112, -1.0683171404471412, -1.502733798438884, 0.6561686237827556, -1.1459037323632137, 0.6476633312484361, 0.954015340373593, 1.539985876684928, 0.7985745670731059, -1.5918749202161273, 0.8082330941312681, 0.4497225270275956, 0.44060026434460214, 0.6348032618871884, 1.3874779330072162, 0.0438216873576978, -1.1014944244087401, -1.2275063824869006, -1.8290699710898346, -0.22351957823940455, -0.7050039212800109, -1.1183465214167012, -1.8248514931381798, 1.4905083191743311, 0.25626490998075285, 0.7422419175531905, 0.027907303872408085, -0.06577875054392432, -2.028482755750844, -0.9999937897710787, 0.18755245412529312, -1.3748890838009733, -0.7893670077838172, -0.9693956309750764, -0.3874700518752942, 0.8497108153574742, -2.3984511660062826, -1.0375323703356547, -1.1668382338824628, 1.0178209906174234, -2.0184440193807105, 0.10005832909083658, -0.5248020077275282, 0.6066228167525038, 0.2697695084102519, -1.332359037059602, -0.1136562919792124, -1.5255681143137725, 0.7148349278548535, -0.23774122847181883, 0.7716215119493806, 0.02376413684294443, -0.20117023619862676, -0.5919119812096941, -2.289606638197903, -1.69171991905258, 0.03946357615375144, 0.061783385108110836, 0.5000231705082663, -0.08109990486056581, -0.22066706333618294, 0.6970531220231665, 0.5792548517859589, 0.3834561644480958, 0.30649813188746133, -0.810500502854627, 1.1874691913836422, 0.04273693089697035, 0.10807765364701052, -1.9834385486030648, 0.30500393482364385, 0.04025339830170707, -1.3667014133501796, -1.0856887678202325, 0.6435525794998168, 0.09094754542965085, 0.11965187209304147, -1.109132843870616, -1.1028645951963907, 0.5112915171860486, 1.9374953617279147, -0.07245361045267751, -0.5470649360074591, 3.3981405035516525, -1.170234159171683, 0.4029753395723124, -0.49332286516639035, -1.1812130978576854, -2.0723603009366376, -0.8091482359309616, 0.956168042124244, -0.26979704705689905, -0.06303567646588461, 0.28774570776517755, 1.3294452569558244, 0.25037832471323584, -0.23303023685009297, -0.8954288193418369, -0.29096827647431506], \"xaxis\": \"x\", \"yaxis\": \"y\"}, {\"line\": {\"color\": \"rgba(128, 128, 128, 1.0)\", \"dash\": \"solid\", \"shape\": \"linear\", \"width\": 1.3}, \"marker\": {\"size\": 2, \"symbol\": \"circle\"}, \"mode\": \"markers\", \"name\": \"A\", \"text\": \"\", \"type\": \"scatter\", \"x\": [0.19757683481913466, 0.19652603702414015, 0.8802559451990586, -3.246105290136032, 0.13166861327125656, 0.37894731398952586, 0.9017310254915447, 0.8410559395842016, -0.3475436119400676, -0.6333759579885387, -0.46721317143339497, -0.25197763683591395, 0.10798919230128363, 0.8279785479323732, 0.5181141679590413, -0.08740292588407063, -0.6262855402267856, -0.9981323252780863, -0.16530789117237085, -1.1171779612314283, 0.14964301868274876, -0.7213752047771493, -0.55422745014167, -1.8050140419080938, -0.09366392738194239, 0.7226521207213704, 0.950687199099526, -0.3285326599246558, 1.4151962610116287, -0.874654751843458, 0.429029706243159, 0.38343051280730256, 0.5229346393025011, -1.0546871079135307, -0.9096170476035544, -1.4792325006326723, -0.0658692466059647, -1.3027699560793393, 0.988090979663669, -0.22409559289129885, 0.7133713100303162, 0.3416091416133028, -0.9306940942545728, -0.34340258028634024, -0.5820680198522021, -0.47557889455395325, -0.4927696339863192, -1.0305543868008562, -1.0992997531456075, 0.9989814097855022, 0.29706921050397894, 0.44290029683620286, 0.23479596022042112, -1.2590740525741102, -0.5553387627535838, -0.9247408398573905, -0.30264344149525485, -0.710723649552731, -0.4571537974062655, -1.2442424570271577, 0.6278670818249709, -0.5607876516543867, -0.6455709830869545, 0.8795806440458941, 0.4075942240710124, -0.5077041158846402, 1.403109214192499, 0.41190914173872556, -0.9797664268315869, -0.407844408205296, 0.20692180881156025, 0.2171037233664773, -1.0206316273355782, 0.28358419056260675, 0.681150249787766, 0.5826961401987615, 0.93025604132711, -0.6151490682609284, -1.7903317652004367, 0.7746725906814703, 0.9587083684669854, -1.0291724032658307, 0.48332863248025204, -0.10730694261016965, 1.0628165318834424, 0.3498735613601411, -1.4542444735205482, -0.37433846017044375, -0.03994373838327206, -0.35655183390093353, 0.26880757874751465, 0.5083302621189569, 0.9995757926517211, 3.432394122748129, -1.6958994843957778, -1.0586459065945708, -1.8360538740318209, -0.6032852020161685, -1.5928644283858395, -1.8202141537266145], \"xaxis\": \"x2\", \"y\": [0.7377480585830137, 0.7342847783883112, -1.0683171404471412, -1.502733798438884, 0.6561686237827556, -1.1459037323632137, 0.6476633312484361, 0.954015340373593, 1.539985876684928, 0.7985745670731059, -1.5918749202161273, 0.8082330941312681, 0.4497225270275956, 0.44060026434460214, 0.6348032618871884, 1.3874779330072162, 0.0438216873576978, -1.1014944244087401, -1.2275063824869006, -1.8290699710898346, -0.22351957823940455, -0.7050039212800109, -1.1183465214167012, -1.8248514931381798, 1.4905083191743311, 0.25626490998075285, 0.7422419175531905, 0.027907303872408085, -0.06577875054392432, -2.028482755750844, -0.9999937897710787, 0.18755245412529312, -1.3748890838009733, -0.7893670077838172, -0.9693956309750764, -0.3874700518752942, 0.8497108153574742, -2.3984511660062826, -1.0375323703356547, -1.1668382338824628, 1.0178209906174234, -2.0184440193807105, 0.10005832909083658, -0.5248020077275282, 0.6066228167525038, 0.2697695084102519, -1.332359037059602, -0.1136562919792124, -1.5255681143137725, 0.7148349278548535, -0.23774122847181883, 0.7716215119493806, 0.02376413684294443, -0.20117023619862676, -0.5919119812096941, -2.289606638197903, -1.69171991905258, 0.03946357615375144, 0.061783385108110836, 0.5000231705082663, -0.08109990486056581, -0.22066706333618294, 0.6970531220231665, 0.5792548517859589, 0.3834561644480958, 0.30649813188746133, -0.810500502854627, 1.1874691913836422, 0.04273693089697035, 0.10807765364701052, -1.9834385486030648, 0.30500393482364385, 0.04025339830170707, -1.3667014133501796, -1.0856887678202325, 0.6435525794998168, 0.09094754542965085, 0.11965187209304147, -1.109132843870616, -1.1028645951963907, 0.5112915171860486, 1.9374953617279147, -0.07245361045267751, -0.5470649360074591, 3.3981405035516525, -1.170234159171683, 0.4029753395723124, -0.49332286516639035, -1.1812130978576854, -2.0723603009366376, -0.8091482359309616, 0.956168042124244, -0.26979704705689905, -0.06303567646588461, 0.28774570776517755, 1.3294452569558244, 0.25037832471323584, -0.23303023685009297, -0.8954288193418369, -0.29096827647431506], \"yaxis\": \"y2\"}, {\"line\": {\"color\": \"rgba(128, 128, 128, 1.0)\", \"dash\": \"solid\", \"shape\": \"linear\", \"width\": 1.3}, \"marker\": {\"size\": 2, \"symbol\": \"circle\"}, \"mode\": \"markers\", \"name\": \"A\", \"text\": \"\", \"type\": \"scatter\", \"x\": [-0.6096608224151466, -0.6195079747212103, 0.7109406448525754, -1.3576488964524391, 0.3539574156709573, 1.2262553786457966, -0.5023942829843933, 0.5522310577308305, 0.7108756556978424, 0.10920510938871546, 0.4149967488288535, 1.3011189754866916, 0.5542723738033885, 0.7987642339371241, 0.8759170909728486, 0.7219316733733715, -1.7869490716923797, -1.679550595679321, 1.9274639583266926, 0.3828021930857063, 1.2608656994571699, -0.1938433376033397, 1.8357859382308004, 1.3001031158009266, -0.632849920499351, -1.5342524445220331, -2.3585628827994283, 0.0661748444944162, 0.006365499709921685, 0.312995564273019, 0.0937504317809031, -0.29835371474252503, -1.8279726016525282, -0.352868152041477, -0.8559998733210675, -0.28608530691286377, 1.396727023340674, -0.40359163631147577, -0.3292458811883445, 0.599421083749579, -1.2124000262503405, -0.5693543470575455, 0.4377338777037384, -1.642144774079887, -0.30764720537762086, 1.2542750180885254, 0.7564255708797416, -0.9832730838691014, 0.4164998282128355, 0.7477748458530866, 1.3560202886782509, 1.546746331079022, 1.9052164640676077, -2.0461367992280457, 0.9687250883987175, -0.16111852239983515, -0.2623169457336536, 0.6979029617949611, -1.4823878216061581, 0.392877675346139, 0.21566655583007072, -1.7472944763299612, -1.2516772119417252, -0.13766057172636878, 0.6390747642098169, -0.5165476343485128, -0.662260234384109, -1.4190709440988007, 0.9135263608642058, -0.16528750001260598, -0.40019365725797157, -0.3700242924353822, -1.962750084533982, -0.4508981113805817, -0.9727042912984357, 0.04723505603996999, 1.4504684351884678, -0.1189997957052009, -1.2371007992918832, 0.5995717421705108, -1.1166092112545292, 0.1715473028907822, -0.3347258686563542, -1.240185466280291, 1.0476296913470322, 1.700571192640512, 0.3146752141594078, -0.8066274098380597, 1.1412362503571325, 0.9193081732449275, 0.41038052464580893, -0.6929166527794698, 0.7922727125420788, 0.3475430006898677, -0.5775533782567989, 1.387393562697111, -0.14139060179298688, 0.1232069052447074, -1.6848274592682884, -0.3079396992785525], \"xaxis\": \"x3\", \"y\": [0.7377480585830137, 0.7342847783883112, -1.0683171404471412, -1.502733798438884, 0.6561686237827556, -1.1459037323632137, 0.6476633312484361, 0.954015340373593, 1.539985876684928, 0.7985745670731059, -1.5918749202161273, 0.8082330941312681, 0.4497225270275956, 0.44060026434460214, 0.6348032618871884, 1.3874779330072162, 0.0438216873576978, -1.1014944244087401, -1.2275063824869006, -1.8290699710898346, -0.22351957823940455, -0.7050039212800109, -1.1183465214167012, -1.8248514931381798, 1.4905083191743311, 0.25626490998075285, 0.7422419175531905, 0.027907303872408085, -0.06577875054392432, -2.028482755750844, -0.9999937897710787, 0.18755245412529312, -1.3748890838009733, -0.7893670077838172, -0.9693956309750764, -0.3874700518752942, 0.8497108153574742, -2.3984511660062826, -1.0375323703356547, -1.1668382338824628, 1.0178209906174234, -2.0184440193807105, 0.10005832909083658, -0.5248020077275282, 0.6066228167525038, 0.2697695084102519, -1.332359037059602, -0.1136562919792124, -1.5255681143137725, 0.7148349278548535, -0.23774122847181883, 0.7716215119493806, 0.02376413684294443, -0.20117023619862676, -0.5919119812096941, -2.289606638197903, -1.69171991905258, 0.03946357615375144, 0.061783385108110836, 0.5000231705082663, -0.08109990486056581, -0.22066706333618294, 0.6970531220231665, 0.5792548517859589, 0.3834561644480958, 0.30649813188746133, -0.810500502854627, 1.1874691913836422, 0.04273693089697035, 0.10807765364701052, -1.9834385486030648, 0.30500393482364385, 0.04025339830170707, -1.3667014133501796, -1.0856887678202325, 0.6435525794998168, 0.09094754542965085, 0.11965187209304147, -1.109132843870616, -1.1028645951963907, 0.5112915171860486, 1.9374953617279147, -0.07245361045267751, -0.5470649360074591, 3.3981405035516525, -1.170234159171683, 0.4029753395723124, -0.49332286516639035, -1.1812130978576854, -2.0723603009366376, -0.8091482359309616, 0.956168042124244, -0.26979704705689905, -0.06303567646588461, 0.28774570776517755, 1.3294452569558244, 0.25037832471323584, -0.23303023685009297, -0.8954288193418369, -0.29096827647431506], \"yaxis\": \"y3\"}, {\"line\": {\"color\": \"rgba(128, 128, 128, 1.0)\", \"dash\": \"solid\", \"shape\": \"linear\", \"width\": 1.3}, \"marker\": {\"size\": 2, \"symbol\": \"circle\"}, \"mode\": \"markers\", \"name\": \"A\", \"text\": \"\", \"type\": \"scatter\", \"x\": [1.1401673986248801, 0.13313653080927113, 0.19698757663838, 0.952955548715361, -0.20989517397197824, 0.23896266017547702, -0.35425191925320987, -0.6126943383460478, 1.3920191303747103, 0.548922979417018, 0.6143207621742002, 0.31775370625711374, 0.35343266229756776, 0.8146004499815067, -1.0202276992452228, 1.0329463600952744, 0.4050958787576824, -2.8435300437531796, 0.8476960698637384, 0.30060393407956204, 2.395377396817081, 0.41754187027079953, -0.041557565209885516, 1.7756192538628472, 0.6033104525486233, 0.32067559892224434, 0.5146999332229149, -1.2934581169624737, -0.13703049255397978, -0.07213589597693378, -0.3770317341839668, -1.0696842549372618, 0.9816766588940186, 1.918981131133428, -0.2289408687169476, 0.2671261146526187, 0.5119462534866697, -0.8239501957925991, -0.10913167594946674, -0.6679040757000227, -0.7749056852741179, 0.20389806534071162, -0.901276867585821, 1.154099420824574, 0.011354401808919192, 0.2098443593415194, 1.5854698876338933, -0.07344276075067835, 0.5073385189309244, -1.773319236552539, -0.05272041058146565, -0.00362736273952922, -0.5945275493238228, 0.41809379429104887, 0.8909465400459582, 0.09563245179050314, 1.0311602461832148, 1.0159953770058927, -0.6170213287877444, -1.0976143674215801, -1.5004841052765934, 0.09431301496742447, -0.9452218800849674, -0.01560992121439684, 0.7879037411261346, 0.6853755116492865, -0.8623001717604366, 1.0769194654893817, 0.6431688511361634, 0.12895953199732638, -0.5498628658378011, -1.4492936939235181, 0.016024222288879897, 2.664282252712835, 1.0696366331516471, 0.12835965398046997, 0.5101687936919098, 1.5299010478683583, -1.2335689808342365, 0.2464428699381851, 2.1078222162200384, 0.7843387741083879, -0.1446628038271378, 0.8157535679411924, -0.20789418560122971, 1.2911215665236357, -0.4371104648645292, 1.2891046799090462, 0.14198386497507962, -0.24169307687263147, 0.08057209185200362, 1.448257337150349, -0.6207616616697897, -1.3403917003667252, -0.8028486224328306, -0.21052336907806699, -0.09233070228788874, -0.3661415088533711, -0.4629290587443829, 1.0483734858888971], \"xaxis\": \"x4\", \"y\": [0.7377480585830137, 0.7342847783883112, -1.0683171404471412, -1.502733798438884, 0.6561686237827556, -1.1459037323632137, 0.6476633312484361, 0.954015340373593, 1.539985876684928, 0.7985745670731059, -1.5918749202161273, 0.8082330941312681, 0.4497225270275956, 0.44060026434460214, 0.6348032618871884, 1.3874779330072162, 0.0438216873576978, -1.1014944244087401, -1.2275063824869006, -1.8290699710898346, -0.22351957823940455, -0.7050039212800109, -1.1183465214167012, -1.8248514931381798, 1.4905083191743311, 0.25626490998075285, 0.7422419175531905, 0.027907303872408085, -0.06577875054392432, -2.028482755750844, -0.9999937897710787, 0.18755245412529312, -1.3748890838009733, -0.7893670077838172, -0.9693956309750764, -0.3874700518752942, 0.8497108153574742, -2.3984511660062826, -1.0375323703356547, -1.1668382338824628, 1.0178209906174234, -2.0184440193807105, 0.10005832909083658, -0.5248020077275282, 0.6066228167525038, 0.2697695084102519, -1.332359037059602, -0.1136562919792124, -1.5255681143137725, 0.7148349278548535, -0.23774122847181883, 0.7716215119493806, 0.02376413684294443, -0.20117023619862676, -0.5919119812096941, -2.289606638197903, -1.69171991905258, 0.03946357615375144, 0.061783385108110836, 0.5000231705082663, -0.08109990486056581, -0.22066706333618294, 0.6970531220231665, 0.5792548517859589, 0.3834561644480958, 0.30649813188746133, -0.810500502854627, 1.1874691913836422, 0.04273693089697035, 0.10807765364701052, -1.9834385486030648, 0.30500393482364385, 0.04025339830170707, -1.3667014133501796, -1.0856887678202325, 0.6435525794998168, 0.09094754542965085, 0.11965187209304147, -1.109132843870616, -1.1028645951963907, 0.5112915171860486, 1.9374953617279147, -0.07245361045267751, -0.5470649360074591, 3.3981405035516525, -1.170234159171683, 0.4029753395723124, -0.49332286516639035, -1.1812130978576854, -2.0723603009366376, -0.8091482359309616, 0.956168042124244, -0.26979704705689905, -0.06303567646588461, 0.28774570776517755, 1.3294452569558244, 0.25037832471323584, -0.23303023685009297, -0.8954288193418369, -0.29096827647431506], \"yaxis\": \"y4\"}, {\"line\": {\"color\": \"rgba(128, 128, 128, 1.0)\", \"dash\": \"solid\", \"shape\": \"linear\", \"width\": 1.3}, \"marker\": {\"size\": 2, \"symbol\": \"circle\"}, \"mode\": \"markers\", \"name\": \"B\", \"text\": \"\", \"type\": \"scatter\", \"x\": [0.7377480585830137, 0.7342847783883112, -1.0683171404471412, -1.502733798438884, 0.6561686237827556, -1.1459037323632137, 0.6476633312484361, 0.954015340373593, 1.539985876684928, 0.7985745670731059, -1.5918749202161273, 0.8082330941312681, 0.4497225270275956, 0.44060026434460214, 0.6348032618871884, 1.3874779330072162, 0.0438216873576978, -1.1014944244087401, -1.2275063824869006, -1.8290699710898346, -0.22351957823940455, -0.7050039212800109, -1.1183465214167012, -1.8248514931381798, 1.4905083191743311, 0.25626490998075285, 0.7422419175531905, 0.027907303872408085, -0.06577875054392432, -2.028482755750844, -0.9999937897710787, 0.18755245412529312, -1.3748890838009733, -0.7893670077838172, -0.9693956309750764, -0.3874700518752942, 0.8497108153574742, -2.3984511660062826, -1.0375323703356547, -1.1668382338824628, 1.0178209906174234, -2.0184440193807105, 0.10005832909083658, -0.5248020077275282, 0.6066228167525038, 0.2697695084102519, -1.332359037059602, -0.1136562919792124, -1.5255681143137725, 0.7148349278548535, -0.23774122847181883, 0.7716215119493806, 0.02376413684294443, -0.20117023619862676, -0.5919119812096941, -2.289606638197903, -1.69171991905258, 0.03946357615375144, 0.061783385108110836, 0.5000231705082663, -0.08109990486056581, -0.22066706333618294, 0.6970531220231665, 0.5792548517859589, 0.3834561644480958, 0.30649813188746133, -0.810500502854627, 1.1874691913836422, 0.04273693089697035, 0.10807765364701052, -1.9834385486030648, 0.30500393482364385, 0.04025339830170707, -1.3667014133501796, -1.0856887678202325, 0.6435525794998168, 0.09094754542965085, 0.11965187209304147, -1.109132843870616, -1.1028645951963907, 0.5112915171860486, 1.9374953617279147, -0.07245361045267751, -0.5470649360074591, 3.3981405035516525, -1.170234159171683, 0.4029753395723124, -0.49332286516639035, -1.1812130978576854, -2.0723603009366376, -0.8091482359309616, 0.956168042124244, -0.26979704705689905, -0.06303567646588461, 0.28774570776517755, 1.3294452569558244, 0.25037832471323584, -0.23303023685009297, -0.8954288193418369, -0.29096827647431506], \"xaxis\": \"x5\", \"y\": [0.19757683481913466, 0.19652603702414015, 0.8802559451990586, -3.246105290136032, 0.13166861327125656, 0.37894731398952586, 0.9017310254915447, 0.8410559395842016, -0.3475436119400676, -0.6333759579885387, -0.46721317143339497, -0.25197763683591395, 0.10798919230128363, 0.8279785479323732, 0.5181141679590413, -0.08740292588407063, -0.6262855402267856, -0.9981323252780863, -0.16530789117237085, -1.1171779612314283, 0.14964301868274876, -0.7213752047771493, -0.55422745014167, -1.8050140419080938, -0.09366392738194239, 0.7226521207213704, 0.950687199099526, -0.3285326599246558, 1.4151962610116287, -0.874654751843458, 0.429029706243159, 0.38343051280730256, 0.5229346393025011, -1.0546871079135307, -0.9096170476035544, -1.4792325006326723, -0.0658692466059647, -1.3027699560793393, 0.988090979663669, -0.22409559289129885, 0.7133713100303162, 0.3416091416133028, -0.9306940942545728, -0.34340258028634024, -0.5820680198522021, -0.47557889455395325, -0.4927696339863192, -1.0305543868008562, -1.0992997531456075, 0.9989814097855022, 0.29706921050397894, 0.44290029683620286, 0.23479596022042112, -1.2590740525741102, -0.5553387627535838, -0.9247408398573905, -0.30264344149525485, -0.710723649552731, -0.4571537974062655, -1.2442424570271577, 0.6278670818249709, -0.5607876516543867, -0.6455709830869545, 0.8795806440458941, 0.4075942240710124, -0.5077041158846402, 1.403109214192499, 0.41190914173872556, -0.9797664268315869, -0.407844408205296, 0.20692180881156025, 0.2171037233664773, -1.0206316273355782, 0.28358419056260675, 0.681150249787766, 0.5826961401987615, 0.93025604132711, -0.6151490682609284, -1.7903317652004367, 0.7746725906814703, 0.9587083684669854, -1.0291724032658307, 0.48332863248025204, -0.10730694261016965, 1.0628165318834424, 0.3498735613601411, -1.4542444735205482, -0.37433846017044375, -0.03994373838327206, -0.35655183390093353, 0.26880757874751465, 0.5083302621189569, 0.9995757926517211, 3.432394122748129, -1.6958994843957778, -1.0586459065945708, -1.8360538740318209, -0.6032852020161685, -1.5928644283858395, -1.8202141537266145], \"yaxis\": \"y5\"}, {\"histfunc\": \"count\", \"histnorm\": \"\", \"marker\": {\"color\": \"rgba(55, 128, 191, 1.0)\", \"line\": {\"color\": \"#4D5663\", \"width\": 1.3}}, \"name\": \"B\", \"nbinsx\": 10, \"opacity\": 0.8, \"orientation\": \"v\", \"type\": \"histogram\", \"x\": [0.19757683481913466, 0.19652603702414015, 0.8802559451990586, -3.246105290136032, 0.13166861327125656, 0.37894731398952586, 0.9017310254915447, 0.8410559395842016, -0.3475436119400676, -0.6333759579885387, -0.46721317143339497, -0.25197763683591395, 0.10798919230128363, 0.8279785479323732, 0.5181141679590413, -0.08740292588407063, -0.6262855402267856, -0.9981323252780863, -0.16530789117237085, -1.1171779612314283, 0.14964301868274876, -0.7213752047771493, -0.55422745014167, -1.8050140419080938, -0.09366392738194239, 0.7226521207213704, 0.950687199099526, -0.3285326599246558, 1.4151962610116287, -0.874654751843458, 0.429029706243159, 0.38343051280730256, 0.5229346393025011, -1.0546871079135307, -0.9096170476035544, -1.4792325006326723, -0.0658692466059647, -1.3027699560793393, 0.988090979663669, -0.22409559289129885, 0.7133713100303162, 0.3416091416133028, -0.9306940942545728, -0.34340258028634024, -0.5820680198522021, -0.47557889455395325, -0.4927696339863192, -1.0305543868008562, -1.0992997531456075, 0.9989814097855022, 0.29706921050397894, 0.44290029683620286, 0.23479596022042112, -1.2590740525741102, -0.5553387627535838, -0.9247408398573905, -0.30264344149525485, -0.710723649552731, -0.4571537974062655, -1.2442424570271577, 0.6278670818249709, -0.5607876516543867, -0.6455709830869545, 0.8795806440458941, 0.4075942240710124, -0.5077041158846402, 1.403109214192499, 0.41190914173872556, -0.9797664268315869, -0.407844408205296, 0.20692180881156025, 0.2171037233664773, -1.0206316273355782, 0.28358419056260675, 0.681150249787766, 0.5826961401987615, 0.93025604132711, -0.6151490682609284, -1.7903317652004367, 0.7746725906814703, 0.9587083684669854, -1.0291724032658307, 0.48332863248025204, -0.10730694261016965, 1.0628165318834424, 0.3498735613601411, -1.4542444735205482, -0.37433846017044375, -0.03994373838327206, -0.35655183390093353, 0.26880757874751465, 0.5083302621189569, 0.9995757926517211, 3.432394122748129, -1.6958994843957778, -1.0586459065945708, -1.8360538740318209, -0.6032852020161685, -1.5928644283858395, -1.8202141537266145], \"xaxis\": \"x6\", \"yaxis\": \"y6\"}, {\"line\": {\"color\": \"rgba(128, 128, 128, 1.0)\", \"dash\": \"solid\", \"shape\": \"linear\", \"width\": 1.3}, \"marker\": {\"size\": 2, \"symbol\": \"circle\"}, \"mode\": \"markers\", \"name\": \"B\", \"text\": \"\", \"type\": \"scatter\", \"x\": [-0.6096608224151466, -0.6195079747212103, 0.7109406448525754, -1.3576488964524391, 0.3539574156709573, 1.2262553786457966, -0.5023942829843933, 0.5522310577308305, 0.7108756556978424, 0.10920510938871546, 0.4149967488288535, 1.3011189754866916, 0.5542723738033885, 0.7987642339371241, 0.8759170909728486, 0.7219316733733715, -1.7869490716923797, -1.679550595679321, 1.9274639583266926, 0.3828021930857063, 1.2608656994571699, -0.1938433376033397, 1.8357859382308004, 1.3001031158009266, -0.632849920499351, -1.5342524445220331, -2.3585628827994283, 0.0661748444944162, 0.006365499709921685, 0.312995564273019, 0.0937504317809031, -0.29835371474252503, -1.8279726016525282, -0.352868152041477, -0.8559998733210675, -0.28608530691286377, 1.396727023340674, -0.40359163631147577, -0.3292458811883445, 0.599421083749579, -1.2124000262503405, -0.5693543470575455, 0.4377338777037384, -1.642144774079887, -0.30764720537762086, 1.2542750180885254, 0.7564255708797416, -0.9832730838691014, 0.4164998282128355, 0.7477748458530866, 1.3560202886782509, 1.546746331079022, 1.9052164640676077, -2.0461367992280457, 0.9687250883987175, -0.16111852239983515, -0.2623169457336536, 0.6979029617949611, -1.4823878216061581, 0.392877675346139, 0.21566655583007072, -1.7472944763299612, -1.2516772119417252, -0.13766057172636878, 0.6390747642098169, -0.5165476343485128, -0.662260234384109, -1.4190709440988007, 0.9135263608642058, -0.16528750001260598, -0.40019365725797157, -0.3700242924353822, -1.962750084533982, -0.4508981113805817, -0.9727042912984357, 0.04723505603996999, 1.4504684351884678, -0.1189997957052009, -1.2371007992918832, 0.5995717421705108, -1.1166092112545292, 0.1715473028907822, -0.3347258686563542, -1.240185466280291, 1.0476296913470322, 1.700571192640512, 0.3146752141594078, -0.8066274098380597, 1.1412362503571325, 0.9193081732449275, 0.41038052464580893, -0.6929166527794698, 0.7922727125420788, 0.3475430006898677, -0.5775533782567989, 1.387393562697111, -0.14139060179298688, 0.1232069052447074, -1.6848274592682884, -0.3079396992785525], \"xaxis\": \"x7\", \"y\": [0.19757683481913466, 0.19652603702414015, 0.8802559451990586, -3.246105290136032, 0.13166861327125656, 0.37894731398952586, 0.9017310254915447, 0.8410559395842016, -0.3475436119400676, -0.6333759579885387, -0.46721317143339497, -0.25197763683591395, 0.10798919230128363, 0.8279785479323732, 0.5181141679590413, -0.08740292588407063, -0.6262855402267856, -0.9981323252780863, -0.16530789117237085, -1.1171779612314283, 0.14964301868274876, -0.7213752047771493, -0.55422745014167, -1.8050140419080938, -0.09366392738194239, 0.7226521207213704, 0.950687199099526, -0.3285326599246558, 1.4151962610116287, -0.874654751843458, 0.429029706243159, 0.38343051280730256, 0.5229346393025011, -1.0546871079135307, -0.9096170476035544, -1.4792325006326723, -0.0658692466059647, -1.3027699560793393, 0.988090979663669, -0.22409559289129885, 0.7133713100303162, 0.3416091416133028, -0.9306940942545728, -0.34340258028634024, -0.5820680198522021, -0.47557889455395325, -0.4927696339863192, -1.0305543868008562, -1.0992997531456075, 0.9989814097855022, 0.29706921050397894, 0.44290029683620286, 0.23479596022042112, -1.2590740525741102, -0.5553387627535838, -0.9247408398573905, -0.30264344149525485, -0.710723649552731, -0.4571537974062655, -1.2442424570271577, 0.6278670818249709, -0.5607876516543867, -0.6455709830869545, 0.8795806440458941, 0.4075942240710124, -0.5077041158846402, 1.403109214192499, 0.41190914173872556, -0.9797664268315869, -0.407844408205296, 0.20692180881156025, 0.2171037233664773, -1.0206316273355782, 0.28358419056260675, 0.681150249787766, 0.5826961401987615, 0.93025604132711, -0.6151490682609284, -1.7903317652004367, 0.7746725906814703, 0.9587083684669854, -1.0291724032658307, 0.48332863248025204, -0.10730694261016965, 1.0628165318834424, 0.3498735613601411, -1.4542444735205482, -0.37433846017044375, -0.03994373838327206, -0.35655183390093353, 0.26880757874751465, 0.5083302621189569, 0.9995757926517211, 3.432394122748129, -1.6958994843957778, -1.0586459065945708, -1.8360538740318209, -0.6032852020161685, -1.5928644283858395, -1.8202141537266145], \"yaxis\": \"y7\"}, {\"line\": {\"color\": \"rgba(128, 128, 128, 1.0)\", \"dash\": \"solid\", \"shape\": \"linear\", \"width\": 1.3}, \"marker\": {\"size\": 2, \"symbol\": \"circle\"}, \"mode\": \"markers\", \"name\": \"B\", \"text\": \"\", \"type\": \"scatter\", \"x\": [1.1401673986248801, 0.13313653080927113, 0.19698757663838, 0.952955548715361, -0.20989517397197824, 0.23896266017547702, -0.35425191925320987, -0.6126943383460478, 1.3920191303747103, 0.548922979417018, 0.6143207621742002, 0.31775370625711374, 0.35343266229756776, 0.8146004499815067, -1.0202276992452228, 1.0329463600952744, 0.4050958787576824, -2.8435300437531796, 0.8476960698637384, 0.30060393407956204, 2.395377396817081, 0.41754187027079953, -0.041557565209885516, 1.7756192538628472, 0.6033104525486233, 0.32067559892224434, 0.5146999332229149, -1.2934581169624737, -0.13703049255397978, -0.07213589597693378, -0.3770317341839668, -1.0696842549372618, 0.9816766588940186, 1.918981131133428, -0.2289408687169476, 0.2671261146526187, 0.5119462534866697, -0.8239501957925991, -0.10913167594946674, -0.6679040757000227, -0.7749056852741179, 0.20389806534071162, -0.901276867585821, 1.154099420824574, 0.011354401808919192, 0.2098443593415194, 1.5854698876338933, -0.07344276075067835, 0.5073385189309244, -1.773319236552539, -0.05272041058146565, -0.00362736273952922, -0.5945275493238228, 0.41809379429104887, 0.8909465400459582, 0.09563245179050314, 1.0311602461832148, 1.0159953770058927, -0.6170213287877444, -1.0976143674215801, -1.5004841052765934, 0.09431301496742447, -0.9452218800849674, -0.01560992121439684, 0.7879037411261346, 0.6853755116492865, -0.8623001717604366, 1.0769194654893817, 0.6431688511361634, 0.12895953199732638, -0.5498628658378011, -1.4492936939235181, 0.016024222288879897, 2.664282252712835, 1.0696366331516471, 0.12835965398046997, 0.5101687936919098, 1.5299010478683583, -1.2335689808342365, 0.2464428699381851, 2.1078222162200384, 0.7843387741083879, -0.1446628038271378, 0.8157535679411924, -0.20789418560122971, 1.2911215665236357, -0.4371104648645292, 1.2891046799090462, 0.14198386497507962, -0.24169307687263147, 0.08057209185200362, 1.448257337150349, -0.6207616616697897, -1.3403917003667252, -0.8028486224328306, -0.21052336907806699, -0.09233070228788874, -0.3661415088533711, -0.4629290587443829, 1.0483734858888971], \"xaxis\": \"x8\", \"y\": [0.19757683481913466, 0.19652603702414015, 0.8802559451990586, -3.246105290136032, 0.13166861327125656, 0.37894731398952586, 0.9017310254915447, 0.8410559395842016, -0.3475436119400676, -0.6333759579885387, -0.46721317143339497, -0.25197763683591395, 0.10798919230128363, 0.8279785479323732, 0.5181141679590413, -0.08740292588407063, -0.6262855402267856, -0.9981323252780863, -0.16530789117237085, -1.1171779612314283, 0.14964301868274876, -0.7213752047771493, -0.55422745014167, -1.8050140419080938, -0.09366392738194239, 0.7226521207213704, 0.950687199099526, -0.3285326599246558, 1.4151962610116287, -0.874654751843458, 0.429029706243159, 0.38343051280730256, 0.5229346393025011, -1.0546871079135307, -0.9096170476035544, -1.4792325006326723, -0.0658692466059647, -1.3027699560793393, 0.988090979663669, -0.22409559289129885, 0.7133713100303162, 0.3416091416133028, -0.9306940942545728, -0.34340258028634024, -0.5820680198522021, -0.47557889455395325, -0.4927696339863192, -1.0305543868008562, -1.0992997531456075, 0.9989814097855022, 0.29706921050397894, 0.44290029683620286, 0.23479596022042112, -1.2590740525741102, -0.5553387627535838, -0.9247408398573905, -0.30264344149525485, -0.710723649552731, -0.4571537974062655, -1.2442424570271577, 0.6278670818249709, -0.5607876516543867, -0.6455709830869545, 0.8795806440458941, 0.4075942240710124, -0.5077041158846402, 1.403109214192499, 0.41190914173872556, -0.9797664268315869, -0.407844408205296, 0.20692180881156025, 0.2171037233664773, -1.0206316273355782, 0.28358419056260675, 0.681150249787766, 0.5826961401987615, 0.93025604132711, -0.6151490682609284, -1.7903317652004367, 0.7746725906814703, 0.9587083684669854, -1.0291724032658307, 0.48332863248025204, -0.10730694261016965, 1.0628165318834424, 0.3498735613601411, -1.4542444735205482, -0.37433846017044375, -0.03994373838327206, -0.35655183390093353, 0.26880757874751465, 0.5083302621189569, 0.9995757926517211, 3.432394122748129, -1.6958994843957778, -1.0586459065945708, -1.8360538740318209, -0.6032852020161685, -1.5928644283858395, -1.8202141537266145], \"yaxis\": \"y8\"}, {\"line\": {\"color\": \"rgba(128, 128, 128, 1.0)\", \"dash\": \"solid\", \"shape\": \"linear\", \"width\": 1.3}, \"marker\": {\"size\": 2, \"symbol\": \"circle\"}, \"mode\": \"markers\", \"name\": \"C\", \"text\": \"\", \"type\": \"scatter\", \"x\": [0.7377480585830137, 0.7342847783883112, -1.0683171404471412, -1.502733798438884, 0.6561686237827556, -1.1459037323632137, 0.6476633312484361, 0.954015340373593, 1.539985876684928, 0.7985745670731059, -1.5918749202161273, 0.8082330941312681, 0.4497225270275956, 0.44060026434460214, 0.6348032618871884, 1.3874779330072162, 0.0438216873576978, -1.1014944244087401, -1.2275063824869006, -1.8290699710898346, -0.22351957823940455, -0.7050039212800109, -1.1183465214167012, -1.8248514931381798, 1.4905083191743311, 0.25626490998075285, 0.7422419175531905, 0.027907303872408085, -0.06577875054392432, -2.028482755750844, -0.9999937897710787, 0.18755245412529312, -1.3748890838009733, -0.7893670077838172, -0.9693956309750764, -0.3874700518752942, 0.8497108153574742, -2.3984511660062826, -1.0375323703356547, -1.1668382338824628, 1.0178209906174234, -2.0184440193807105, 0.10005832909083658, -0.5248020077275282, 0.6066228167525038, 0.2697695084102519, -1.332359037059602, -0.1136562919792124, -1.5255681143137725, 0.7148349278548535, -0.23774122847181883, 0.7716215119493806, 0.02376413684294443, -0.20117023619862676, -0.5919119812096941, -2.289606638197903, -1.69171991905258, 0.03946357615375144, 0.061783385108110836, 0.5000231705082663, -0.08109990486056581, -0.22066706333618294, 0.6970531220231665, 0.5792548517859589, 0.3834561644480958, 0.30649813188746133, -0.810500502854627, 1.1874691913836422, 0.04273693089697035, 0.10807765364701052, -1.9834385486030648, 0.30500393482364385, 0.04025339830170707, -1.3667014133501796, -1.0856887678202325, 0.6435525794998168, 0.09094754542965085, 0.11965187209304147, -1.109132843870616, -1.1028645951963907, 0.5112915171860486, 1.9374953617279147, -0.07245361045267751, -0.5470649360074591, 3.3981405035516525, -1.170234159171683, 0.4029753395723124, -0.49332286516639035, -1.1812130978576854, -2.0723603009366376, -0.8091482359309616, 0.956168042124244, -0.26979704705689905, -0.06303567646588461, 0.28774570776517755, 1.3294452569558244, 0.25037832471323584, -0.23303023685009297, -0.8954288193418369, -0.29096827647431506], \"xaxis\": \"x9\", \"y\": [-0.6096608224151466, -0.6195079747212103, 0.7109406448525754, -1.3576488964524391, 0.3539574156709573, 1.2262553786457966, -0.5023942829843933, 0.5522310577308305, 0.7108756556978424, 0.10920510938871546, 0.4149967488288535, 1.3011189754866916, 0.5542723738033885, 0.7987642339371241, 0.8759170909728486, 0.7219316733733715, -1.7869490716923797, -1.679550595679321, 1.9274639583266926, 0.3828021930857063, 1.2608656994571699, -0.1938433376033397, 1.8357859382308004, 1.3001031158009266, -0.632849920499351, -1.5342524445220331, -2.3585628827994283, 0.0661748444944162, 0.006365499709921685, 0.312995564273019, 0.0937504317809031, -0.29835371474252503, -1.8279726016525282, -0.352868152041477, -0.8559998733210675, -0.28608530691286377, 1.396727023340674, -0.40359163631147577, -0.3292458811883445, 0.599421083749579, -1.2124000262503405, -0.5693543470575455, 0.4377338777037384, -1.642144774079887, -0.30764720537762086, 1.2542750180885254, 0.7564255708797416, -0.9832730838691014, 0.4164998282128355, 0.7477748458530866, 1.3560202886782509, 1.546746331079022, 1.9052164640676077, -2.0461367992280457, 0.9687250883987175, -0.16111852239983515, -0.2623169457336536, 0.6979029617949611, -1.4823878216061581, 0.392877675346139, 0.21566655583007072, -1.7472944763299612, -1.2516772119417252, -0.13766057172636878, 0.6390747642098169, -0.5165476343485128, -0.662260234384109, -1.4190709440988007, 0.9135263608642058, -0.16528750001260598, -0.40019365725797157, -0.3700242924353822, -1.962750084533982, -0.4508981113805817, -0.9727042912984357, 0.04723505603996999, 1.4504684351884678, -0.1189997957052009, -1.2371007992918832, 0.5995717421705108, -1.1166092112545292, 0.1715473028907822, -0.3347258686563542, -1.240185466280291, 1.0476296913470322, 1.700571192640512, 0.3146752141594078, -0.8066274098380597, 1.1412362503571325, 0.9193081732449275, 0.41038052464580893, -0.6929166527794698, 0.7922727125420788, 0.3475430006898677, -0.5775533782567989, 1.387393562697111, -0.14139060179298688, 0.1232069052447074, -1.6848274592682884, -0.3079396992785525], \"yaxis\": \"y9\"}, {\"line\": {\"color\": \"rgba(128, 128, 128, 1.0)\", \"dash\": \"solid\", \"shape\": \"linear\", \"width\": 1.3}, \"marker\": {\"size\": 2, \"symbol\": \"circle\"}, \"mode\": \"markers\", \"name\": \"C\", \"text\": \"\", \"type\": \"scatter\", \"x\": [0.19757683481913466, 0.19652603702414015, 0.8802559451990586, -3.246105290136032, 0.13166861327125656, 0.37894731398952586, 0.9017310254915447, 0.8410559395842016, -0.3475436119400676, -0.6333759579885387, -0.46721317143339497, -0.25197763683591395, 0.10798919230128363, 0.8279785479323732, 0.5181141679590413, -0.08740292588407063, -0.6262855402267856, -0.9981323252780863, -0.16530789117237085, -1.1171779612314283, 0.14964301868274876, -0.7213752047771493, -0.55422745014167, -1.8050140419080938, -0.09366392738194239, 0.7226521207213704, 0.950687199099526, -0.3285326599246558, 1.4151962610116287, -0.874654751843458, 0.429029706243159, 0.38343051280730256, 0.5229346393025011, -1.0546871079135307, -0.9096170476035544, -1.4792325006326723, -0.0658692466059647, -1.3027699560793393, 0.988090979663669, -0.22409559289129885, 0.7133713100303162, 0.3416091416133028, -0.9306940942545728, -0.34340258028634024, -0.5820680198522021, -0.47557889455395325, -0.4927696339863192, -1.0305543868008562, -1.0992997531456075, 0.9989814097855022, 0.29706921050397894, 0.44290029683620286, 0.23479596022042112, -1.2590740525741102, -0.5553387627535838, -0.9247408398573905, -0.30264344149525485, -0.710723649552731, -0.4571537974062655, -1.2442424570271577, 0.6278670818249709, -0.5607876516543867, -0.6455709830869545, 0.8795806440458941, 0.4075942240710124, -0.5077041158846402, 1.403109214192499, 0.41190914173872556, -0.9797664268315869, -0.407844408205296, 0.20692180881156025, 0.2171037233664773, -1.0206316273355782, 0.28358419056260675, 0.681150249787766, 0.5826961401987615, 0.93025604132711, -0.6151490682609284, -1.7903317652004367, 0.7746725906814703, 0.9587083684669854, -1.0291724032658307, 0.48332863248025204, -0.10730694261016965, 1.0628165318834424, 0.3498735613601411, -1.4542444735205482, -0.37433846017044375, -0.03994373838327206, -0.35655183390093353, 0.26880757874751465, 0.5083302621189569, 0.9995757926517211, 3.432394122748129, -1.6958994843957778, -1.0586459065945708, -1.8360538740318209, -0.6032852020161685, -1.5928644283858395, -1.8202141537266145], \"xaxis\": \"x10\", \"y\": [-0.6096608224151466, -0.6195079747212103, 0.7109406448525754, -1.3576488964524391, 0.3539574156709573, 1.2262553786457966, -0.5023942829843933, 0.5522310577308305, 0.7108756556978424, 0.10920510938871546, 0.4149967488288535, 1.3011189754866916, 0.5542723738033885, 0.7987642339371241, 0.8759170909728486, 0.7219316733733715, -1.7869490716923797, -1.679550595679321, 1.9274639583266926, 0.3828021930857063, 1.2608656994571699, -0.1938433376033397, 1.8357859382308004, 1.3001031158009266, -0.632849920499351, -1.5342524445220331, -2.3585628827994283, 0.0661748444944162, 0.006365499709921685, 0.312995564273019, 0.0937504317809031, -0.29835371474252503, -1.8279726016525282, -0.352868152041477, -0.8559998733210675, -0.28608530691286377, 1.396727023340674, -0.40359163631147577, -0.3292458811883445, 0.599421083749579, -1.2124000262503405, -0.5693543470575455, 0.4377338777037384, -1.642144774079887, -0.30764720537762086, 1.2542750180885254, 0.7564255708797416, -0.9832730838691014, 0.4164998282128355, 0.7477748458530866, 1.3560202886782509, 1.546746331079022, 1.9052164640676077, -2.0461367992280457, 0.9687250883987175, -0.16111852239983515, -0.2623169457336536, 0.6979029617949611, -1.4823878216061581, 0.392877675346139, 0.21566655583007072, -1.7472944763299612, -1.2516772119417252, -0.13766057172636878, 0.6390747642098169, -0.5165476343485128, -0.662260234384109, -1.4190709440988007, 0.9135263608642058, -0.16528750001260598, -0.40019365725797157, -0.3700242924353822, -1.962750084533982, -0.4508981113805817, -0.9727042912984357, 0.04723505603996999, 1.4504684351884678, -0.1189997957052009, -1.2371007992918832, 0.5995717421705108, -1.1166092112545292, 0.1715473028907822, -0.3347258686563542, -1.240185466280291, 1.0476296913470322, 1.700571192640512, 0.3146752141594078, -0.8066274098380597, 1.1412362503571325, 0.9193081732449275, 0.41038052464580893, -0.6929166527794698, 0.7922727125420788, 0.3475430006898677, -0.5775533782567989, 1.387393562697111, -0.14139060179298688, 0.1232069052447074, -1.6848274592682884, -0.3079396992785525], \"yaxis\": \"y10\"}, {\"histfunc\": \"count\", \"histnorm\": \"\", \"marker\": {\"color\": \"rgba(50, 171, 96, 1.0)\", \"line\": {\"color\": \"#4D5663\", \"width\": 1.3}}, \"name\": \"C\", \"nbinsx\": 10, \"opacity\": 0.8, \"orientation\": \"v\", \"type\": \"histogram\", \"x\": [-0.6096608224151466, -0.6195079747212103, 0.7109406448525754, -1.3576488964524391, 0.3539574156709573, 1.2262553786457966, -0.5023942829843933, 0.5522310577308305, 0.7108756556978424, 0.10920510938871546, 0.4149967488288535, 1.3011189754866916, 0.5542723738033885, 0.7987642339371241, 0.8759170909728486, 0.7219316733733715, -1.7869490716923797, -1.679550595679321, 1.9274639583266926, 0.3828021930857063, 1.2608656994571699, -0.1938433376033397, 1.8357859382308004, 1.3001031158009266, -0.632849920499351, -1.5342524445220331, -2.3585628827994283, 0.0661748444944162, 0.006365499709921685, 0.312995564273019, 0.0937504317809031, -0.29835371474252503, -1.8279726016525282, -0.352868152041477, -0.8559998733210675, -0.28608530691286377, 1.396727023340674, -0.40359163631147577, -0.3292458811883445, 0.599421083749579, -1.2124000262503405, -0.5693543470575455, 0.4377338777037384, -1.642144774079887, -0.30764720537762086, 1.2542750180885254, 0.7564255708797416, -0.9832730838691014, 0.4164998282128355, 0.7477748458530866, 1.3560202886782509, 1.546746331079022, 1.9052164640676077, -2.0461367992280457, 0.9687250883987175, -0.16111852239983515, -0.2623169457336536, 0.6979029617949611, -1.4823878216061581, 0.392877675346139, 0.21566655583007072, -1.7472944763299612, -1.2516772119417252, -0.13766057172636878, 0.6390747642098169, -0.5165476343485128, -0.662260234384109, -1.4190709440988007, 0.9135263608642058, -0.16528750001260598, -0.40019365725797157, -0.3700242924353822, -1.962750084533982, -0.4508981113805817, -0.9727042912984357, 0.04723505603996999, 1.4504684351884678, -0.1189997957052009, -1.2371007992918832, 0.5995717421705108, -1.1166092112545292, 0.1715473028907822, -0.3347258686563542, -1.240185466280291, 1.0476296913470322, 1.700571192640512, 0.3146752141594078, -0.8066274098380597, 1.1412362503571325, 0.9193081732449275, 0.41038052464580893, -0.6929166527794698, 0.7922727125420788, 0.3475430006898677, -0.5775533782567989, 1.387393562697111, -0.14139060179298688, 0.1232069052447074, -1.6848274592682884, -0.3079396992785525], \"xaxis\": \"x11\", \"yaxis\": \"y11\"}, {\"line\": {\"color\": \"rgba(128, 128, 128, 1.0)\", \"dash\": \"solid\", \"shape\": \"linear\", \"width\": 1.3}, \"marker\": {\"size\": 2, \"symbol\": \"circle\"}, \"mode\": \"markers\", \"name\": \"C\", \"text\": \"\", \"type\": \"scatter\", \"x\": [1.1401673986248801, 0.13313653080927113, 0.19698757663838, 0.952955548715361, -0.20989517397197824, 0.23896266017547702, -0.35425191925320987, -0.6126943383460478, 1.3920191303747103, 0.548922979417018, 0.6143207621742002, 0.31775370625711374, 0.35343266229756776, 0.8146004499815067, -1.0202276992452228, 1.0329463600952744, 0.4050958787576824, -2.8435300437531796, 0.8476960698637384, 0.30060393407956204, 2.395377396817081, 0.41754187027079953, -0.041557565209885516, 1.7756192538628472, 0.6033104525486233, 0.32067559892224434, 0.5146999332229149, -1.2934581169624737, -0.13703049255397978, -0.07213589597693378, -0.3770317341839668, -1.0696842549372618, 0.9816766588940186, 1.918981131133428, -0.2289408687169476, 0.2671261146526187, 0.5119462534866697, -0.8239501957925991, -0.10913167594946674, -0.6679040757000227, -0.7749056852741179, 0.20389806534071162, -0.901276867585821, 1.154099420824574, 0.011354401808919192, 0.2098443593415194, 1.5854698876338933, -0.07344276075067835, 0.5073385189309244, -1.773319236552539, -0.05272041058146565, -0.00362736273952922, -0.5945275493238228, 0.41809379429104887, 0.8909465400459582, 0.09563245179050314, 1.0311602461832148, 1.0159953770058927, -0.6170213287877444, -1.0976143674215801, -1.5004841052765934, 0.09431301496742447, -0.9452218800849674, -0.01560992121439684, 0.7879037411261346, 0.6853755116492865, -0.8623001717604366, 1.0769194654893817, 0.6431688511361634, 0.12895953199732638, -0.5498628658378011, -1.4492936939235181, 0.016024222288879897, 2.664282252712835, 1.0696366331516471, 0.12835965398046997, 0.5101687936919098, 1.5299010478683583, -1.2335689808342365, 0.2464428699381851, 2.1078222162200384, 0.7843387741083879, -0.1446628038271378, 0.8157535679411924, -0.20789418560122971, 1.2911215665236357, -0.4371104648645292, 1.2891046799090462, 0.14198386497507962, -0.24169307687263147, 0.08057209185200362, 1.448257337150349, -0.6207616616697897, -1.3403917003667252, -0.8028486224328306, -0.21052336907806699, -0.09233070228788874, -0.3661415088533711, -0.4629290587443829, 1.0483734858888971], \"xaxis\": \"x12\", \"y\": [-0.6096608224151466, -0.6195079747212103, 0.7109406448525754, -1.3576488964524391, 0.3539574156709573, 1.2262553786457966, -0.5023942829843933, 0.5522310577308305, 0.7108756556978424, 0.10920510938871546, 0.4149967488288535, 1.3011189754866916, 0.5542723738033885, 0.7987642339371241, 0.8759170909728486, 0.7219316733733715, -1.7869490716923797, -1.679550595679321, 1.9274639583266926, 0.3828021930857063, 1.2608656994571699, -0.1938433376033397, 1.8357859382308004, 1.3001031158009266, -0.632849920499351, -1.5342524445220331, -2.3585628827994283, 0.0661748444944162, 0.006365499709921685, 0.312995564273019, 0.0937504317809031, -0.29835371474252503, -1.8279726016525282, -0.352868152041477, -0.8559998733210675, -0.28608530691286377, 1.396727023340674, -0.40359163631147577, -0.3292458811883445, 0.599421083749579, -1.2124000262503405, -0.5693543470575455, 0.4377338777037384, -1.642144774079887, -0.30764720537762086, 1.2542750180885254, 0.7564255708797416, -0.9832730838691014, 0.4164998282128355, 0.7477748458530866, 1.3560202886782509, 1.546746331079022, 1.9052164640676077, -2.0461367992280457, 0.9687250883987175, -0.16111852239983515, -0.2623169457336536, 0.6979029617949611, -1.4823878216061581, 0.392877675346139, 0.21566655583007072, -1.7472944763299612, -1.2516772119417252, -0.13766057172636878, 0.6390747642098169, -0.5165476343485128, -0.662260234384109, -1.4190709440988007, 0.9135263608642058, -0.16528750001260598, -0.40019365725797157, -0.3700242924353822, -1.962750084533982, -0.4508981113805817, -0.9727042912984357, 0.04723505603996999, 1.4504684351884678, -0.1189997957052009, -1.2371007992918832, 0.5995717421705108, -1.1166092112545292, 0.1715473028907822, -0.3347258686563542, -1.240185466280291, 1.0476296913470322, 1.700571192640512, 0.3146752141594078, -0.8066274098380597, 1.1412362503571325, 0.9193081732449275, 0.41038052464580893, -0.6929166527794698, 0.7922727125420788, 0.3475430006898677, -0.5775533782567989, 1.387393562697111, -0.14139060179298688, 0.1232069052447074, -1.6848274592682884, -0.3079396992785525], \"yaxis\": \"y12\"}, {\"line\": {\"color\": \"rgba(128, 128, 128, 1.0)\", \"dash\": \"solid\", \"shape\": \"linear\", \"width\": 1.3}, \"marker\": {\"size\": 2, \"symbol\": \"circle\"}, \"mode\": \"markers\", \"name\": \"D\", \"text\": \"\", \"type\": \"scatter\", \"x\": [0.7377480585830137, 0.7342847783883112, -1.0683171404471412, -1.502733798438884, 0.6561686237827556, -1.1459037323632137, 0.6476633312484361, 0.954015340373593, 1.539985876684928, 0.7985745670731059, -1.5918749202161273, 0.8082330941312681, 0.4497225270275956, 0.44060026434460214, 0.6348032618871884, 1.3874779330072162, 0.0438216873576978, -1.1014944244087401, -1.2275063824869006, -1.8290699710898346, -0.22351957823940455, -0.7050039212800109, -1.1183465214167012, -1.8248514931381798, 1.4905083191743311, 0.25626490998075285, 0.7422419175531905, 0.027907303872408085, -0.06577875054392432, -2.028482755750844, -0.9999937897710787, 0.18755245412529312, -1.3748890838009733, -0.7893670077838172, -0.9693956309750764, -0.3874700518752942, 0.8497108153574742, -2.3984511660062826, -1.0375323703356547, -1.1668382338824628, 1.0178209906174234, -2.0184440193807105, 0.10005832909083658, -0.5248020077275282, 0.6066228167525038, 0.2697695084102519, -1.332359037059602, -0.1136562919792124, -1.5255681143137725, 0.7148349278548535, -0.23774122847181883, 0.7716215119493806, 0.02376413684294443, -0.20117023619862676, -0.5919119812096941, -2.289606638197903, -1.69171991905258, 0.03946357615375144, 0.061783385108110836, 0.5000231705082663, -0.08109990486056581, -0.22066706333618294, 0.6970531220231665, 0.5792548517859589, 0.3834561644480958, 0.30649813188746133, -0.810500502854627, 1.1874691913836422, 0.04273693089697035, 0.10807765364701052, -1.9834385486030648, 0.30500393482364385, 0.04025339830170707, -1.3667014133501796, -1.0856887678202325, 0.6435525794998168, 0.09094754542965085, 0.11965187209304147, -1.109132843870616, -1.1028645951963907, 0.5112915171860486, 1.9374953617279147, -0.07245361045267751, -0.5470649360074591, 3.3981405035516525, -1.170234159171683, 0.4029753395723124, -0.49332286516639035, -1.1812130978576854, -2.0723603009366376, -0.8091482359309616, 0.956168042124244, -0.26979704705689905, -0.06303567646588461, 0.28774570776517755, 1.3294452569558244, 0.25037832471323584, -0.23303023685009297, -0.8954288193418369, -0.29096827647431506], \"xaxis\": \"x13\", \"y\": [1.1401673986248801, 0.13313653080927113, 0.19698757663838, 0.952955548715361, -0.20989517397197824, 0.23896266017547702, -0.35425191925320987, -0.6126943383460478, 1.3920191303747103, 0.548922979417018, 0.6143207621742002, 0.31775370625711374, 0.35343266229756776, 0.8146004499815067, -1.0202276992452228, 1.0329463600952744, 0.4050958787576824, -2.8435300437531796, 0.8476960698637384, 0.30060393407956204, 2.395377396817081, 0.41754187027079953, -0.041557565209885516, 1.7756192538628472, 0.6033104525486233, 0.32067559892224434, 0.5146999332229149, -1.2934581169624737, -0.13703049255397978, -0.07213589597693378, -0.3770317341839668, -1.0696842549372618, 0.9816766588940186, 1.918981131133428, -0.2289408687169476, 0.2671261146526187, 0.5119462534866697, -0.8239501957925991, -0.10913167594946674, -0.6679040757000227, -0.7749056852741179, 0.20389806534071162, -0.901276867585821, 1.154099420824574, 0.011354401808919192, 0.2098443593415194, 1.5854698876338933, -0.07344276075067835, 0.5073385189309244, -1.773319236552539, -0.05272041058146565, -0.00362736273952922, -0.5945275493238228, 0.41809379429104887, 0.8909465400459582, 0.09563245179050314, 1.0311602461832148, 1.0159953770058927, -0.6170213287877444, -1.0976143674215801, -1.5004841052765934, 0.09431301496742447, -0.9452218800849674, -0.01560992121439684, 0.7879037411261346, 0.6853755116492865, -0.8623001717604366, 1.0769194654893817, 0.6431688511361634, 0.12895953199732638, -0.5498628658378011, -1.4492936939235181, 0.016024222288879897, 2.664282252712835, 1.0696366331516471, 0.12835965398046997, 0.5101687936919098, 1.5299010478683583, -1.2335689808342365, 0.2464428699381851, 2.1078222162200384, 0.7843387741083879, -0.1446628038271378, 0.8157535679411924, -0.20789418560122971, 1.2911215665236357, -0.4371104648645292, 1.2891046799090462, 0.14198386497507962, -0.24169307687263147, 0.08057209185200362, 1.448257337150349, -0.6207616616697897, -1.3403917003667252, -0.8028486224328306, -0.21052336907806699, -0.09233070228788874, -0.3661415088533711, -0.4629290587443829, 1.0483734858888971], \"yaxis\": \"y13\"}, {\"line\": {\"color\": \"rgba(128, 128, 128, 1.0)\", \"dash\": \"solid\", \"shape\": \"linear\", \"width\": 1.3}, \"marker\": {\"size\": 2, \"symbol\": \"circle\"}, \"mode\": \"markers\", \"name\": \"D\", \"text\": \"\", \"type\": \"scatter\", \"x\": [0.19757683481913466, 0.19652603702414015, 0.8802559451990586, -3.246105290136032, 0.13166861327125656, 0.37894731398952586, 0.9017310254915447, 0.8410559395842016, -0.3475436119400676, -0.6333759579885387, -0.46721317143339497, -0.25197763683591395, 0.10798919230128363, 0.8279785479323732, 0.5181141679590413, -0.08740292588407063, -0.6262855402267856, -0.9981323252780863, -0.16530789117237085, -1.1171779612314283, 0.14964301868274876, -0.7213752047771493, -0.55422745014167, -1.8050140419080938, -0.09366392738194239, 0.7226521207213704, 0.950687199099526, -0.3285326599246558, 1.4151962610116287, -0.874654751843458, 0.429029706243159, 0.38343051280730256, 0.5229346393025011, -1.0546871079135307, -0.9096170476035544, -1.4792325006326723, -0.0658692466059647, -1.3027699560793393, 0.988090979663669, -0.22409559289129885, 0.7133713100303162, 0.3416091416133028, -0.9306940942545728, -0.34340258028634024, -0.5820680198522021, -0.47557889455395325, -0.4927696339863192, -1.0305543868008562, -1.0992997531456075, 0.9989814097855022, 0.29706921050397894, 0.44290029683620286, 0.23479596022042112, -1.2590740525741102, -0.5553387627535838, -0.9247408398573905, -0.30264344149525485, -0.710723649552731, -0.4571537974062655, -1.2442424570271577, 0.6278670818249709, -0.5607876516543867, -0.6455709830869545, 0.8795806440458941, 0.4075942240710124, -0.5077041158846402, 1.403109214192499, 0.41190914173872556, -0.9797664268315869, -0.407844408205296, 0.20692180881156025, 0.2171037233664773, -1.0206316273355782, 0.28358419056260675, 0.681150249787766, 0.5826961401987615, 0.93025604132711, -0.6151490682609284, -1.7903317652004367, 0.7746725906814703, 0.9587083684669854, -1.0291724032658307, 0.48332863248025204, -0.10730694261016965, 1.0628165318834424, 0.3498735613601411, -1.4542444735205482, -0.37433846017044375, -0.03994373838327206, -0.35655183390093353, 0.26880757874751465, 0.5083302621189569, 0.9995757926517211, 3.432394122748129, -1.6958994843957778, -1.0586459065945708, -1.8360538740318209, -0.6032852020161685, -1.5928644283858395, -1.8202141537266145], \"xaxis\": \"x14\", \"y\": [1.1401673986248801, 0.13313653080927113, 0.19698757663838, 0.952955548715361, -0.20989517397197824, 0.23896266017547702, -0.35425191925320987, -0.6126943383460478, 1.3920191303747103, 0.548922979417018, 0.6143207621742002, 0.31775370625711374, 0.35343266229756776, 0.8146004499815067, -1.0202276992452228, 1.0329463600952744, 0.4050958787576824, -2.8435300437531796, 0.8476960698637384, 0.30060393407956204, 2.395377396817081, 0.41754187027079953, -0.041557565209885516, 1.7756192538628472, 0.6033104525486233, 0.32067559892224434, 0.5146999332229149, -1.2934581169624737, -0.13703049255397978, -0.07213589597693378, -0.3770317341839668, -1.0696842549372618, 0.9816766588940186, 1.918981131133428, -0.2289408687169476, 0.2671261146526187, 0.5119462534866697, -0.8239501957925991, -0.10913167594946674, -0.6679040757000227, -0.7749056852741179, 0.20389806534071162, -0.901276867585821, 1.154099420824574, 0.011354401808919192, 0.2098443593415194, 1.5854698876338933, -0.07344276075067835, 0.5073385189309244, -1.773319236552539, -0.05272041058146565, -0.00362736273952922, -0.5945275493238228, 0.41809379429104887, 0.8909465400459582, 0.09563245179050314, 1.0311602461832148, 1.0159953770058927, -0.6170213287877444, -1.0976143674215801, -1.5004841052765934, 0.09431301496742447, -0.9452218800849674, -0.01560992121439684, 0.7879037411261346, 0.6853755116492865, -0.8623001717604366, 1.0769194654893817, 0.6431688511361634, 0.12895953199732638, -0.5498628658378011, -1.4492936939235181, 0.016024222288879897, 2.664282252712835, 1.0696366331516471, 0.12835965398046997, 0.5101687936919098, 1.5299010478683583, -1.2335689808342365, 0.2464428699381851, 2.1078222162200384, 0.7843387741083879, -0.1446628038271378, 0.8157535679411924, -0.20789418560122971, 1.2911215665236357, -0.4371104648645292, 1.2891046799090462, 0.14198386497507962, -0.24169307687263147, 0.08057209185200362, 1.448257337150349, -0.6207616616697897, -1.3403917003667252, -0.8028486224328306, -0.21052336907806699, -0.09233070228788874, -0.3661415088533711, -0.4629290587443829, 1.0483734858888971], \"yaxis\": \"y14\"}, {\"line\": {\"color\": \"rgba(128, 128, 128, 1.0)\", \"dash\": \"solid\", \"shape\": \"linear\", \"width\": 1.3}, \"marker\": {\"size\": 2, \"symbol\": \"circle\"}, \"mode\": \"markers\", \"name\": \"D\", \"text\": \"\", \"type\": \"scatter\", \"x\": [-0.6096608224151466, -0.6195079747212103, 0.7109406448525754, -1.3576488964524391, 0.3539574156709573, 1.2262553786457966, -0.5023942829843933, 0.5522310577308305, 0.7108756556978424, 0.10920510938871546, 0.4149967488288535, 1.3011189754866916, 0.5542723738033885, 0.7987642339371241, 0.8759170909728486, 0.7219316733733715, -1.7869490716923797, -1.679550595679321, 1.9274639583266926, 0.3828021930857063, 1.2608656994571699, -0.1938433376033397, 1.8357859382308004, 1.3001031158009266, -0.632849920499351, -1.5342524445220331, -2.3585628827994283, 0.0661748444944162, 0.006365499709921685, 0.312995564273019, 0.0937504317809031, -0.29835371474252503, -1.8279726016525282, -0.352868152041477, -0.8559998733210675, -0.28608530691286377, 1.396727023340674, -0.40359163631147577, -0.3292458811883445, 0.599421083749579, -1.2124000262503405, -0.5693543470575455, 0.4377338777037384, -1.642144774079887, -0.30764720537762086, 1.2542750180885254, 0.7564255708797416, -0.9832730838691014, 0.4164998282128355, 0.7477748458530866, 1.3560202886782509, 1.546746331079022, 1.9052164640676077, -2.0461367992280457, 0.9687250883987175, -0.16111852239983515, -0.2623169457336536, 0.6979029617949611, -1.4823878216061581, 0.392877675346139, 0.21566655583007072, -1.7472944763299612, -1.2516772119417252, -0.13766057172636878, 0.6390747642098169, -0.5165476343485128, -0.662260234384109, -1.4190709440988007, 0.9135263608642058, -0.16528750001260598, -0.40019365725797157, -0.3700242924353822, -1.962750084533982, -0.4508981113805817, -0.9727042912984357, 0.04723505603996999, 1.4504684351884678, -0.1189997957052009, -1.2371007992918832, 0.5995717421705108, -1.1166092112545292, 0.1715473028907822, -0.3347258686563542, -1.240185466280291, 1.0476296913470322, 1.700571192640512, 0.3146752141594078, -0.8066274098380597, 1.1412362503571325, 0.9193081732449275, 0.41038052464580893, -0.6929166527794698, 0.7922727125420788, 0.3475430006898677, -0.5775533782567989, 1.387393562697111, -0.14139060179298688, 0.1232069052447074, -1.6848274592682884, -0.3079396992785525], \"xaxis\": \"x15\", \"y\": [1.1401673986248801, 0.13313653080927113, 0.19698757663838, 0.952955548715361, -0.20989517397197824, 0.23896266017547702, -0.35425191925320987, -0.6126943383460478, 1.3920191303747103, 0.548922979417018, 0.6143207621742002, 0.31775370625711374, 0.35343266229756776, 0.8146004499815067, -1.0202276992452228, 1.0329463600952744, 0.4050958787576824, -2.8435300437531796, 0.8476960698637384, 0.30060393407956204, 2.395377396817081, 0.41754187027079953, -0.041557565209885516, 1.7756192538628472, 0.6033104525486233, 0.32067559892224434, 0.5146999332229149, -1.2934581169624737, -0.13703049255397978, -0.07213589597693378, -0.3770317341839668, -1.0696842549372618, 0.9816766588940186, 1.918981131133428, -0.2289408687169476, 0.2671261146526187, 0.5119462534866697, -0.8239501957925991, -0.10913167594946674, -0.6679040757000227, -0.7749056852741179, 0.20389806534071162, -0.901276867585821, 1.154099420824574, 0.011354401808919192, 0.2098443593415194, 1.5854698876338933, -0.07344276075067835, 0.5073385189309244, -1.773319236552539, -0.05272041058146565, -0.00362736273952922, -0.5945275493238228, 0.41809379429104887, 0.8909465400459582, 0.09563245179050314, 1.0311602461832148, 1.0159953770058927, -0.6170213287877444, -1.0976143674215801, -1.5004841052765934, 0.09431301496742447, -0.9452218800849674, -0.01560992121439684, 0.7879037411261346, 0.6853755116492865, -0.8623001717604366, 1.0769194654893817, 0.6431688511361634, 0.12895953199732638, -0.5498628658378011, -1.4492936939235181, 0.016024222288879897, 2.664282252712835, 1.0696366331516471, 0.12835965398046997, 0.5101687936919098, 1.5299010478683583, -1.2335689808342365, 0.2464428699381851, 2.1078222162200384, 0.7843387741083879, -0.1446628038271378, 0.8157535679411924, -0.20789418560122971, 1.2911215665236357, -0.4371104648645292, 1.2891046799090462, 0.14198386497507962, -0.24169307687263147, 0.08057209185200362, 1.448257337150349, -0.6207616616697897, -1.3403917003667252, -0.8028486224328306, -0.21052336907806699, -0.09233070228788874, -0.3661415088533711, -0.4629290587443829, 1.0483734858888971], \"yaxis\": \"y15\"}, {\"histfunc\": \"count\", \"histnorm\": \"\", \"marker\": {\"color\": \"rgba(128, 0, 128, 1.0)\", \"line\": {\"color\": \"#4D5663\", \"width\": 1.3}}, \"name\": \"D\", \"nbinsx\": 10, \"opacity\": 0.8, \"orientation\": \"v\", \"type\": \"histogram\", \"x\": [1.1401673986248801, 0.13313653080927113, 0.19698757663838, 0.952955548715361, -0.20989517397197824, 0.23896266017547702, -0.35425191925320987, -0.6126943383460478, 1.3920191303747103, 0.548922979417018, 0.6143207621742002, 0.31775370625711374, 0.35343266229756776, 0.8146004499815067, -1.0202276992452228, 1.0329463600952744, 0.4050958787576824, -2.8435300437531796, 0.8476960698637384, 0.30060393407956204, 2.395377396817081, 0.41754187027079953, -0.041557565209885516, 1.7756192538628472, 0.6033104525486233, 0.32067559892224434, 0.5146999332229149, -1.2934581169624737, -0.13703049255397978, -0.07213589597693378, -0.3770317341839668, -1.0696842549372618, 0.9816766588940186, 1.918981131133428, -0.2289408687169476, 0.2671261146526187, 0.5119462534866697, -0.8239501957925991, -0.10913167594946674, -0.6679040757000227, -0.7749056852741179, 0.20389806534071162, -0.901276867585821, 1.154099420824574, 0.011354401808919192, 0.2098443593415194, 1.5854698876338933, -0.07344276075067835, 0.5073385189309244, -1.773319236552539, -0.05272041058146565, -0.00362736273952922, -0.5945275493238228, 0.41809379429104887, 0.8909465400459582, 0.09563245179050314, 1.0311602461832148, 1.0159953770058927, -0.6170213287877444, -1.0976143674215801, -1.5004841052765934, 0.09431301496742447, -0.9452218800849674, -0.01560992121439684, 0.7879037411261346, 0.6853755116492865, -0.8623001717604366, 1.0769194654893817, 0.6431688511361634, 0.12895953199732638, -0.5498628658378011, -1.4492936939235181, 0.016024222288879897, 2.664282252712835, 1.0696366331516471, 0.12835965398046997, 0.5101687936919098, 1.5299010478683583, -1.2335689808342365, 0.2464428699381851, 2.1078222162200384, 0.7843387741083879, -0.1446628038271378, 0.8157535679411924, -0.20789418560122971, 1.2911215665236357, -0.4371104648645292, 1.2891046799090462, 0.14198386497507962, -0.24169307687263147, 0.08057209185200362, 1.448257337150349, -0.6207616616697897, -1.3403917003667252, -0.8028486224328306, -0.21052336907806699, -0.09233070228788874, -0.3661415088533711, -0.4629290587443829, 1.0483734858888971], \"xaxis\": \"x16\", \"yaxis\": \"y16\"}],\n",
       "                        {\"bargap\": 0.02, \"legend\": {\"bgcolor\": \"#F5F6F9\", \"font\": {\"color\": \"#4D5663\"}}, \"paper_bgcolor\": \"#F5F6F9\", \"plot_bgcolor\": \"#F5F6F9\", \"showlegend\": false, \"template\": {\"data\": {\"bar\": [{\"error_x\": {\"color\": \"#2a3f5f\"}, \"error_y\": {\"color\": \"#2a3f5f\"}, \"marker\": {\"line\": {\"color\": \"#E5ECF6\", \"width\": 0.5}}, \"type\": \"bar\"}], \"barpolar\": [{\"marker\": {\"line\": {\"color\": \"#E5ECF6\", \"width\": 0.5}}, \"type\": \"barpolar\"}], \"carpet\": [{\"aaxis\": {\"endlinecolor\": \"#2a3f5f\", \"gridcolor\": \"white\", \"linecolor\": \"white\", \"minorgridcolor\": \"white\", \"startlinecolor\": \"#2a3f5f\"}, \"baxis\": {\"endlinecolor\": \"#2a3f5f\", \"gridcolor\": \"white\", \"linecolor\": \"white\", \"minorgridcolor\": \"white\", \"startlinecolor\": \"#2a3f5f\"}, \"type\": \"carpet\"}], \"choropleth\": [{\"colorbar\": {\"outlinewidth\": 0, \"ticks\": \"\"}, \"type\": \"choropleth\"}], \"contour\": [{\"colorbar\": {\"outlinewidth\": 0, \"ticks\": \"\"}, \"colorscale\": [[0.0, \"#0d0887\"], [0.1111111111111111, \"#46039f\"], [0.2222222222222222, \"#7201a8\"], [0.3333333333333333, \"#9c179e\"], [0.4444444444444444, \"#bd3786\"], [0.5555555555555556, \"#d8576b\"], [0.6666666666666666, \"#ed7953\"], [0.7777777777777778, \"#fb9f3a\"], [0.8888888888888888, \"#fdca26\"], [1.0, \"#f0f921\"]], \"type\": \"contour\"}], \"contourcarpet\": [{\"colorbar\": {\"outlinewidth\": 0, \"ticks\": \"\"}, \"type\": \"contourcarpet\"}], \"heatmap\": [{\"colorbar\": {\"outlinewidth\": 0, \"ticks\": \"\"}, \"colorscale\": [[0.0, \"#0d0887\"], [0.1111111111111111, \"#46039f\"], [0.2222222222222222, \"#7201a8\"], [0.3333333333333333, \"#9c179e\"], [0.4444444444444444, \"#bd3786\"], [0.5555555555555556, \"#d8576b\"], [0.6666666666666666, \"#ed7953\"], [0.7777777777777778, \"#fb9f3a\"], [0.8888888888888888, \"#fdca26\"], [1.0, \"#f0f921\"]], \"type\": \"heatmap\"}], \"heatmapgl\": [{\"colorbar\": {\"outlinewidth\": 0, \"ticks\": \"\"}, \"colorscale\": [[0.0, \"#0d0887\"], [0.1111111111111111, \"#46039f\"], [0.2222222222222222, \"#7201a8\"], [0.3333333333333333, \"#9c179e\"], [0.4444444444444444, \"#bd3786\"], [0.5555555555555556, \"#d8576b\"], [0.6666666666666666, \"#ed7953\"], [0.7777777777777778, \"#fb9f3a\"], [0.8888888888888888, \"#fdca26\"], [1.0, \"#f0f921\"]], \"type\": \"heatmapgl\"}], \"histogram\": [{\"marker\": {\"colorbar\": {\"outlinewidth\": 0, \"ticks\": \"\"}}, \"type\": \"histogram\"}], \"histogram2d\": [{\"colorbar\": {\"outlinewidth\": 0, \"ticks\": \"\"}, \"colorscale\": [[0.0, \"#0d0887\"], [0.1111111111111111, \"#46039f\"], [0.2222222222222222, \"#7201a8\"], [0.3333333333333333, \"#9c179e\"], [0.4444444444444444, \"#bd3786\"], [0.5555555555555556, \"#d8576b\"], [0.6666666666666666, \"#ed7953\"], [0.7777777777777778, \"#fb9f3a\"], [0.8888888888888888, \"#fdca26\"], [1.0, \"#f0f921\"]], \"type\": \"histogram2d\"}], \"histogram2dcontour\": [{\"colorbar\": {\"outlinewidth\": 0, \"ticks\": \"\"}, \"colorscale\": [[0.0, \"#0d0887\"], [0.1111111111111111, \"#46039f\"], [0.2222222222222222, \"#7201a8\"], [0.3333333333333333, \"#9c179e\"], [0.4444444444444444, \"#bd3786\"], [0.5555555555555556, \"#d8576b\"], [0.6666666666666666, \"#ed7953\"], [0.7777777777777778, \"#fb9f3a\"], [0.8888888888888888, \"#fdca26\"], [1.0, \"#f0f921\"]], \"type\": \"histogram2dcontour\"}], \"mesh3d\": [{\"colorbar\": {\"outlinewidth\": 0, \"ticks\": \"\"}, \"type\": \"mesh3d\"}], \"parcoords\": [{\"line\": {\"colorbar\": {\"outlinewidth\": 0, \"ticks\": \"\"}}, \"type\": \"parcoords\"}], \"pie\": [{\"automargin\": true, \"type\": \"pie\"}], \"scatter\": [{\"marker\": {\"colorbar\": {\"outlinewidth\": 0, \"ticks\": \"\"}}, \"type\": \"scatter\"}], \"scatter3d\": [{\"line\": {\"colorbar\": {\"outlinewidth\": 0, \"ticks\": \"\"}}, \"marker\": {\"colorbar\": {\"outlinewidth\": 0, \"ticks\": \"\"}}, \"type\": \"scatter3d\"}], \"scattercarpet\": [{\"marker\": {\"colorbar\": {\"outlinewidth\": 0, \"ticks\": \"\"}}, \"type\": \"scattercarpet\"}], \"scattergeo\": [{\"marker\": {\"colorbar\": {\"outlinewidth\": 0, \"ticks\": \"\"}}, \"type\": \"scattergeo\"}], \"scattergl\": [{\"marker\": {\"colorbar\": {\"outlinewidth\": 0, \"ticks\": \"\"}}, \"type\": \"scattergl\"}], \"scattermapbox\": [{\"marker\": {\"colorbar\": {\"outlinewidth\": 0, \"ticks\": \"\"}}, \"type\": \"scattermapbox\"}], \"scatterpolar\": [{\"marker\": {\"colorbar\": {\"outlinewidth\": 0, \"ticks\": \"\"}}, \"type\": \"scatterpolar\"}], \"scatterpolargl\": [{\"marker\": {\"colorbar\": {\"outlinewidth\": 0, \"ticks\": \"\"}}, \"type\": \"scatterpolargl\"}], \"scatterternary\": [{\"marker\": {\"colorbar\": {\"outlinewidth\": 0, \"ticks\": \"\"}}, \"type\": \"scatterternary\"}], \"surface\": [{\"colorbar\": {\"outlinewidth\": 0, \"ticks\": \"\"}, \"colorscale\": [[0.0, \"#0d0887\"], [0.1111111111111111, \"#46039f\"], [0.2222222222222222, \"#7201a8\"], [0.3333333333333333, \"#9c179e\"], [0.4444444444444444, \"#bd3786\"], [0.5555555555555556, \"#d8576b\"], [0.6666666666666666, \"#ed7953\"], [0.7777777777777778, \"#fb9f3a\"], [0.8888888888888888, \"#fdca26\"], [1.0, \"#f0f921\"]], \"type\": \"surface\"}], \"table\": [{\"cells\": {\"fill\": {\"color\": \"#EBF0F8\"}, \"line\": {\"color\": \"white\"}}, \"header\": {\"fill\": {\"color\": \"#C8D4E3\"}, \"line\": {\"color\": \"white\"}}, \"type\": \"table\"}]}, \"layout\": {\"annotationdefaults\": {\"arrowcolor\": \"#2a3f5f\", \"arrowhead\": 0, \"arrowwidth\": 1}, \"coloraxis\": {\"colorbar\": {\"outlinewidth\": 0, \"ticks\": \"\"}}, \"colorscale\": {\"diverging\": [[0, \"#8e0152\"], [0.1, \"#c51b7d\"], [0.2, \"#de77ae\"], [0.3, \"#f1b6da\"], [0.4, \"#fde0ef\"], [0.5, \"#f7f7f7\"], [0.6, \"#e6f5d0\"], [0.7, \"#b8e186\"], [0.8, \"#7fbc41\"], [0.9, \"#4d9221\"], [1, \"#276419\"]], \"sequential\": [[0.0, \"#0d0887\"], [0.1111111111111111, \"#46039f\"], [0.2222222222222222, \"#7201a8\"], [0.3333333333333333, \"#9c179e\"], [0.4444444444444444, \"#bd3786\"], [0.5555555555555556, \"#d8576b\"], [0.6666666666666666, \"#ed7953\"], [0.7777777777777778, \"#fb9f3a\"], [0.8888888888888888, \"#fdca26\"], [1.0, \"#f0f921\"]], \"sequentialminus\": [[0.0, \"#0d0887\"], [0.1111111111111111, \"#46039f\"], [0.2222222222222222, \"#7201a8\"], [0.3333333333333333, \"#9c179e\"], [0.4444444444444444, \"#bd3786\"], [0.5555555555555556, \"#d8576b\"], [0.6666666666666666, \"#ed7953\"], [0.7777777777777778, \"#fb9f3a\"], [0.8888888888888888, \"#fdca26\"], [1.0, \"#f0f921\"]]}, \"colorway\": [\"#636efa\", \"#EF553B\", \"#00cc96\", \"#ab63fa\", \"#FFA15A\", \"#19d3f3\", \"#FF6692\", \"#B6E880\", \"#FF97FF\", \"#FECB52\"], \"font\": {\"color\": \"#2a3f5f\"}, \"geo\": {\"bgcolor\": \"white\", \"lakecolor\": \"white\", \"landcolor\": \"#E5ECF6\", \"showlakes\": true, \"showland\": true, \"subunitcolor\": \"white\"}, \"hoverlabel\": {\"align\": \"left\"}, \"hovermode\": \"closest\", \"mapbox\": {\"style\": \"light\"}, \"paper_bgcolor\": \"white\", \"plot_bgcolor\": \"#E5ECF6\", \"polar\": {\"angularaxis\": {\"gridcolor\": \"white\", \"linecolor\": \"white\", \"ticks\": \"\"}, \"bgcolor\": \"#E5ECF6\", \"radialaxis\": {\"gridcolor\": \"white\", \"linecolor\": \"white\", \"ticks\": \"\"}}, \"scene\": {\"xaxis\": {\"backgroundcolor\": \"#E5ECF6\", \"gridcolor\": \"white\", \"gridwidth\": 2, \"linecolor\": \"white\", \"showbackground\": true, \"ticks\": \"\", \"zerolinecolor\": \"white\"}, \"yaxis\": {\"backgroundcolor\": \"#E5ECF6\", \"gridcolor\": \"white\", \"gridwidth\": 2, \"linecolor\": \"white\", \"showbackground\": true, \"ticks\": \"\", \"zerolinecolor\": \"white\"}, \"zaxis\": {\"backgroundcolor\": \"#E5ECF6\", \"gridcolor\": \"white\", \"gridwidth\": 2, \"linecolor\": \"white\", \"showbackground\": true, \"ticks\": \"\", \"zerolinecolor\": \"white\"}}, \"shapedefaults\": {\"line\": {\"color\": \"#2a3f5f\"}}, \"ternary\": {\"aaxis\": {\"gridcolor\": \"white\", \"linecolor\": \"white\", \"ticks\": \"\"}, \"baxis\": {\"gridcolor\": \"white\", \"linecolor\": \"white\", \"ticks\": \"\"}, \"bgcolor\": \"#E5ECF6\", \"caxis\": {\"gridcolor\": \"white\", \"linecolor\": \"white\", \"ticks\": \"\"}}, \"title\": {\"x\": 0.05}, \"xaxis\": {\"automargin\": true, \"gridcolor\": \"white\", \"linecolor\": \"white\", \"ticks\": \"\", \"title\": {\"standoff\": 15}, \"zerolinecolor\": \"white\", \"zerolinewidth\": 2}, \"yaxis\": {\"automargin\": true, \"gridcolor\": \"white\", \"linecolor\": \"white\", \"ticks\": \"\", \"title\": {\"standoff\": 15}, \"zerolinecolor\": \"white\", \"zerolinewidth\": 2}}}, \"title\": {\"font\": {\"color\": \"#4D5663\"}}, \"xaxis\": {\"anchor\": \"y\", \"domain\": [0.0, 0.2125], \"gridcolor\": \"#E1E5ED\", \"showgrid\": false, \"tickfont\": {\"color\": \"#4D5663\"}, \"title\": {\"font\": {\"color\": \"#4D5663\"}, \"text\": \"\"}, \"zerolinecolor\": \"#E1E5ED\"}, \"xaxis10\": {\"anchor\": \"y10\", \"domain\": [0.2625, 0.475], \"gridcolor\": \"#E1E5ED\", \"showgrid\": false, \"tickfont\": {\"color\": \"#4D5663\"}, \"title\": {\"font\": {\"color\": \"#4D5663\"}, \"text\": \"\"}, \"zerolinecolor\": \"#E1E5ED\"}, \"xaxis11\": {\"anchor\": \"y11\", \"domain\": [0.525, 0.7375], \"gridcolor\": \"#E1E5ED\", \"showgrid\": false, \"tickfont\": {\"color\": \"#4D5663\"}, \"title\": {\"font\": {\"color\": \"#4D5663\"}, \"text\": \"\"}, \"zerolinecolor\": \"#E1E5ED\"}, \"xaxis12\": {\"anchor\": \"y12\", \"domain\": [0.7875, 1.0], \"gridcolor\": \"#E1E5ED\", \"showgrid\": false, \"tickfont\": {\"color\": \"#4D5663\"}, \"title\": {\"font\": {\"color\": \"#4D5663\"}, \"text\": \"\"}, \"zerolinecolor\": \"#E1E5ED\"}, \"xaxis13\": {\"anchor\": \"y13\", \"domain\": [0.0, 0.2125], \"gridcolor\": \"#E1E5ED\", \"showgrid\": false, \"tickfont\": {\"color\": \"#4D5663\"}, \"title\": {\"font\": {\"color\": \"#4D5663\"}, \"text\": \"\"}, \"zerolinecolor\": \"#E1E5ED\"}, \"xaxis14\": {\"anchor\": \"y14\", \"domain\": [0.2625, 0.475], \"gridcolor\": \"#E1E5ED\", \"showgrid\": false, \"tickfont\": {\"color\": \"#4D5663\"}, \"title\": {\"font\": {\"color\": \"#4D5663\"}, \"text\": \"\"}, \"zerolinecolor\": \"#E1E5ED\"}, \"xaxis15\": {\"anchor\": \"y15\", \"domain\": [0.525, 0.7375], \"gridcolor\": \"#E1E5ED\", \"showgrid\": false, \"tickfont\": {\"color\": \"#4D5663\"}, \"title\": {\"font\": {\"color\": \"#4D5663\"}, \"text\": \"\"}, \"zerolinecolor\": \"#E1E5ED\"}, \"xaxis16\": {\"anchor\": \"y16\", \"domain\": [0.7875, 1.0], \"gridcolor\": \"#E1E5ED\", \"showgrid\": false, \"tickfont\": {\"color\": \"#4D5663\"}, \"title\": {\"font\": {\"color\": \"#4D5663\"}, \"text\": \"\"}, \"zerolinecolor\": \"#E1E5ED\"}, \"xaxis2\": {\"anchor\": \"y2\", \"domain\": [0.2625, 0.475], \"gridcolor\": \"#E1E5ED\", \"showgrid\": false, \"tickfont\": {\"color\": \"#4D5663\"}, \"title\": {\"font\": {\"color\": \"#4D5663\"}, \"text\": \"\"}, \"zerolinecolor\": \"#E1E5ED\"}, \"xaxis3\": {\"anchor\": \"y3\", \"domain\": [0.525, 0.7375], \"gridcolor\": \"#E1E5ED\", \"showgrid\": false, \"tickfont\": {\"color\": \"#4D5663\"}, \"title\": {\"font\": {\"color\": \"#4D5663\"}, \"text\": \"\"}, \"zerolinecolor\": \"#E1E5ED\"}, \"xaxis4\": {\"anchor\": \"y4\", \"domain\": [0.7875, 1.0], \"gridcolor\": \"#E1E5ED\", \"showgrid\": false, \"tickfont\": {\"color\": \"#4D5663\"}, \"title\": {\"font\": {\"color\": \"#4D5663\"}, \"text\": \"\"}, \"zerolinecolor\": \"#E1E5ED\"}, \"xaxis5\": {\"anchor\": \"y5\", \"domain\": [0.0, 0.2125], \"gridcolor\": \"#E1E5ED\", \"showgrid\": false, \"tickfont\": {\"color\": \"#4D5663\"}, \"title\": {\"font\": {\"color\": \"#4D5663\"}, \"text\": \"\"}, \"zerolinecolor\": \"#E1E5ED\"}, \"xaxis6\": {\"anchor\": \"y6\", \"domain\": [0.2625, 0.475], \"gridcolor\": \"#E1E5ED\", \"showgrid\": false, \"tickfont\": {\"color\": \"#4D5663\"}, \"title\": {\"font\": {\"color\": \"#4D5663\"}, \"text\": \"\"}, \"zerolinecolor\": \"#E1E5ED\"}, \"xaxis7\": {\"anchor\": \"y7\", \"domain\": [0.525, 0.7375], \"gridcolor\": \"#E1E5ED\", \"showgrid\": false, \"tickfont\": {\"color\": \"#4D5663\"}, \"title\": {\"font\": {\"color\": \"#4D5663\"}, \"text\": \"\"}, \"zerolinecolor\": \"#E1E5ED\"}, \"xaxis8\": {\"anchor\": \"y8\", \"domain\": [0.7875, 1.0], \"gridcolor\": \"#E1E5ED\", \"showgrid\": false, \"tickfont\": {\"color\": \"#4D5663\"}, \"title\": {\"font\": {\"color\": \"#4D5663\"}, \"text\": \"\"}, \"zerolinecolor\": \"#E1E5ED\"}, \"xaxis9\": {\"anchor\": \"y9\", \"domain\": [0.0, 0.2125], \"gridcolor\": \"#E1E5ED\", \"showgrid\": false, \"tickfont\": {\"color\": \"#4D5663\"}, \"title\": {\"font\": {\"color\": \"#4D5663\"}, \"text\": \"\"}, \"zerolinecolor\": \"#E1E5ED\"}, \"yaxis\": {\"anchor\": \"x\", \"domain\": [0.8025, 1.0], \"gridcolor\": \"#E1E5ED\", \"showgrid\": false, \"tickfont\": {\"color\": \"#4D5663\"}, \"title\": {\"font\": {\"color\": \"#4D5663\"}, \"text\": \"\"}, \"zerolinecolor\": \"#E1E5ED\"}, \"yaxis10\": {\"anchor\": \"x10\", \"domain\": [0.2675, 0.465], \"gridcolor\": \"#E1E5ED\", \"showgrid\": false, \"tickfont\": {\"color\": \"#4D5663\"}, \"title\": {\"font\": {\"color\": \"#4D5663\"}, \"text\": \"\"}, \"zerolinecolor\": \"#E1E5ED\"}, \"yaxis11\": {\"anchor\": \"x11\", \"domain\": [0.2675, 0.465], \"gridcolor\": \"#E1E5ED\", \"showgrid\": false, \"tickfont\": {\"color\": \"#4D5663\"}, \"title\": {\"font\": {\"color\": \"#4D5663\"}, \"text\": \"\"}, \"zerolinecolor\": \"#E1E5ED\"}, \"yaxis12\": {\"anchor\": \"x12\", \"domain\": [0.2675, 0.465], \"gridcolor\": \"#E1E5ED\", \"showgrid\": false, \"tickfont\": {\"color\": \"#4D5663\"}, \"title\": {\"font\": {\"color\": \"#4D5663\"}, \"text\": \"\"}, \"zerolinecolor\": \"#E1E5ED\"}, \"yaxis13\": {\"anchor\": \"x13\", \"domain\": [0.0, 0.1975], \"gridcolor\": \"#E1E5ED\", \"showgrid\": false, \"tickfont\": {\"color\": \"#4D5663\"}, \"title\": {\"font\": {\"color\": \"#4D5663\"}, \"text\": \"\"}, \"zerolinecolor\": \"#E1E5ED\"}, \"yaxis14\": {\"anchor\": \"x14\", \"domain\": [0.0, 0.1975], \"gridcolor\": \"#E1E5ED\", \"showgrid\": false, \"tickfont\": {\"color\": \"#4D5663\"}, \"title\": {\"font\": {\"color\": \"#4D5663\"}, \"text\": \"\"}, \"zerolinecolor\": \"#E1E5ED\"}, \"yaxis15\": {\"anchor\": \"x15\", \"domain\": [0.0, 0.1975], \"gridcolor\": \"#E1E5ED\", \"showgrid\": false, \"tickfont\": {\"color\": \"#4D5663\"}, \"title\": {\"font\": {\"color\": \"#4D5663\"}, \"text\": \"\"}, \"zerolinecolor\": \"#E1E5ED\"}, \"yaxis16\": {\"anchor\": \"x16\", \"domain\": [0.0, 0.1975], \"gridcolor\": \"#E1E5ED\", \"showgrid\": false, \"tickfont\": {\"color\": \"#4D5663\"}, \"title\": {\"font\": {\"color\": \"#4D5663\"}, \"text\": \"\"}, \"zerolinecolor\": \"#E1E5ED\"}, \"yaxis2\": {\"anchor\": \"x2\", \"domain\": [0.8025, 1.0], \"gridcolor\": \"#E1E5ED\", \"showgrid\": false, \"tickfont\": {\"color\": \"#4D5663\"}, \"title\": {\"font\": {\"color\": \"#4D5663\"}, \"text\": \"\"}, \"zerolinecolor\": \"#E1E5ED\"}, \"yaxis3\": {\"anchor\": \"x3\", \"domain\": [0.8025, 1.0], \"gridcolor\": \"#E1E5ED\", \"showgrid\": false, \"tickfont\": {\"color\": \"#4D5663\"}, \"title\": {\"font\": {\"color\": \"#4D5663\"}, \"text\": \"\"}, \"zerolinecolor\": \"#E1E5ED\"}, \"yaxis4\": {\"anchor\": \"x4\", \"domain\": [0.8025, 1.0], \"gridcolor\": \"#E1E5ED\", \"showgrid\": false, \"tickfont\": {\"color\": \"#4D5663\"}, \"title\": {\"font\": {\"color\": \"#4D5663\"}, \"text\": \"\"}, \"zerolinecolor\": \"#E1E5ED\"}, \"yaxis5\": {\"anchor\": \"x5\", \"domain\": [0.535, 0.7325], \"gridcolor\": \"#E1E5ED\", \"showgrid\": false, \"tickfont\": {\"color\": \"#4D5663\"}, \"title\": {\"font\": {\"color\": \"#4D5663\"}, \"text\": \"\"}, \"zerolinecolor\": \"#E1E5ED\"}, \"yaxis6\": {\"anchor\": \"x6\", \"domain\": [0.535, 0.7325], \"gridcolor\": \"#E1E5ED\", \"showgrid\": false, \"tickfont\": {\"color\": \"#4D5663\"}, \"title\": {\"font\": {\"color\": \"#4D5663\"}, \"text\": \"\"}, \"zerolinecolor\": \"#E1E5ED\"}, \"yaxis7\": {\"anchor\": \"x7\", \"domain\": [0.535, 0.7325], \"gridcolor\": \"#E1E5ED\", \"showgrid\": false, \"tickfont\": {\"color\": \"#4D5663\"}, \"title\": {\"font\": {\"color\": \"#4D5663\"}, \"text\": \"\"}, \"zerolinecolor\": \"#E1E5ED\"}, \"yaxis8\": {\"anchor\": \"x8\", \"domain\": [0.535, 0.7325], \"gridcolor\": \"#E1E5ED\", \"showgrid\": false, \"tickfont\": {\"color\": \"#4D5663\"}, \"title\": {\"font\": {\"color\": \"#4D5663\"}, \"text\": \"\"}, \"zerolinecolor\": \"#E1E5ED\"}, \"yaxis9\": {\"anchor\": \"x9\", \"domain\": [0.2675, 0.465], \"gridcolor\": \"#E1E5ED\", \"showgrid\": false, \"tickfont\": {\"color\": \"#4D5663\"}, \"title\": {\"font\": {\"color\": \"#4D5663\"}, \"text\": \"\"}, \"zerolinecolor\": \"#E1E5ED\"}},\n",
       "                        {\"showLink\": true, \"linkText\": \"Export to plot.ly\", \"plotlyServerURL\": \"https://plot.ly\", \"responsive\": true}\n",
       "                    ).then(function(){\n",
       "                            \n",
       "var gd = document.getElementById('999e99eb-c18b-415c-82b2-695a18887226');\n",
       "var x = new MutationObserver(function (mutations, observer) {{\n",
       "        var display = window.getComputedStyle(gd).display;\n",
       "        if (!display || display === 'none') {{\n",
       "            console.log([gd, 'removed!']);\n",
       "            Plotly.purge(gd);\n",
       "            observer.disconnect();\n",
       "        }}\n",
       "}});\n",
       "\n",
       "// Listen for the removal of the full notebook cells\n",
       "var notebookContainer = gd.closest('#notebook-container');\n",
       "if (notebookContainer) {{\n",
       "    x.observe(notebookContainer, {childList: true});\n",
       "}}\n",
       "\n",
       "// Listen for the clearing of the current output cell\n",
       "var outputEl = gd.closest('.output');\n",
       "if (outputEl) {{\n",
       "    x.observe(outputEl, {childList: true});\n",
       "}}\n",
       "\n",
       "                        })\n",
       "                };\n",
       "                });\n",
       "            </script>\n",
       "        </div>"
      ]
     },
     "metadata": {},
     "output_type": "display_data"
    }
   ],
   "source": [
    "df.scatter_matrix()"
   ]
  },
  {
   "cell_type": "code",
   "execution_count": null,
   "metadata": {},
   "outputs": [],
   "source": []
  }
 ],
 "metadata": {
  "kernelspec": {
   "display_name": "Python 3",
   "language": "python",
   "name": "python3"
  },
  "language_info": {
   "codemirror_mode": {
    "name": "ipython",
    "version": 3
   },
   "file_extension": ".py",
   "mimetype": "text/x-python",
   "name": "python",
   "nbconvert_exporter": "python",
   "pygments_lexer": "ipython3",
   "version": "3.8.3"
  }
 },
 "nbformat": 4,
 "nbformat_minor": 4
}
