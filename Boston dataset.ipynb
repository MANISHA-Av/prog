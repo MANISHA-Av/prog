{
 "cells": [
  {
   "cell_type": "code",
   "execution_count": 1,
   "metadata": {},
   "outputs": [],
   "source": [
    "import numpy as np\n",
    "import pandas as pd"
   ]
  },
  {
   "cell_type": "code",
   "execution_count": 2,
   "metadata": {},
   "outputs": [],
   "source": [
    "import seaborn as sns"
   ]
  },
  {
   "cell_type": "code",
   "execution_count": 3,
   "metadata": {},
   "outputs": [],
   "source": [
    "import matplotlib.pyplot as plt"
   ]
  },
  {
   "cell_type": "code",
   "execution_count": 4,
   "metadata": {},
   "outputs": [],
   "source": [
    "%matplotlib inline"
   ]
  },
  {
   "cell_type": "code",
   "execution_count": 5,
   "metadata": {},
   "outputs": [],
   "source": [
    "from sklearn.model_selection import train_test_split"
   ]
  },
  {
   "cell_type": "code",
   "execution_count": 6,
   "metadata": {},
   "outputs": [],
   "source": [
    "from sklearn.linear_model import LinearRegression"
   ]
  },
  {
   "cell_type": "code",
   "execution_count": 7,
   "metadata": {},
   "outputs": [],
   "source": [
    "from sklearn.datasets import load_boston"
   ]
  },
  {
   "cell_type": "code",
   "execution_count": 9,
   "metadata": {},
   "outputs": [],
   "source": [
    "dataset=load_boston()"
   ]
  },
  {
   "cell_type": "code",
   "execution_count": 10,
   "metadata": {},
   "outputs": [
    {
     "data": {
      "text/plain": [
       "dict_keys(['data', 'target', 'feature_names', 'DESCR', 'filename'])"
      ]
     },
     "execution_count": 10,
     "metadata": {},
     "output_type": "execute_result"
    }
   ],
   "source": [
    "dataset.keys()"
   ]
  },
  {
   "cell_type": "code",
   "execution_count": 11,
   "metadata": {},
   "outputs": [],
   "source": [
    "X=dataset['data']"
   ]
  },
  {
   "cell_type": "code",
   "execution_count": 12,
   "metadata": {},
   "outputs": [],
   "source": [
    "y=dataset['target']"
   ]
  },
  {
   "cell_type": "code",
   "execution_count": 13,
   "metadata": {},
   "outputs": [],
   "source": [
    "X_train,X_test,y_train,y_test=train_test_split(X,y,test_size=0.4,random_state=1)"
   ]
  },
  {
   "cell_type": "code",
   "execution_count": 14,
   "metadata": {},
   "outputs": [],
   "source": [
    "lm=LinearRegression()"
   ]
  },
  {
   "cell_type": "code",
   "execution_count": 15,
   "metadata": {},
   "outputs": [
    {
     "data": {
      "text/plain": [
       "LinearRegression(copy_X=True, fit_intercept=True, n_jobs=None, normalize=False)"
      ]
     },
     "execution_count": 15,
     "metadata": {},
     "output_type": "execute_result"
    }
   ],
   "source": [
    "lm.fit(X_train,y_train)"
   ]
  },
  {
   "cell_type": "code",
   "execution_count": 16,
   "metadata": {},
   "outputs": [
    {
     "data": {
      "text/plain": [
       "33.79211250936606"
      ]
     },
     "execution_count": 16,
     "metadata": {},
     "output_type": "execute_result"
    }
   ],
   "source": [
    "lm.intercept_"
   ]
  },
  {
   "cell_type": "code",
   "execution_count": 17,
   "metadata": {},
   "outputs": [
    {
     "data": {
      "text/plain": [
       "array([-8.95714048e-02,  6.73132853e-02,  5.04649248e-02,  2.18579583e+00,\n",
       "       -1.72053975e+01,  3.63606995e+00,  2.05579939e-03, -1.36602886e+00,\n",
       "        2.89576718e-01, -1.22700072e-02, -8.34881849e-01,  9.40360790e-03,\n",
       "       -5.04008320e-01])"
      ]
     },
     "execution_count": 17,
     "metadata": {},
     "output_type": "execute_result"
    }
   ],
   "source": [
    "lm.coef_"
   ]
  },
  {
   "cell_type": "code",
   "execution_count": 19,
   "metadata": {},
   "outputs": [
    {
     "data": {
      "text/plain": [
       "array(['CRIM', 'ZN', 'INDUS', 'CHAS', 'NOX', 'RM', 'AGE', 'DIS', 'RAD',\n",
       "       'TAX', 'PTRATIO', 'B', 'LSTAT'], dtype='<U7')"
      ]
     },
     "execution_count": 19,
     "metadata": {},
     "output_type": "execute_result"
    }
   ],
   "source": [
    "dataset['feature_names']"
   ]
  },
  {
   "cell_type": "code",
   "execution_count": 21,
   "metadata": {},
   "outputs": [],
   "source": [
    "df=pd.DataFrame(lm.coef_,dataset['feature_names'],columns=['coeff'])"
   ]
  },
  {
   "cell_type": "code",
   "execution_count": 22,
   "metadata": {},
   "outputs": [
    {
     "data": {
      "text/html": [
       "<div>\n",
       "<style scoped>\n",
       "    .dataframe tbody tr th:only-of-type {\n",
       "        vertical-align: middle;\n",
       "    }\n",
       "\n",
       "    .dataframe tbody tr th {\n",
       "        vertical-align: top;\n",
       "    }\n",
       "\n",
       "    .dataframe thead th {\n",
       "        text-align: right;\n",
       "    }\n",
       "</style>\n",
       "<table border=\"1\" class=\"dataframe\">\n",
       "  <thead>\n",
       "    <tr style=\"text-align: right;\">\n",
       "      <th></th>\n",
       "      <th>coeff</th>\n",
       "    </tr>\n",
       "  </thead>\n",
       "  <tbody>\n",
       "    <tr>\n",
       "      <th>CRIM</th>\n",
       "      <td>-0.089571</td>\n",
       "    </tr>\n",
       "    <tr>\n",
       "      <th>ZN</th>\n",
       "      <td>0.067313</td>\n",
       "    </tr>\n",
       "    <tr>\n",
       "      <th>INDUS</th>\n",
       "      <td>0.050465</td>\n",
       "    </tr>\n",
       "    <tr>\n",
       "      <th>CHAS</th>\n",
       "      <td>2.185796</td>\n",
       "    </tr>\n",
       "    <tr>\n",
       "      <th>NOX</th>\n",
       "      <td>-17.205398</td>\n",
       "    </tr>\n",
       "    <tr>\n",
       "      <th>RM</th>\n",
       "      <td>3.636070</td>\n",
       "    </tr>\n",
       "    <tr>\n",
       "      <th>AGE</th>\n",
       "      <td>0.002056</td>\n",
       "    </tr>\n",
       "    <tr>\n",
       "      <th>DIS</th>\n",
       "      <td>-1.366029</td>\n",
       "    </tr>\n",
       "    <tr>\n",
       "      <th>RAD</th>\n",
       "      <td>0.289577</td>\n",
       "    </tr>\n",
       "    <tr>\n",
       "      <th>TAX</th>\n",
       "      <td>-0.012270</td>\n",
       "    </tr>\n",
       "    <tr>\n",
       "      <th>PTRATIO</th>\n",
       "      <td>-0.834882</td>\n",
       "    </tr>\n",
       "    <tr>\n",
       "      <th>B</th>\n",
       "      <td>0.009404</td>\n",
       "    </tr>\n",
       "    <tr>\n",
       "      <th>LSTAT</th>\n",
       "      <td>-0.504008</td>\n",
       "    </tr>\n",
       "  </tbody>\n",
       "</table>\n",
       "</div>"
      ],
      "text/plain": [
       "             coeff\n",
       "CRIM     -0.089571\n",
       "ZN        0.067313\n",
       "INDUS     0.050465\n",
       "CHAS      2.185796\n",
       "NOX     -17.205398\n",
       "RM        3.636070\n",
       "AGE       0.002056\n",
       "DIS      -1.366029\n",
       "RAD       0.289577\n",
       "TAX      -0.012270\n",
       "PTRATIO  -0.834882\n",
       "B         0.009404\n",
       "LSTAT    -0.504008"
      ]
     },
     "execution_count": 22,
     "metadata": {},
     "output_type": "execute_result"
    }
   ],
   "source": [
    "df"
   ]
  },
  {
   "cell_type": "code",
   "execution_count": 23,
   "metadata": {},
   "outputs": [],
   "source": [
    "predictins=lm.predict(X_test)"
   ]
  },
  {
   "cell_type": "code",
   "execution_count": 24,
   "metadata": {},
   "outputs": [
    {
     "data": {
      "text/plain": [
       "array([32.5767836 , 28.31584043, 18.02490895, 21.22723902, 18.30706301,\n",
       "       20.41855673, 33.00388637, 18.23492365, 24.15996405, 26.44388935,\n",
       "       26.89587445, 29.11404673, 20.47403529, 26.72290735, 23.00917779,\n",
       "       20.06036007, 17.93614868, 38.60918158, 30.21848598,  8.72510853,\n",
       "       20.4218793 , 15.62926355, 25.14572116, 24.8208665 , 31.33254683,\n",
       "       10.32111619, 13.97300109, 16.59941009, 36.11111224, 14.50980925,\n",
       "       21.75924461, 14.18085506, 43.80568262, 18.29067878, 21.0769219 ,\n",
       "       20.36535011, 17.77192542, 27.41157074,  8.78516292, 19.77211274,\n",
       "       23.57601701, 21.48478378, 29.01124151, 16.29101185, 19.34443514,\n",
       "       14.72102079, 39.10168604, 18.15651807, 24.90906159, 19.6083671 ,\n",
       "       25.34392074, 24.35100549, 24.85160986, 25.8996609 ,  4.61421883,\n",
       "       24.39859206, 11.27077844, 26.40774218, 17.10969386, 36.0904063 ,\n",
       "       19.67664968, 27.23937264, 16.53365016, 18.15907977, 11.30355765,\n",
       "       31.98198816, 36.95839215, 21.45909144, 24.13250983, 24.41496302,\n",
       "       23.46245892,  6.98544199, 15.69004286, 20.90901803, 20.65100918,\n",
       "       21.09179956, 33.62584873, 27.8598505 , 25.06231279, 35.46695443,\n",
       "       19.31464639, 23.27640089, 34.32534674, 13.58758135, 21.29042943,\n",
       "       29.80515072, 17.35561076, 24.38496524, 18.98886858, 17.72392536,\n",
       "       27.41848903, 41.95804013, 14.32450982, 22.80526735, 14.58973366,\n",
       "       21.50406424, 23.47838791, 29.22720261, 37.22516161, 20.54563964,\n",
       "       16.4155803 , 18.21326206, 24.79190815, 22.25545086,  8.71421282,\n",
       "       21.20296216, 14.73006456, 31.54715088, 24.20086147, 25.3096051 ,\n",
       "       38.17624923, 28.22033166, 14.37458901, 35.30227817, 35.46142453,\n",
       "       32.87020186, 21.1279694 , 16.28659179, 35.03740942, 39.61343221,\n",
       "       20.6454664 , 15.3793382 , 27.47891053, 18.95323784, 27.53056862,\n",
       "       21.05405081, 25.42966851, 22.3802906 , 22.39038473, 28.45198817,\n",
       "       20.22140822, 23.97529302, 29.3329107 , 10.42025171, 27.15016037,\n",
       "       33.04900847, 14.17365766, 12.83532496, 33.72427748, 15.75277802,\n",
       "       18.74314445, 16.92420179, 17.25379375, 28.3965777 , 34.54366224,\n",
       "       20.48365583, 24.6039962 , 17.09621043, 27.88327386, 20.94139341,\n",
       "       33.84747506, 14.1550611 , 19.64551137, 19.15713668, 20.27286545,\n",
       "       32.31111862, 14.5293722 , 28.45970824, 22.89421306, 28.99015547,\n",
       "       34.07565321, 36.30114489, 24.33596177, 18.20586396, 18.66196259,\n",
       "       21.77461959, 26.82240611, 16.25068292, 15.71220696, 26.18366066,\n",
       "       22.38663042, 17.90882485, 14.97788993, 30.00806408, 18.79394999,\n",
       "       23.84446541, 33.24922009, 23.92154382, 35.84412917, 20.92896735,\n",
       "       22.89134963, 26.73756655, 17.04759586, 33.24629887, 13.39552963,\n",
       "       22.78231362, 20.38562111, 34.74095998, 21.57933645, 22.22992201,\n",
       "       20.74941001, 15.84277665, 22.51506659, 25.269853  , 22.36898011,\n",
       "       18.63792899, 32.47683751, 21.31930513, 34.81808291, 25.36978941,\n",
       "       18.81849169,  2.52098402, 24.88844846])"
      ]
     },
     "execution_count": 24,
     "metadata": {},
     "output_type": "execute_result"
    }
   ],
   "source": [
    "predictins"
   ]
  },
  {
   "cell_type": "code",
   "execution_count": 25,
   "metadata": {},
   "outputs": [
    {
     "data": {
      "text/plain": [
       "<matplotlib.collections.PathCollection at 0xb2aaa60>"
      ]
     },
     "execution_count": 25,
     "metadata": {},
     "output_type": "execute_result"
    },
    {
     "data": {
      "image/png": "[encoded data removed]",
      "text/plain": [
       "<Figure size 432x288 with 1 Axes>"
      ]
     },
     "metadata": {
      "needs_background": "light"
     },
     "output_type": "display_data"
    }
   ],
   "source": [
    "plt.scatter(y_test,predictins)"
   ]
  },
  {
   "cell_type": "code",
   "execution_count": 26,
   "metadata": {},
   "outputs": [],
   "source": [
    "import sklearn.metrics as me "
   ]
  },
  {
   "cell_type": "code",
   "execution_count": 27,
   "metadata": {},
   "outputs": [
    {
     "data": {
      "text/plain": [
       "3.469434757128026"
      ]
     },
     "execution_count": 27,
     "metadata": {},
     "output_type": "execute_result"
    }
   ],
   "source": [
    "me.mean_absolute_error(y_test,predictins)"
   ]
  },
  {
   "cell_type": "code",
   "execution_count": 28,
   "metadata": {},
   "outputs": [
    {
     "data": {
      "text/plain": [
       "25.205774702366632"
      ]
     },
     "execution_count": 28,
     "metadata": {},
     "output_type": "execute_result"
    }
   ],
   "source": [
    "me.mean_squared_error(y_test,predictins)"
   ]
  },
  {
   "cell_type": "code",
   "execution_count": 29,
   "metadata": {},
   "outputs": [
    {
     "data": {
      "text/plain": [
       "5.020535300380492"
      ]
     },
     "execution_count": 29,
     "metadata": {},
     "output_type": "execute_result"
    }
   ],
   "source": [
    "np.sqrt(me.mean_squared_error(y_test,predictins))"
   ]
  },
  {
   "cell_type": "code",
   "execution_count": null,
   "metadata": {},
   "outputs": [],
   "source": []
  }
 ],
 "metadata": {
  "kernelspec": {
   "display_name": "Python 3",
   "language": "python",
   "name": "python3"
  },
  "language_info": {
   "codemirror_mode": {
    "name": "ipython",
    "version": 3
   },
   "file_extension": ".py",
   "mimetype": "text/x-python",
   "name": "python",
   "nbconvert_exporter": "python",
   "pygments_lexer": "ipython3",
   "version": "3.8.3"
  }
 },
 "nbformat": 4,
 "nbformat_minor": 4
}
